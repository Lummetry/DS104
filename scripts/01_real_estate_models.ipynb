{
 "cells": [
  {
   "cell_type": "code",
   "execution_count": 1,
   "id": "9c9f0291",
   "metadata": {},
   "outputs": [],
   "source": [
    "import numpy as np\n",
    "import pandas as pd"
   ]
  },
  {
   "cell_type": "code",
   "execution_count": 2,
   "id": "16a34047",
   "metadata": {},
   "outputs": [],
   "source": [
    "np.set_printoptions(precision=5, suppress=True)"
   ]
  },
  {
   "cell_type": "code",
   "execution_count": 3,
   "id": "0d3226dc",
   "metadata": {},
   "outputs": [],
   "source": [
    "df = pd.read_csv('../data/imobiliare_bucuresti.csv')"
   ]
  },
  {
   "cell_type": "code",
   "execution_count": 4,
   "id": "e4c9c906",
   "metadata": {},
   "outputs": [
    {
     "data": {
      "text/html": [
       "<div>\n",
       "<style scoped>\n",
       "    .dataframe tbody tr th:only-of-type {\n",
       "        vertical-align: middle;\n",
       "    }\n",
       "\n",
       "    .dataframe tbody tr th {\n",
       "        vertical-align: top;\n",
       "    }\n",
       "\n",
       "    .dataframe thead th {\n",
       "        text-align: right;\n",
       "    }\n",
       "</style>\n",
       "<table border=\"1\" class=\"dataframe\">\n",
       "  <thead>\n",
       "    <tr style=\"text-align: right;\">\n",
       "      <th></th>\n",
       "      <th>Unnamed: 0</th>\n",
       "      <th>nr cam</th>\n",
       "      <th>mp</th>\n",
       "      <th>parter</th>\n",
       "      <th>et1-2</th>\n",
       "      <th>et3+</th>\n",
       "      <th>etaj max</th>\n",
       "      <th>typ_decom</th>\n",
       "      <th>bloc nou</th>\n",
       "      <th>Price/Surface</th>\n",
       "      <th>Price</th>\n",
       "      <th>WebPage</th>\n",
       "    </tr>\n",
       "  </thead>\n",
       "  <tbody>\n",
       "    <tr>\n",
       "      <th>0</th>\n",
       "      <td>1</td>\n",
       "      <td>2</td>\n",
       "      <td>56.00</td>\n",
       "      <td>0</td>\n",
       "      <td>1</td>\n",
       "      <td>0</td>\n",
       "      <td>2</td>\n",
       "      <td>1</td>\n",
       "      <td>1</td>\n",
       "      <td>639.29</td>\n",
       "      <td>35800</td>\n",
       "      <td>https://www.imobiliare.ro/vanzare-apartamente/...</td>\n",
       "    </tr>\n",
       "    <tr>\n",
       "      <th>1</th>\n",
       "      <td>2</td>\n",
       "      <td>2</td>\n",
       "      <td>57.00</td>\n",
       "      <td>0</td>\n",
       "      <td>1</td>\n",
       "      <td>0</td>\n",
       "      <td>2</td>\n",
       "      <td>0</td>\n",
       "      <td>1</td>\n",
       "      <td>628.07</td>\n",
       "      <td>35800</td>\n",
       "      <td>https://www.imobiliare.ro/vanzare-apartamente/...</td>\n",
       "    </tr>\n",
       "    <tr>\n",
       "      <th>2</th>\n",
       "      <td>3</td>\n",
       "      <td>2</td>\n",
       "      <td>67.00</td>\n",
       "      <td>0</td>\n",
       "      <td>1</td>\n",
       "      <td>0</td>\n",
       "      <td>2</td>\n",
       "      <td>1</td>\n",
       "      <td>1</td>\n",
       "      <td>591.04</td>\n",
       "      <td>39600</td>\n",
       "      <td>https://www.imobiliare.ro/vanzare-apartamente/...</td>\n",
       "    </tr>\n",
       "    <tr>\n",
       "      <th>3</th>\n",
       "      <td>4</td>\n",
       "      <td>1</td>\n",
       "      <td>48.00</td>\n",
       "      <td>0</td>\n",
       "      <td>1</td>\n",
       "      <td>0</td>\n",
       "      <td>2</td>\n",
       "      <td>1</td>\n",
       "      <td>1</td>\n",
       "      <td>620.83</td>\n",
       "      <td>29800</td>\n",
       "      <td>https://www.imobiliare.ro/vanzare-garsoniere/b...</td>\n",
       "    </tr>\n",
       "    <tr>\n",
       "      <th>4</th>\n",
       "      <td>5</td>\n",
       "      <td>3</td>\n",
       "      <td>89.60</td>\n",
       "      <td>0</td>\n",
       "      <td>0</td>\n",
       "      <td>1</td>\n",
       "      <td>3</td>\n",
       "      <td>1</td>\n",
       "      <td>1</td>\n",
       "      <td>1260.04</td>\n",
       "      <td>112900</td>\n",
       "      <td>https://www.imobiliare.ro/vanzare-apartamente/...</td>\n",
       "    </tr>\n",
       "    <tr>\n",
       "      <th>...</th>\n",
       "      <td>...</td>\n",
       "      <td>...</td>\n",
       "      <td>...</td>\n",
       "      <td>...</td>\n",
       "      <td>...</td>\n",
       "      <td>...</td>\n",
       "      <td>...</td>\n",
       "      <td>...</td>\n",
       "      <td>...</td>\n",
       "      <td>...</td>\n",
       "      <td>...</td>\n",
       "      <td>...</td>\n",
       "    </tr>\n",
       "    <tr>\n",
       "      <th>9892</th>\n",
       "      <td>9894</td>\n",
       "      <td>4</td>\n",
       "      <td>90.00</td>\n",
       "      <td>0</td>\n",
       "      <td>0</td>\n",
       "      <td>1</td>\n",
       "      <td>8</td>\n",
       "      <td>0</td>\n",
       "      <td>0</td>\n",
       "      <td>944.44</td>\n",
       "      <td>85000</td>\n",
       "      <td>https://www.imobiliare.ro/vanzare-apartamente/...</td>\n",
       "    </tr>\n",
       "    <tr>\n",
       "      <th>9893</th>\n",
       "      <td>9895</td>\n",
       "      <td>3</td>\n",
       "      <td>85.00</td>\n",
       "      <td>0</td>\n",
       "      <td>0</td>\n",
       "      <td>1</td>\n",
       "      <td>8</td>\n",
       "      <td>1</td>\n",
       "      <td>0</td>\n",
       "      <td>1588.22</td>\n",
       "      <td>134999</td>\n",
       "      <td>https://www.imobiliare.ro/vanzare-apartamente/...</td>\n",
       "    </tr>\n",
       "    <tr>\n",
       "      <th>9894</th>\n",
       "      <td>9896</td>\n",
       "      <td>2</td>\n",
       "      <td>48.00</td>\n",
       "      <td>0</td>\n",
       "      <td>0</td>\n",
       "      <td>1</td>\n",
       "      <td>4</td>\n",
       "      <td>0</td>\n",
       "      <td>0</td>\n",
       "      <td>1229.17</td>\n",
       "      <td>59000</td>\n",
       "      <td>https://www.imobiliare.ro/vanzare-apartamente/...</td>\n",
       "    </tr>\n",
       "    <tr>\n",
       "      <th>9895</th>\n",
       "      <td>9897</td>\n",
       "      <td>4</td>\n",
       "      <td>83.81</td>\n",
       "      <td>0</td>\n",
       "      <td>0</td>\n",
       "      <td>1</td>\n",
       "      <td>3</td>\n",
       "      <td>1</td>\n",
       "      <td>1</td>\n",
       "      <td>1312.49</td>\n",
       "      <td>110000</td>\n",
       "      <td>https://www.imobiliare.ro/vanzare-apartamente/...</td>\n",
       "    </tr>\n",
       "    <tr>\n",
       "      <th>9896</th>\n",
       "      <td>9898</td>\n",
       "      <td>1</td>\n",
       "      <td>35.00</td>\n",
       "      <td>0</td>\n",
       "      <td>0</td>\n",
       "      <td>1</td>\n",
       "      <td>4</td>\n",
       "      <td>1</td>\n",
       "      <td>1</td>\n",
       "      <td>1757.14</td>\n",
       "      <td>61500</td>\n",
       "      <td>https://www.imobiliare.ro/vanzare-garsoniere/b...</td>\n",
       "    </tr>\n",
       "  </tbody>\n",
       "</table>\n",
       "<p>9897 rows × 12 columns</p>\n",
       "</div>"
      ],
      "text/plain": [
       "      Unnamed: 0  nr cam     mp  parter  et1-2  et3+  etaj max  typ_decom  \\\n",
       "0              1       2  56.00       0      1     0         2          1   \n",
       "1              2       2  57.00       0      1     0         2          0   \n",
       "2              3       2  67.00       0      1     0         2          1   \n",
       "3              4       1  48.00       0      1     0         2          1   \n",
       "4              5       3  89.60       0      0     1         3          1   \n",
       "...          ...     ...    ...     ...    ...   ...       ...        ...   \n",
       "9892        9894       4  90.00       0      0     1         8          0   \n",
       "9893        9895       3  85.00       0      0     1         8          1   \n",
       "9894        9896       2  48.00       0      0     1         4          0   \n",
       "9895        9897       4  83.81       0      0     1         3          1   \n",
       "9896        9898       1  35.00       0      0     1         4          1   \n",
       "\n",
       "      bloc nou  Price/Surface   Price  \\\n",
       "0            1         639.29   35800   \n",
       "1            1         628.07   35800   \n",
       "2            1         591.04   39600   \n",
       "3            1         620.83   29800   \n",
       "4            1        1260.04  112900   \n",
       "...        ...            ...     ...   \n",
       "9892         0         944.44   85000   \n",
       "9893         0        1588.22  134999   \n",
       "9894         0        1229.17   59000   \n",
       "9895         1        1312.49  110000   \n",
       "9896         1        1757.14   61500   \n",
       "\n",
       "                                                WebPage  \n",
       "0     https://www.imobiliare.ro/vanzare-apartamente/...  \n",
       "1     https://www.imobiliare.ro/vanzare-apartamente/...  \n",
       "2     https://www.imobiliare.ro/vanzare-apartamente/...  \n",
       "3     https://www.imobiliare.ro/vanzare-garsoniere/b...  \n",
       "4     https://www.imobiliare.ro/vanzare-apartamente/...  \n",
       "...                                                 ...  \n",
       "9892  https://www.imobiliare.ro/vanzare-apartamente/...  \n",
       "9893  https://www.imobiliare.ro/vanzare-apartamente/...  \n",
       "9894  https://www.imobiliare.ro/vanzare-apartamente/...  \n",
       "9895  https://www.imobiliare.ro/vanzare-apartamente/...  \n",
       "9896  https://www.imobiliare.ro/vanzare-garsoniere/b...  \n",
       "\n",
       "[9897 rows x 12 columns]"
      ]
     },
     "execution_count": 4,
     "metadata": {},
     "output_type": "execute_result"
    }
   ],
   "source": [
    "df"
   ]
  },
  {
   "cell_type": "code",
   "execution_count": 5,
   "id": "fbe683b7",
   "metadata": {},
   "outputs": [],
   "source": [
    "y_sqmp = df[\"Price/Surface\"]\n",
    "y_price = df['Price']\n",
    "X = df.iloc[:,1:9]\n"
   ]
  },
  {
   "cell_type": "code",
   "execution_count": 6,
   "id": "e075d5a0",
   "metadata": {},
   "outputs": [
    {
     "data": {
      "text/html": [
       "<div>\n",
       "<style scoped>\n",
       "    .dataframe tbody tr th:only-of-type {\n",
       "        vertical-align: middle;\n",
       "    }\n",
       "\n",
       "    .dataframe tbody tr th {\n",
       "        vertical-align: top;\n",
       "    }\n",
       "\n",
       "    .dataframe thead th {\n",
       "        text-align: right;\n",
       "    }\n",
       "</style>\n",
       "<table border=\"1\" class=\"dataframe\">\n",
       "  <thead>\n",
       "    <tr style=\"text-align: right;\">\n",
       "      <th></th>\n",
       "      <th>nr cam</th>\n",
       "      <th>mp</th>\n",
       "      <th>parter</th>\n",
       "      <th>et1-2</th>\n",
       "      <th>et3+</th>\n",
       "      <th>etaj max</th>\n",
       "      <th>typ_decom</th>\n",
       "      <th>bloc nou</th>\n",
       "    </tr>\n",
       "  </thead>\n",
       "  <tbody>\n",
       "    <tr>\n",
       "      <th>0</th>\n",
       "      <td>2</td>\n",
       "      <td>56.00</td>\n",
       "      <td>0</td>\n",
       "      <td>1</td>\n",
       "      <td>0</td>\n",
       "      <td>2</td>\n",
       "      <td>1</td>\n",
       "      <td>1</td>\n",
       "    </tr>\n",
       "    <tr>\n",
       "      <th>1</th>\n",
       "      <td>2</td>\n",
       "      <td>57.00</td>\n",
       "      <td>0</td>\n",
       "      <td>1</td>\n",
       "      <td>0</td>\n",
       "      <td>2</td>\n",
       "      <td>0</td>\n",
       "      <td>1</td>\n",
       "    </tr>\n",
       "    <tr>\n",
       "      <th>2</th>\n",
       "      <td>2</td>\n",
       "      <td>67.00</td>\n",
       "      <td>0</td>\n",
       "      <td>1</td>\n",
       "      <td>0</td>\n",
       "      <td>2</td>\n",
       "      <td>1</td>\n",
       "      <td>1</td>\n",
       "    </tr>\n",
       "    <tr>\n",
       "      <th>3</th>\n",
       "      <td>1</td>\n",
       "      <td>48.00</td>\n",
       "      <td>0</td>\n",
       "      <td>1</td>\n",
       "      <td>0</td>\n",
       "      <td>2</td>\n",
       "      <td>1</td>\n",
       "      <td>1</td>\n",
       "    </tr>\n",
       "    <tr>\n",
       "      <th>4</th>\n",
       "      <td>3</td>\n",
       "      <td>89.60</td>\n",
       "      <td>0</td>\n",
       "      <td>0</td>\n",
       "      <td>1</td>\n",
       "      <td>3</td>\n",
       "      <td>1</td>\n",
       "      <td>1</td>\n",
       "    </tr>\n",
       "    <tr>\n",
       "      <th>...</th>\n",
       "      <td>...</td>\n",
       "      <td>...</td>\n",
       "      <td>...</td>\n",
       "      <td>...</td>\n",
       "      <td>...</td>\n",
       "      <td>...</td>\n",
       "      <td>...</td>\n",
       "      <td>...</td>\n",
       "    </tr>\n",
       "    <tr>\n",
       "      <th>9892</th>\n",
       "      <td>4</td>\n",
       "      <td>90.00</td>\n",
       "      <td>0</td>\n",
       "      <td>0</td>\n",
       "      <td>1</td>\n",
       "      <td>8</td>\n",
       "      <td>0</td>\n",
       "      <td>0</td>\n",
       "    </tr>\n",
       "    <tr>\n",
       "      <th>9893</th>\n",
       "      <td>3</td>\n",
       "      <td>85.00</td>\n",
       "      <td>0</td>\n",
       "      <td>0</td>\n",
       "      <td>1</td>\n",
       "      <td>8</td>\n",
       "      <td>1</td>\n",
       "      <td>0</td>\n",
       "    </tr>\n",
       "    <tr>\n",
       "      <th>9894</th>\n",
       "      <td>2</td>\n",
       "      <td>48.00</td>\n",
       "      <td>0</td>\n",
       "      <td>0</td>\n",
       "      <td>1</td>\n",
       "      <td>4</td>\n",
       "      <td>0</td>\n",
       "      <td>0</td>\n",
       "    </tr>\n",
       "    <tr>\n",
       "      <th>9895</th>\n",
       "      <td>4</td>\n",
       "      <td>83.81</td>\n",
       "      <td>0</td>\n",
       "      <td>0</td>\n",
       "      <td>1</td>\n",
       "      <td>3</td>\n",
       "      <td>1</td>\n",
       "      <td>1</td>\n",
       "    </tr>\n",
       "    <tr>\n",
       "      <th>9896</th>\n",
       "      <td>1</td>\n",
       "      <td>35.00</td>\n",
       "      <td>0</td>\n",
       "      <td>0</td>\n",
       "      <td>1</td>\n",
       "      <td>4</td>\n",
       "      <td>1</td>\n",
       "      <td>1</td>\n",
       "    </tr>\n",
       "  </tbody>\n",
       "</table>\n",
       "<p>9897 rows × 8 columns</p>\n",
       "</div>"
      ],
      "text/plain": [
       "      nr cam     mp  parter  et1-2  et3+  etaj max  typ_decom  bloc nou\n",
       "0          2  56.00       0      1     0         2          1         1\n",
       "1          2  57.00       0      1     0         2          0         1\n",
       "2          2  67.00       0      1     0         2          1         1\n",
       "3          1  48.00       0      1     0         2          1         1\n",
       "4          3  89.60       0      0     1         3          1         1\n",
       "...      ...    ...     ...    ...   ...       ...        ...       ...\n",
       "9892       4  90.00       0      0     1         8          0         0\n",
       "9893       3  85.00       0      0     1         8          1         0\n",
       "9894       2  48.00       0      0     1         4          0         0\n",
       "9895       4  83.81       0      0     1         3          1         1\n",
       "9896       1  35.00       0      0     1         4          1         1\n",
       "\n",
       "[9897 rows x 8 columns]"
      ]
     },
     "execution_count": 6,
     "metadata": {},
     "output_type": "execute_result"
    }
   ],
   "source": [
    "X"
   ]
  },
  {
   "cell_type": "code",
   "execution_count": 7,
   "id": "72b9f303",
   "metadata": {},
   "outputs": [
    {
     "data": {
      "text/plain": [
       "0        35800\n",
       "1        35800\n",
       "2        39600\n",
       "3        29800\n",
       "4       112900\n",
       "         ...  \n",
       "9892     85000\n",
       "9893    134999\n",
       "9894     59000\n",
       "9895    110000\n",
       "9896     61500\n",
       "Name: Price, Length: 9897, dtype: int64"
      ]
     },
     "execution_count": 7,
     "metadata": {},
     "output_type": "execute_result"
    }
   ],
   "source": [
    "y_price"
   ]
  },
  {
   "cell_type": "code",
   "execution_count": 8,
   "id": "82811a1f",
   "metadata": {},
   "outputs": [],
   "source": [
    "# further process X data maybe\n",
    "# construct normal eq and determine model coefs (((XtX)^-1)Xt)y (y = x*w => w = y/x)\n",
    "# validate results (how, when)\n",
    "# f(X) = y = X[0]*w[0] + X[1]*w[1] + .... X[N]*w[N] +X[N+1]*w[N+1] | X[N+1] == 1"
   ]
  },
  {
   "cell_type": "code",
   "execution_count": 9,
   "id": "a95888e8",
   "metadata": {},
   "outputs": [],
   "source": [
    "import matplotlib.pyplot as plt\n",
    "%matplotlib inline"
   ]
  },
  {
   "cell_type": "code",
   "execution_count": 10,
   "id": "ba33c821",
   "metadata": {},
   "outputs": [
    {
     "data": {
      "text/plain": [
       "Text(0.5, 1.0, 'Distribution of nr of rooms per apartment')"
      ]
     },
     "execution_count": 10,
     "metadata": {},
     "output_type": "execute_result"
    },
    {
     "data": {
      "image/png": "[encoded data removed]",
      "text/plain": [
       "<Figure size 432x288 with 1 Axes>"
      ]
     },
     "metadata": {
      "needs_background": "light"
     },
     "output_type": "display_data"
    }
   ],
   "source": [
    "X['nr cam'].hist(bins=20)\n",
    "plt.xlabel('Nr rooms')\n",
    "plt.title('Distribution of nr of rooms per apartment')"
   ]
  },
  {
   "cell_type": "code",
   "execution_count": 11,
   "id": "25b90dca",
   "metadata": {},
   "outputs": [
    {
     "data": {
      "text/plain": [
       "Text(0.5, 1.0, 'Distribution of apartment surface')"
      ]
     },
     "execution_count": 11,
     "metadata": {},
     "output_type": "execute_result"
    },
    {
     "data": {
      "image/png": "[encoded data removed]",
      "text/plain": [
       "<Figure size 432x288 with 1 Axes>"
      ]
     },
     "metadata": {
      "needs_background": "light"
     },
     "output_type": "display_data"
    }
   ],
   "source": [
    "X['mp'].hist(bins=30)\n",
    "plt.xlabel('Property surface sqm')\n",
    "plt.title('Distribution of apartment surface')"
   ]
  },
  {
   "cell_type": "code",
   "execution_count": 12,
   "id": "ab0395cb",
   "metadata": {},
   "outputs": [
    {
     "data": {
      "text/plain": [
       "(array([5637., 2571.,  748.,  335.,  191.,  127.,   71.,   36.,   50.,\n",
       "          25.,    8.,    6.,   14.,    6.,    3.,   14.,    4.,   17.,\n",
       "           2.,   10.,    2.,    2.,    2.,    2.,    1.,    3.,    0.,\n",
       "           0.,    0.,    0.,    1.,    0.,    0.,    1.,    0.,    2.,\n",
       "           0.,    2.,    2.,    0.,    0.,    0.,    1.,    0.,    0.,\n",
       "           0.,    0.,    0.,    0.,    1.]),\n",
       " array([  18000.,   95240.,  172480.,  249720.,  326960.,  404200.,\n",
       "         481440.,  558680.,  635920.,  713160.,  790400.,  867640.,\n",
       "         944880., 1022120., 1099360., 1176600., 1253840., 1331080.,\n",
       "        1408320., 1485560., 1562800., 1640040., 1717280., 1794520.,\n",
       "        1871760., 1949000., 2026240., 2103480., 2180720., 2257960.,\n",
       "        2335200., 2412440., 2489680., 2566920., 2644160., 2721400.,\n",
       "        2798640., 2875880., 2953120., 3030360., 3107600., 3184840.,\n",
       "        3262080., 3339320., 3416560., 3493800., 3571040., 3648280.,\n",
       "        3725520., 3802760., 3880000.]),\n",
       " <BarContainer object of 50 artists>)"
      ]
     },
     "execution_count": 12,
     "metadata": {},
     "output_type": "execute_result"
    },
    {
     "data": {
      "image/png": "[encoded data removed]",
      "text/plain": [
       "<Figure size 432x288 with 1 Axes>"
      ]
     },
     "metadata": {
      "needs_background": "light"
     },
     "output_type": "display_data"
    }
   ],
   "source": [
    "plt.hist(y_price.values, bins=50)"
   ]
  },
  {
   "cell_type": "code",
   "execution_count": 13,
   "id": "ce209002",
   "metadata": {},
   "outputs": [
    {
     "data": {
      "text/html": [
       "<div>\n",
       "<style scoped>\n",
       "    .dataframe tbody tr th:only-of-type {\n",
       "        vertical-align: middle;\n",
       "    }\n",
       "\n",
       "    .dataframe tbody tr th {\n",
       "        vertical-align: top;\n",
       "    }\n",
       "\n",
       "    .dataframe thead th {\n",
       "        text-align: right;\n",
       "    }\n",
       "</style>\n",
       "<table border=\"1\" class=\"dataframe\">\n",
       "  <thead>\n",
       "    <tr style=\"text-align: right;\">\n",
       "      <th></th>\n",
       "      <th>nr cam</th>\n",
       "      <th>mp</th>\n",
       "      <th>parter</th>\n",
       "      <th>et1-2</th>\n",
       "      <th>et3+</th>\n",
       "      <th>etaj max</th>\n",
       "      <th>typ_decom</th>\n",
       "      <th>bloc nou</th>\n",
       "    </tr>\n",
       "  </thead>\n",
       "  <tbody>\n",
       "    <tr>\n",
       "      <th>nr cam</th>\n",
       "      <td>1.000000</td>\n",
       "      <td>0.777186</td>\n",
       "      <td>0.003816</td>\n",
       "      <td>-0.067465</td>\n",
       "      <td>0.062328</td>\n",
       "      <td>0.073172</td>\n",
       "      <td>-0.000365</td>\n",
       "      <td>-0.139376</td>\n",
       "    </tr>\n",
       "    <tr>\n",
       "      <th>mp</th>\n",
       "      <td>0.777186</td>\n",
       "      <td>1.000000</td>\n",
       "      <td>0.000869</td>\n",
       "      <td>-0.056167</td>\n",
       "      <td>0.053421</td>\n",
       "      <td>0.065719</td>\n",
       "      <td>0.087754</td>\n",
       "      <td>0.006321</td>\n",
       "    </tr>\n",
       "    <tr>\n",
       "      <th>parter</th>\n",
       "      <td>0.003816</td>\n",
       "      <td>0.000869</td>\n",
       "      <td>1.000000</td>\n",
       "      <td>-0.285501</td>\n",
       "      <td>-0.388748</td>\n",
       "      <td>-0.448826</td>\n",
       "      <td>0.004277</td>\n",
       "      <td>-0.002453</td>\n",
       "    </tr>\n",
       "    <tr>\n",
       "      <th>et1-2</th>\n",
       "      <td>-0.067465</td>\n",
       "      <td>-0.056167</td>\n",
       "      <td>-0.285501</td>\n",
       "      <td>1.000000</td>\n",
       "      <td>-0.772008</td>\n",
       "      <td>-0.500485</td>\n",
       "      <td>0.065535</td>\n",
       "      <td>0.187789</td>\n",
       "    </tr>\n",
       "    <tr>\n",
       "      <th>et3+</th>\n",
       "      <td>0.062328</td>\n",
       "      <td>0.053421</td>\n",
       "      <td>-0.388748</td>\n",
       "      <td>-0.772008</td>\n",
       "      <td>1.000000</td>\n",
       "      <td>0.778814</td>\n",
       "      <td>-0.065839</td>\n",
       "      <td>-0.178905</td>\n",
       "    </tr>\n",
       "    <tr>\n",
       "      <th>etaj max</th>\n",
       "      <td>0.073172</td>\n",
       "      <td>0.065719</td>\n",
       "      <td>-0.448826</td>\n",
       "      <td>-0.500485</td>\n",
       "      <td>0.778814</td>\n",
       "      <td>1.000000</td>\n",
       "      <td>-0.071077</td>\n",
       "      <td>-0.193046</td>\n",
       "    </tr>\n",
       "    <tr>\n",
       "      <th>typ_decom</th>\n",
       "      <td>-0.000365</td>\n",
       "      <td>0.087754</td>\n",
       "      <td>0.004277</td>\n",
       "      <td>0.065535</td>\n",
       "      <td>-0.065839</td>\n",
       "      <td>-0.071077</td>\n",
       "      <td>1.000000</td>\n",
       "      <td>0.213843</td>\n",
       "    </tr>\n",
       "    <tr>\n",
       "      <th>bloc nou</th>\n",
       "      <td>-0.139376</td>\n",
       "      <td>0.006321</td>\n",
       "      <td>-0.002453</td>\n",
       "      <td>0.187789</td>\n",
       "      <td>-0.178905</td>\n",
       "      <td>-0.193046</td>\n",
       "      <td>0.213843</td>\n",
       "      <td>1.000000</td>\n",
       "    </tr>\n",
       "  </tbody>\n",
       "</table>\n",
       "</div>"
      ],
      "text/plain": [
       "             nr cam        mp    parter     et1-2      et3+  etaj max  \\\n",
       "nr cam     1.000000  0.777186  0.003816 -0.067465  0.062328  0.073172   \n",
       "mp         0.777186  1.000000  0.000869 -0.056167  0.053421  0.065719   \n",
       "parter     0.003816  0.000869  1.000000 -0.285501 -0.388748 -0.448826   \n",
       "et1-2     -0.067465 -0.056167 -0.285501  1.000000 -0.772008 -0.500485   \n",
       "et3+       0.062328  0.053421 -0.388748 -0.772008  1.000000  0.778814   \n",
       "etaj max   0.073172  0.065719 -0.448826 -0.500485  0.778814  1.000000   \n",
       "typ_decom -0.000365  0.087754  0.004277  0.065535 -0.065839 -0.071077   \n",
       "bloc nou  -0.139376  0.006321 -0.002453  0.187789 -0.178905 -0.193046   \n",
       "\n",
       "           typ_decom  bloc nou  \n",
       "nr cam     -0.000365 -0.139376  \n",
       "mp          0.087754  0.006321  \n",
       "parter      0.004277 -0.002453  \n",
       "et1-2       0.065535  0.187789  \n",
       "et3+       -0.065839 -0.178905  \n",
       "etaj max   -0.071077 -0.193046  \n",
       "typ_decom   1.000000  0.213843  \n",
       "bloc nou    0.213843  1.000000  "
      ]
     },
     "execution_count": 13,
     "metadata": {},
     "output_type": "execute_result"
    }
   ],
   "source": [
    "X.corr()"
   ]
  },
  {
   "cell_type": "code",
   "execution_count": 14,
   "id": "7c643f28",
   "metadata": {},
   "outputs": [],
   "source": [
    "new_corr_features = ['nr cam', 'mp', 'parter', 'et1-2', 'et3+','etaj max', 'typ_decom', 'bloc nou', 'Price']"
   ]
  },
  {
   "cell_type": "code",
   "execution_count": 15,
   "id": "83153d02",
   "metadata": {},
   "outputs": [],
   "source": [
    "df_new = df[new_corr_features]"
   ]
  },
  {
   "cell_type": "code",
   "execution_count": 16,
   "id": "5b913474",
   "metadata": {},
   "outputs": [
    {
     "data": {
      "text/html": [
       "<div>\n",
       "<style scoped>\n",
       "    .dataframe tbody tr th:only-of-type {\n",
       "        vertical-align: middle;\n",
       "    }\n",
       "\n",
       "    .dataframe tbody tr th {\n",
       "        vertical-align: top;\n",
       "    }\n",
       "\n",
       "    .dataframe thead th {\n",
       "        text-align: right;\n",
       "    }\n",
       "</style>\n",
       "<table border=\"1\" class=\"dataframe\">\n",
       "  <thead>\n",
       "    <tr style=\"text-align: right;\">\n",
       "      <th></th>\n",
       "      <th>nr cam</th>\n",
       "      <th>mp</th>\n",
       "      <th>parter</th>\n",
       "      <th>et1-2</th>\n",
       "      <th>et3+</th>\n",
       "      <th>etaj max</th>\n",
       "      <th>typ_decom</th>\n",
       "      <th>bloc nou</th>\n",
       "      <th>Price</th>\n",
       "    </tr>\n",
       "  </thead>\n",
       "  <tbody>\n",
       "    <tr>\n",
       "      <th>nr cam</th>\n",
       "      <td>1.000000</td>\n",
       "      <td>0.777186</td>\n",
       "      <td>0.003816</td>\n",
       "      <td>-0.067465</td>\n",
       "      <td>0.062328</td>\n",
       "      <td>0.073172</td>\n",
       "      <td>-0.000365</td>\n",
       "      <td>-0.139376</td>\n",
       "      <td>0.525333</td>\n",
       "    </tr>\n",
       "    <tr>\n",
       "      <th>mp</th>\n",
       "      <td>0.777186</td>\n",
       "      <td>1.000000</td>\n",
       "      <td>0.000869</td>\n",
       "      <td>-0.056167</td>\n",
       "      <td>0.053421</td>\n",
       "      <td>0.065719</td>\n",
       "      <td>0.087754</td>\n",
       "      <td>0.006321</td>\n",
       "      <td>0.770386</td>\n",
       "    </tr>\n",
       "    <tr>\n",
       "      <th>parter</th>\n",
       "      <td>0.003816</td>\n",
       "      <td>0.000869</td>\n",
       "      <td>1.000000</td>\n",
       "      <td>-0.285501</td>\n",
       "      <td>-0.388748</td>\n",
       "      <td>-0.448826</td>\n",
       "      <td>0.004277</td>\n",
       "      <td>-0.002453</td>\n",
       "      <td>-0.020806</td>\n",
       "    </tr>\n",
       "    <tr>\n",
       "      <th>et1-2</th>\n",
       "      <td>-0.067465</td>\n",
       "      <td>-0.056167</td>\n",
       "      <td>-0.285501</td>\n",
       "      <td>1.000000</td>\n",
       "      <td>-0.772008</td>\n",
       "      <td>-0.500485</td>\n",
       "      <td>0.065535</td>\n",
       "      <td>0.187789</td>\n",
       "      <td>-0.061217</td>\n",
       "    </tr>\n",
       "    <tr>\n",
       "      <th>et3+</th>\n",
       "      <td>0.062328</td>\n",
       "      <td>0.053421</td>\n",
       "      <td>-0.388748</td>\n",
       "      <td>-0.772008</td>\n",
       "      <td>1.000000</td>\n",
       "      <td>0.778814</td>\n",
       "      <td>-0.065839</td>\n",
       "      <td>-0.178905</td>\n",
       "      <td>0.072650</td>\n",
       "    </tr>\n",
       "    <tr>\n",
       "      <th>etaj max</th>\n",
       "      <td>0.073172</td>\n",
       "      <td>0.065719</td>\n",
       "      <td>-0.448826</td>\n",
       "      <td>-0.500485</td>\n",
       "      <td>0.778814</td>\n",
       "      <td>1.000000</td>\n",
       "      <td>-0.071077</td>\n",
       "      <td>-0.193046</td>\n",
       "      <td>0.091064</td>\n",
       "    </tr>\n",
       "    <tr>\n",
       "      <th>typ_decom</th>\n",
       "      <td>-0.000365</td>\n",
       "      <td>0.087754</td>\n",
       "      <td>0.004277</td>\n",
       "      <td>0.065535</td>\n",
       "      <td>-0.065839</td>\n",
       "      <td>-0.071077</td>\n",
       "      <td>1.000000</td>\n",
       "      <td>0.213843</td>\n",
       "      <td>0.034928</td>\n",
       "    </tr>\n",
       "    <tr>\n",
       "      <th>bloc nou</th>\n",
       "      <td>-0.139376</td>\n",
       "      <td>0.006321</td>\n",
       "      <td>-0.002453</td>\n",
       "      <td>0.187789</td>\n",
       "      <td>-0.178905</td>\n",
       "      <td>-0.193046</td>\n",
       "      <td>0.213843</td>\n",
       "      <td>1.000000</td>\n",
       "      <td>0.035021</td>\n",
       "    </tr>\n",
       "    <tr>\n",
       "      <th>Price</th>\n",
       "      <td>0.525333</td>\n",
       "      <td>0.770386</td>\n",
       "      <td>-0.020806</td>\n",
       "      <td>-0.061217</td>\n",
       "      <td>0.072650</td>\n",
       "      <td>0.091064</td>\n",
       "      <td>0.034928</td>\n",
       "      <td>0.035021</td>\n",
       "      <td>1.000000</td>\n",
       "    </tr>\n",
       "  </tbody>\n",
       "</table>\n",
       "</div>"
      ],
      "text/plain": [
       "             nr cam        mp    parter     et1-2      et3+  etaj max  \\\n",
       "nr cam     1.000000  0.777186  0.003816 -0.067465  0.062328  0.073172   \n",
       "mp         0.777186  1.000000  0.000869 -0.056167  0.053421  0.065719   \n",
       "parter     0.003816  0.000869  1.000000 -0.285501 -0.388748 -0.448826   \n",
       "et1-2     -0.067465 -0.056167 -0.285501  1.000000 -0.772008 -0.500485   \n",
       "et3+       0.062328  0.053421 -0.388748 -0.772008  1.000000  0.778814   \n",
       "etaj max   0.073172  0.065719 -0.448826 -0.500485  0.778814  1.000000   \n",
       "typ_decom -0.000365  0.087754  0.004277  0.065535 -0.065839 -0.071077   \n",
       "bloc nou  -0.139376  0.006321 -0.002453  0.187789 -0.178905 -0.193046   \n",
       "Price      0.525333  0.770386 -0.020806 -0.061217  0.072650  0.091064   \n",
       "\n",
       "           typ_decom  bloc nou     Price  \n",
       "nr cam     -0.000365 -0.139376  0.525333  \n",
       "mp          0.087754  0.006321  0.770386  \n",
       "parter      0.004277 -0.002453 -0.020806  \n",
       "et1-2       0.065535  0.187789 -0.061217  \n",
       "et3+       -0.065839 -0.178905  0.072650  \n",
       "etaj max   -0.071077 -0.193046  0.091064  \n",
       "typ_decom   1.000000  0.213843  0.034928  \n",
       "bloc nou    0.213843  1.000000  0.035021  \n",
       "Price       0.034928  0.035021  1.000000  "
      ]
     },
     "execution_count": 16,
     "metadata": {},
     "output_type": "execute_result"
    }
   ],
   "source": [
    "df_new.corr()"
   ]
  },
  {
   "cell_type": "code",
   "execution_count": 17,
   "id": "23c164ac",
   "metadata": {},
   "outputs": [
    {
     "data": {
      "text/plain": [
       "nr cam        2.505709\n",
       "mp           73.704865\n",
       "parter        0.125695\n",
       "et1-2         0.361827\n",
       "et3+          0.512479\n",
       "etaj max      3.336466\n",
       "typ_decom     0.717591\n",
       "bloc nou      0.593210\n",
       "dtype: float64"
      ]
     },
     "execution_count": 17,
     "metadata": {},
     "output_type": "execute_result"
    }
   ],
   "source": [
    "X.mean()"
   ]
  },
  {
   "cell_type": "code",
   "execution_count": 18,
   "id": "d544883f",
   "metadata": {},
   "outputs": [
    {
     "data": {
      "text/plain": [
       "nr cam        1.0\n",
       "mp           15.0\n",
       "parter        0.0\n",
       "et1-2         0.0\n",
       "et3+          0.0\n",
       "etaj max      0.0\n",
       "typ_decom     0.0\n",
       "bloc nou      0.0\n",
       "dtype: float64"
      ]
     },
     "execution_count": 18,
     "metadata": {},
     "output_type": "execute_result"
    }
   ],
   "source": [
    "X.min()"
   ]
  },
  {
   "cell_type": "code",
   "execution_count": 19,
   "id": "4e899d03",
   "metadata": {},
   "outputs": [
    {
     "data": {
      "text/plain": [
       "nr cam        0.950467\n",
       "mp           40.174869\n",
       "parter        0.331522\n",
       "et1-2         0.480553\n",
       "et3+          0.499870\n",
       "etaj max      2.818757\n",
       "typ_decom     0.450194\n",
       "bloc nou      0.491260\n",
       "dtype: float64"
      ]
     },
     "execution_count": 19,
     "metadata": {},
     "output_type": "execute_result"
    }
   ],
   "source": [
    "X.std()"
   ]
  },
  {
   "cell_type": "code",
   "execution_count": 20,
   "id": "da7811fd",
   "metadata": {},
   "outputs": [
    {
     "data": {
      "text/plain": [
       "nr cam        12.0\n",
       "mp           621.0\n",
       "parter         1.0\n",
       "et1-2          1.0\n",
       "et3+           1.0\n",
       "etaj max      18.0\n",
       "typ_decom      1.0\n",
       "bloc nou       1.0\n",
       "dtype: float64"
      ]
     },
     "execution_count": 20,
     "metadata": {},
     "output_type": "execute_result"
    }
   ],
   "source": [
    "X.max()"
   ]
  },
  {
   "cell_type": "code",
   "execution_count": 21,
   "id": "2ff21113",
   "metadata": {},
   "outputs": [],
   "source": [
    "np_X = X.values"
   ]
  },
  {
   "cell_type": "code",
   "execution_count": 22,
   "id": "92788300",
   "metadata": {},
   "outputs": [
    {
     "data": {
      "text/plain": [
       "array([[ 2.  , 56.  ,  0.  , ...,  2.  ,  1.  ,  1.  ],\n",
       "       [ 2.  , 57.  ,  0.  , ...,  2.  ,  0.  ,  1.  ],\n",
       "       [ 2.  , 67.  ,  0.  , ...,  2.  ,  1.  ,  1.  ],\n",
       "       ...,\n",
       "       [ 2.  , 48.  ,  0.  , ...,  4.  ,  0.  ,  0.  ],\n",
       "       [ 4.  , 83.81,  0.  , ...,  3.  ,  1.  ,  1.  ],\n",
       "       [ 1.  , 35.  ,  0.  , ...,  4.  ,  1.  ,  1.  ]])"
      ]
     },
     "execution_count": 22,
     "metadata": {},
     "output_type": "execute_result"
    }
   ],
   "source": [
    "np_X"
   ]
  },
  {
   "cell_type": "code",
   "execution_count": 23,
   "id": "8a1affd5",
   "metadata": {},
   "outputs": [
    {
     "data": {
      "text/plain": [
       "array([ 2.50571, 73.70487,  0.12569,  0.36183,  0.51248,  3.33647,\n",
       "        0.71759,  0.59321])"
      ]
     },
     "execution_count": 23,
     "metadata": {},
     "output_type": "execute_result"
    }
   ],
   "source": [
    "np_X.mean(axis=0)"
   ]
  },
  {
   "cell_type": "code",
   "execution_count": 24,
   "id": "f0b01063",
   "metadata": {},
   "outputs": [],
   "source": [
    "np_X_n = (np_X - np_X.mean(0)) / np_X.std(0)"
   ]
  },
  {
   "cell_type": "code",
   "execution_count": 25,
   "id": "85c7087a",
   "metadata": {},
   "outputs": [
    {
     "data": {
      "text/plain": [
       "array([[-0.53209, -0.44072, -0.37916, ..., -0.47416,  0.62734,  0.8281 ],\n",
       "       [-0.53209, -0.41582, -0.37916, ..., -0.47416, -1.59404,  0.8281 ],\n",
       "       [-0.53209, -0.1669 , -0.37916, ..., -0.47416,  0.62734,  0.8281 ],\n",
       "       ...,\n",
       "       [-0.53209, -0.63986, -0.37916, ...,  0.23541, -1.59404, -1.20759],\n",
       "       [ 1.57224,  0.25154, -0.37916, ..., -0.11937,  0.62734,  0.8281 ],\n",
       "       [-1.58426, -0.96346, -0.37916, ...,  0.23541,  0.62734,  0.8281 ]])"
      ]
     },
     "execution_count": 25,
     "metadata": {},
     "output_type": "execute_result"
    }
   ],
   "source": [
    "np_X_n"
   ]
  },
  {
   "cell_type": "code",
   "execution_count": 26,
   "id": "e045e61c",
   "metadata": {},
   "outputs": [
    {
     "data": {
      "text/plain": [
       "array([0.00461, 0.00461, 0.00559, ..., 0.01062, 0.02382, 0.01126])"
      ]
     },
     "execution_count": 26,
     "metadata": {},
     "output_type": "execute_result"
    }
   ],
   "source": [
    "np_y = y_price.values\n",
    "np_y_n = (np_y - np_y.min()) / (np_y.max() - np_y.min())\n",
    "np_y_n"
   ]
  },
  {
   "cell_type": "code",
   "execution_count": 27,
   "id": "be241ae2",
   "metadata": {},
   "outputs": [
    {
     "data": {
      "text/plain": [
       "18000"
      ]
     },
     "execution_count": 27,
     "metadata": {},
     "output_type": "execute_result"
    }
   ],
   "source": [
    "np_y.min()\n"
   ]
  },
  {
   "cell_type": "code",
   "execution_count": 28,
   "id": "af98e5ba",
   "metadata": {},
   "outputs": [
    {
     "data": {
      "text/plain": [
       "3880000"
      ]
     },
     "execution_count": 28,
     "metadata": {},
     "output_type": "execute_result"
    }
   ],
   "source": [
    "np_y.max()"
   ]
  },
  {
   "cell_type": "code",
   "execution_count": 29,
   "id": "fa676245",
   "metadata": {},
   "outputs": [],
   "source": [
    "y_norm_sub = np_y.min()\n",
    "y_norm_div = np_y.max() - np_y.min()"
   ]
  },
  {
   "cell_type": "code",
   "execution_count": 30,
   "id": "16e3b9d4",
   "metadata": {},
   "outputs": [],
   "source": [
    "np_weights = np.linalg.pinv(np_X_n.T.dot(np_X_n)).dot(np_X_n.T).dot(np_y_n)"
   ]
  },
  {
   "cell_type": "code",
   "execution_count": 31,
   "id": "17612e6f",
   "metadata": {},
   "outputs": [
    {
     "data": {
      "text/plain": [
       "array([-0.00868,  0.04232, -0.00003, -0.00004,  0.00006,  0.00202,\n",
       "       -0.00217,  0.00101])"
      ]
     },
     "execution_count": 31,
     "metadata": {},
     "output_type": "execute_result"
    }
   ],
   "source": [
    "np_weights"
   ]
  },
  {
   "cell_type": "code",
   "execution_count": 32,
   "id": "a26260ea",
   "metadata": {},
   "outputs": [
    {
     "data": {
      "text/plain": [
       "array([[-0.53209, -0.44072, -0.37916, ..., -0.47416,  0.62734,  0.8281 ],\n",
       "       [-0.53209, -0.41582, -0.37916, ..., -0.47416, -1.59404,  0.8281 ],\n",
       "       [-0.53209, -0.1669 , -0.37916, ..., -0.47416,  0.62734,  0.8281 ],\n",
       "       ...,\n",
       "       [-0.53209, -0.63986, -0.37916, ...,  0.23541, -1.59404, -1.20759],\n",
       "       [ 1.57224,  0.25154, -0.37916, ..., -0.11937,  0.62734,  0.8281 ],\n",
       "       [-1.58426, -0.96346, -0.37916, ...,  0.23541,  0.62734,  0.8281 ]])"
      ]
     },
     "execution_count": 32,
     "metadata": {},
     "output_type": "execute_result"
    }
   ],
   "source": [
    "np_X_n"
   ]
  },
  {
   "cell_type": "code",
   "execution_count": 33,
   "id": "4485a963",
   "metadata": {},
   "outputs": [],
   "source": [
    "np_y_preds = np_X_n.dot(np_weights)"
   ]
  },
  {
   "cell_type": "code",
   "execution_count": 34,
   "id": "3d4795c7",
   "metadata": {},
   "outputs": [
    {
     "data": {
      "text/plain": [
       "array([-0.01561, -0.00973, -0.00402, ..., -0.01965, -0.00367, -0.02699])"
      ]
     },
     "execution_count": 34,
     "metadata": {},
     "output_type": "execute_result"
    }
   ],
   "source": [
    "np_y_preds"
   ]
  },
  {
   "cell_type": "code",
   "execution_count": 35,
   "id": "fa77cb75",
   "metadata": {},
   "outputs": [
    {
     "data": {
      "text/plain": [
       "(array([7566., 1816.,  359.,  101.,   32.,   11.,    5.,    4.,    1.,\n",
       "           2.]),\n",
       " array([-0.05244,  0.00608,  0.0646 ,  0.12311,  0.18163,  0.24015,\n",
       "         0.29867,  0.35719,  0.41571,  0.47422,  0.53274]),\n",
       " <BarContainer object of 10 artists>)"
      ]
     },
     "execution_count": 35,
     "metadata": {},
     "output_type": "execute_result"
    },
    {
     "data": {
      "image/png": "[encoded data removed]",
      "text/plain": [
       "<Figure size 432x288 with 1 Axes>"
      ]
     },
     "metadata": {
      "needs_background": "light"
     },
     "output_type": "display_data"
    }
   ],
   "source": [
    "plt.hist(np_y_preds)"
   ]
  },
  {
   "cell_type": "code",
   "execution_count": 36,
   "id": "c3a1d320",
   "metadata": {},
   "outputs": [
    {
     "data": {
      "text/plain": [
       "array([[1.],\n",
       "       [1.],\n",
       "       [1.],\n",
       "       ...,\n",
       "       [1.],\n",
       "       [1.],\n",
       "       [1.]])"
      ]
     },
     "execution_count": 36,
     "metadata": {},
     "output_type": "execute_result"
    }
   ],
   "source": [
    "ones = np.ones(shape=(np_X_n.shape[0], 1))\n",
    "ones"
   ]
  },
  {
   "cell_type": "code",
   "execution_count": 37,
   "id": "20b49206",
   "metadata": {},
   "outputs": [
    {
     "data": {
      "text/plain": [
       "array([[-0.53209, -0.44072, -0.37916, ...,  0.62734,  0.8281 ,  1.     ],\n",
       "       [-0.53209, -0.41582, -0.37916, ..., -1.59404,  0.8281 ,  1.     ],\n",
       "       [-0.53209, -0.1669 , -0.37916, ...,  0.62734,  0.8281 ,  1.     ],\n",
       "       ...,\n",
       "       [-0.53209, -0.63986, -0.37916, ..., -1.59404, -1.20759,  1.     ],\n",
       "       [ 1.57224,  0.25154, -0.37916, ...,  0.62734,  0.8281 ,  1.     ],\n",
       "       [-1.58426, -0.96346, -0.37916, ...,  0.62734,  0.8281 ,  1.     ]])"
      ]
     },
     "execution_count": 37,
     "metadata": {},
     "output_type": "execute_result"
    }
   ],
   "source": [
    "np_X_nb = np.concatenate((np_X_n, ones), axis=-1)\n",
    "np_X_nb"
   ]
  },
  {
   "cell_type": "code",
   "execution_count": 38,
   "id": "643c832a",
   "metadata": {},
   "outputs": [
    {
     "data": {
      "text/plain": [
       "array([-0.00868,  0.04232, -0.00003, -0.00004,  0.00006,  0.00202,\n",
       "       -0.00217,  0.00101,  0.03028])"
      ]
     },
     "execution_count": 38,
     "metadata": {},
     "output_type": "execute_result"
    }
   ],
   "source": [
    "np_weights_b = np.linalg.pinv(np_X_nb.T.dot(np_X_nb)).dot(np_X_nb.T).dot(np_y_n)\n",
    "np_weights_b"
   ]
  },
  {
   "cell_type": "code",
   "execution_count": 39,
   "id": "299903cf",
   "metadata": {},
   "outputs": [
    {
     "data": {
      "text/plain": [
       "array([0.01466, 0.02054, 0.02625, ..., 0.01063, 0.02661, 0.00329])"
      ]
     },
     "execution_count": 39,
     "metadata": {},
     "output_type": "execute_result"
    }
   ],
   "source": [
    "np_y_preds2 = np_X_nb.dot(np_weights_b)\n",
    "np_y_preds2"
   ]
  },
  {
   "cell_type": "code",
   "execution_count": 40,
   "id": "5681aac7",
   "metadata": {},
   "outputs": [
    {
     "data": {
      "text/plain": [
       "(array([  21.,  628., 2177., 3021., 1719.,  772.,  433.,  269.,  199.,\n",
       "         143.,  107.,   98.,   78.,   41.,   35.,   30.,   13.,   27.,\n",
       "          15.,   16.,   11.,   13.,    4.,    2.,    2.,    4.,    2.,\n",
       "           2.,    3.,    0.,    1.,    1.,    2.,    0.,    1.,    0.,\n",
       "           0.,    1.,    1.,    2.,    0.,    0.,    0.,    1.,    0.,\n",
       "           0.,    1.,    0.,    0.,    1.]),\n",
       " array([-0.02217, -0.01046,  0.00124,  0.01295,  0.02465,  0.03635,\n",
       "         0.04806,  0.05976,  0.07146,  0.08317,  0.09487,  0.10657,\n",
       "         0.11828,  0.12998,  0.14169,  0.15339,  0.16509,  0.1768 ,\n",
       "         0.1885 ,  0.2002 ,  0.21191,  0.22361,  0.23532,  0.24702,\n",
       "         0.25872,  0.27043,  0.28213,  0.29383,  0.30554,  0.31724,\n",
       "         0.32894,  0.34065,  0.35235,  0.36406,  0.37576,  0.38746,\n",
       "         0.39917,  0.41087,  0.42257,  0.43428,  0.44598,  0.45769,\n",
       "         0.46939,  0.48109,  0.4928 ,  0.5045 ,  0.5162 ,  0.52791,\n",
       "         0.53961,  0.55131,  0.56302]),\n",
       " <BarContainer object of 50 artists>)"
      ]
     },
     "execution_count": 40,
     "metadata": {},
     "output_type": "execute_result"
    },
    {
     "data": {
      "image/png": "[encoded data removed]",
      "text/plain": [
       "<Figure size 432x288 with 1 Axes>"
      ]
     },
     "metadata": {
      "needs_background": "light"
     },
     "output_type": "display_data"
    }
   ],
   "source": [
    "plt.hist(np_y_preds2, bins=50)"
   ]
  },
  {
   "cell_type": "code",
   "execution_count": 41,
   "id": "ab6091bf",
   "metadata": {},
   "outputs": [
    {
     "data": {
      "text/plain": [
       "array([ 74630.72666,  97336.97484, 119387.11175, ...,  59035.52621,\n",
       "       120766.01925,  30692.03852])"
      ]
     },
     "execution_count": 41,
     "metadata": {},
     "output_type": "execute_result"
    }
   ],
   "source": [
    "np_y_pred2_price = np_y_preds2 * y_norm_div + y_norm_sub\n",
    "np_y_pred2_price"
   ]
  },
  {
   "cell_type": "code",
   "execution_count": 42,
   "id": "c9065d4d",
   "metadata": {},
   "outputs": [
    {
     "data": {
      "text/plain": [
       "0        35800\n",
       "1        35800\n",
       "2        39600\n",
       "3        29800\n",
       "4       112900\n",
       "         ...  \n",
       "9892     85000\n",
       "9893    134999\n",
       "9894     59000\n",
       "9895    110000\n",
       "9896     61500\n",
       "Name: Price, Length: 9897, dtype: int64"
      ]
     },
     "execution_count": 42,
     "metadata": {},
     "output_type": "execute_result"
    }
   ],
   "source": [
    "y_price"
   ]
  },
  {
   "cell_type": "code",
   "execution_count": 43,
   "id": "ce27b9fe",
   "metadata": {
    "scrolled": true
   },
   "outputs": [
    {
     "data": {
      "text/html": [
       "<div>\n",
       "<style scoped>\n",
       "    .dataframe tbody tr th:only-of-type {\n",
       "        vertical-align: middle;\n",
       "    }\n",
       "\n",
       "    .dataframe tbody tr th {\n",
       "        vertical-align: top;\n",
       "    }\n",
       "\n",
       "    .dataframe thead th {\n",
       "        text-align: right;\n",
       "    }\n",
       "</style>\n",
       "<table border=\"1\" class=\"dataframe\">\n",
       "  <thead>\n",
       "    <tr style=\"text-align: right;\">\n",
       "      <th></th>\n",
       "      <th>GOLD</th>\n",
       "      <th>PRED</th>\n",
       "    </tr>\n",
       "  </thead>\n",
       "  <tbody>\n",
       "    <tr>\n",
       "      <th>0</th>\n",
       "      <td>35800</td>\n",
       "      <td>74631.0</td>\n",
       "    </tr>\n",
       "    <tr>\n",
       "      <th>1</th>\n",
       "      <td>35800</td>\n",
       "      <td>97337.0</td>\n",
       "    </tr>\n",
       "    <tr>\n",
       "      <th>2</th>\n",
       "      <td>39600</td>\n",
       "      <td>119387.0</td>\n",
       "    </tr>\n",
       "    <tr>\n",
       "      <th>3</th>\n",
       "      <td>29800</td>\n",
       "      <td>77334.0</td>\n",
       "    </tr>\n",
       "    <tr>\n",
       "      <th>4</th>\n",
       "      <td>112900</td>\n",
       "      <td>179577.0</td>\n",
       "    </tr>\n",
       "    <tr>\n",
       "      <th>5</th>\n",
       "      <td>37400</td>\n",
       "      <td>111250.0</td>\n",
       "    </tr>\n",
       "    <tr>\n",
       "      <th>6</th>\n",
       "      <td>39500</td>\n",
       "      <td>40195.0</td>\n",
       "    </tr>\n",
       "    <tr>\n",
       "      <th>7</th>\n",
       "      <td>2350000</td>\n",
       "      <td>1087563.0</td>\n",
       "    </tr>\n",
       "    <tr>\n",
       "      <th>8</th>\n",
       "      <td>332000</td>\n",
       "      <td>261328.0</td>\n",
       "    </tr>\n",
       "    <tr>\n",
       "      <th>9</th>\n",
       "      <td>39900</td>\n",
       "      <td>127124.0</td>\n",
       "    </tr>\n",
       "  </tbody>\n",
       "</table>\n",
       "</div>"
      ],
      "text/plain": [
       "      GOLD       PRED\n",
       "0    35800    74631.0\n",
       "1    35800    97337.0\n",
       "2    39600   119387.0\n",
       "3    29800    77334.0\n",
       "4   112900   179577.0\n",
       "5    37400   111250.0\n",
       "6    39500    40195.0\n",
       "7  2350000  1087563.0\n",
       "8   332000   261328.0\n",
       "9    39900   127124.0"
      ]
     },
     "execution_count": 43,
     "metadata": {},
     "output_type": "execute_result"
    }
   ],
   "source": [
    "df_result = pd.DataFrame(\n",
    "    {\n",
    "        'GOLD' : y_price,\n",
    "        'PRED' : np_y_pred2_price.round(0),\n",
    "    }\n",
    ")\n",
    "df_result.head(10)"
   ]
  },
  {
   "cell_type": "code",
   "execution_count": 44,
   "id": "af7c57ce",
   "metadata": {},
   "outputs": [
    {
     "data": {
      "text/html": [
       "<div>\n",
       "<style scoped>\n",
       "    .dataframe tbody tr th:only-of-type {\n",
       "        vertical-align: middle;\n",
       "    }\n",
       "\n",
       "    .dataframe tbody tr th {\n",
       "        vertical-align: top;\n",
       "    }\n",
       "\n",
       "    .dataframe thead th {\n",
       "        text-align: right;\n",
       "    }\n",
       "</style>\n",
       "<table border=\"1\" class=\"dataframe\">\n",
       "  <thead>\n",
       "    <tr style=\"text-align: right;\">\n",
       "      <th></th>\n",
       "      <th>GOLD</th>\n",
       "      <th>PRED</th>\n",
       "    </tr>\n",
       "  </thead>\n",
       "  <tbody>\n",
       "    <tr>\n",
       "      <th>9887</th>\n",
       "      <td>47000</td>\n",
       "      <td>43077.0</td>\n",
       "    </tr>\n",
       "    <tr>\n",
       "      <th>9888</th>\n",
       "      <td>34500</td>\n",
       "      <td>-28459.0</td>\n",
       "    </tr>\n",
       "    <tr>\n",
       "      <th>9889</th>\n",
       "      <td>56000</td>\n",
       "      <td>28301.0</td>\n",
       "    </tr>\n",
       "    <tr>\n",
       "      <th>9890</th>\n",
       "      <td>101000</td>\n",
       "      <td>139731.0</td>\n",
       "    </tr>\n",
       "    <tr>\n",
       "      <th>9891</th>\n",
       "      <td>79524</td>\n",
       "      <td>88871.0</td>\n",
       "    </tr>\n",
       "    <tr>\n",
       "      <th>9892</th>\n",
       "      <td>85000</td>\n",
       "      <td>170468.0</td>\n",
       "    </tr>\n",
       "    <tr>\n",
       "      <th>9893</th>\n",
       "      <td>134999</td>\n",
       "      <td>166740.0</td>\n",
       "    </tr>\n",
       "    <tr>\n",
       "      <th>9894</th>\n",
       "      <td>59000</td>\n",
       "      <td>59036.0</td>\n",
       "    </tr>\n",
       "    <tr>\n",
       "      <th>9895</th>\n",
       "      <td>110000</td>\n",
       "      <td>120766.0</td>\n",
       "    </tr>\n",
       "    <tr>\n",
       "      <th>9896</th>\n",
       "      <td>61500</td>\n",
       "      <td>30692.0</td>\n",
       "    </tr>\n",
       "  </tbody>\n",
       "</table>\n",
       "</div>"
      ],
      "text/plain": [
       "        GOLD      PRED\n",
       "9887   47000   43077.0\n",
       "9888   34500  -28459.0\n",
       "9889   56000   28301.0\n",
       "9890  101000  139731.0\n",
       "9891   79524   88871.0\n",
       "9892   85000  170468.0\n",
       "9893  134999  166740.0\n",
       "9894   59000   59036.0\n",
       "9895  110000  120766.0\n",
       "9896   61500   30692.0"
      ]
     },
     "execution_count": 44,
     "metadata": {},
     "output_type": "execute_result"
    }
   ],
   "source": [
    "df_result.tail(10)"
   ]
  },
  {
   "cell_type": "code",
   "execution_count": 45,
   "id": "8e0d15ba",
   "metadata": {},
   "outputs": [
    {
     "data": {
      "text/plain": [
       "0       38830.726659\n",
       "1       61536.974840\n",
       "2       79787.111747\n",
       "3       47533.793910\n",
       "4       66677.318352\n",
       "            ...     \n",
       "9892    85468.449821\n",
       "9893    31741.318014\n",
       "9894       35.526206\n",
       "9895    10766.019249\n",
       "9896    30807.961481\n",
       "Name: Price, Length: 9897, dtype: float64"
      ]
     },
     "execution_count": 45,
     "metadata": {},
     "output_type": "execute_result"
    }
   ],
   "source": [
    "abs_err = np.abs(y_price - np_y_pred2_price)\n",
    "abs_err"
   ]
  },
  {
   "cell_type": "code",
   "execution_count": 46,
   "id": "b640f3ea",
   "metadata": {},
   "outputs": [],
   "source": [
    "proc_err = abs_err / y_price\n",
    "proc_err = proc_err * 100"
   ]
  },
  {
   "cell_type": "code",
   "execution_count": 47,
   "id": "3fc83f57",
   "metadata": {},
   "outputs": [
    {
     "data": {
      "text/html": [
       "<div>\n",
       "<style scoped>\n",
       "    .dataframe tbody tr th:only-of-type {\n",
       "        vertical-align: middle;\n",
       "    }\n",
       "\n",
       "    .dataframe tbody tr th {\n",
       "        vertical-align: top;\n",
       "    }\n",
       "\n",
       "    .dataframe thead th {\n",
       "        text-align: right;\n",
       "    }\n",
       "</style>\n",
       "<table border=\"1\" class=\"dataframe\">\n",
       "  <thead>\n",
       "    <tr style=\"text-align: right;\">\n",
       "      <th></th>\n",
       "      <th>GOLD</th>\n",
       "      <th>PRED</th>\n",
       "      <th>ERR%</th>\n",
       "    </tr>\n",
       "  </thead>\n",
       "  <tbody>\n",
       "    <tr>\n",
       "      <th>0</th>\n",
       "      <td>35800</td>\n",
       "      <td>74631.0</td>\n",
       "      <td>108.47</td>\n",
       "    </tr>\n",
       "    <tr>\n",
       "      <th>1</th>\n",
       "      <td>35800</td>\n",
       "      <td>97337.0</td>\n",
       "      <td>171.89</td>\n",
       "    </tr>\n",
       "    <tr>\n",
       "      <th>2</th>\n",
       "      <td>39600</td>\n",
       "      <td>119387.0</td>\n",
       "      <td>201.48</td>\n",
       "    </tr>\n",
       "    <tr>\n",
       "      <th>3</th>\n",
       "      <td>29800</td>\n",
       "      <td>77334.0</td>\n",
       "      <td>159.51</td>\n",
       "    </tr>\n",
       "    <tr>\n",
       "      <th>4</th>\n",
       "      <td>112900</td>\n",
       "      <td>179577.0</td>\n",
       "      <td>59.06</td>\n",
       "    </tr>\n",
       "    <tr>\n",
       "      <th>5</th>\n",
       "      <td>37400</td>\n",
       "      <td>111250.0</td>\n",
       "      <td>197.46</td>\n",
       "    </tr>\n",
       "    <tr>\n",
       "      <th>6</th>\n",
       "      <td>39500</td>\n",
       "      <td>40195.0</td>\n",
       "      <td>1.76</td>\n",
       "    </tr>\n",
       "    <tr>\n",
       "      <th>7</th>\n",
       "      <td>2350000</td>\n",
       "      <td>1087563.0</td>\n",
       "      <td>53.72</td>\n",
       "    </tr>\n",
       "    <tr>\n",
       "      <th>8</th>\n",
       "      <td>332000</td>\n",
       "      <td>261328.0</td>\n",
       "      <td>21.29</td>\n",
       "    </tr>\n",
       "    <tr>\n",
       "      <th>9</th>\n",
       "      <td>39900</td>\n",
       "      <td>127124.0</td>\n",
       "      <td>218.61</td>\n",
       "    </tr>\n",
       "    <tr>\n",
       "      <th>10</th>\n",
       "      <td>39500</td>\n",
       "      <td>37432.0</td>\n",
       "      <td>5.23</td>\n",
       "    </tr>\n",
       "    <tr>\n",
       "      <th>11</th>\n",
       "      <td>42766</td>\n",
       "      <td>51429.0</td>\n",
       "      <td>20.26</td>\n",
       "    </tr>\n",
       "    <tr>\n",
       "      <th>12</th>\n",
       "      <td>88253</td>\n",
       "      <td>141453.0</td>\n",
       "      <td>60.28</td>\n",
       "    </tr>\n",
       "    <tr>\n",
       "      <th>13</th>\n",
       "      <td>26800</td>\n",
       "      <td>-1546.0</td>\n",
       "      <td>105.77</td>\n",
       "    </tr>\n",
       "    <tr>\n",
       "      <th>14</th>\n",
       "      <td>93000</td>\n",
       "      <td>116132.0</td>\n",
       "      <td>24.87</td>\n",
       "    </tr>\n",
       "    <tr>\n",
       "      <th>15</th>\n",
       "      <td>135000</td>\n",
       "      <td>171702.0</td>\n",
       "      <td>27.19</td>\n",
       "    </tr>\n",
       "    <tr>\n",
       "      <th>16</th>\n",
       "      <td>115000</td>\n",
       "      <td>204725.0</td>\n",
       "      <td>78.02</td>\n",
       "    </tr>\n",
       "    <tr>\n",
       "      <th>17</th>\n",
       "      <td>39500</td>\n",
       "      <td>74631.0</td>\n",
       "      <td>88.94</td>\n",
       "    </tr>\n",
       "    <tr>\n",
       "      <th>18</th>\n",
       "      <td>55192</td>\n",
       "      <td>149873.0</td>\n",
       "      <td>171.55</td>\n",
       "    </tr>\n",
       "    <tr>\n",
       "      <th>19</th>\n",
       "      <td>69900</td>\n",
       "      <td>84551.0</td>\n",
       "      <td>20.96</td>\n",
       "    </tr>\n",
       "  </tbody>\n",
       "</table>\n",
       "</div>"
      ],
      "text/plain": [
       "       GOLD       PRED    ERR%\n",
       "0     35800    74631.0  108.47\n",
       "1     35800    97337.0  171.89\n",
       "2     39600   119387.0  201.48\n",
       "3     29800    77334.0  159.51\n",
       "4    112900   179577.0   59.06\n",
       "5     37400   111250.0  197.46\n",
       "6     39500    40195.0    1.76\n",
       "7   2350000  1087563.0   53.72\n",
       "8    332000   261328.0   21.29\n",
       "9     39900   127124.0  218.61\n",
       "10    39500    37432.0    5.23\n",
       "11    42766    51429.0   20.26\n",
       "12    88253   141453.0   60.28\n",
       "13    26800    -1546.0  105.77\n",
       "14    93000   116132.0   24.87\n",
       "15   135000   171702.0   27.19\n",
       "16   115000   204725.0   78.02\n",
       "17    39500    74631.0   88.94\n",
       "18    55192   149873.0  171.55\n",
       "19    69900    84551.0   20.96"
      ]
     },
     "execution_count": 47,
     "metadata": {},
     "output_type": "execute_result"
    }
   ],
   "source": [
    "df_result = pd.DataFrame(\n",
    "    {\n",
    "        'GOLD' : y_price,\n",
    "        'PRED' : np_y_pred2_price.round(0),\n",
    "        'ERR%' : proc_err.round(2)\n",
    "    }\n",
    ")\n",
    "df_result.head(20)"
   ]
  },
  {
   "cell_type": "code",
   "execution_count": 48,
   "id": "9c346ea1",
   "metadata": {},
   "outputs": [
    {
     "data": {
      "text/html": [
       "<div>\n",
       "<style scoped>\n",
       "    .dataframe tbody tr th:only-of-type {\n",
       "        vertical-align: middle;\n",
       "    }\n",
       "\n",
       "    .dataframe tbody tr th {\n",
       "        vertical-align: top;\n",
       "    }\n",
       "\n",
       "    .dataframe thead th {\n",
       "        text-align: right;\n",
       "    }\n",
       "</style>\n",
       "<table border=\"1\" class=\"dataframe\">\n",
       "  <thead>\n",
       "    <tr style=\"text-align: right;\">\n",
       "      <th></th>\n",
       "      <th>GOLD</th>\n",
       "      <th>PRED</th>\n",
       "      <th>ERR%</th>\n",
       "    </tr>\n",
       "  </thead>\n",
       "  <tbody>\n",
       "    <tr>\n",
       "      <th>9877</th>\n",
       "      <td>63000</td>\n",
       "      <td>59587.0</td>\n",
       "      <td>5.42</td>\n",
       "    </tr>\n",
       "    <tr>\n",
       "      <th>9878</th>\n",
       "      <td>32900</td>\n",
       "      <td>37952.0</td>\n",
       "      <td>15.36</td>\n",
       "    </tr>\n",
       "    <tr>\n",
       "      <th>9879</th>\n",
       "      <td>53490</td>\n",
       "      <td>49445.0</td>\n",
       "      <td>7.56</td>\n",
       "    </tr>\n",
       "    <tr>\n",
       "      <th>9880</th>\n",
       "      <td>79000</td>\n",
       "      <td>65299.0</td>\n",
       "      <td>17.34</td>\n",
       "    </tr>\n",
       "    <tr>\n",
       "      <th>9881</th>\n",
       "      <td>79900</td>\n",
       "      <td>110933.0</td>\n",
       "      <td>38.84</td>\n",
       "    </tr>\n",
       "    <tr>\n",
       "      <th>9882</th>\n",
       "      <td>149000</td>\n",
       "      <td>103315.0</td>\n",
       "      <td>30.66</td>\n",
       "    </tr>\n",
       "    <tr>\n",
       "      <th>9883</th>\n",
       "      <td>143000</td>\n",
       "      <td>154443.0</td>\n",
       "      <td>8.00</td>\n",
       "    </tr>\n",
       "    <tr>\n",
       "      <th>9884</th>\n",
       "      <td>55000</td>\n",
       "      <td>72155.0</td>\n",
       "      <td>31.19</td>\n",
       "    </tr>\n",
       "    <tr>\n",
       "      <th>9885</th>\n",
       "      <td>62860</td>\n",
       "      <td>67189.0</td>\n",
       "      <td>6.89</td>\n",
       "    </tr>\n",
       "    <tr>\n",
       "      <th>9886</th>\n",
       "      <td>27500</td>\n",
       "      <td>4096.0</td>\n",
       "      <td>85.11</td>\n",
       "    </tr>\n",
       "    <tr>\n",
       "      <th>9887</th>\n",
       "      <td>47000</td>\n",
       "      <td>43077.0</td>\n",
       "      <td>8.35</td>\n",
       "    </tr>\n",
       "    <tr>\n",
       "      <th>9888</th>\n",
       "      <td>34500</td>\n",
       "      <td>-28459.0</td>\n",
       "      <td>182.49</td>\n",
       "    </tr>\n",
       "    <tr>\n",
       "      <th>9889</th>\n",
       "      <td>56000</td>\n",
       "      <td>28301.0</td>\n",
       "      <td>49.46</td>\n",
       "    </tr>\n",
       "    <tr>\n",
       "      <th>9890</th>\n",
       "      <td>101000</td>\n",
       "      <td>139731.0</td>\n",
       "      <td>38.35</td>\n",
       "    </tr>\n",
       "    <tr>\n",
       "      <th>9891</th>\n",
       "      <td>79524</td>\n",
       "      <td>88871.0</td>\n",
       "      <td>11.75</td>\n",
       "    </tr>\n",
       "    <tr>\n",
       "      <th>9892</th>\n",
       "      <td>85000</td>\n",
       "      <td>170468.0</td>\n",
       "      <td>100.55</td>\n",
       "    </tr>\n",
       "    <tr>\n",
       "      <th>9893</th>\n",
       "      <td>134999</td>\n",
       "      <td>166740.0</td>\n",
       "      <td>23.51</td>\n",
       "    </tr>\n",
       "    <tr>\n",
       "      <th>9894</th>\n",
       "      <td>59000</td>\n",
       "      <td>59036.0</td>\n",
       "      <td>0.06</td>\n",
       "    </tr>\n",
       "    <tr>\n",
       "      <th>9895</th>\n",
       "      <td>110000</td>\n",
       "      <td>120766.0</td>\n",
       "      <td>9.79</td>\n",
       "    </tr>\n",
       "    <tr>\n",
       "      <th>9896</th>\n",
       "      <td>61500</td>\n",
       "      <td>30692.0</td>\n",
       "      <td>50.09</td>\n",
       "    </tr>\n",
       "  </tbody>\n",
       "</table>\n",
       "</div>"
      ],
      "text/plain": [
       "        GOLD      PRED    ERR%\n",
       "9877   63000   59587.0    5.42\n",
       "9878   32900   37952.0   15.36\n",
       "9879   53490   49445.0    7.56\n",
       "9880   79000   65299.0   17.34\n",
       "9881   79900  110933.0   38.84\n",
       "9882  149000  103315.0   30.66\n",
       "9883  143000  154443.0    8.00\n",
       "9884   55000   72155.0   31.19\n",
       "9885   62860   67189.0    6.89\n",
       "9886   27500    4096.0   85.11\n",
       "9887   47000   43077.0    8.35\n",
       "9888   34500  -28459.0  182.49\n",
       "9889   56000   28301.0   49.46\n",
       "9890  101000  139731.0   38.35\n",
       "9891   79524   88871.0   11.75\n",
       "9892   85000  170468.0  100.55\n",
       "9893  134999  166740.0   23.51\n",
       "9894   59000   59036.0    0.06\n",
       "9895  110000  120766.0    9.79\n",
       "9896   61500   30692.0   50.09"
      ]
     },
     "execution_count": 48,
     "metadata": {},
     "output_type": "execute_result"
    }
   ],
   "source": [
    "df_result.tail(20)"
   ]
  },
  {
   "cell_type": "code",
   "execution_count": 49,
   "id": "6052f7fe",
   "metadata": {},
   "outputs": [
    {
     "data": {
      "text/plain": [
       "40.56805033787927"
      ]
     },
     "execution_count": 49,
     "metadata": {},
     "output_type": "execute_result"
    }
   ],
   "source": [
    "proc_err.mean()"
   ]
  },
  {
   "cell_type": "code",
   "execution_count": 50,
   "id": "ed502f5e",
   "metadata": {},
   "outputs": [],
   "source": [
    "# split the np_X_nb data into train observation and test observations\n",
    "# train with NEQ\n",
    "# present results"
   ]
  },
  {
   "cell_type": "code",
   "execution_count": 51,
   "id": "2e26bdcf",
   "metadata": {},
   "outputs": [],
   "source": [
    "def train_neq(inputs, gold):\n",
    "    weights = np.linalg.pinv(inputs.T.dot(inputs)).dot(inputs.T).dot(gold)\n",
    "    return weights\n",
    "\n",
    "def evaluate(theta, inputs, gold, y_div, y_sub, name=\"\"):\n",
    "    _y_pred = inputs.dot(theta)\n",
    "    _y_vals = _y_pred * y_div + y_sub\n",
    "    \n",
    "    _y_true = gold * y_div + y_sub\n",
    "    \n",
    "    res_err = np.abs(_y_true - _y_vals)\n",
    "    prc_err = res_err / _y_true\n",
    "    \n",
    "    overall = prc_err.mean()\n",
    "    df_result = pd.DataFrame(\n",
    "        {\n",
    "        'GOLD' : _y_true,\n",
    "        'PRED' : _y_vals.round(0),\n",
    "        'ERR%' : prc_err.round(2)\n",
    "        }\n",
    "    )\n",
    "    print('Results for', name)\n",
    "    print(df_result.head(20))\n",
    "    print(df_result.tail(20))\n",
    "    print(\"Overall error: {:.1f}%\".format(overall * 100))\n",
    "    return overall"
   ]
  },
  {
   "cell_type": "code",
   "execution_count": 52,
   "id": "7a1727da",
   "metadata": {},
   "outputs": [],
   "source": [
    "from sklearn.model_selection import train_test_split\n",
    "x_trn, x_tst, y_trn, y_tst = train_test_split(np_X_nb, np_y_n, test_size=0.2)"
   ]
  },
  {
   "cell_type": "code",
   "execution_count": 53,
   "id": "21a6eb5c",
   "metadata": {},
   "outputs": [],
   "source": [
    "theta = train_neq(\n",
    "    inputs=x_trn,\n",
    "    gold=y_trn\n",
    ")"
   ]
  },
  {
   "cell_type": "code",
   "execution_count": 54,
   "id": "873573d3",
   "metadata": {},
   "outputs": [
    {
     "data": {
      "text/plain": [
       "array([-0.00742,  0.03947, -0.     , -0.     ,  0.00001,  0.00167,\n",
       "       -0.00206,  0.00065,  0.02978])"
      ]
     },
     "execution_count": 54,
     "metadata": {},
     "output_type": "execute_result"
    }
   ],
   "source": [
    "theta"
   ]
  },
  {
   "cell_type": "code",
   "execution_count": 55,
   "id": "1dc0f147",
   "metadata": {},
   "outputs": [
    {
     "name": "stdout",
     "output_type": "stream",
     "text": [
      "Results for TRAIN\n",
      "        GOLD      PRED  ERR%\n",
      "0   505000.0  313919.0  0.38\n",
      "1    64500.0   96531.0  0.50\n",
      "2   123000.0  166527.0  0.35\n",
      "3    50600.0   68981.0  0.36\n",
      "4    80000.0   65604.0  0.18\n",
      "5    54223.0   53673.0  0.01\n",
      "6    79400.0   75202.0  0.05\n",
      "7    51900.0   89592.0  0.73\n",
      "8    50950.0   85010.0  0.67\n",
      "9    73335.0  142081.0  0.94\n",
      "10   26800.0    1978.0  0.93\n",
      "11  125000.0  121189.0  0.03\n",
      "12  105000.0  223442.0  1.13\n",
      "13   57000.0   71020.0  0.25\n",
      "14   92111.0   81403.0  0.12\n",
      "15   90234.0   83606.0  0.07\n",
      "16   37900.0   41574.0  0.10\n",
      "17   63000.0   61392.0  0.03\n",
      "18   81000.0   85999.0  0.06\n",
      "19   90000.0   82849.0  0.08\n",
      "           GOLD      PRED  ERR%\n",
      "7897    70350.0   79712.0  0.13\n",
      "7898    37900.0   36928.0  0.03\n",
      "7899   150000.0   75459.0  0.50\n",
      "7900   413295.0  855846.0  1.07\n",
      "7901   299900.0  313726.0  0.05\n",
      "7902   231000.0  522342.0  1.26\n",
      "7903    33900.0   -2727.0  1.08\n",
      "7904    82000.0  105435.0  0.29\n",
      "7905    57000.0   71020.0  0.25\n",
      "7906   119000.0  150176.0  0.26\n",
      "7907   140000.0  122296.0  0.13\n",
      "7908   230000.0  204602.0  0.11\n",
      "7909   250000.0  297219.0  0.19\n",
      "7910    50000.0   14105.0  0.72\n",
      "7911   139500.0  128323.0  0.08\n",
      "7912   163000.0  101177.0  0.38\n",
      "7913   101905.0  334969.0  2.29\n",
      "7914    99500.0  126264.0  0.27\n",
      "7915  1490000.0  737397.0  0.51\n",
      "7916    90300.0  132472.0  0.47\n",
      "Overall error: 38.5%\n"
     ]
    },
    {
     "data": {
      "text/plain": [
       "0.38475364437801385"
      ]
     },
     "execution_count": 55,
     "metadata": {},
     "output_type": "execute_result"
    }
   ],
   "source": [
    "evaluate(\n",
    "    theta=theta,\n",
    "    inputs=x_trn,\n",
    "    gold=y_trn,\n",
    "    y_div=y_norm_div,\n",
    "    y_sub=y_norm_sub,\n",
    "    name='TRAIN',\n",
    ")"
   ]
  },
  {
   "cell_type": "code",
   "execution_count": 57,
   "id": "23949b5f",
   "metadata": {},
   "outputs": [
    {
     "name": "stdout",
     "output_type": "stream",
     "text": [
      "Results for TEST\n",
      "         GOLD      PRED  ERR%\n",
      "0     56600.0   76569.0  0.35\n",
      "1     86900.0  125244.0  0.44\n",
      "2     53240.0  104620.0  0.97\n",
      "3    400000.0  269960.0  0.33\n",
      "4    230000.0  162081.0  0.30\n",
      "5     55000.0   80048.0  0.46\n",
      "6    108000.0   89794.0  0.17\n",
      "7     69900.0  107113.0  0.53\n",
      "8     74000.0   62580.0  0.15\n",
      "9    155000.0  174446.0  0.13\n",
      "10   115000.0  173719.0  0.51\n",
      "11    95000.0  209566.0  1.21\n",
      "12    81000.0  102023.0  0.26\n",
      "13   435000.0  288280.0  0.34\n",
      "14    79000.0   60812.0  0.23\n",
      "15    75500.0   38626.0  0.49\n",
      "16    85240.0   89133.0  0.05\n",
      "17  1349888.0  681112.0  0.50\n",
      "18    65000.0   31177.0  0.52\n",
      "19    18000.0  -33125.0  2.84\n",
      "          GOLD      PRED  ERR%\n",
      "1960   47000.0   50351.0  0.07\n",
      "1961   41500.0   24578.0  0.41\n",
      "1962   48000.0   43212.0  0.10\n",
      "1963   42000.0   49815.0  0.19\n",
      "1964   55650.0   37123.0  0.33\n",
      "1965   49500.0   60748.0  0.23\n",
      "1966  350000.0  173464.0  0.50\n",
      "1967  148000.0  140616.0  0.05\n",
      "1968  220000.0  248694.0  0.13\n",
      "1969   51000.0   52300.0  0.03\n",
      "1970   78900.0  158283.0  1.01\n",
      "1971  180000.0  139478.0  0.23\n",
      "1972  165000.0  196298.0  0.19\n",
      "1973   63000.0   77177.0  0.23\n",
      "1974   73333.0   99530.0  0.36\n",
      "1975   45000.0    1808.0  0.96\n",
      "1976  157000.0  102672.0  0.35\n",
      "1977   47800.0   33670.0  0.30\n",
      "1978   96900.0   76112.0  0.21\n",
      "1979   66000.0   48893.0  0.26\n",
      "Overall error: 38.3%\n"
     ]
    },
    {
     "data": {
      "text/plain": [
       "0.38318735596074843"
      ]
     },
     "execution_count": 57,
     "metadata": {},
     "output_type": "execute_result"
    }
   ],
   "source": [
    "evaluate(\n",
    "    theta=theta,\n",
    "    inputs=x_tst,\n",
    "    gold=y_tst,\n",
    "    y_div=y_norm_div,\n",
    "    y_sub=y_norm_sub,\n",
    "    name='TEST',\n",
    ")"
   ]
  },
  {
   "cell_type": "code",
   "execution_count": 58,
   "id": "23adacc9",
   "metadata": {},
   "outputs": [],
   "source": [
    "import torch as th\n",
    "\n",
    "class SimpleLinerRealEstateModel(th.nn.Module):\n",
    "    def __init__(self, n_feats, n_hid1=32):\n",
    "        super().__init__()\n",
    "        self.hidden1 = th.nn.Linear(n_feats, n_hid1)\n",
    "        self.act1 = th.nn.ReLU()\n",
    "        self.readout = th.nn.Linear(n_hid1, 1)\n",
    "        return\n",
    "    \n",
    "    def forward(self, inputs):\n",
    "        th_x = self.hidden1(inputs)\n",
    "        th_x = self.act1(th_x)\n",
    "        th_out = self.readout(th_x)\n",
    "        return th_out\n"
   ]
  },
  {
   "cell_type": "code",
   "execution_count": 59,
   "id": "e08fec9c",
   "metadata": {},
   "outputs": [
    {
     "data": {
      "text/plain": [
       "SimpleLinerRealEstateModel(\n",
       "  (hidden1): Linear(in_features=8, out_features=256, bias=True)\n",
       "  (act1): ReLU()\n",
       "  (readout): Linear(in_features=256, out_features=1, bias=True)\n",
       ")"
      ]
     },
     "execution_count": 59,
     "metadata": {},
     "output_type": "execute_result"
    }
   ],
   "source": [
    "model = SimpleLinerRealEstateModel(8, 256)\n",
    "model"
   ]
  },
  {
   "cell_type": "code",
   "execution_count": 60,
   "id": "13ab6e13",
   "metadata": {},
   "outputs": [],
   "source": [
    "# construct simple torch dataset\n",
    "# for each individual batch within dataset\n",
    "# apply gradient descent\n",
    "# test the model (mayb validate before within training process)\n",
    "\n",
    "# then do the same in tensorflow.keras\n"
   ]
  },
  {
   "cell_type": "code",
   "execution_count": 61,
   "id": "1d9e17b3",
   "metadata": {},
   "outputs": [
    {
     "data": {
      "text/plain": [
       "(7917, 9)"
      ]
     },
     "execution_count": 61,
     "metadata": {},
     "output_type": "execute_result"
    }
   ],
   "source": [
    "x_trn.shape"
   ]
  },
  {
   "cell_type": "code",
   "execution_count": 62,
   "id": "7abf9043",
   "metadata": {},
   "outputs": [
    {
     "data": {
      "text/plain": [
       "array([[ 1.57224,  1.40132, -0.37916, ...,  0.62734,  0.8281 ,  1.     ],\n",
       "       [-0.53209, -0.26647, -0.37916, ...,  0.62734, -1.20759,  1.     ],\n",
       "       [ 0.52008,  0.40563, -0.37916, ...,  0.62734, -1.20759,  1.     ],\n",
       "       ...,\n",
       "       [-0.53209, -0.18731, -0.37916, ..., -1.59404, -1.20759,  1.     ],\n",
       "       [ 2.62441,  4.3924 , -0.37916, ...,  0.62734,  0.8281 ,  1.     ],\n",
       "       [ 0.52008,  0.08825, -0.37916, ...,  0.62734,  0.8281 ,  1.     ]])"
      ]
     },
     "execution_count": 62,
     "metadata": {},
     "output_type": "execute_result"
    }
   ],
   "source": [
    "x_trn"
   ]
  },
  {
   "cell_type": "code",
   "execution_count": 63,
   "id": "1d7e03e8",
   "metadata": {},
   "outputs": [
    {
     "data": {
      "text/plain": [
       "(1980, 9)"
      ]
     },
     "execution_count": 63,
     "metadata": {},
     "output_type": "execute_result"
    }
   ],
   "source": [
    "x_tst.shape"
   ]
  },
  {
   "cell_type": "code",
   "execution_count": 64,
   "id": "58f0d88a",
   "metadata": {},
   "outputs": [],
   "source": [
    "x_dev = x_tst[:1000,:]\n",
    "x_test = x_tst[1000:,:]"
   ]
  },
  {
   "cell_type": "code",
   "execution_count": 65,
   "id": "46f2b36a",
   "metadata": {},
   "outputs": [],
   "source": [
    "th_x_trn = th.tensor(x_trn[:,:-1], dtype=th.float32)\n",
    "th_x_dev = th.tensor(x_dev[:,:-1], dtype=th.float32)\n",
    "th_x_test = th.tensor(x_test[:,:-1], dtype=th.float32)"
   ]
  },
  {
   "cell_type": "code",
   "execution_count": 66,
   "id": "3f36bafd",
   "metadata": {},
   "outputs": [
    {
     "data": {
      "text/plain": [
       "tensor([[ 0.5201,  0.0484, -0.3792,  ..., -0.1194,  0.6273,  0.8281],\n",
       "        [-0.5321, -0.2167, -0.3792,  ...,  0.5902,  0.6273,  0.8281],\n",
       "        [-1.5843, -0.4407, -0.3792,  ...,  2.0093,  0.6273,  0.8281],\n",
       "        ...,\n",
       "        [-1.5843, -1.0381, -0.3792,  ...,  0.5902, -1.5940, -1.2076],\n",
       "        [ 0.5201, -0.2665, -0.3792,  ...,  0.2354,  0.6273,  0.8281],\n",
       "        [-0.5321, -0.6647,  2.6374,  ..., -1.1837, -1.5940, -1.2076]])"
      ]
     },
     "execution_count": 66,
     "metadata": {},
     "output_type": "execute_result"
    }
   ],
   "source": [
    "th_x_test"
   ]
  },
  {
   "cell_type": "code",
   "execution_count": 67,
   "id": "bfe8bd7d",
   "metadata": {},
   "outputs": [
    {
     "data": {
      "text/plain": [
       "array([0.00999, 0.01784, 0.00912, ..., 0.00772, 0.02043, 0.01243])"
      ]
     },
     "execution_count": 67,
     "metadata": {},
     "output_type": "execute_result"
    }
   ],
   "source": [
    "y_tst"
   ]
  },
  {
   "cell_type": "code",
   "execution_count": 68,
   "id": "c161f7ce",
   "metadata": {},
   "outputs": [
    {
     "data": {
      "text/plain": [
       "array([[0.1261 ],\n",
       "       [0.01204],\n",
       "       [0.02719],\n",
       "       [0.00844],\n",
       "       [0.01605],\n",
       "       [0.00938],\n",
       "       [0.0159 ],\n",
       "       [0.00878],\n",
       "       [0.00853],\n",
       "       [0.01433]])"
      ]
     },
     "execution_count": 68,
     "metadata": {},
     "output_type": "execute_result"
    }
   ],
   "source": [
    "y_dev = y_tst[:1000].reshape(-1,1)\n",
    "y_test = y_tst[1000:].reshape(-1,1)\n",
    "y_trn = y_trn.reshape(-1,1)\n",
    "y_trn[:10]"
   ]
  },
  {
   "cell_type": "code",
   "execution_count": 69,
   "id": "758c4240",
   "metadata": {},
   "outputs": [
    {
     "data": {
      "text/plain": [
       "tensor([[0.1261],\n",
       "        [0.0120],\n",
       "        [0.0272],\n",
       "        ...,\n",
       "        [0.0211],\n",
       "        [0.3811],\n",
       "        [0.0187]])"
      ]
     },
     "execution_count": 69,
     "metadata": {},
     "output_type": "execute_result"
    }
   ],
   "source": [
    "th_y_trn = th.tensor(y_trn, dtype=th.float32)\n",
    "th_y_dev = th.tensor(y_dev, dtype=th.float32)\n",
    "th_y_test = th.tensor(y_test, dtype=th.float32)\n",
    "th_y_trn"
   ]
  },
  {
   "cell_type": "code",
   "execution_count": 70,
   "id": "95a1f855",
   "metadata": {},
   "outputs": [
    {
     "data": {
      "text/plain": [
       "torch.Size([980, 1])"
      ]
     },
     "execution_count": 70,
     "metadata": {},
     "output_type": "execute_result"
    }
   ],
   "source": [
    "th_y_test.shape"
   ]
  },
  {
   "cell_type": "code",
   "execution_count": 71,
   "id": "6f093259",
   "metadata": {},
   "outputs": [
    {
     "data": {
      "text/plain": [
       "torch.Size([7917, 8])"
      ]
     },
     "execution_count": 71,
     "metadata": {},
     "output_type": "execute_result"
    }
   ],
   "source": [
    "th_x_trn.shape"
   ]
  },
  {
   "cell_type": "code",
   "execution_count": 72,
   "id": "4993586f",
   "metadata": {},
   "outputs": [],
   "source": [
    "BATCH_SIZE = 128\n",
    "TOTAL_NR_EPOCHS = 100"
   ]
  },
  {
   "cell_type": "code",
   "execution_count": 73,
   "id": "4a8e4f0d",
   "metadata": {},
   "outputs": [],
   "source": [
    "th_ds = th.utils.data.TensorDataset(th_x_trn, th_y_trn)\n",
    "th_dl = th.utils.data.DataLoader(th_ds, batch_size=BATCH_SIZE)"
   ]
  },
  {
   "cell_type": "code",
   "execution_count": 74,
   "id": "1573bb8a",
   "metadata": {},
   "outputs": [
    {
     "data": {
      "text/plain": [
       "tensor([[ 1.5722,  1.4013, -0.3792,  ...,  2.3641,  0.6273,  0.8281],\n",
       "        [-0.5321, -0.2665, -0.3792,  ..., -0.4742,  0.6273, -1.2076],\n",
       "        [ 0.5201,  0.4056, -0.3792,  ..., -0.8289,  0.6273, -1.2076],\n",
       "        ...,\n",
       "        [-0.5321, -0.7643, -0.3792,  ..., -0.4742,  0.6273,  0.8281],\n",
       "        [ 0.5201, -0.2665,  2.6374,  ..., -1.1837,  0.6273,  0.8281],\n",
       "        [-0.5321, -0.5652, -0.3792,  ..., -0.1194,  0.6273,  0.8281]])"
      ]
     },
     "execution_count": 74,
     "metadata": {},
     "output_type": "execute_result"
    }
   ],
   "source": [
    "for th_x_batch, th_y_batch in th_dl:\n",
    "    break\n",
    "th_x_batch"
   ]
  },
  {
   "cell_type": "code",
   "execution_count": 75,
   "id": "a52d61b0",
   "metadata": {},
   "outputs": [
    {
     "name": "stdout",
     "output_type": "stream",
     "text": [
      "torch.Size([128, 8])\n",
      "torch.Size([128, 1])\n"
     ]
    }
   ],
   "source": [
    "print(th_x_batch.shape)\n",
    "print(th_y_batch.shape)"
   ]
  },
  {
   "cell_type": "code",
   "execution_count": 104,
   "id": "c3334b52",
   "metadata": {},
   "outputs": [],
   "source": [
    "def th_evaluate(m, th_inputs, gold, y_div, y_sub, name=\"\", verbose=False):\n",
    "    m.eval()\n",
    "    with th.no_grad():\n",
    "        _y_pred = m(th_inputs).numpy()\n",
    "    _y_vals = _y_pred * y_div + y_sub\n",
    "    \n",
    "    _y_true = gold * y_div + y_sub\n",
    "    \n",
    "    res_err = np.abs(_y_true - _y_vals)\n",
    "    prc_err = res_err / _y_true\n",
    "    \n",
    "    overall = prc_err.mean()\n",
    "    if verbose:\n",
    "        df_result = pd.DataFrame(\n",
    "            {\n",
    "            'GOLD' : _y_true.ravel(),\n",
    "            'PRED' : _y_vals.ravel().round(0),\n",
    "            'ERR%' : prc_err.ravel().round(2)\n",
    "            }\n",
    "        )\n",
    "        print('Results for', name)\n",
    "        print(df_result.head(20))\n",
    "        print(df_result.tail(20))    \n",
    "    m.train()\n",
    "    return overall"
   ]
  },
  {
   "cell_type": "code",
   "execution_count": 77,
   "id": "1cf6cf1c",
   "metadata": {},
   "outputs": [
    {
     "data": {
      "text/plain": [
       "Adam (\n",
       "Parameter Group 0\n",
       "    amsgrad: False\n",
       "    betas: (0.9, 0.999)\n",
       "    eps: 1e-08\n",
       "    lr: 5e-05\n",
       "    weight_decay: 0\n",
       ")"
      ]
     },
     "execution_count": 77,
     "metadata": {},
     "output_type": "execute_result"
    }
   ],
   "source": [
    "loss_func = th.nn.MSELoss()\n",
    "# optimizer: weights = weights - alpha * grads # alpha << 1\n",
    "opt = th.optim.Adam(model.parameters(), lr=5e-5)\n",
    "opt"
   ]
  },
  {
   "cell_type": "code",
   "execution_count": 78,
   "id": "8f795c6f",
   "metadata": {
    "scrolled": false
   },
   "outputs": [
    {
     "name": "stdout",
     "output_type": "stream",
     "text": [
      "Overall error for TRAIN @ Epoch 0: 391.4%\n",
      "Overall error for DEV @ Epoch 0: 396.4%\n",
      "BEST MODEL @ Epoch 0\n",
      "Overall error for TRAIN @ Epoch 1: 279.8%\n",
      "Overall error for DEV @ Epoch 1: 272.6%\n",
      "BEST MODEL @ Epoch 1\n",
      "Overall error for TRAIN @ Epoch 2: 231.9%\n",
      "Overall error for DEV @ Epoch 2: 221.4%\n",
      "BEST MODEL @ Epoch 2\n",
      "Overall error for TRAIN @ Epoch 3: 198.7%\n",
      "Overall error for DEV @ Epoch 3: 189.0%\n",
      "BEST MODEL @ Epoch 3\n",
      "Overall error for TRAIN @ Epoch 4: 173.5%\n",
      "Overall error for DEV @ Epoch 4: 164.5%\n",
      "BEST MODEL @ Epoch 4\n",
      "Overall error for TRAIN @ Epoch 5: 153.6%\n",
      "Overall error for DEV @ Epoch 5: 145.1%\n",
      "BEST MODEL @ Epoch 5\n",
      "Overall error for TRAIN @ Epoch 6: 137.1%\n",
      "Overall error for DEV @ Epoch 6: 129.1%\n",
      "BEST MODEL @ Epoch 6\n",
      "Overall error for TRAIN @ Epoch 7: 123.4%\n",
      "Overall error for DEV @ Epoch 7: 116.0%\n",
      "BEST MODEL @ Epoch 7\n",
      "Overall error for TRAIN @ Epoch 8: 111.8%\n",
      "Overall error for DEV @ Epoch 8: 105.5%\n",
      "BEST MODEL @ Epoch 8\n",
      "Overall error for TRAIN @ Epoch 9: 102.4%\n",
      "Overall error for DEV @ Epoch 9: 97.0%\n",
      "BEST MODEL @ Epoch 9\n",
      "Overall error for TRAIN @ Epoch 10: 94.5%\n",
      "Overall error for DEV @ Epoch 10: 89.9%\n",
      "BEST MODEL @ Epoch 10\n",
      "Overall error for TRAIN @ Epoch 11: 88.1%\n",
      "Overall error for DEV @ Epoch 11: 84.4%\n",
      "BEST MODEL @ Epoch 11\n",
      "Overall error for TRAIN @ Epoch 12: 82.7%\n",
      "Overall error for DEV @ Epoch 12: 79.7%\n",
      "BEST MODEL @ Epoch 12\n",
      "Overall error for TRAIN @ Epoch 13: 78.0%\n",
      "Overall error for DEV @ Epoch 13: 75.7%\n",
      "BEST MODEL @ Epoch 13\n",
      "Overall error for TRAIN @ Epoch 14: 73.9%\n",
      "Overall error for DEV @ Epoch 14: 72.2%\n",
      "BEST MODEL @ Epoch 14\n",
      "Overall error for TRAIN @ Epoch 15: 70.3%\n",
      "Overall error for DEV @ Epoch 15: 69.2%\n",
      "BEST MODEL @ Epoch 15\n",
      "Overall error for TRAIN @ Epoch 16: 67.2%\n",
      "Overall error for DEV @ Epoch 16: 66.5%\n",
      "BEST MODEL @ Epoch 16\n",
      "Overall error for TRAIN @ Epoch 17: 64.4%\n",
      "Overall error for DEV @ Epoch 17: 64.1%\n",
      "BEST MODEL @ Epoch 17\n",
      "Overall error for TRAIN @ Epoch 18: 62.0%\n",
      "Overall error for DEV @ Epoch 18: 62.1%\n",
      "BEST MODEL @ Epoch 18\n",
      "Overall error for TRAIN @ Epoch 19: 60.0%\n",
      "Overall error for DEV @ Epoch 19: 60.4%\n",
      "BEST MODEL @ Epoch 19\n",
      "Overall error for TRAIN @ Epoch 20: 58.2%\n",
      "Overall error for DEV @ Epoch 20: 58.9%\n",
      "BEST MODEL @ Epoch 20\n",
      "Overall error for TRAIN @ Epoch 21: 56.7%\n",
      "Overall error for DEV @ Epoch 21: 57.6%\n",
      "BEST MODEL @ Epoch 21\n",
      "Overall error for TRAIN @ Epoch 22: 55.3%\n",
      "Overall error for DEV @ Epoch 22: 56.4%\n",
      "BEST MODEL @ Epoch 22\n",
      "Overall error for TRAIN @ Epoch 23: 54.1%\n",
      "Overall error for DEV @ Epoch 23: 55.3%\n",
      "BEST MODEL @ Epoch 23\n",
      "Overall error for TRAIN @ Epoch 24: 52.9%\n",
      "Overall error for DEV @ Epoch 24: 54.4%\n",
      "BEST MODEL @ Epoch 24\n",
      "Overall error for TRAIN @ Epoch 25: 51.9%\n",
      "Overall error for DEV @ Epoch 25: 53.4%\n",
      "BEST MODEL @ Epoch 25\n",
      "Overall error for TRAIN @ Epoch 26: 50.9%\n",
      "Overall error for DEV @ Epoch 26: 52.6%\n",
      "BEST MODEL @ Epoch 26\n",
      "Overall error for TRAIN @ Epoch 27: 50.1%\n",
      "Overall error for DEV @ Epoch 27: 51.7%\n",
      "BEST MODEL @ Epoch 27\n",
      "Overall error for TRAIN @ Epoch 28: 49.3%\n",
      "Overall error for DEV @ Epoch 28: 50.9%\n",
      "BEST MODEL @ Epoch 28\n",
      "Overall error for TRAIN @ Epoch 29: 48.5%\n",
      "Overall error for DEV @ Epoch 29: 50.2%\n",
      "BEST MODEL @ Epoch 29\n",
      "Overall error for TRAIN @ Epoch 30: 47.8%\n",
      "Overall error for DEV @ Epoch 30: 49.5%\n",
      "BEST MODEL @ Epoch 30\n",
      "Overall error for TRAIN @ Epoch 31: 47.2%\n",
      "Overall error for DEV @ Epoch 31: 48.8%\n",
      "BEST MODEL @ Epoch 31\n",
      "Overall error for TRAIN @ Epoch 32: 46.6%\n",
      "Overall error for DEV @ Epoch 32: 48.2%\n",
      "BEST MODEL @ Epoch 32\n",
      "Overall error for TRAIN @ Epoch 33: 46.0%\n",
      "Overall error for DEV @ Epoch 33: 47.5%\n",
      "BEST MODEL @ Epoch 33\n",
      "Overall error for TRAIN @ Epoch 34: 45.4%\n",
      "Overall error for DEV @ Epoch 34: 46.9%\n",
      "BEST MODEL @ Epoch 34\n",
      "Overall error for TRAIN @ Epoch 35: 44.9%\n",
      "Overall error for DEV @ Epoch 35: 46.3%\n",
      "BEST MODEL @ Epoch 35\n",
      "Overall error for TRAIN @ Epoch 36: 44.4%\n",
      "Overall error for DEV @ Epoch 36: 45.7%\n",
      "BEST MODEL @ Epoch 36\n",
      "Overall error for TRAIN @ Epoch 37: 43.9%\n",
      "Overall error for DEV @ Epoch 37: 45.1%\n",
      "BEST MODEL @ Epoch 37\n",
      "Overall error for TRAIN @ Epoch 38: 43.4%\n",
      "Overall error for DEV @ Epoch 38: 44.5%\n",
      "BEST MODEL @ Epoch 38\n",
      "Overall error for TRAIN @ Epoch 39: 43.0%\n",
      "Overall error for DEV @ Epoch 39: 44.0%\n",
      "BEST MODEL @ Epoch 39\n",
      "Overall error for TRAIN @ Epoch 40: 42.6%\n",
      "Overall error for DEV @ Epoch 40: 43.5%\n",
      "BEST MODEL @ Epoch 40\n",
      "Overall error for TRAIN @ Epoch 41: 42.2%\n",
      "Overall error for DEV @ Epoch 41: 43.0%\n",
      "BEST MODEL @ Epoch 41\n",
      "Overall error for TRAIN @ Epoch 42: 41.8%\n",
      "Overall error for DEV @ Epoch 42: 42.5%\n",
      "BEST MODEL @ Epoch 42\n",
      "Overall error for TRAIN @ Epoch 43: 41.5%\n",
      "Overall error for DEV @ Epoch 43: 42.1%\n",
      "BEST MODEL @ Epoch 43\n",
      "Overall error for TRAIN @ Epoch 44: 41.1%\n",
      "Overall error for DEV @ Epoch 44: 41.7%\n",
      "BEST MODEL @ Epoch 44\n",
      "Overall error for TRAIN @ Epoch 45: 40.8%\n",
      "Overall error for DEV @ Epoch 45: 41.2%\n",
      "BEST MODEL @ Epoch 45\n",
      "Overall error for TRAIN @ Epoch 46: 40.4%\n",
      "Overall error for DEV @ Epoch 46: 40.8%\n",
      "BEST MODEL @ Epoch 46\n",
      "Overall error for TRAIN @ Epoch 47: 40.1%\n",
      "Overall error for DEV @ Epoch 47: 40.5%\n",
      "BEST MODEL @ Epoch 47\n",
      "Overall error for TRAIN @ Epoch 48: 39.8%\n",
      "Overall error for DEV @ Epoch 48: 40.1%\n",
      "BEST MODEL @ Epoch 48\n",
      "Overall error for TRAIN @ Epoch 49: 39.5%\n",
      "Overall error for DEV @ Epoch 49: 39.7%\n",
      "BEST MODEL @ Epoch 49\n",
      "Overall error for TRAIN @ Epoch 50: 39.3%\n",
      "Overall error for DEV @ Epoch 50: 39.4%\n",
      "BEST MODEL @ Epoch 50\n",
      "Overall error for TRAIN @ Epoch 51: 39.0%\n",
      "Overall error for DEV @ Epoch 51: 39.0%\n",
      "BEST MODEL @ Epoch 51\n",
      "Overall error for TRAIN @ Epoch 52: 38.7%\n",
      "Overall error for DEV @ Epoch 52: 38.7%\n",
      "BEST MODEL @ Epoch 52\n",
      "Overall error for TRAIN @ Epoch 53: 38.5%\n",
      "Overall error for DEV @ Epoch 53: 38.4%\n",
      "BEST MODEL @ Epoch 53\n",
      "Overall error for TRAIN @ Epoch 54: 38.2%\n",
      "Overall error for DEV @ Epoch 54: 38.1%\n",
      "BEST MODEL @ Epoch 54\n",
      "Overall error for TRAIN @ Epoch 55: 38.0%\n",
      "Overall error for DEV @ Epoch 55: 37.9%\n",
      "BEST MODEL @ Epoch 55\n",
      "Overall error for TRAIN @ Epoch 56: 37.8%\n",
      "Overall error for DEV @ Epoch 56: 37.6%\n",
      "BEST MODEL @ Epoch 56\n",
      "Overall error for TRAIN @ Epoch 57: 37.5%\n",
      "Overall error for DEV @ Epoch 57: 37.3%\n",
      "BEST MODEL @ Epoch 57\n",
      "Overall error for TRAIN @ Epoch 58: 37.3%\n",
      "Overall error for DEV @ Epoch 58: 37.1%\n",
      "BEST MODEL @ Epoch 58\n",
      "Overall error for TRAIN @ Epoch 59: 37.1%\n",
      "Overall error for DEV @ Epoch 59: 36.8%\n",
      "BEST MODEL @ Epoch 59\n",
      "Overall error for TRAIN @ Epoch 60: 36.9%\n",
      "Overall error for DEV @ Epoch 60: 36.6%\n",
      "BEST MODEL @ Epoch 60\n",
      "Overall error for TRAIN @ Epoch 61: 36.7%\n",
      "Overall error for DEV @ Epoch 61: 36.4%\n",
      "BEST MODEL @ Epoch 61\n",
      "Overall error for TRAIN @ Epoch 62: 36.5%\n",
      "Overall error for DEV @ Epoch 62: 36.2%\n",
      "BEST MODEL @ Epoch 62\n",
      "Overall error for TRAIN @ Epoch 63: 36.3%\n",
      "Overall error for DEV @ Epoch 63: 36.0%\n",
      "BEST MODEL @ Epoch 63\n",
      "Overall error for TRAIN @ Epoch 64: 36.1%\n",
      "Overall error for DEV @ Epoch 64: 35.8%\n",
      "BEST MODEL @ Epoch 64\n",
      "Overall error for TRAIN @ Epoch 65: 36.0%\n",
      "Overall error for DEV @ Epoch 65: 35.6%\n",
      "BEST MODEL @ Epoch 65\n",
      "Overall error for TRAIN @ Epoch 66: 35.8%\n",
      "Overall error for DEV @ Epoch 66: 35.4%\n",
      "BEST MODEL @ Epoch 66\n",
      "Overall error for TRAIN @ Epoch 67: 35.6%\n",
      "Overall error for DEV @ Epoch 67: 35.2%\n",
      "BEST MODEL @ Epoch 67\n",
      "Overall error for TRAIN @ Epoch 68: 35.5%\n",
      "Overall error for DEV @ Epoch 68: 35.1%\n",
      "BEST MODEL @ Epoch 68\n",
      "Overall error for TRAIN @ Epoch 69: 35.3%\n",
      "Overall error for DEV @ Epoch 69: 34.9%\n",
      "BEST MODEL @ Epoch 69\n",
      "Overall error for TRAIN @ Epoch 70: 35.2%\n",
      "Overall error for DEV @ Epoch 70: 34.8%\n",
      "BEST MODEL @ Epoch 70\n",
      "Overall error for TRAIN @ Epoch 71: 35.0%\n",
      "Overall error for DEV @ Epoch 71: 34.6%\n",
      "BEST MODEL @ Epoch 71\n",
      "Overall error for TRAIN @ Epoch 72: 34.9%\n",
      "Overall error for DEV @ Epoch 72: 34.5%\n",
      "BEST MODEL @ Epoch 72\n",
      "Overall error for TRAIN @ Epoch 73: 34.8%\n",
      "Overall error for DEV @ Epoch 73: 34.3%\n",
      "BEST MODEL @ Epoch 73\n",
      "Overall error for TRAIN @ Epoch 74: 34.6%\n",
      "Overall error for DEV @ Epoch 74: 34.2%\n",
      "BEST MODEL @ Epoch 74\n",
      "Overall error for TRAIN @ Epoch 75: 34.5%\n",
      "Overall error for DEV @ Epoch 75: 34.1%\n",
      "BEST MODEL @ Epoch 75\n",
      "Overall error for TRAIN @ Epoch 76: 34.4%\n",
      "Overall error for DEV @ Epoch 76: 33.9%\n",
      "BEST MODEL @ Epoch 76\n",
      "Overall error for TRAIN @ Epoch 77: 34.3%\n",
      "Overall error for DEV @ Epoch 77: 33.8%\n",
      "BEST MODEL @ Epoch 77\n",
      "Overall error for TRAIN @ Epoch 78: 34.2%\n",
      "Overall error for DEV @ Epoch 78: 33.7%\n",
      "BEST MODEL @ Epoch 78\n",
      "Overall error for TRAIN @ Epoch 79: 34.1%\n",
      "Overall error for DEV @ Epoch 79: 33.6%\n",
      "BEST MODEL @ Epoch 79\n"
     ]
    },
    {
     "name": "stdout",
     "output_type": "stream",
     "text": [
      "Overall error for TRAIN @ Epoch 80: 34.0%\n",
      "Overall error for DEV @ Epoch 80: 33.5%\n",
      "BEST MODEL @ Epoch 80\n",
      "Overall error for TRAIN @ Epoch 81: 33.9%\n",
      "Overall error for DEV @ Epoch 81: 33.4%\n",
      "BEST MODEL @ Epoch 81\n",
      "Overall error for TRAIN @ Epoch 82: 33.8%\n",
      "Overall error for DEV @ Epoch 82: 33.3%\n",
      "BEST MODEL @ Epoch 82\n",
      "Overall error for TRAIN @ Epoch 83: 33.8%\n",
      "Overall error for DEV @ Epoch 83: 33.2%\n",
      "BEST MODEL @ Epoch 83\n",
      "Overall error for TRAIN @ Epoch 84: 33.7%\n",
      "Overall error for DEV @ Epoch 84: 33.1%\n",
      "BEST MODEL @ Epoch 84\n",
      "Overall error for TRAIN @ Epoch 85: 33.6%\n",
      "Overall error for DEV @ Epoch 85: 33.0%\n",
      "BEST MODEL @ Epoch 85\n",
      "Overall error for TRAIN @ Epoch 86: 33.5%\n",
      "Overall error for DEV @ Epoch 86: 33.0%\n",
      "BEST MODEL @ Epoch 86\n",
      "Overall error for TRAIN @ Epoch 87: 33.5%\n",
      "Overall error for DEV @ Epoch 87: 32.9%\n",
      "BEST MODEL @ Epoch 87\n",
      "Overall error for TRAIN @ Epoch 88: 33.4%\n",
      "Overall error for DEV @ Epoch 88: 32.8%\n",
      "BEST MODEL @ Epoch 88\n",
      "Overall error for TRAIN @ Epoch 89: 33.4%\n",
      "Overall error for DEV @ Epoch 89: 32.7%\n",
      "BEST MODEL @ Epoch 89\n",
      "Overall error for TRAIN @ Epoch 90: 33.3%\n",
      "Overall error for DEV @ Epoch 90: 32.7%\n",
      "BEST MODEL @ Epoch 90\n",
      "Overall error for TRAIN @ Epoch 91: 33.3%\n",
      "Overall error for DEV @ Epoch 91: 32.6%\n",
      "BEST MODEL @ Epoch 91\n",
      "Overall error for TRAIN @ Epoch 92: 33.2%\n",
      "Overall error for DEV @ Epoch 92: 32.5%\n",
      "BEST MODEL @ Epoch 92\n",
      "Overall error for TRAIN @ Epoch 93: 33.2%\n",
      "Overall error for DEV @ Epoch 93: 32.5%\n",
      "BEST MODEL @ Epoch 93\n",
      "Overall error for TRAIN @ Epoch 94: 33.1%\n",
      "Overall error for DEV @ Epoch 94: 32.4%\n",
      "BEST MODEL @ Epoch 94\n",
      "Overall error for TRAIN @ Epoch 95: 33.1%\n",
      "Overall error for DEV @ Epoch 95: 32.4%\n",
      "BEST MODEL @ Epoch 95\n",
      "Overall error for TRAIN @ Epoch 96: 33.1%\n",
      "Overall error for DEV @ Epoch 96: 32.3%\n",
      "BEST MODEL @ Epoch 96\n",
      "Overall error for TRAIN @ Epoch 97: 33.0%\n",
      "Overall error for DEV @ Epoch 97: 32.3%\n",
      "BEST MODEL @ Epoch 97\n",
      "Overall error for TRAIN @ Epoch 98: 33.0%\n",
      "Overall error for DEV @ Epoch 98: 32.2%\n",
      "BEST MODEL @ Epoch 98\n",
      "Overall error for TRAIN @ Epoch 99: 32.9%\n",
      "Overall error for DEV @ Epoch 99: 32.2%\n",
      "BEST MODEL @ Epoch 99\n",
      "Overall error for Final TEST: 34.5%\n"
     ]
    },
    {
     "data": {
      "text/plain": [
       "0.34498163583840563"
      ]
     },
     "execution_count": 78,
     "metadata": {},
     "output_type": "execute_result"
    }
   ],
   "source": [
    "best_dev_err = 100\n",
    "wait_time = 0\n",
    "max_nr_of_succesive_fails = 2\n",
    "for epoch in range(TOTAL_NR_EPOCHS):\n",
    "    for th_x_batch, th_y_batch in th_dl:\n",
    "        # compute current inferred values with forward prop\n",
    "        th_y_hat = model(th_x_batch)\n",
    "        # compute loss (compare results with actual truth)\n",
    "        th_loss = loss_func(input=th_y_hat, target=th_y_batch) #((th_y_hat - th_y_batch)**2).mean()\n",
    "        # nullfy the gradients\n",
    "        opt.zero_grad()\n",
    "        # compute loss 1st derv wrt all model weights (grads)\n",
    "        th_loss.backward()\n",
    "        # apply gradients to weights with a hopefully smart approach\n",
    "        opt.step()\n",
    "    # now we evaluate on TRAIN and DEV to see how good we are\n",
    "    th_evaluate(\n",
    "        m=model,\n",
    "        th_inputs=th_x_trn,\n",
    "        gold=y_trn,\n",
    "        y_div=y_norm_div,\n",
    "        y_sub=y_norm_sub,\n",
    "        verbose=False,\n",
    "        name='TRAIN @ Epoch {}'.format(epoch)\n",
    "    )\n",
    "    dev_err = th_evaluate(\n",
    "        m=model,\n",
    "        th_inputs=th_x_dev,\n",
    "        gold=y_dev,\n",
    "        y_div=y_norm_div,\n",
    "        y_sub=y_norm_sub,\n",
    "        verbose=False,\n",
    "        name='DEV @ Epoch {}'.format(epoch)\n",
    "    )\n",
    "    if best_dev_err > dev_err:\n",
    "        best_dev_err = dev_err\n",
    "        wait_time = 0\n",
    "        print(\"BEST MODEL @ Epoch {}\".format(epoch))\n",
    "    else:\n",
    "        wait_time += 1\n",
    "        if wait_time > max_nr_of_succesive_fails:\n",
    "            print(\"STOP TRAINING !\")\n",
    "            break\n",
    "\n",
    "# finally we evaluate on TEST\n",
    "th_evaluate(\n",
    "    m=model,\n",
    "    th_inputs=th_x_test,\n",
    "    gold=y_test,\n",
    "    y_div=y_norm_div,\n",
    "    y_sub=y_norm_sub,\n",
    "    verbose=True,\n",
    "    name='Final TEST'\n",
    ")\n"
   ]
  },
  {
   "cell_type": "code",
   "execution_count": 113,
   "id": "a02645a9",
   "metadata": {},
   "outputs": [
    {
     "data": {
      "text/plain": [
       "tensor(0.0265, grad_fn=<MseLossBackward>)"
      ]
     },
     "execution_count": 113,
     "metadata": {},
     "output_type": "execute_result"
    }
   ],
   "source": [
    "th_loss"
   ]
  },
  {
   "cell_type": "code",
   "execution_count": 114,
   "id": "363d1393",
   "metadata": {},
   "outputs": [
    {
     "data": {
      "text/plain": [
       "tensor(0.0265, grad_fn=<MeanBackward0>)"
      ]
     },
     "execution_count": 114,
     "metadata": {},
     "output_type": "execute_result"
    }
   ],
   "source": [
    "th_loss2\n"
   ]
  },
  {
   "cell_type": "code",
   "execution_count": 101,
   "id": "0de43040",
   "metadata": {},
   "outputs": [],
   "source": [
    "th_p = next(model.parameters())"
   ]
  },
  {
   "cell_type": "code",
   "execution_count": 102,
   "id": "5b77127b",
   "metadata": {},
   "outputs": [
    {
     "data": {
      "text/plain": [
       "Parameter containing:\n",
       "tensor([[-0.3237, -0.0135,  0.0039,  0.1976, -0.0710,  0.1697, -0.0625,  0.1297],\n",
       "        [-0.3445,  0.1659, -0.0006,  0.1632, -0.0245, -0.2213, -0.2582,  0.3335],\n",
       "        [ 0.2090, -0.0180,  0.3157, -0.0739, -0.1897,  0.2394,  0.2573, -0.3424],\n",
       "        [ 0.2675, -0.3024, -0.2920,  0.0688, -0.1947,  0.1008,  0.0222, -0.2238],\n",
       "        [-0.2727, -0.0212, -0.0715, -0.0897,  0.1732, -0.1554, -0.3270, -0.2729],\n",
       "        [ 0.3115,  0.1699, -0.2831, -0.2362,  0.0647,  0.0031, -0.2171, -0.2635],\n",
       "        [ 0.3292, -0.0841,  0.1267, -0.1887,  0.2347,  0.0825, -0.2841, -0.3204],\n",
       "        [-0.2087,  0.3115,  0.1408, -0.1852, -0.2997, -0.1595, -0.2179, -0.2679],\n",
       "        [-0.2799, -0.1589,  0.0369,  0.0104, -0.1110,  0.0779,  0.2486, -0.1360],\n",
       "        [ 0.2119, -0.0055,  0.1011, -0.0499,  0.1193,  0.2478, -0.0503,  0.1248],\n",
       "        [ 0.0968, -0.3024, -0.3401,  0.1819,  0.2067,  0.0256,  0.0419,  0.3459],\n",
       "        [ 0.0976,  0.0354, -0.1622,  0.3426,  0.2328, -0.2502, -0.2256,  0.3488],\n",
       "        [ 0.0726,  0.2523, -0.1305, -0.2997,  0.0135,  0.3410,  0.2931,  0.2569],\n",
       "        [-0.2095,  0.2715,  0.1171, -0.1266, -0.2479,  0.1342,  0.2430,  0.1687],\n",
       "        [-0.0759,  0.3204,  0.3448,  0.3478,  0.1412, -0.1943,  0.2204,  0.1093],\n",
       "        [-0.1680,  0.2906, -0.1564, -0.3277,  0.0475,  0.1376,  0.3291, -0.3108],\n",
       "        [-0.2836,  0.1455, -0.3157,  0.0963, -0.1053,  0.3044,  0.0532, -0.3255],\n",
       "        [ 0.3383, -0.3070,  0.2276,  0.2122, -0.0962,  0.1689,  0.0381,  0.3526],\n",
       "        [-0.0382, -0.0633,  0.1078,  0.2136, -0.2198, -0.0937,  0.2476,  0.2046],\n",
       "        [-0.1773,  0.1901, -0.2013, -0.3084,  0.2902, -0.2757, -0.3185, -0.2965],\n",
       "        [ 0.3253,  0.2492, -0.1095, -0.2795,  0.1763,  0.0401, -0.1218,  0.3261],\n",
       "        [ 0.2080, -0.2365, -0.1117, -0.1861, -0.0587,  0.1132, -0.3348, -0.0695],\n",
       "        [-0.0823,  0.1541,  0.1585,  0.3221,  0.3218,  0.0796, -0.2963,  0.3073],\n",
       "        [ 0.3285, -0.1280, -0.1960, -0.2952,  0.2501, -0.1343,  0.0249, -0.0367],\n",
       "        [-0.1541,  0.0113,  0.0828, -0.0083, -0.3303, -0.3497,  0.1370,  0.0247],\n",
       "        [ 0.0180,  0.2894,  0.1142, -0.0586, -0.2472,  0.3499,  0.1646,  0.0165],\n",
       "        [ 0.1890,  0.2159,  0.2916,  0.1064,  0.2052,  0.0361, -0.0069, -0.1911],\n",
       "        [ 0.0172,  0.3027,  0.3382,  0.2148, -0.2551,  0.3129, -0.2698, -0.1146],\n",
       "        [-0.3000,  0.2969,  0.2146, -0.1524, -0.2448, -0.0096, -0.2967,  0.2618],\n",
       "        [ 0.1804, -0.3267,  0.1493, -0.2691,  0.0900,  0.1772, -0.3292, -0.0011],\n",
       "        [ 0.2248,  0.2792, -0.2919,  0.0880,  0.1121,  0.2146,  0.3016, -0.1562],\n",
       "        [ 0.2460, -0.3027, -0.0859,  0.0754, -0.3138, -0.2063,  0.1586, -0.0893]],\n",
       "       requires_grad=True)"
      ]
     },
     "execution_count": 102,
     "metadata": {},
     "output_type": "execute_result"
    }
   ],
   "source": [
    "th_p"
   ]
  },
  {
   "cell_type": "code",
   "execution_count": 117,
   "id": "a3163096",
   "metadata": {},
   "outputs": [
    {
     "data": {
      "text/plain": [
       "tensor([[-4.9262e-03, -6.3331e-03, -1.6803e-02,  3.1191e-02, -1.8842e-02,\n",
       "         -9.0149e-03,  9.4221e-03,  5.1002e-03],\n",
       "        [-8.8535e-02, -6.1137e-02,  3.3573e-02, -1.0230e-01,  7.6081e-02,\n",
       "          8.6771e-02, -3.2369e-03, -8.1327e-02],\n",
       "        [ 3.0522e-02,  1.0876e-02,  6.7817e-02, -3.8839e-03, -4.1244e-02,\n",
       "         -5.2713e-02,  9.2966e-03, -3.1257e-02],\n",
       "        [ 3.1581e-03,  4.7247e-04, -1.1438e-02,  3.0346e-02, -2.1588e-02,\n",
       "         -1.5415e-02, -2.1142e-03,  4.4103e-03],\n",
       "        [ 2.0384e-03, -4.8277e-04, -1.1842e-03,  6.9161e-04,  1.2053e-04,\n",
       "         -1.7344e-03, -3.6407e-03, -9.4507e-03],\n",
       "        [-7.4779e-02, -5.7259e-02, -1.0377e-02,  4.9481e-03,  2.1254e-03,\n",
       "          2.6047e-02,  4.5602e-02,  1.2375e-02],\n",
       "        [ 1.2540e-01,  9.3933e-02,  4.0119e-02, -3.9293e-02,  1.1167e-02,\n",
       "         -3.5118e-02, -3.6726e-02, -3.6721e-02],\n",
       "        [-5.5664e-03, -3.3949e-03, -3.9546e-03, -1.6501e-03,  4.2091e-03,\n",
       "          5.1056e-03,  2.1016e-03,  4.9515e-03],\n",
       "        [ 1.9228e-02,  1.4354e-02,  1.1627e-03, -2.7075e-02,  2.5258e-02,\n",
       "          2.4028e-02, -2.5832e-02, -1.6145e-04],\n",
       "        [-6.9939e-02, -6.1566e-02,  1.1140e-02,  4.0748e-02, -4.6562e-02,\n",
       "         -8.7403e-04,  2.9182e-02, -2.8947e-02],\n",
       "        [ 3.8440e-02,  2.7232e-02, -4.4961e-02,  6.6321e-02, -3.3939e-02,\n",
       "         -3.9017e-02, -2.3524e-03,  4.8044e-02],\n",
       "        [ 5.3284e-02,  5.3206e-02, -3.2938e-02,  4.9944e-02, -2.6169e-02,\n",
       "         -2.5785e-02,  2.8025e-03,  5.0238e-02],\n",
       "        [-6.1972e-02, -5.7133e-02,  6.8355e-03, -7.2726e-03,  2.4582e-03,\n",
       "          2.4931e-02, -1.8553e-02, -4.2703e-02],\n",
       "        [ 5.4891e-03,  4.4906e-03,  1.9931e-03,  5.8025e-03, -6.9001e-03,\n",
       "         -8.3435e-03,  7.1285e-03,  2.5125e-03],\n",
       "        [ 8.4504e-02,  6.9553e-02,  2.5550e-02,  8.9625e-02, -1.0311e-01,\n",
       "         -9.2823e-02,  5.2175e-02,  2.7785e-02],\n",
       "        [ 4.4692e-02,  3.9045e-02,  1.7709e-02, -2.4654e-02,  1.1956e-02,\n",
       "         -1.7067e-02,  1.3780e-03, -1.4801e-02],\n",
       "        [ 3.0080e-04,  1.4054e-03,  1.9961e-03, -2.8639e-03,  1.4294e-03,\n",
       "          1.9330e-03,  8.7064e-04,  3.3853e-03],\n",
       "        [ 1.9372e-02,  1.5059e-02,  3.4700e-03,  1.1899e-02, -1.3740e-02,\n",
       "         -1.2170e-02,  3.7116e-03,  1.2191e-02],\n",
       "        [-5.1495e-03, -3.8175e-03,  7.7261e-03, -3.4347e-02,  2.7896e-02,\n",
       "          1.7395e-02, -2.2279e-02, -1.1788e-02],\n",
       "        [-2.5444e-02, -1.9203e-02, -1.4954e-03,  1.3224e-02, -1.1721e-02,\n",
       "          3.1921e-03,  9.7600e-03,  7.2929e-03],\n",
       "        [ 1.2748e-01,  1.1488e-01, -5.4905e-04, -2.6090e-02,  2.5446e-02,\n",
       "         -2.7858e-02, -4.5500e-02,  5.0270e-02],\n",
       "        [-6.0181e-02, -3.7826e-02,  2.1764e-02,  3.1951e-03, -1.7506e-02,\n",
       "          1.2847e-03,  6.2613e-02,  1.0756e-02],\n",
       "        [-6.3045e-02, -5.6089e-02,  2.1336e-02, -7.9724e-03, -6.4860e-03,\n",
       "          1.6866e-04,  2.1731e-02, -1.4706e-02],\n",
       "        [ 9.8819e-03,  1.1594e-02, -4.2041e-03, -8.3489e-03,  1.0815e-02,\n",
       "          3.6606e-03, -4.4702e-03,  3.6691e-03],\n",
       "        [-1.4793e-02, -9.4607e-03, -8.0353e-03, -2.9812e-02,  3.3989e-02,\n",
       "          2.5469e-02, -9.6429e-03, -2.2232e-03],\n",
       "        [-1.1420e-01, -1.0371e-01, -3.8330e-02, -2.0040e-02,  4.4687e-02,\n",
       "          5.5847e-02, -7.2253e-03, -2.1488e-02],\n",
       "        [-1.4368e-01, -1.1921e-01, -7.9367e-02,  3.3969e-02,  1.9981e-02,\n",
       "          6.6844e-02,  5.5015e-02,  4.5563e-02],\n",
       "        [ 1.6787e-01,  1.2818e-01,  2.6066e-02,  1.1446e-01, -1.2733e-01,\n",
       "         -1.2510e-01, -2.4142e-02,  1.4313e-02],\n",
       "        [-1.2251e-01, -1.0335e-01, -4.4021e-02,  4.9205e-03,  2.4465e-02,\n",
       "          3.4440e-02,  3.4018e-02, -4.5629e-03],\n",
       "        [-1.6961e-02, -9.0771e-03, -1.5482e-03,  7.5913e-03, -6.2712e-03,\n",
       "         -6.6719e-04,  1.0956e-02,  6.8850e-03],\n",
       "        [-7.4839e-02, -6.7095e-02,  2.9743e-02, -5.1206e-02,  2.9501e-02,\n",
       "          4.9431e-02, -1.0305e-02, -3.9850e-02],\n",
       "        [ 1.6833e-02,  1.0615e-02,  1.6992e-02,  3.8307e-02, -4.8096e-02,\n",
       "         -3.6326e-02,  8.5784e-03,  5.3829e-03]])"
      ]
     },
     "execution_count": 117,
     "metadata": {},
     "output_type": "execute_result"
    }
   ],
   "source": [
    "th_p.grad"
   ]
  },
  {
   "cell_type": "code",
   "execution_count": 118,
   "id": "262aac93",
   "metadata": {},
   "outputs": [],
   "source": [
    "opt.zero_grad()"
   ]
  },
  {
   "cell_type": "code",
   "execution_count": 119,
   "id": "d9e02524",
   "metadata": {},
   "outputs": [
    {
     "data": {
      "text/plain": [
       "tensor([[0., 0., 0., 0., 0., 0., 0., 0.],\n",
       "        [0., 0., 0., 0., 0., 0., 0., 0.],\n",
       "        [0., 0., 0., 0., 0., 0., 0., 0.],\n",
       "        [0., 0., 0., 0., 0., 0., 0., 0.],\n",
       "        [0., 0., 0., 0., 0., 0., 0., 0.],\n",
       "        [0., 0., 0., 0., 0., 0., 0., 0.],\n",
       "        [0., 0., 0., 0., 0., 0., 0., 0.],\n",
       "        [0., 0., 0., 0., 0., 0., 0., 0.],\n",
       "        [0., 0., 0., 0., 0., 0., 0., 0.],\n",
       "        [0., 0., 0., 0., 0., 0., 0., 0.],\n",
       "        [0., 0., 0., 0., 0., 0., 0., 0.],\n",
       "        [0., 0., 0., 0., 0., 0., 0., 0.],\n",
       "        [0., 0., 0., 0., 0., 0., 0., 0.],\n",
       "        [0., 0., 0., 0., 0., 0., 0., 0.],\n",
       "        [0., 0., 0., 0., 0., 0., 0., 0.],\n",
       "        [0., 0., 0., 0., 0., 0., 0., 0.],\n",
       "        [0., 0., 0., 0., 0., 0., 0., 0.],\n",
       "        [0., 0., 0., 0., 0., 0., 0., 0.],\n",
       "        [0., 0., 0., 0., 0., 0., 0., 0.],\n",
       "        [0., 0., 0., 0., 0., 0., 0., 0.],\n",
       "        [0., 0., 0., 0., 0., 0., 0., 0.],\n",
       "        [0., 0., 0., 0., 0., 0., 0., 0.],\n",
       "        [0., 0., 0., 0., 0., 0., 0., 0.],\n",
       "        [0., 0., 0., 0., 0., 0., 0., 0.],\n",
       "        [0., 0., 0., 0., 0., 0., 0., 0.],\n",
       "        [0., 0., 0., 0., 0., 0., 0., 0.],\n",
       "        [0., 0., 0., 0., 0., 0., 0., 0.],\n",
       "        [0., 0., 0., 0., 0., 0., 0., 0.],\n",
       "        [0., 0., 0., 0., 0., 0., 0., 0.],\n",
       "        [0., 0., 0., 0., 0., 0., 0., 0.],\n",
       "        [0., 0., 0., 0., 0., 0., 0., 0.],\n",
       "        [0., 0., 0., 0., 0., 0., 0., 0.]])"
      ]
     },
     "execution_count": 119,
     "metadata": {},
     "output_type": "execute_result"
    }
   ],
   "source": [
    "th_p.grad"
   ]
  },
  {
   "cell_type": "code",
   "execution_count": 91,
   "id": "a3d8742d",
   "metadata": {},
   "outputs": [
    {
     "name": "stdout",
     "output_type": "stream",
     "text": [
      "Results for Final TEST\n",
      "        GOLD      PRED  ERR%\n",
      "0   121685.0  107754.0  0.11\n",
      "1    48000.0   91540.0  0.91\n",
      "2    82000.0  110223.0  0.34\n",
      "3   122200.0   70852.0  0.42\n",
      "4   158000.0  367192.0  1.32\n",
      "5    53000.0  117250.0  1.21\n",
      "6   280000.0  310171.0  0.11\n",
      "7   115000.0   53978.0  0.53\n",
      "8    77500.0   94561.0  0.22\n",
      "9   241000.0  109223.0  0.55\n",
      "10  106000.0  120395.0  0.14\n",
      "11  399000.0  628181.0  0.57\n",
      "12   49450.0   54561.0  0.10\n",
      "13  230000.0  116623.0  0.49\n",
      "14   71800.0   84033.0  0.17\n",
      "15   87000.0   83368.0  0.04\n",
      "16   94038.0  107854.0  0.15\n",
      "17  153000.0  159056.0  0.04\n",
      "18  240000.0  229514.0  0.04\n",
      "19   72500.0   60619.0  0.16\n",
      "         GOLD      PRED  ERR%\n",
      "960   47000.0   72439.0  0.54\n",
      "961   41500.0   81677.0  0.97\n",
      "962   48000.0   70054.0  0.46\n",
      "963   42000.0   35058.0  0.17\n",
      "964   55650.0   47721.0  0.14\n",
      "965   49500.0  116774.0  1.36\n",
      "966  350000.0  137191.0  0.61\n",
      "967  148000.0  122820.0  0.17\n",
      "968  220000.0  249075.0  0.13\n",
      "969   51000.0   60187.0  0.18\n",
      "970   78900.0  159879.0  1.03\n",
      "971  180000.0  122892.0  0.32\n",
      "972  165000.0  182504.0  0.11\n",
      "973   63000.0   71446.0  0.13\n",
      "974   73333.0   86224.0  0.18\n",
      "975   45000.0   23260.0  0.48\n",
      "976  157000.0  106564.0  0.32\n",
      "977   47800.0   71360.0  0.49\n",
      "978   96900.0   86018.0  0.11\n",
      "979   66000.0   80975.0  0.23\n",
      "Overall error for Final TEST: 34.5%\n"
     ]
    },
    {
     "data": {
      "text/plain": [
       "0.34498163583840563"
      ]
     },
     "execution_count": 91,
     "metadata": {},
     "output_type": "execute_result"
    }
   ],
   "source": [
    "th_evaluate(\n",
    "    m=model,\n",
    "    th_inputs=th_x_test,\n",
    "    gold=y_test,\n",
    "    y_div=y_norm_div,\n",
    "    y_sub=y_norm_sub,\n",
    "    verbose=True,\n",
    "    name='Final TEST'\n",
    ")"
   ]
  },
  {
   "cell_type": "code",
   "execution_count": 93,
   "id": "23adbdfb",
   "metadata": {},
   "outputs": [
    {
     "data": {
      "text/plain": [
       "BetterLinerRealEstateModel(\n",
       "  (layers): ModuleList(\n",
       "    (0): Linear(in_features=8, out_features=100, bias=True)\n",
       "    (1): Sigmoid()\n",
       "    (2): Linear(in_features=100, out_features=10, bias=True)\n",
       "    (3): Sigmoid()\n",
       "  )\n",
       "  (readout): Linear(in_features=10, out_features=1, bias=True)\n",
       ")"
      ]
     },
     "execution_count": 93,
     "metadata": {},
     "output_type": "execute_result"
    }
   ],
   "source": [
    "import torch as th\n",
    "\n",
    "class BetterLinerRealEstateModel(th.nn.Module):\n",
    "    def __init__(self, n_input_feats, layers=[32], activation=th.nn.ReLU):\n",
    "        super().__init__()\n",
    "        self.layers = th.nn.ModuleList()\n",
    "        n_prev = n_input_feats\n",
    "        for layer_size in layers:\n",
    "            hid = th.nn.Linear(n_prev, layer_size)\n",
    "            act = activation()\n",
    "            self.layers.append(hid)\n",
    "            self.layers.append(act)\n",
    "            n_prev = layer_size\n",
    "        \n",
    "        self.readout = th.nn.Linear(n_prev, 1)\n",
    "        return\n",
    "    \n",
    "    def forward(self, inputs):\n",
    "        th_x = inputs\n",
    "        for layer in self.layers:\n",
    "            th_x = layer(th_x)\n",
    "        th_out = self.readout(th_x)\n",
    "        return th_out\n",
    "\n",
    "test_model = BetterLinerRealEstateModel(8, [100, 10], activation=th.nn.Sigmoid)\n",
    "test_model"
   ]
  },
  {
   "cell_type": "code",
   "execution_count": 97,
   "id": "2b1f0aee",
   "metadata": {},
   "outputs": [],
   "source": [
    "def get_model_and_optimizer(layers, activation, opt_class, lr):\n",
    "    model = BetterLinerRealEstateModel(8, layers, activation)\n",
    "    opt = opt_class(model.parameters(), lr=lr)\n",
    "    return model, opt\n",
    "\n",
    "test_model, test_opt = get_model_and_optimizer([200, 50], th.nn.ELU, th.optim.SGD, 0.001)"
   ]
  },
  {
   "cell_type": "code",
   "execution_count": 98,
   "id": "f8eee711",
   "metadata": {},
   "outputs": [
    {
     "data": {
      "text/plain": [
       "BetterLinerRealEstateModel(\n",
       "  (layers): ModuleList(\n",
       "    (0): Linear(in_features=8, out_features=200, bias=True)\n",
       "    (1): ELU(alpha=1.0)\n",
       "    (2): Linear(in_features=200, out_features=50, bias=True)\n",
       "    (3): ELU(alpha=1.0)\n",
       "  )\n",
       "  (readout): Linear(in_features=50, out_features=1, bias=True)\n",
       ")"
      ]
     },
     "execution_count": 98,
     "metadata": {},
     "output_type": "execute_result"
    }
   ],
   "source": [
    "test_model"
   ]
  },
  {
   "cell_type": "code",
   "execution_count": 99,
   "id": "3a27a84e",
   "metadata": {},
   "outputs": [
    {
     "data": {
      "text/plain": [
       "SGD (\n",
       "Parameter Group 0\n",
       "    dampening: 0\n",
       "    lr: 0.001\n",
       "    momentum: 0\n",
       "    nesterov: False\n",
       "    weight_decay: 0\n",
       ")"
      ]
     },
     "execution_count": 99,
     "metadata": {},
     "output_type": "execute_result"
    }
   ],
   "source": [
    "test_opt"
   ]
  },
  {
   "cell_type": "code",
   "execution_count": 102,
   "id": "62b20d29",
   "metadata": {},
   "outputs": [],
   "source": [
    "dct_grid_space = {\n",
    "    'layers' : [\n",
    "        [32],\n",
    "        [256],\n",
    "        [64, 32],\n",
    "        [64, 32, 16],\n",
    "    ],\n",
    "    'activation' : [\n",
    "        th.nn.ReLU,\n",
    "        th.nn.SELU,\n",
    "    ],\n",
    "    'opt_class' : [\n",
    "        th.optim.SGD,\n",
    "        th.optim.Adam\n",
    "    ],\n",
    "    'lr' : [\n",
    "        0.001,\n",
    "        0.0001\n",
    "    ]\n",
    "}"
   ]
  },
  {
   "cell_type": "code",
   "execution_count": 103,
   "id": "3e7b8843",
   "metadata": {},
   "outputs": [
    {
     "data": {
      "text/plain": [
       "{'layers': [[32], [256], [64, 32], [64, 32, 16]],\n",
       " 'activation': [torch.nn.modules.activation.ReLU,\n",
       "  torch.nn.modules.activation.SELU],\n",
       " 'opt_class': [torch.optim.sgd.SGD, torch.optim.adam.Adam],\n",
       " 'lr': [0.001, 0.0001]}"
      ]
     },
     "execution_count": 103,
     "metadata": {},
     "output_type": "execute_result"
    }
   ],
   "source": [
    "loss_func = th.nn.MSELoss()\n",
    "dct_grid_space"
   ]
  },
  {
   "cell_type": "code",
   "execution_count": 116,
   "id": "19a1eff9",
   "metadata": {},
   "outputs": [],
   "source": [
    "def train_model(model, opt, max_epochs=TOTAL_NR_EPOCHS):\n",
    "    best_dev_err = 100\n",
    "    wait_time = 0\n",
    "    max_nr_of_succesive_fails = 2\n",
    "    for epoch in range(max_epochs):\n",
    "        for th_x_batch, th_y_batch in th_dl:\n",
    "            # compute current inferred values with forward prop\n",
    "            th_y_hat = model(th_x_batch)\n",
    "            # compute loss (compare results with actual truth)\n",
    "            th_loss = loss_func(input=th_y_hat, target=th_y_batch) #((th_y_hat - th_y_batch)**2).mean()\n",
    "            # nullfy the gradients\n",
    "            opt.zero_grad()\n",
    "            # compute loss 1st derv wrt all model weights (grads)\n",
    "            th_loss.backward()\n",
    "            # apply gradients to weights with a hopefully smart approach\n",
    "            opt.step()\n",
    "        # now we evaluate on TRAIN and DEV to see how good we are\n",
    "        dev_err = th_evaluate(\n",
    "            m=model,\n",
    "            th_inputs=th_x_dev,\n",
    "            gold=y_dev,\n",
    "            y_div=y_norm_div,\n",
    "            y_sub=y_norm_sub,\n",
    "            verbose=False,\n",
    "            name='DEV @ Epoch {}'.format(epoch)\n",
    "        )\n",
    "        if best_dev_err > dev_err:\n",
    "            best_dev_err = dev_err\n",
    "            wait_time = 0\n",
    "            print(\"\\rBEST MODEL @ Epoch {}\\r\".format(epoch), end='', flush=True)\n",
    "        else:\n",
    "            wait_time += 1\n",
    "            if wait_time > max_nr_of_succesive_fails:\n",
    "                print(\"\\nSTOP TRAINING !\")\n",
    "                break\n",
    "    return model\n",
    "\n"
   ]
  },
  {
   "cell_type": "code",
   "execution_count": 106,
   "id": "33627a29",
   "metadata": {},
   "outputs": [],
   "source": [
    "dct_res = {\n",
    "    'MODEL' : [],\n",
    "    'DEV' : [],\n",
    "    'TEST' : [],\n",
    "}"
   ]
  },
  {
   "cell_type": "code",
   "execution_count": 109,
   "id": "db46b26d",
   "metadata": {},
   "outputs": [],
   "source": [
    "grid_params = []\n",
    "grid_values = []\n",
    "for k in dct_grid_space:\n",
    "    grid_params.append(k)\n",
    "    grid_values.append(dct_grid_space[k])\n",
    "import itertools\n",
    "grid_combs = list(itertools.product(*grid_values))\n"
   ]
  },
  {
   "cell_type": "code",
   "execution_count": 110,
   "id": "79d1a2b5",
   "metadata": {},
   "outputs": [
    {
     "data": {
      "text/plain": [
       "['layers', 'activation', 'opt_class', 'lr']"
      ]
     },
     "execution_count": 110,
     "metadata": {},
     "output_type": "execute_result"
    }
   ],
   "source": [
    "grid_params"
   ]
  },
  {
   "cell_type": "code",
   "execution_count": 111,
   "id": "60aa2746",
   "metadata": {},
   "outputs": [
    {
     "data": {
      "text/plain": [
       "[([32], torch.nn.modules.activation.ReLU, torch.optim.sgd.SGD, 0.001),\n",
       " ([32], torch.nn.modules.activation.ReLU, torch.optim.sgd.SGD, 0.0001),\n",
       " ([32], torch.nn.modules.activation.ReLU, torch.optim.adam.Adam, 0.001),\n",
       " ([32], torch.nn.modules.activation.ReLU, torch.optim.adam.Adam, 0.0001),\n",
       " ([32], torch.nn.modules.activation.SELU, torch.optim.sgd.SGD, 0.001),\n",
       " ([32], torch.nn.modules.activation.SELU, torch.optim.sgd.SGD, 0.0001),\n",
       " ([32], torch.nn.modules.activation.SELU, torch.optim.adam.Adam, 0.001),\n",
       " ([32], torch.nn.modules.activation.SELU, torch.optim.adam.Adam, 0.0001),\n",
       " ([256], torch.nn.modules.activation.ReLU, torch.optim.sgd.SGD, 0.001),\n",
       " ([256], torch.nn.modules.activation.ReLU, torch.optim.sgd.SGD, 0.0001),\n",
       " ([256], torch.nn.modules.activation.ReLU, torch.optim.adam.Adam, 0.001),\n",
       " ([256], torch.nn.modules.activation.ReLU, torch.optim.adam.Adam, 0.0001),\n",
       " ([256], torch.nn.modules.activation.SELU, torch.optim.sgd.SGD, 0.001),\n",
       " ([256], torch.nn.modules.activation.SELU, torch.optim.sgd.SGD, 0.0001),\n",
       " ([256], torch.nn.modules.activation.SELU, torch.optim.adam.Adam, 0.001),\n",
       " ([256], torch.nn.modules.activation.SELU, torch.optim.adam.Adam, 0.0001),\n",
       " ([64, 32], torch.nn.modules.activation.ReLU, torch.optim.sgd.SGD, 0.001),\n",
       " ([64, 32], torch.nn.modules.activation.ReLU, torch.optim.sgd.SGD, 0.0001),\n",
       " ([64, 32], torch.nn.modules.activation.ReLU, torch.optim.adam.Adam, 0.001),\n",
       " ([64, 32], torch.nn.modules.activation.ReLU, torch.optim.adam.Adam, 0.0001),\n",
       " ([64, 32], torch.nn.modules.activation.SELU, torch.optim.sgd.SGD, 0.001),\n",
       " ([64, 32], torch.nn.modules.activation.SELU, torch.optim.sgd.SGD, 0.0001),\n",
       " ([64, 32], torch.nn.modules.activation.SELU, torch.optim.adam.Adam, 0.001),\n",
       " ([64, 32], torch.nn.modules.activation.SELU, torch.optim.adam.Adam, 0.0001),\n",
       " ([64, 32, 16], torch.nn.modules.activation.ReLU, torch.optim.sgd.SGD, 0.001),\n",
       " ([64, 32, 16], torch.nn.modules.activation.ReLU, torch.optim.sgd.SGD, 0.0001),\n",
       " ([64, 32, 16],\n",
       "  torch.nn.modules.activation.ReLU,\n",
       "  torch.optim.adam.Adam,\n",
       "  0.001),\n",
       " ([64, 32, 16],\n",
       "  torch.nn.modules.activation.ReLU,\n",
       "  torch.optim.adam.Adam,\n",
       "  0.0001),\n",
       " ([64, 32, 16], torch.nn.modules.activation.SELU, torch.optim.sgd.SGD, 0.001),\n",
       " ([64, 32, 16], torch.nn.modules.activation.SELU, torch.optim.sgd.SGD, 0.0001),\n",
       " ([64, 32, 16],\n",
       "  torch.nn.modules.activation.SELU,\n",
       "  torch.optim.adam.Adam,\n",
       "  0.001),\n",
       " ([64, 32, 16],\n",
       "  torch.nn.modules.activation.SELU,\n",
       "  torch.optim.adam.Adam,\n",
       "  0.0001)]"
      ]
     },
     "execution_count": 111,
     "metadata": {},
     "output_type": "execute_result"
    }
   ],
   "source": [
    "grid_combs"
   ]
  },
  {
   "cell_type": "code",
   "execution_count": 112,
   "id": "85646938",
   "metadata": {},
   "outputs": [
    {
     "data": {
      "text/plain": [
       "32"
      ]
     },
     "execution_count": 112,
     "metadata": {},
     "output_type": "execute_result"
    }
   ],
   "source": [
    "len(grid_combs)"
   ]
  },
  {
   "cell_type": "code",
   "execution_count": 114,
   "id": "24ea50ee",
   "metadata": {},
   "outputs": [
    {
     "data": {
      "text/plain": [
       "{'layers': [32],\n",
       " 'activation': torch.nn.modules.activation.ReLU,\n",
       " 'opt_class': torch.optim.sgd.SGD,\n",
       " 'lr': 0.001}"
      ]
     },
     "execution_count": 114,
     "metadata": {},
     "output_type": "execute_result"
    }
   ],
   "source": [
    "for grid_iter in range(len(grid_combs)):\n",
    "    dct_curr_params = {k:v for k,v in zip(grid_params, grid_combs[grid_iter])}\n",
    "    break\n",
    "dct_curr_params"
   ]
  },
  {
   "cell_type": "code",
   "execution_count": 124,
   "id": "501098cc",
   "metadata": {},
   "outputs": [
    {
     "data": {
      "text/plain": [
       "'ReLU'"
      ]
     },
     "execution_count": 124,
     "metadata": {},
     "output_type": "execute_result"
    }
   ],
   "source": [
    "_c = th.nn.ReLU\n",
    "_c.__name__"
   ]
  },
  {
   "cell_type": "code",
   "execution_count": 126,
   "id": "654d5182",
   "metadata": {
    "scrolled": false
   },
   "outputs": [
    {
     "name": "stdout",
     "output_type": "stream",
     "text": [
      "Running grid search space model #1/32\n",
      "Result so far:poch 99\n",
      "      MODEL       DEV      TEST layers activation opt_class     lr\n",
      "0  Model #1  1.275256  1.435682   [32]       ReLU       SGD  0.001\n",
      "Running grid search space model #2/32\n",
      "Result so far:poch 99\n",
      "      MODEL       DEV      TEST layers activation opt_class      lr\n",
      "0  Model #1  1.275256  1.435682   [32]       ReLU       SGD  0.0010\n",
      "1  Model #2  5.134489  5.073544   [32]       ReLU       SGD  0.0001\n",
      "Running grid search space model #3/32\n",
      "BEST MODEL @ Epoch 32\n",
      "STOP TRAINING !\n",
      "Result so far:\n",
      "      MODEL       DEV      TEST layers activation opt_class      lr\n",
      "2  Model #3  0.383737  0.416761   [32]       ReLU      Adam  0.0010\n",
      "0  Model #1  1.275256  1.435682   [32]       ReLU       SGD  0.0010\n",
      "1  Model #2  5.134489  5.073544   [32]       ReLU       SGD  0.0001\n",
      "Running grid search space model #4/32\n",
      "Result so far:poch 99\n",
      "      MODEL       DEV      TEST layers activation opt_class      lr\n",
      "3  Model #4  0.415751  0.415868   [32]       ReLU      Adam  0.0001\n",
      "2  Model #3  0.383737  0.416761   [32]       ReLU      Adam  0.0010\n",
      "0  Model #1  1.275256  1.435682   [32]       ReLU       SGD  0.0010\n",
      "1  Model #2  5.134489  5.073544   [32]       ReLU       SGD  0.0001\n",
      "Running grid search space model #5/32\n",
      "Result so far:poch 99\n",
      "      MODEL       DEV      TEST layers activation opt_class      lr\n",
      "3  Model #4  0.415751  0.415868   [32]       ReLU      Adam  0.0001\n",
      "2  Model #3  0.383737  0.416761   [32]       ReLU      Adam  0.0010\n",
      "4  Model #5  0.958190  0.926192   [32]       SELU       SGD  0.0010\n",
      "0  Model #1  1.275256  1.435682   [32]       ReLU       SGD  0.0010\n",
      "1  Model #2  5.134489  5.073544   [32]       ReLU       SGD  0.0001\n",
      "Running grid search space model #6/32\n",
      "Result so far:poch 99\n",
      "      MODEL       DEV      TEST layers activation opt_class      lr\n",
      "3  Model #4  0.415751  0.415868   [32]       ReLU      Adam  0.0001\n",
      "2  Model #3  0.383737  0.416761   [32]       ReLU      Adam  0.0010\n",
      "4  Model #5  0.958190  0.926192   [32]       SELU       SGD  0.0010\n",
      "0  Model #1  1.275256  1.435682   [32]       ReLU       SGD  0.0010\n",
      "5  Model #6  1.938043  1.944971   [32]       SELU       SGD  0.0001\n",
      "1  Model #2  5.134489  5.073544   [32]       ReLU       SGD  0.0001\n",
      "Running grid search space model #7/32\n",
      "BEST MODEL @ Epoch 51\n",
      "STOP TRAINING !\n",
      "Result so far:\n",
      "      MODEL       DEV      TEST layers activation opt_class      lr\n",
      "3  Model #4  0.415751  0.415868   [32]       ReLU      Adam  0.0001\n",
      "2  Model #3  0.383737  0.416761   [32]       ReLU      Adam  0.0010\n",
      "6  Model #7  0.422050  0.420657   [32]       SELU      Adam  0.0010\n",
      "4  Model #5  0.958190  0.926192   [32]       SELU       SGD  0.0010\n",
      "0  Model #1  1.275256  1.435682   [32]       ReLU       SGD  0.0010\n",
      "5  Model #6  1.938043  1.944971   [32]       SELU       SGD  0.0001\n",
      "1  Model #2  5.134489  5.073544   [32]       ReLU       SGD  0.0001\n",
      "Running grid search space model #8/32\n",
      "Result so far:poch 99\n",
      "      MODEL       DEV      TEST layers activation opt_class      lr\n",
      "3  Model #4  0.415751  0.415868   [32]       ReLU      Adam  0.0001\n",
      "2  Model #3  0.383737  0.416761   [32]       ReLU      Adam  0.0010\n",
      "6  Model #7  0.422050  0.420657   [32]       SELU      Adam  0.0010\n",
      "7  Model #8  0.469736  0.490195   [32]       SELU      Adam  0.0001\n",
      "4  Model #5  0.958190  0.926192   [32]       SELU       SGD  0.0010\n",
      "0  Model #1  1.275256  1.435682   [32]       ReLU       SGD  0.0010\n",
      "5  Model #6  1.938043  1.944971   [32]       SELU       SGD  0.0001\n",
      "1  Model #2  5.134489  5.073544   [32]       ReLU       SGD  0.0001\n",
      "Running grid search space model #9/32\n",
      "Result so far:poch 99\n",
      "      MODEL       DEV      TEST layers activation opt_class      lr\n",
      "3  Model #4  0.415751  0.415868   [32]       ReLU      Adam  0.0001\n",
      "2  Model #3  0.383737  0.416761   [32]       ReLU      Adam  0.0010\n",
      "6  Model #7  0.422050  0.420657   [32]       SELU      Adam  0.0010\n",
      "7  Model #8  0.469736  0.490195   [32]       SELU      Adam  0.0001\n",
      "8  Model #9  0.867551  0.896963  [256]       ReLU       SGD  0.0010\n",
      "4  Model #5  0.958190  0.926192   [32]       SELU       SGD  0.0010\n",
      "0  Model #1  1.275256  1.435682   [32]       ReLU       SGD  0.0010\n",
      "5  Model #6  1.938043  1.944971   [32]       SELU       SGD  0.0001\n",
      "1  Model #2  5.134489  5.073544   [32]       ReLU       SGD  0.0001\n",
      "Running grid search space model #10/32\n",
      "Result so far:poch 99\n",
      "       MODEL       DEV      TEST layers activation opt_class      lr\n",
      "3   Model #4  0.415751  0.415868   [32]       ReLU      Adam  0.0001\n",
      "2   Model #3  0.383737  0.416761   [32]       ReLU      Adam  0.0010\n",
      "6   Model #7  0.422050  0.420657   [32]       SELU      Adam  0.0010\n",
      "7   Model #8  0.469736  0.490195   [32]       SELU      Adam  0.0001\n",
      "8   Model #9  0.867551  0.896963  [256]       ReLU       SGD  0.0010\n",
      "4   Model #5  0.958190  0.926192   [32]       SELU       SGD  0.0010\n",
      "0   Model #1  1.275256  1.435682   [32]       ReLU       SGD  0.0010\n",
      "9  Model #10  1.398924  1.448937  [256]       ReLU       SGD  0.0001\n",
      "5   Model #6  1.938043  1.944971   [32]       SELU       SGD  0.0001\n",
      "1   Model #2  5.134489  5.073544   [32]       ReLU       SGD  0.0001\n",
      "Running grid search space model #11/32\n",
      "BEST MODEL @ Epoch 2\n",
      "STOP TRAINING !\n",
      "Result so far:\n",
      "        MODEL       DEV      TEST layers activation opt_class      lr\n",
      "3    Model #4  0.415751  0.415868   [32]       ReLU      Adam  0.0001\n",
      "2    Model #3  0.383737  0.416761   [32]       ReLU      Adam  0.0010\n",
      "6    Model #7  0.422050  0.420657   [32]       SELU      Adam  0.0010\n",
      "10  Model #11  0.447222  0.457512  [256]       ReLU      Adam  0.0010\n",
      "7    Model #8  0.469736  0.490195   [32]       SELU      Adam  0.0001\n",
      "8    Model #9  0.867551  0.896963  [256]       ReLU       SGD  0.0010\n",
      "4    Model #5  0.958190  0.926192   [32]       SELU       SGD  0.0010\n",
      "0    Model #1  1.275256  1.435682   [32]       ReLU       SGD  0.0010\n",
      "9   Model #10  1.398924  1.448937  [256]       ReLU       SGD  0.0001\n",
      "5    Model #6  1.938043  1.944971   [32]       SELU       SGD  0.0001\n",
      "1    Model #2  5.134489  5.073544   [32]       ReLU       SGD  0.0001\n",
      "Running grid search space model #12/32\n",
      "BEST MODEL @ Epoch 39\n",
      "STOP TRAINING !\n",
      "Result so far:\n",
      "        MODEL       DEV      TEST layers activation opt_class      lr\n",
      "11  Model #12  0.347785  0.348903  [256]       ReLU      Adam  0.0001\n",
      "3    Model #4  0.415751  0.415868   [32]       ReLU      Adam  0.0001\n",
      "2    Model #3  0.383737  0.416761   [32]       ReLU      Adam  0.0010\n",
      "6    Model #7  0.422050  0.420657   [32]       SELU      Adam  0.0010\n",
      "10  Model #11  0.447222  0.457512  [256]       ReLU      Adam  0.0010\n",
      "7    Model #8  0.469736  0.490195   [32]       SELU      Adam  0.0001\n",
      "8    Model #9  0.867551  0.896963  [256]       ReLU       SGD  0.0010\n",
      "4    Model #5  0.958190  0.926192   [32]       SELU       SGD  0.0010\n",
      "0    Model #1  1.275256  1.435682   [32]       ReLU       SGD  0.0010\n",
      "9   Model #10  1.398924  1.448937  [256]       ReLU       SGD  0.0001\n",
      "5    Model #6  1.938043  1.944971   [32]       SELU       SGD  0.0001\n",
      "1    Model #2  5.134489  5.073544   [32]       ReLU       SGD  0.0001\n",
      "Running grid search space model #13/32\n",
      "Result so far:poch 99\n",
      "        MODEL       DEV      TEST layers activation opt_class      lr\n",
      "11  Model #12  0.347785  0.348903  [256]       ReLU      Adam  0.0001\n",
      "3    Model #4  0.415751  0.415868   [32]       ReLU      Adam  0.0001\n",
      "2    Model #3  0.383737  0.416761   [32]       ReLU      Adam  0.0010\n",
      "6    Model #7  0.422050  0.420657   [32]       SELU      Adam  0.0010\n",
      "10  Model #11  0.447222  0.457512  [256]       ReLU      Adam  0.0010\n",
      "7    Model #8  0.469736  0.490195   [32]       SELU      Adam  0.0001\n",
      "12  Model #13  0.719720  0.721990  [256]       SELU       SGD  0.0010\n",
      "8    Model #9  0.867551  0.896963  [256]       ReLU       SGD  0.0010\n",
      "4    Model #5  0.958190  0.926192   [32]       SELU       SGD  0.0010\n",
      "0    Model #1  1.275256  1.435682   [32]       ReLU       SGD  0.0010\n",
      "9   Model #10  1.398924  1.448937  [256]       ReLU       SGD  0.0001\n",
      "5    Model #6  1.938043  1.944971   [32]       SELU       SGD  0.0001\n",
      "1    Model #2  5.134489  5.073544   [32]       ReLU       SGD  0.0001\n",
      "Running grid search space model #14/32\n",
      "Result so far:poch 99\n",
      "        MODEL       DEV      TEST layers activation opt_class      lr\n",
      "11  Model #12  0.347785  0.348903  [256]       ReLU      Adam  0.0001\n",
      "3    Model #4  0.415751  0.415868   [32]       ReLU      Adam  0.0001\n",
      "2    Model #3  0.383737  0.416761   [32]       ReLU      Adam  0.0010\n",
      "6    Model #7  0.422050  0.420657   [32]       SELU      Adam  0.0010\n",
      "10  Model #11  0.447222  0.457512  [256]       ReLU      Adam  0.0010\n",
      "7    Model #8  0.469736  0.490195   [32]       SELU      Adam  0.0001\n",
      "12  Model #13  0.719720  0.721990  [256]       SELU       SGD  0.0010\n",
      "8    Model #9  0.867551  0.896963  [256]       ReLU       SGD  0.0010\n",
      "4    Model #5  0.958190  0.926192   [32]       SELU       SGD  0.0010\n",
      "13  Model #14  1.037783  1.041271  [256]       SELU       SGD  0.0001\n",
      "0    Model #1  1.275256  1.435682   [32]       ReLU       SGD  0.0010\n",
      "9   Model #10  1.398924  1.448937  [256]       ReLU       SGD  0.0001\n",
      "5    Model #6  1.938043  1.944971   [32]       SELU       SGD  0.0001\n",
      "1    Model #2  5.134489  5.073544   [32]       ReLU       SGD  0.0001\n",
      "Running grid search space model #15/32\n"
     ]
    },
    {
     "name": "stdout",
     "output_type": "stream",
     "text": [
      "BEST MODEL @ Epoch 9\n",
      "STOP TRAINING !\n",
      "Result so far:\n",
      "        MODEL       DEV      TEST layers activation opt_class      lr\n",
      "11  Model #12  0.347785  0.348903  [256]       ReLU      Adam  0.0001\n",
      "3    Model #4  0.415751  0.415868   [32]       ReLU      Adam  0.0001\n",
      "2    Model #3  0.383737  0.416761   [32]       ReLU      Adam  0.0010\n",
      "6    Model #7  0.422050  0.420657   [32]       SELU      Adam  0.0010\n",
      "10  Model #11  0.447222  0.457512  [256]       ReLU      Adam  0.0010\n",
      "7    Model #8  0.469736  0.490195   [32]       SELU      Adam  0.0001\n",
      "14  Model #15  0.586860  0.609991  [256]       SELU      Adam  0.0010\n",
      "12  Model #13  0.719720  0.721990  [256]       SELU       SGD  0.0010\n",
      "8    Model #9  0.867551  0.896963  [256]       ReLU       SGD  0.0010\n",
      "4    Model #5  0.958190  0.926192   [32]       SELU       SGD  0.0010\n",
      "13  Model #14  1.037783  1.041271  [256]       SELU       SGD  0.0001\n",
      "0    Model #1  1.275256  1.435682   [32]       ReLU       SGD  0.0010\n",
      "9   Model #10  1.398924  1.448937  [256]       ReLU       SGD  0.0001\n",
      "5    Model #6  1.938043  1.944971   [32]       SELU       SGD  0.0001\n",
      "1    Model #2  5.134489  5.073544   [32]       ReLU       SGD  0.0001\n",
      "Running grid search space model #16/32\n",
      "Result so far:poch 99\n",
      "        MODEL       DEV      TEST layers activation opt_class      lr\n",
      "11  Model #12  0.347785  0.348903  [256]       ReLU      Adam  0.0001\n",
      "3    Model #4  0.415751  0.415868   [32]       ReLU      Adam  0.0001\n",
      "2    Model #3  0.383737  0.416761   [32]       ReLU      Adam  0.0010\n",
      "6    Model #7  0.422050  0.420657   [32]       SELU      Adam  0.0010\n",
      "15  Model #16  0.393903  0.427245  [256]       SELU      Adam  0.0001\n",
      "10  Model #11  0.447222  0.457512  [256]       ReLU      Adam  0.0010\n",
      "7    Model #8  0.469736  0.490195   [32]       SELU      Adam  0.0001\n",
      "14  Model #15  0.586860  0.609991  [256]       SELU      Adam  0.0010\n",
      "12  Model #13  0.719720  0.721990  [256]       SELU       SGD  0.0010\n",
      "8    Model #9  0.867551  0.896963  [256]       ReLU       SGD  0.0010\n",
      "4    Model #5  0.958190  0.926192   [32]       SELU       SGD  0.0010\n",
      "13  Model #14  1.037783  1.041271  [256]       SELU       SGD  0.0001\n",
      "0    Model #1  1.275256  1.435682   [32]       ReLU       SGD  0.0010\n",
      "9   Model #10  1.398924  1.448937  [256]       ReLU       SGD  0.0001\n",
      "5    Model #6  1.938043  1.944971   [32]       SELU       SGD  0.0001\n",
      "1    Model #2  5.134489  5.073544   [32]       ReLU       SGD  0.0001\n",
      "Running grid search space model #17/32\n",
      "Result so far:poch 99\n",
      "        MODEL       DEV      TEST    layers activation opt_class      lr\n",
      "11  Model #12  0.347785  0.348903     [256]       ReLU      Adam  0.0001\n",
      "3    Model #4  0.415751  0.415868      [32]       ReLU      Adam  0.0001\n",
      "2    Model #3  0.383737  0.416761      [32]       ReLU      Adam  0.0010\n",
      "6    Model #7  0.422050  0.420657      [32]       SELU      Adam  0.0010\n",
      "15  Model #16  0.393903  0.427245     [256]       SELU      Adam  0.0001\n",
      "10  Model #11  0.447222  0.457512     [256]       ReLU      Adam  0.0010\n",
      "7    Model #8  0.469736  0.490195      [32]       SELU      Adam  0.0001\n",
      "14  Model #15  0.586860  0.609991     [256]       SELU      Adam  0.0010\n",
      "12  Model #13  0.719720  0.721990     [256]       SELU       SGD  0.0010\n",
      "8    Model #9  0.867551  0.896963     [256]       ReLU       SGD  0.0010\n",
      "4    Model #5  0.958190  0.926192      [32]       SELU       SGD  0.0010\n",
      "16  Model #17  0.947485  0.932273  [64, 32]       ReLU       SGD  0.0010\n",
      "13  Model #14  1.037783  1.041271     [256]       SELU       SGD  0.0001\n",
      "0    Model #1  1.275256  1.435682      [32]       ReLU       SGD  0.0010\n",
      "9   Model #10  1.398924  1.448937     [256]       ReLU       SGD  0.0001\n",
      "5    Model #6  1.938043  1.944971      [32]       SELU       SGD  0.0001\n",
      "1    Model #2  5.134489  5.073544      [32]       ReLU       SGD  0.0001\n",
      "Running grid search space model #18/32\n",
      "Result so far:poch 99\n",
      "        MODEL       DEV      TEST    layers activation opt_class      lr\n",
      "11  Model #12  0.347785  0.348903     [256]       ReLU      Adam  0.0001\n",
      "3    Model #4  0.415751  0.415868      [32]       ReLU      Adam  0.0001\n",
      "2    Model #3  0.383737  0.416761      [32]       ReLU      Adam  0.0010\n",
      "6    Model #7  0.422050  0.420657      [32]       SELU      Adam  0.0010\n",
      "15  Model #16  0.393903  0.427245     [256]       SELU      Adam  0.0001\n",
      "10  Model #11  0.447222  0.457512     [256]       ReLU      Adam  0.0010\n",
      "7    Model #8  0.469736  0.490195      [32]       SELU      Adam  0.0001\n",
      "14  Model #15  0.586860  0.609991     [256]       SELU      Adam  0.0010\n",
      "12  Model #13  0.719720  0.721990     [256]       SELU       SGD  0.0010\n",
      "8    Model #9  0.867551  0.896963     [256]       ReLU       SGD  0.0010\n",
      "4    Model #5  0.958190  0.926192      [32]       SELU       SGD  0.0010\n",
      "16  Model #17  0.947485  0.932273  [64, 32]       ReLU       SGD  0.0010\n",
      "13  Model #14  1.037783  1.041271     [256]       SELU       SGD  0.0001\n",
      "0    Model #1  1.275256  1.435682      [32]       ReLU       SGD  0.0010\n",
      "9   Model #10  1.398924  1.448937     [256]       ReLU       SGD  0.0001\n",
      "17  Model #18  1.542911  1.628450  [64, 32]       ReLU       SGD  0.0001\n",
      "5    Model #6  1.938043  1.944971      [32]       SELU       SGD  0.0001\n",
      "1    Model #2  5.134489  5.073544      [32]       ReLU       SGD  0.0001\n",
      "Running grid search space model #19/32\n",
      "BEST MODEL @ Epoch 8\n",
      "STOP TRAINING !\n",
      "Result so far:\n",
      "        MODEL       DEV      TEST    layers activation opt_class      lr\n",
      "11  Model #12  0.347785  0.348903     [256]       ReLU      Adam  0.0001\n",
      "3    Model #4  0.415751  0.415868      [32]       ReLU      Adam  0.0001\n",
      "2    Model #3  0.383737  0.416761      [32]       ReLU      Adam  0.0010\n",
      "6    Model #7  0.422050  0.420657      [32]       SELU      Adam  0.0010\n",
      "15  Model #16  0.393903  0.427245     [256]       SELU      Adam  0.0001\n",
      "18  Model #19  0.407669  0.439448  [64, 32]       ReLU      Adam  0.0010\n",
      "10  Model #11  0.447222  0.457512     [256]       ReLU      Adam  0.0010\n",
      "7    Model #8  0.469736  0.490195      [32]       SELU      Adam  0.0001\n",
      "14  Model #15  0.586860  0.609991     [256]       SELU      Adam  0.0010\n",
      "12  Model #13  0.719720  0.721990     [256]       SELU       SGD  0.0010\n",
      "8    Model #9  0.867551  0.896963     [256]       ReLU       SGD  0.0010\n",
      "4    Model #5  0.958190  0.926192      [32]       SELU       SGD  0.0010\n",
      "16  Model #17  0.947485  0.932273  [64, 32]       ReLU       SGD  0.0010\n",
      "13  Model #14  1.037783  1.041271     [256]       SELU       SGD  0.0001\n",
      "0    Model #1  1.275256  1.435682      [32]       ReLU       SGD  0.0010\n",
      "9   Model #10  1.398924  1.448937     [256]       ReLU       SGD  0.0001\n",
      "17  Model #18  1.542911  1.628450  [64, 32]       ReLU       SGD  0.0001\n",
      "5    Model #6  1.938043  1.944971      [32]       SELU       SGD  0.0001\n",
      "1    Model #2  5.134489  5.073544      [32]       ReLU       SGD  0.0001\n",
      "Running grid search space model #20/32\n",
      "BEST MODEL @ Epoch 45\n",
      "STOP TRAINING !\n",
      "Result so far:\n",
      "        MODEL       DEV      TEST    layers activation opt_class      lr\n",
      "19  Model #20  0.295773  0.301716  [64, 32]       ReLU      Adam  0.0001\n",
      "11  Model #12  0.347785  0.348903     [256]       ReLU      Adam  0.0001\n",
      "3    Model #4  0.415751  0.415868      [32]       ReLU      Adam  0.0001\n",
      "2    Model #3  0.383737  0.416761      [32]       ReLU      Adam  0.0010\n",
      "6    Model #7  0.422050  0.420657      [32]       SELU      Adam  0.0010\n",
      "15  Model #16  0.393903  0.427245     [256]       SELU      Adam  0.0001\n",
      "18  Model #19  0.407669  0.439448  [64, 32]       ReLU      Adam  0.0010\n",
      "10  Model #11  0.447222  0.457512     [256]       ReLU      Adam  0.0010\n",
      "7    Model #8  0.469736  0.490195      [32]       SELU      Adam  0.0001\n",
      "14  Model #15  0.586860  0.609991     [256]       SELU      Adam  0.0010\n",
      "12  Model #13  0.719720  0.721990     [256]       SELU       SGD  0.0010\n",
      "8    Model #9  0.867551  0.896963     [256]       ReLU       SGD  0.0010\n",
      "4    Model #5  0.958190  0.926192      [32]       SELU       SGD  0.0010\n",
      "16  Model #17  0.947485  0.932273  [64, 32]       ReLU       SGD  0.0010\n",
      "13  Model #14  1.037783  1.041271     [256]       SELU       SGD  0.0001\n",
      "0    Model #1  1.275256  1.435682      [32]       ReLU       SGD  0.0010\n",
      "9   Model #10  1.398924  1.448937     [256]       ReLU       SGD  0.0001\n",
      "17  Model #18  1.542911  1.628450  [64, 32]       ReLU       SGD  0.0001\n",
      "5    Model #6  1.938043  1.944971      [32]       SELU       SGD  0.0001\n",
      "1    Model #2  5.134489  5.073544      [32]       ReLU       SGD  0.0001\n",
      "Running grid search space model #21/32\n"
     ]
    },
    {
     "name": "stdout",
     "output_type": "stream",
     "text": [
      "Result so far:poch 99\n",
      "        MODEL       DEV      TEST    layers activation opt_class      lr\n",
      "19  Model #20  0.295773  0.301716  [64, 32]       ReLU      Adam  0.0001\n",
      "11  Model #12  0.347785  0.348903     [256]       ReLU      Adam  0.0001\n",
      "3    Model #4  0.415751  0.415868      [32]       ReLU      Adam  0.0001\n",
      "2    Model #3  0.383737  0.416761      [32]       ReLU      Adam  0.0010\n",
      "6    Model #7  0.422050  0.420657      [32]       SELU      Adam  0.0010\n",
      "15  Model #16  0.393903  0.427245     [256]       SELU      Adam  0.0001\n",
      "18  Model #19  0.407669  0.439448  [64, 32]       ReLU      Adam  0.0010\n",
      "10  Model #11  0.447222  0.457512     [256]       ReLU      Adam  0.0010\n",
      "7    Model #8  0.469736  0.490195      [32]       SELU      Adam  0.0001\n",
      "14  Model #15  0.586860  0.609991     [256]       SELU      Adam  0.0010\n",
      "20  Model #21  0.703217  0.713644  [64, 32]       SELU       SGD  0.0010\n",
      "12  Model #13  0.719720  0.721990     [256]       SELU       SGD  0.0010\n",
      "8    Model #9  0.867551  0.896963     [256]       ReLU       SGD  0.0010\n",
      "4    Model #5  0.958190  0.926192      [32]       SELU       SGD  0.0010\n",
      "16  Model #17  0.947485  0.932273  [64, 32]       ReLU       SGD  0.0010\n",
      "13  Model #14  1.037783  1.041271     [256]       SELU       SGD  0.0001\n",
      "0    Model #1  1.275256  1.435682      [32]       ReLU       SGD  0.0010\n",
      "9   Model #10  1.398924  1.448937     [256]       ReLU       SGD  0.0001\n",
      "17  Model #18  1.542911  1.628450  [64, 32]       ReLU       SGD  0.0001\n",
      "5    Model #6  1.938043  1.944971      [32]       SELU       SGD  0.0001\n",
      "1    Model #2  5.134489  5.073544      [32]       ReLU       SGD  0.0001\n",
      "Running grid search space model #22/32\n",
      "Result so far:poch 99\n",
      "        MODEL       DEV      TEST    layers activation opt_class      lr\n",
      "19  Model #20  0.295773  0.301716  [64, 32]       ReLU      Adam  0.0001\n",
      "11  Model #12  0.347785  0.348903     [256]       ReLU      Adam  0.0001\n",
      "3    Model #4  0.415751  0.415868      [32]       ReLU      Adam  0.0001\n",
      "2    Model #3  0.383737  0.416761      [32]       ReLU      Adam  0.0010\n",
      "6    Model #7  0.422050  0.420657      [32]       SELU      Adam  0.0010\n",
      "15  Model #16  0.393903  0.427245     [256]       SELU      Adam  0.0001\n",
      "18  Model #19  0.407669  0.439448  [64, 32]       ReLU      Adam  0.0010\n",
      "10  Model #11  0.447222  0.457512     [256]       ReLU      Adam  0.0010\n",
      "7    Model #8  0.469736  0.490195      [32]       SELU      Adam  0.0001\n",
      "14  Model #15  0.586860  0.609991     [256]       SELU      Adam  0.0010\n",
      "20  Model #21  0.703217  0.713644  [64, 32]       SELU       SGD  0.0010\n",
      "12  Model #13  0.719720  0.721990     [256]       SELU       SGD  0.0010\n",
      "8    Model #9  0.867551  0.896963     [256]       ReLU       SGD  0.0010\n",
      "4    Model #5  0.958190  0.926192      [32]       SELU       SGD  0.0010\n",
      "16  Model #17  0.947485  0.932273  [64, 32]       ReLU       SGD  0.0010\n",
      "13  Model #14  1.037783  1.041271     [256]       SELU       SGD  0.0001\n",
      "21  Model #22  1.209173  1.305914  [64, 32]       SELU       SGD  0.0001\n",
      "0    Model #1  1.275256  1.435682      [32]       ReLU       SGD  0.0010\n",
      "9   Model #10  1.398924  1.448937     [256]       ReLU       SGD  0.0001\n",
      "17  Model #18  1.542911  1.628450  [64, 32]       ReLU       SGD  0.0001\n",
      "5    Model #6  1.938043  1.944971      [32]       SELU       SGD  0.0001\n",
      "1    Model #2  5.134489  5.073544      [32]       ReLU       SGD  0.0001\n",
      "Running grid search space model #23/32\n",
      "BEST MODEL @ Epoch 7\n",
      "STOP TRAINING !\n",
      "Result so far:\n",
      "        MODEL       DEV      TEST    layers activation opt_class      lr\n",
      "19  Model #20  0.295773  0.301716  [64, 32]       ReLU      Adam  0.0001\n",
      "11  Model #12  0.347785  0.348903     [256]       ReLU      Adam  0.0001\n",
      "3    Model #4  0.415751  0.415868      [32]       ReLU      Adam  0.0001\n",
      "2    Model #3  0.383737  0.416761      [32]       ReLU      Adam  0.0010\n",
      "6    Model #7  0.422050  0.420657      [32]       SELU      Adam  0.0010\n",
      "15  Model #16  0.393903  0.427245     [256]       SELU      Adam  0.0001\n",
      "18  Model #19  0.407669  0.439448  [64, 32]       ReLU      Adam  0.0010\n",
      "22  Model #23  0.466937  0.455530  [64, 32]       SELU      Adam  0.0010\n",
      "10  Model #11  0.447222  0.457512     [256]       ReLU      Adam  0.0010\n",
      "7    Model #8  0.469736  0.490195      [32]       SELU      Adam  0.0001\n",
      "14  Model #15  0.586860  0.609991     [256]       SELU      Adam  0.0010\n",
      "20  Model #21  0.703217  0.713644  [64, 32]       SELU       SGD  0.0010\n",
      "12  Model #13  0.719720  0.721990     [256]       SELU       SGD  0.0010\n",
      "8    Model #9  0.867551  0.896963     [256]       ReLU       SGD  0.0010\n",
      "4    Model #5  0.958190  0.926192      [32]       SELU       SGD  0.0010\n",
      "16  Model #17  0.947485  0.932273  [64, 32]       ReLU       SGD  0.0010\n",
      "13  Model #14  1.037783  1.041271     [256]       SELU       SGD  0.0001\n",
      "21  Model #22  1.209173  1.305914  [64, 32]       SELU       SGD  0.0001\n",
      "0    Model #1  1.275256  1.435682      [32]       ReLU       SGD  0.0010\n",
      "9   Model #10  1.398924  1.448937     [256]       ReLU       SGD  0.0001\n",
      "17  Model #18  1.542911  1.628450  [64, 32]       ReLU       SGD  0.0001\n",
      "5    Model #6  1.938043  1.944971      [32]       SELU       SGD  0.0001\n",
      "1    Model #2  5.134489  5.073544      [32]       ReLU       SGD  0.0001\n",
      "Running grid search space model #24/32\n",
      "BEST MODEL @ Epoch 83\n",
      "STOP TRAINING !\n",
      "Result so far:\n",
      "        MODEL       DEV      TEST    layers activation opt_class      lr\n",
      "19  Model #20  0.295773  0.301716  [64, 32]       ReLU      Adam  0.0001\n",
      "11  Model #12  0.347785  0.348903     [256]       ReLU      Adam  0.0001\n",
      "23  Model #24  0.364049  0.372758  [64, 32]       SELU      Adam  0.0001\n",
      "3    Model #4  0.415751  0.415868      [32]       ReLU      Adam  0.0001\n",
      "2    Model #3  0.383737  0.416761      [32]       ReLU      Adam  0.0010\n",
      "6    Model #7  0.422050  0.420657      [32]       SELU      Adam  0.0010\n",
      "15  Model #16  0.393903  0.427245     [256]       SELU      Adam  0.0001\n",
      "18  Model #19  0.407669  0.439448  [64, 32]       ReLU      Adam  0.0010\n",
      "22  Model #23  0.466937  0.455530  [64, 32]       SELU      Adam  0.0010\n",
      "10  Model #11  0.447222  0.457512     [256]       ReLU      Adam  0.0010\n",
      "7    Model #8  0.469736  0.490195      [32]       SELU      Adam  0.0001\n",
      "14  Model #15  0.586860  0.609991     [256]       SELU      Adam  0.0010\n",
      "20  Model #21  0.703217  0.713644  [64, 32]       SELU       SGD  0.0010\n",
      "12  Model #13  0.719720  0.721990     [256]       SELU       SGD  0.0010\n",
      "8    Model #9  0.867551  0.896963     [256]       ReLU       SGD  0.0010\n",
      "4    Model #5  0.958190  0.926192      [32]       SELU       SGD  0.0010\n",
      "16  Model #17  0.947485  0.932273  [64, 32]       ReLU       SGD  0.0010\n",
      "13  Model #14  1.037783  1.041271     [256]       SELU       SGD  0.0001\n",
      "21  Model #22  1.209173  1.305914  [64, 32]       SELU       SGD  0.0001\n",
      "0    Model #1  1.275256  1.435682      [32]       ReLU       SGD  0.0010\n",
      "9   Model #10  1.398924  1.448937     [256]       ReLU       SGD  0.0001\n",
      "17  Model #18  1.542911  1.628450  [64, 32]       ReLU       SGD  0.0001\n",
      "5    Model #6  1.938043  1.944971      [32]       SELU       SGD  0.0001\n",
      "1    Model #2  5.134489  5.073544      [32]       ReLU       SGD  0.0001\n",
      "Running grid search space model #25/32\n",
      "BEST MODEL @ Epoch 18\n",
      "STOP TRAINING !\n",
      "Result so far:\n",
      "        MODEL       DEV      TEST        layers activation opt_class      lr\n",
      "19  Model #20  0.295773  0.301716      [64, 32]       ReLU      Adam  0.0001\n",
      "11  Model #12  0.347785  0.348903         [256]       ReLU      Adam  0.0001\n",
      "23  Model #24  0.364049  0.372758      [64, 32]       SELU      Adam  0.0001\n",
      "3    Model #4  0.415751  0.415868          [32]       ReLU      Adam  0.0001\n",
      "2    Model #3  0.383737  0.416761          [32]       ReLU      Adam  0.0010\n",
      "6    Model #7  0.422050  0.420657          [32]       SELU      Adam  0.0010\n",
      "15  Model #16  0.393903  0.427245         [256]       SELU      Adam  0.0001\n",
      "18  Model #19  0.407669  0.439448      [64, 32]       ReLU      Adam  0.0010\n",
      "22  Model #23  0.466937  0.455530      [64, 32]       SELU      Adam  0.0010\n",
      "10  Model #11  0.447222  0.457512         [256]       ReLU      Adam  0.0010\n",
      "7    Model #8  0.469736  0.490195          [32]       SELU      Adam  0.0001\n",
      "14  Model #15  0.586860  0.609991         [256]       SELU      Adam  0.0010\n",
      "24  Model #25  0.632928  0.655453  [64, 32, 16]       ReLU       SGD  0.0010\n",
      "20  Model #21  0.703217  0.713644      [64, 32]       SELU       SGD  0.0010\n",
      "12  Model #13  0.719720  0.721990         [256]       SELU       SGD  0.0010\n",
      "8    Model #9  0.867551  0.896963         [256]       ReLU       SGD  0.0010\n",
      "4    Model #5  0.958190  0.926192          [32]       SELU       SGD  0.0010\n",
      "16  Model #17  0.947485  0.932273      [64, 32]       ReLU       SGD  0.0010\n",
      "13  Model #14  1.037783  1.041271         [256]       SELU       SGD  0.0001\n",
      "21  Model #22  1.209173  1.305914      [64, 32]       SELU       SGD  0.0001\n",
      "0    Model #1  1.275256  1.435682          [32]       ReLU       SGD  0.0010\n",
      "9   Model #10  1.398924  1.448937         [256]       ReLU       SGD  0.0001\n",
      "17  Model #18  1.542911  1.628450      [64, 32]       ReLU       SGD  0.0001\n",
      "5    Model #6  1.938043  1.944971          [32]       SELU       SGD  0.0001\n",
      "1    Model #2  5.134489  5.073544          [32]       ReLU       SGD  0.0001\n",
      "Running grid search space model #26/32\n"
     ]
    },
    {
     "name": "stdout",
     "output_type": "stream",
     "text": [
      "Result so far:poch 99\n",
      "        MODEL       DEV      TEST        layers activation opt_class      lr\n",
      "19  Model #20  0.295773  0.301716      [64, 32]       ReLU      Adam  0.0001\n",
      "11  Model #12  0.347785  0.348903         [256]       ReLU      Adam  0.0001\n",
      "23  Model #24  0.364049  0.372758      [64, 32]       SELU      Adam  0.0001\n",
      "3    Model #4  0.415751  0.415868          [32]       ReLU      Adam  0.0001\n",
      "2    Model #3  0.383737  0.416761          [32]       ReLU      Adam  0.0010\n",
      "6    Model #7  0.422050  0.420657          [32]       SELU      Adam  0.0010\n",
      "15  Model #16  0.393903  0.427245         [256]       SELU      Adam  0.0001\n",
      "18  Model #19  0.407669  0.439448      [64, 32]       ReLU      Adam  0.0010\n",
      "22  Model #23  0.466937  0.455530      [64, 32]       SELU      Adam  0.0010\n",
      "10  Model #11  0.447222  0.457512         [256]       ReLU      Adam  0.0010\n",
      "7    Model #8  0.469736  0.490195          [32]       SELU      Adam  0.0001\n",
      "14  Model #15  0.586860  0.609991         [256]       SELU      Adam  0.0010\n",
      "24  Model #25  0.632928  0.655453  [64, 32, 16]       ReLU       SGD  0.0010\n",
      "20  Model #21  0.703217  0.713644      [64, 32]       SELU       SGD  0.0010\n",
      "12  Model #13  0.719720  0.721990         [256]       SELU       SGD  0.0010\n",
      "8    Model #9  0.867551  0.896963         [256]       ReLU       SGD  0.0010\n",
      "4    Model #5  0.958190  0.926192          [32]       SELU       SGD  0.0010\n",
      "16  Model #17  0.947485  0.932273      [64, 32]       ReLU       SGD  0.0010\n",
      "13  Model #14  1.037783  1.041271         [256]       SELU       SGD  0.0001\n",
      "21  Model #22  1.209173  1.305914      [64, 32]       SELU       SGD  0.0001\n",
      "25  Model #26  1.369792  1.400721  [64, 32, 16]       ReLU       SGD  0.0001\n",
      "0    Model #1  1.275256  1.435682          [32]       ReLU       SGD  0.0010\n",
      "9   Model #10  1.398924  1.448937         [256]       ReLU       SGD  0.0001\n",
      "17  Model #18  1.542911  1.628450      [64, 32]       ReLU       SGD  0.0001\n",
      "5    Model #6  1.938043  1.944971          [32]       SELU       SGD  0.0001\n",
      "1    Model #2  5.134489  5.073544          [32]       ReLU       SGD  0.0001\n",
      "Running grid search space model #27/32\n",
      "BEST MODEL @ Epoch 8\n",
      "STOP TRAINING !\n",
      "Result so far:\n",
      "        MODEL       DEV      TEST        layers activation opt_class      lr\n",
      "19  Model #20  0.295773  0.301716      [64, 32]       ReLU      Adam  0.0001\n",
      "26  Model #27  0.320021  0.343391  [64, 32, 16]       ReLU      Adam  0.0010\n",
      "11  Model #12  0.347785  0.348903         [256]       ReLU      Adam  0.0001\n",
      "23  Model #24  0.364049  0.372758      [64, 32]       SELU      Adam  0.0001\n",
      "3    Model #4  0.415751  0.415868          [32]       ReLU      Adam  0.0001\n",
      "2    Model #3  0.383737  0.416761          [32]       ReLU      Adam  0.0010\n",
      "6    Model #7  0.422050  0.420657          [32]       SELU      Adam  0.0010\n",
      "15  Model #16  0.393903  0.427245         [256]       SELU      Adam  0.0001\n",
      "18  Model #19  0.407669  0.439448      [64, 32]       ReLU      Adam  0.0010\n",
      "22  Model #23  0.466937  0.455530      [64, 32]       SELU      Adam  0.0010\n",
      "10  Model #11  0.447222  0.457512         [256]       ReLU      Adam  0.0010\n",
      "7    Model #8  0.469736  0.490195          [32]       SELU      Adam  0.0001\n",
      "14  Model #15  0.586860  0.609991         [256]       SELU      Adam  0.0010\n",
      "24  Model #25  0.632928  0.655453  [64, 32, 16]       ReLU       SGD  0.0010\n",
      "20  Model #21  0.703217  0.713644      [64, 32]       SELU       SGD  0.0010\n",
      "12  Model #13  0.719720  0.721990         [256]       SELU       SGD  0.0010\n",
      "8    Model #9  0.867551  0.896963         [256]       ReLU       SGD  0.0010\n",
      "4    Model #5  0.958190  0.926192          [32]       SELU       SGD  0.0010\n",
      "16  Model #17  0.947485  0.932273      [64, 32]       ReLU       SGD  0.0010\n",
      "13  Model #14  1.037783  1.041271         [256]       SELU       SGD  0.0001\n",
      "21  Model #22  1.209173  1.305914      [64, 32]       SELU       SGD  0.0001\n",
      "25  Model #26  1.369792  1.400721  [64, 32, 16]       ReLU       SGD  0.0001\n",
      "0    Model #1  1.275256  1.435682          [32]       ReLU       SGD  0.0010\n",
      "9   Model #10  1.398924  1.448937         [256]       ReLU       SGD  0.0001\n",
      "17  Model #18  1.542911  1.628450      [64, 32]       ReLU       SGD  0.0001\n",
      "5    Model #6  1.938043  1.944971          [32]       SELU       SGD  0.0001\n",
      "1    Model #2  5.134489  5.073544          [32]       ReLU       SGD  0.0001\n",
      "Running grid search space model #28/32\n",
      "BEST MODEL @ Epoch 34\n",
      "STOP TRAINING !\n",
      "Result so far:\n",
      "        MODEL       DEV      TEST        layers activation opt_class      lr\n",
      "27  Model #28  0.285865  0.287551  [64, 32, 16]       ReLU      Adam  0.0001\n",
      "19  Model #20  0.295773  0.301716      [64, 32]       ReLU      Adam  0.0001\n",
      "26  Model #27  0.320021  0.343391  [64, 32, 16]       ReLU      Adam  0.0010\n",
      "11  Model #12  0.347785  0.348903         [256]       ReLU      Adam  0.0001\n",
      "23  Model #24  0.364049  0.372758      [64, 32]       SELU      Adam  0.0001\n",
      "3    Model #4  0.415751  0.415868          [32]       ReLU      Adam  0.0001\n",
      "2    Model #3  0.383737  0.416761          [32]       ReLU      Adam  0.0010\n",
      "6    Model #7  0.422050  0.420657          [32]       SELU      Adam  0.0010\n",
      "15  Model #16  0.393903  0.427245         [256]       SELU      Adam  0.0001\n",
      "18  Model #19  0.407669  0.439448      [64, 32]       ReLU      Adam  0.0010\n",
      "22  Model #23  0.466937  0.455530      [64, 32]       SELU      Adam  0.0010\n",
      "10  Model #11  0.447222  0.457512         [256]       ReLU      Adam  0.0010\n",
      "7    Model #8  0.469736  0.490195          [32]       SELU      Adam  0.0001\n",
      "14  Model #15  0.586860  0.609991         [256]       SELU      Adam  0.0010\n",
      "24  Model #25  0.632928  0.655453  [64, 32, 16]       ReLU       SGD  0.0010\n",
      "20  Model #21  0.703217  0.713644      [64, 32]       SELU       SGD  0.0010\n",
      "12  Model #13  0.719720  0.721990         [256]       SELU       SGD  0.0010\n",
      "8    Model #9  0.867551  0.896963         [256]       ReLU       SGD  0.0010\n",
      "4    Model #5  0.958190  0.926192          [32]       SELU       SGD  0.0010\n",
      "16  Model #17  0.947485  0.932273      [64, 32]       ReLU       SGD  0.0010\n",
      "13  Model #14  1.037783  1.041271         [256]       SELU       SGD  0.0001\n",
      "21  Model #22  1.209173  1.305914      [64, 32]       SELU       SGD  0.0001\n",
      "25  Model #26  1.369792  1.400721  [64, 32, 16]       ReLU       SGD  0.0001\n",
      "0    Model #1  1.275256  1.435682          [32]       ReLU       SGD  0.0010\n",
      "9   Model #10  1.398924  1.448937         [256]       ReLU       SGD  0.0001\n",
      "17  Model #18  1.542911  1.628450      [64, 32]       ReLU       SGD  0.0001\n",
      "5    Model #6  1.938043  1.944971          [32]       SELU       SGD  0.0001\n",
      "1    Model #2  5.134489  5.073544          [32]       ReLU       SGD  0.0001\n",
      "Running grid search space model #29/32\n",
      "Result so far:poch 99\n",
      "        MODEL       DEV      TEST        layers activation opt_class      lr\n",
      "27  Model #28  0.285865  0.287551  [64, 32, 16]       ReLU      Adam  0.0001\n",
      "19  Model #20  0.295773  0.301716      [64, 32]       ReLU      Adam  0.0001\n",
      "26  Model #27  0.320021  0.343391  [64, 32, 16]       ReLU      Adam  0.0010\n",
      "11  Model #12  0.347785  0.348903         [256]       ReLU      Adam  0.0001\n",
      "23  Model #24  0.364049  0.372758      [64, 32]       SELU      Adam  0.0001\n",
      "3    Model #4  0.415751  0.415868          [32]       ReLU      Adam  0.0001\n",
      "2    Model #3  0.383737  0.416761          [32]       ReLU      Adam  0.0010\n",
      "6    Model #7  0.422050  0.420657          [32]       SELU      Adam  0.0010\n",
      "15  Model #16  0.393903  0.427245         [256]       SELU      Adam  0.0001\n",
      "18  Model #19  0.407669  0.439448      [64, 32]       ReLU      Adam  0.0010\n",
      "22  Model #23  0.466937  0.455530      [64, 32]       SELU      Adam  0.0010\n",
      "10  Model #11  0.447222  0.457512         [256]       ReLU      Adam  0.0010\n",
      "7    Model #8  0.469736  0.490195          [32]       SELU      Adam  0.0001\n",
      "28  Model #29  0.554469  0.590749  [64, 32, 16]       SELU       SGD  0.0010\n",
      "14  Model #15  0.586860  0.609991         [256]       SELU      Adam  0.0010\n",
      "24  Model #25  0.632928  0.655453  [64, 32, 16]       ReLU       SGD  0.0010\n",
      "20  Model #21  0.703217  0.713644      [64, 32]       SELU       SGD  0.0010\n",
      "12  Model #13  0.719720  0.721990         [256]       SELU       SGD  0.0010\n",
      "8    Model #9  0.867551  0.896963         [256]       ReLU       SGD  0.0010\n",
      "4    Model #5  0.958190  0.926192          [32]       SELU       SGD  0.0010\n",
      "16  Model #17  0.947485  0.932273      [64, 32]       ReLU       SGD  0.0010\n",
      "13  Model #14  1.037783  1.041271         [256]       SELU       SGD  0.0001\n",
      "21  Model #22  1.209173  1.305914      [64, 32]       SELU       SGD  0.0001\n",
      "25  Model #26  1.369792  1.400721  [64, 32, 16]       ReLU       SGD  0.0001\n",
      "0    Model #1  1.275256  1.435682          [32]       ReLU       SGD  0.0010\n",
      "9   Model #10  1.398924  1.448937         [256]       ReLU       SGD  0.0001\n",
      "17  Model #18  1.542911  1.628450      [64, 32]       ReLU       SGD  0.0001\n",
      "5    Model #6  1.938043  1.944971          [32]       SELU       SGD  0.0001\n",
      "1    Model #2  5.134489  5.073544          [32]       ReLU       SGD  0.0001\n",
      "Running grid search space model #30/32\n"
     ]
    },
    {
     "name": "stdout",
     "output_type": "stream",
     "text": [
      "Result so far:poch 99\n",
      "        MODEL       DEV      TEST        layers activation opt_class      lr\n",
      "27  Model #28  0.285865  0.287551  [64, 32, 16]       ReLU      Adam  0.0001\n",
      "19  Model #20  0.295773  0.301716      [64, 32]       ReLU      Adam  0.0001\n",
      "26  Model #27  0.320021  0.343391  [64, 32, 16]       ReLU      Adam  0.0010\n",
      "11  Model #12  0.347785  0.348903         [256]       ReLU      Adam  0.0001\n",
      "23  Model #24  0.364049  0.372758      [64, 32]       SELU      Adam  0.0001\n",
      "3    Model #4  0.415751  0.415868          [32]       ReLU      Adam  0.0001\n",
      "2    Model #3  0.383737  0.416761          [32]       ReLU      Adam  0.0010\n",
      "6    Model #7  0.422050  0.420657          [32]       SELU      Adam  0.0010\n",
      "15  Model #16  0.393903  0.427245         [256]       SELU      Adam  0.0001\n",
      "18  Model #19  0.407669  0.439448      [64, 32]       ReLU      Adam  0.0010\n",
      "22  Model #23  0.466937  0.455530      [64, 32]       SELU      Adam  0.0010\n",
      "10  Model #11  0.447222  0.457512         [256]       ReLU      Adam  0.0010\n",
      "7    Model #8  0.469736  0.490195          [32]       SELU      Adam  0.0001\n",
      "28  Model #29  0.554469  0.590749  [64, 32, 16]       SELU       SGD  0.0010\n",
      "14  Model #15  0.586860  0.609991         [256]       SELU      Adam  0.0010\n",
      "24  Model #25  0.632928  0.655453  [64, 32, 16]       ReLU       SGD  0.0010\n",
      "20  Model #21  0.703217  0.713644      [64, 32]       SELU       SGD  0.0010\n",
      "12  Model #13  0.719720  0.721990         [256]       SELU       SGD  0.0010\n",
      "8    Model #9  0.867551  0.896963         [256]       ReLU       SGD  0.0010\n",
      "4    Model #5  0.958190  0.926192          [32]       SELU       SGD  0.0010\n",
      "16  Model #17  0.947485  0.932273      [64, 32]       ReLU       SGD  0.0010\n",
      "13  Model #14  1.037783  1.041271         [256]       SELU       SGD  0.0001\n",
      "29  Model #30  1.049629  1.113125  [64, 32, 16]       SELU       SGD  0.0001\n",
      "21  Model #22  1.209173  1.305914      [64, 32]       SELU       SGD  0.0001\n",
      "25  Model #26  1.369792  1.400721  [64, 32, 16]       ReLU       SGD  0.0001\n",
      "0    Model #1  1.275256  1.435682          [32]       ReLU       SGD  0.0010\n",
      "9   Model #10  1.398924  1.448937         [256]       ReLU       SGD  0.0001\n",
      "17  Model #18  1.542911  1.628450      [64, 32]       ReLU       SGD  0.0001\n",
      "5    Model #6  1.938043  1.944971          [32]       SELU       SGD  0.0001\n",
      "1    Model #2  5.134489  5.073544          [32]       ReLU       SGD  0.0001\n",
      "Running grid search space model #31/32\n",
      "BEST MODEL @ Epoch 3\n",
      "STOP TRAINING !\n",
      "Result so far:\n",
      "        MODEL       DEV      TEST        layers activation opt_class      lr\n",
      "27  Model #28  0.285865  0.287551  [64, 32, 16]       ReLU      Adam  0.0001\n",
      "19  Model #20  0.295773  0.301716      [64, 32]       ReLU      Adam  0.0001\n",
      "26  Model #27  0.320021  0.343391  [64, 32, 16]       ReLU      Adam  0.0010\n",
      "11  Model #12  0.347785  0.348903         [256]       ReLU      Adam  0.0001\n",
      "23  Model #24  0.364049  0.372758      [64, 32]       SELU      Adam  0.0001\n",
      "3    Model #4  0.415751  0.415868          [32]       ReLU      Adam  0.0001\n",
      "2    Model #3  0.383737  0.416761          [32]       ReLU      Adam  0.0010\n",
      "6    Model #7  0.422050  0.420657          [32]       SELU      Adam  0.0010\n",
      "15  Model #16  0.393903  0.427245         [256]       SELU      Adam  0.0001\n",
      "18  Model #19  0.407669  0.439448      [64, 32]       ReLU      Adam  0.0010\n",
      "22  Model #23  0.466937  0.455530      [64, 32]       SELU      Adam  0.0010\n",
      "10  Model #11  0.447222  0.457512         [256]       ReLU      Adam  0.0010\n",
      "30  Model #31  0.444826  0.465828  [64, 32, 16]       SELU      Adam  0.0010\n",
      "7    Model #8  0.469736  0.490195          [32]       SELU      Adam  0.0001\n",
      "28  Model #29  0.554469  0.590749  [64, 32, 16]       SELU       SGD  0.0010\n",
      "14  Model #15  0.586860  0.609991         [256]       SELU      Adam  0.0010\n",
      "24  Model #25  0.632928  0.655453  [64, 32, 16]       ReLU       SGD  0.0010\n",
      "20  Model #21  0.703217  0.713644      [64, 32]       SELU       SGD  0.0010\n",
      "12  Model #13  0.719720  0.721990         [256]       SELU       SGD  0.0010\n",
      "8    Model #9  0.867551  0.896963         [256]       ReLU       SGD  0.0010\n",
      "4    Model #5  0.958190  0.926192          [32]       SELU       SGD  0.0010\n",
      "16  Model #17  0.947485  0.932273      [64, 32]       ReLU       SGD  0.0010\n",
      "13  Model #14  1.037783  1.041271         [256]       SELU       SGD  0.0001\n",
      "29  Model #30  1.049629  1.113125  [64, 32, 16]       SELU       SGD  0.0001\n",
      "21  Model #22  1.209173  1.305914      [64, 32]       SELU       SGD  0.0001\n",
      "25  Model #26  1.369792  1.400721  [64, 32, 16]       ReLU       SGD  0.0001\n",
      "0    Model #1  1.275256  1.435682          [32]       ReLU       SGD  0.0010\n",
      "9   Model #10  1.398924  1.448937         [256]       ReLU       SGD  0.0001\n",
      "17  Model #18  1.542911  1.628450      [64, 32]       ReLU       SGD  0.0001\n",
      "5    Model #6  1.938043  1.944971          [32]       SELU       SGD  0.0001\n",
      "1    Model #2  5.134489  5.073544          [32]       ReLU       SGD  0.0001\n",
      "Running grid search space model #32/32\n",
      "BEST MODEL @ Epoch 68\n",
      "STOP TRAINING !\n",
      "Result so far:\n",
      "        MODEL       DEV      TEST        layers activation opt_class      lr\n",
      "27  Model #28  0.285865  0.287551  [64, 32, 16]       ReLU      Adam  0.0001\n",
      "19  Model #20  0.295773  0.301716      [64, 32]       ReLU      Adam  0.0001\n",
      "26  Model #27  0.320021  0.343391  [64, 32, 16]       ReLU      Adam  0.0010\n",
      "11  Model #12  0.347785  0.348903         [256]       ReLU      Adam  0.0001\n",
      "23  Model #24  0.364049  0.372758      [64, 32]       SELU      Adam  0.0001\n",
      "31  Model #32  0.356071  0.381785  [64, 32, 16]       SELU      Adam  0.0001\n",
      "3    Model #4  0.415751  0.415868          [32]       ReLU      Adam  0.0001\n",
      "2    Model #3  0.383737  0.416761          [32]       ReLU      Adam  0.0010\n",
      "6    Model #7  0.422050  0.420657          [32]       SELU      Adam  0.0010\n",
      "15  Model #16  0.393903  0.427245         [256]       SELU      Adam  0.0001\n",
      "18  Model #19  0.407669  0.439448      [64, 32]       ReLU      Adam  0.0010\n",
      "22  Model #23  0.466937  0.455530      [64, 32]       SELU      Adam  0.0010\n",
      "10  Model #11  0.447222  0.457512         [256]       ReLU      Adam  0.0010\n",
      "30  Model #31  0.444826  0.465828  [64, 32, 16]       SELU      Adam  0.0010\n",
      "7    Model #8  0.469736  0.490195          [32]       SELU      Adam  0.0001\n",
      "28  Model #29  0.554469  0.590749  [64, 32, 16]       SELU       SGD  0.0010\n",
      "14  Model #15  0.586860  0.609991         [256]       SELU      Adam  0.0010\n",
      "24  Model #25  0.632928  0.655453  [64, 32, 16]       ReLU       SGD  0.0010\n",
      "20  Model #21  0.703217  0.713644      [64, 32]       SELU       SGD  0.0010\n",
      "12  Model #13  0.719720  0.721990         [256]       SELU       SGD  0.0010\n",
      "8    Model #9  0.867551  0.896963         [256]       ReLU       SGD  0.0010\n",
      "4    Model #5  0.958190  0.926192          [32]       SELU       SGD  0.0010\n",
      "16  Model #17  0.947485  0.932273      [64, 32]       ReLU       SGD  0.0010\n",
      "13  Model #14  1.037783  1.041271         [256]       SELU       SGD  0.0001\n",
      "29  Model #30  1.049629  1.113125  [64, 32, 16]       SELU       SGD  0.0001\n",
      "21  Model #22  1.209173  1.305914      [64, 32]       SELU       SGD  0.0001\n",
      "25  Model #26  1.369792  1.400721  [64, 32, 16]       ReLU       SGD  0.0001\n",
      "0    Model #1  1.275256  1.435682          [32]       ReLU       SGD  0.0010\n",
      "9   Model #10  1.398924  1.448937         [256]       ReLU       SGD  0.0001\n",
      "17  Model #18  1.542911  1.628450      [64, 32]       ReLU       SGD  0.0001\n",
      "5    Model #6  1.938043  1.944971          [32]       SELU       SGD  0.0001\n",
      "1    Model #2  5.134489  5.073544          [32]       ReLU       SGD  0.0001\n"
     ]
    }
   ],
   "source": [
    "models = []\n",
    "dct_res = {\n",
    "    'MODEL' : [],\n",
    "    'DEV' : [],\n",
    "    'TEST' : [],\n",
    "}\n",
    "\n",
    "# prepare grid search\n",
    "grid_params = []\n",
    "grid_values = []\n",
    "for k in dct_grid_space:\n",
    "    grid_params.append(k)\n",
    "    grid_values.append(dct_grid_space[k])\n",
    "import itertools\n",
    "grid_combs = list(itertools.product(*grid_values))\n",
    "\n",
    "for grid_iter in range(len(grid_combs)):\n",
    "    dct_curr_params = {k:v for k,v in zip(grid_params, grid_combs[grid_iter])}\n",
    "    break\n",
    "\n",
    "# run grid search\n",
    "for grid_iter in range(len(grid_combs)):\n",
    "    dct_curr_params = {k:v for k,v in zip(grid_params, grid_combs[grid_iter])}\n",
    "    print(\"Running grid search space model #{}/{}\".format(grid_iter+1,len(grid_combs)))\n",
    "    model, opt = get_model_and_optimizer(**dct_curr_params)\n",
    "    model = train_model(model, opt)\n",
    "    models.append(model)\n",
    "    dev_err = th_evaluate(\n",
    "        m=model,\n",
    "        th_inputs=th_x_dev,\n",
    "        gold=y_dev,\n",
    "        y_div=y_norm_div,\n",
    "        y_sub=y_norm_sub,\n",
    "        verbose=False,\n",
    "        name='Final DEV'\n",
    "    )\n",
    "    test_err = th_evaluate(\n",
    "        m=model,\n",
    "        th_inputs=th_x_test,\n",
    "        gold=y_test,\n",
    "        y_div=y_norm_div,\n",
    "        y_sub=y_norm_sub,\n",
    "        verbose=False,\n",
    "        name='Final TEST'\n",
    "    )\n",
    "    dct_res['MODEL'].append('Model #' + str(grid_iter + 1))\n",
    "    dct_res['DEV'].append(dev_err)\n",
    "    dct_res['TEST'].append(test_err)\n",
    "    for k,v in dct_curr_params.items():\n",
    "        if k not in dct_res:\n",
    "            dct_res[k] = []\n",
    "        if not isinstance(v, (list, int, float)):\n",
    "            dct_res[k].append(v.__name__)\n",
    "        else:\n",
    "            dct_res[k].append(v)\n",
    "    print('Result so far:\\n{}'.format(pd.DataFrame(dct_res).sort_values('TEST')))\n"
   ]
  },
  {
   "cell_type": "code",
   "execution_count": 128,
   "id": "88b2941d",
   "metadata": {
    "scrolled": false
   },
   "outputs": [
    {
     "name": "stdout",
     "output_type": "stream",
     "text": [
      "Running grid search space model #1/16\n",
      "BEST MODEL @ Epoch 3\n",
      "STOP TRAINING !\n",
      "Result so far:\n",
      "      MODEL       DEV      TEST        layers activation opt_class      lr\n",
      "0  Model #1  0.373618  0.388033  [64, 32, 16]       ReLU   RMSprop  0.0005\n",
      "Running grid search space model #2/16\n",
      "BEST MODEL @ Epoch 10\n",
      "STOP TRAINING !\n",
      "Result so far:\n",
      "      MODEL       DEV      TEST        layers activation opt_class      lr\n",
      "1  Model #2  0.322570  0.340914  [64, 32, 16]       ReLU   RMSprop  0.0001\n",
      "0  Model #1  0.373618  0.388033  [64, 32, 16]       ReLU   RMSprop  0.0005\n",
      "Running grid search space model #3/16\n",
      "BEST MODEL @ Epoch 16\n",
      "STOP TRAINING !\n",
      "Result so far:\n",
      "      MODEL       DEV      TEST        layers activation opt_class      lr\n",
      "2  Model #3  0.272049  0.278721  [64, 32, 16]       ReLU      Adam  0.0005\n",
      "1  Model #2  0.322570  0.340914  [64, 32, 16]       ReLU   RMSprop  0.0001\n",
      "0  Model #1  0.373618  0.388033  [64, 32, 16]       ReLU   RMSprop  0.0005\n",
      "Running grid search space model #4/16\n",
      "Result so far:poch 99\n",
      "      MODEL       DEV      TEST        layers activation opt_class      lr\n",
      "2  Model #3  0.272049  0.278721  [64, 32, 16]       ReLU      Adam  0.0005\n",
      "3  Model #4  0.291467  0.296237  [64, 32, 16]       ReLU      Adam  0.0001\n",
      "1  Model #2  0.322570  0.340914  [64, 32, 16]       ReLU   RMSprop  0.0001\n",
      "0  Model #1  0.373618  0.388033  [64, 32, 16]       ReLU   RMSprop  0.0005\n",
      "Running grid search space model #5/16\n",
      "BEST MODEL @ Epoch 1\n",
      "STOP TRAINING !\n",
      "Result so far:\n",
      "      MODEL       DEV      TEST        layers activation opt_class      lr\n",
      "2  Model #3  0.272049  0.278721  [64, 32, 16]       ReLU      Adam  0.0005\n",
      "3  Model #4  0.291467  0.296237  [64, 32, 16]       ReLU      Adam  0.0001\n",
      "1  Model #2  0.322570  0.340914  [64, 32, 16]       ReLU   RMSprop  0.0001\n",
      "4  Model #5  0.349597  0.350897  [64, 32, 16]      ReLU6   RMSprop  0.0005\n",
      "0  Model #1  0.373618  0.388033  [64, 32, 16]       ReLU   RMSprop  0.0005\n",
      "Running grid search space model #6/16\n",
      "BEST MODEL @ Epoch 32\n",
      "STOP TRAINING !\n",
      "Result so far:\n",
      "      MODEL       DEV      TEST        layers activation opt_class      lr\n",
      "2  Model #3  0.272049  0.278721  [64, 32, 16]       ReLU      Adam  0.0005\n",
      "3  Model #4  0.291467  0.296237  [64, 32, 16]       ReLU      Adam  0.0001\n",
      "1  Model #2  0.322570  0.340914  [64, 32, 16]       ReLU   RMSprop  0.0001\n",
      "4  Model #5  0.349597  0.350897  [64, 32, 16]      ReLU6   RMSprop  0.0005\n",
      "5  Model #6  0.332874  0.351200  [64, 32, 16]      ReLU6   RMSprop  0.0001\n",
      "0  Model #1  0.373618  0.388033  [64, 32, 16]       ReLU   RMSprop  0.0005\n",
      "Running grid search space model #7/16\n",
      "BEST MODEL @ Epoch 5\n",
      "STOP TRAINING !\n",
      "Result so far:\n",
      "      MODEL       DEV      TEST        layers activation opt_class      lr\n",
      "2  Model #3  0.272049  0.278721  [64, 32, 16]       ReLU      Adam  0.0005\n",
      "3  Model #4  0.291467  0.296237  [64, 32, 16]       ReLU      Adam  0.0001\n",
      "6  Model #7  0.298874  0.318844  [64, 32, 16]      ReLU6      Adam  0.0005\n",
      "1  Model #2  0.322570  0.340914  [64, 32, 16]       ReLU   RMSprop  0.0001\n",
      "4  Model #5  0.349597  0.350897  [64, 32, 16]      ReLU6   RMSprop  0.0005\n",
      "5  Model #6  0.332874  0.351200  [64, 32, 16]      ReLU6   RMSprop  0.0001\n",
      "0  Model #1  0.373618  0.388033  [64, 32, 16]       ReLU   RMSprop  0.0005\n",
      "Running grid search space model #8/16\n",
      "BEST MODEL @ Epoch 48\n",
      "STOP TRAINING !\n",
      "Result so far:\n",
      "      MODEL       DEV      TEST        layers activation opt_class      lr\n",
      "2  Model #3  0.272049  0.278721  [64, 32, 16]       ReLU      Adam  0.0005\n",
      "3  Model #4  0.291467  0.296237  [64, 32, 16]       ReLU      Adam  0.0001\n",
      "7  Model #8  0.297136  0.298435  [64, 32, 16]      ReLU6      Adam  0.0001\n",
      "6  Model #7  0.298874  0.318844  [64, 32, 16]      ReLU6      Adam  0.0005\n",
      "1  Model #2  0.322570  0.340914  [64, 32, 16]       ReLU   RMSprop  0.0001\n",
      "4  Model #5  0.349597  0.350897  [64, 32, 16]      ReLU6   RMSprop  0.0005\n",
      "5  Model #6  0.332874  0.351200  [64, 32, 16]      ReLU6   RMSprop  0.0001\n",
      "0  Model #1  0.373618  0.388033  [64, 32, 16]       ReLU   RMSprop  0.0005\n",
      "Running grid search space model #9/16\n",
      "BEST MODEL @ Epoch 2\n",
      "STOP TRAINING !\n",
      "Result so far:\n",
      "      MODEL       DEV      TEST        layers activation opt_class      lr\n",
      "2  Model #3  0.272049  0.278721  [64, 32, 16]       ReLU      Adam  0.0005\n",
      "3  Model #4  0.291467  0.296237  [64, 32, 16]       ReLU      Adam  0.0001\n",
      "7  Model #8  0.297136  0.298435  [64, 32, 16]      ReLU6      Adam  0.0001\n",
      "6  Model #7  0.298874  0.318844  [64, 32, 16]      ReLU6      Adam  0.0005\n",
      "1  Model #2  0.322570  0.340914  [64, 32, 16]       ReLU   RMSprop  0.0001\n",
      "4  Model #5  0.349597  0.350897  [64, 32, 16]      ReLU6   RMSprop  0.0005\n",
      "5  Model #6  0.332874  0.351200  [64, 32, 16]      ReLU6   RMSprop  0.0001\n",
      "0  Model #1  0.373618  0.388033  [64, 32, 16]       ReLU   RMSprop  0.0005\n",
      "8  Model #9  0.467635  0.494346  [128, 32, 8]       ReLU   RMSprop  0.0005\n",
      "Running grid search space model #10/16\n",
      "BEST MODEL @ Epoch 6\n",
      "STOP TRAINING !\n",
      "Result so far:\n",
      "       MODEL       DEV      TEST        layers activation opt_class      lr\n",
      "2   Model #3  0.272049  0.278721  [64, 32, 16]       ReLU      Adam  0.0005\n",
      "3   Model #4  0.291467  0.296237  [64, 32, 16]       ReLU      Adam  0.0001\n",
      "7   Model #8  0.297136  0.298435  [64, 32, 16]      ReLU6      Adam  0.0001\n",
      "6   Model #7  0.298874  0.318844  [64, 32, 16]      ReLU6      Adam  0.0005\n",
      "1   Model #2  0.322570  0.340914  [64, 32, 16]       ReLU   RMSprop  0.0001\n",
      "4   Model #5  0.349597  0.350897  [64, 32, 16]      ReLU6   RMSprop  0.0005\n",
      "5   Model #6  0.332874  0.351200  [64, 32, 16]      ReLU6   RMSprop  0.0001\n",
      "9  Model #10  0.338406  0.355034  [128, 32, 8]       ReLU   RMSprop  0.0001\n",
      "0   Model #1  0.373618  0.388033  [64, 32, 16]       ReLU   RMSprop  0.0005\n",
      "8   Model #9  0.467635  0.494346  [128, 32, 8]       ReLU   RMSprop  0.0005\n",
      "Running grid search space model #11/16\n",
      "BEST MODEL @ Epoch 13\n",
      "STOP TRAINING !\n",
      "Result so far:\n",
      "        MODEL       DEV      TEST        layers activation opt_class      lr\n",
      "2    Model #3  0.272049  0.278721  [64, 32, 16]       ReLU      Adam  0.0005\n",
      "10  Model #11  0.284949  0.290896  [128, 32, 8]       ReLU      Adam  0.0005\n",
      "3    Model #4  0.291467  0.296237  [64, 32, 16]       ReLU      Adam  0.0001\n",
      "7    Model #8  0.297136  0.298435  [64, 32, 16]      ReLU6      Adam  0.0001\n",
      "6    Model #7  0.298874  0.318844  [64, 32, 16]      ReLU6      Adam  0.0005\n",
      "1    Model #2  0.322570  0.340914  [64, 32, 16]       ReLU   RMSprop  0.0001\n",
      "4    Model #5  0.349597  0.350897  [64, 32, 16]      ReLU6   RMSprop  0.0005\n",
      "5    Model #6  0.332874  0.351200  [64, 32, 16]      ReLU6   RMSprop  0.0001\n",
      "9   Model #10  0.338406  0.355034  [128, 32, 8]       ReLU   RMSprop  0.0001\n",
      "0    Model #1  0.373618  0.388033  [64, 32, 16]       ReLU   RMSprop  0.0005\n",
      "8    Model #9  0.467635  0.494346  [128, 32, 8]       ReLU   RMSprop  0.0005\n",
      "Running grid search space model #12/16\n",
      "BEST MODEL @ Epoch 39\n",
      "STOP TRAINING !\n",
      "Result so far:\n",
      "        MODEL       DEV      TEST        layers activation opt_class      lr\n",
      "2    Model #3  0.272049  0.278721  [64, 32, 16]       ReLU      Adam  0.0005\n",
      "10  Model #11  0.284949  0.290896  [128, 32, 8]       ReLU      Adam  0.0005\n",
      "3    Model #4  0.291467  0.296237  [64, 32, 16]       ReLU      Adam  0.0001\n",
      "7    Model #8  0.297136  0.298435  [64, 32, 16]      ReLU6      Adam  0.0001\n",
      "11  Model #12  0.294986  0.308452  [128, 32, 8]       ReLU      Adam  0.0001\n",
      "6    Model #7  0.298874  0.318844  [64, 32, 16]      ReLU6      Adam  0.0005\n",
      "1    Model #2  0.322570  0.340914  [64, 32, 16]       ReLU   RMSprop  0.0001\n",
      "4    Model #5  0.349597  0.350897  [64, 32, 16]      ReLU6   RMSprop  0.0005\n",
      "5    Model #6  0.332874  0.351200  [64, 32, 16]      ReLU6   RMSprop  0.0001\n",
      "9   Model #10  0.338406  0.355034  [128, 32, 8]       ReLU   RMSprop  0.0001\n",
      "0    Model #1  0.373618  0.388033  [64, 32, 16]       ReLU   RMSprop  0.0005\n",
      "8    Model #9  0.467635  0.494346  [128, 32, 8]       ReLU   RMSprop  0.0005\n",
      "Running grid search space model #13/16\n",
      "BEST MODEL @ Epoch 4\n",
      "STOP TRAINING !\n",
      "Result so far:\n",
      "        MODEL       DEV      TEST        layers activation opt_class      lr\n",
      "2    Model #3  0.272049  0.278721  [64, 32, 16]       ReLU      Adam  0.0005\n",
      "10  Model #11  0.284949  0.290896  [128, 32, 8]       ReLU      Adam  0.0005\n",
      "3    Model #4  0.291467  0.296237  [64, 32, 16]       ReLU      Adam  0.0001\n",
      "7    Model #8  0.297136  0.298435  [64, 32, 16]      ReLU6      Adam  0.0001\n",
      "11  Model #12  0.294986  0.308452  [128, 32, 8]       ReLU      Adam  0.0001\n",
      "6    Model #7  0.298874  0.318844  [64, 32, 16]      ReLU6      Adam  0.0005\n",
      "1    Model #2  0.322570  0.340914  [64, 32, 16]       ReLU   RMSprop  0.0001\n",
      "4    Model #5  0.349597  0.350897  [64, 32, 16]      ReLU6   RMSprop  0.0005\n",
      "5    Model #6  0.332874  0.351200  [64, 32, 16]      ReLU6   RMSprop  0.0001\n",
      "9   Model #10  0.338406  0.355034  [128, 32, 8]       ReLU   RMSprop  0.0001\n",
      "0    Model #1  0.373618  0.388033  [64, 32, 16]       ReLU   RMSprop  0.0005\n",
      "8    Model #9  0.467635  0.494346  [128, 32, 8]       ReLU   RMSprop  0.0005\n",
      "12  Model #13  0.502776  0.534335  [128, 32, 8]      ReLU6   RMSprop  0.0005\n",
      "Running grid search space model #14/16\n"
     ]
    },
    {
     "name": "stdout",
     "output_type": "stream",
     "text": [
      "BEST MODEL @ Epoch 9\n",
      "STOP TRAINING !\n",
      "Result so far:\n",
      "        MODEL       DEV      TEST        layers activation opt_class      lr\n",
      "2    Model #3  0.272049  0.278721  [64, 32, 16]       ReLU      Adam  0.0005\n",
      "10  Model #11  0.284949  0.290896  [128, 32, 8]       ReLU      Adam  0.0005\n",
      "3    Model #4  0.291467  0.296237  [64, 32, 16]       ReLU      Adam  0.0001\n",
      "7    Model #8  0.297136  0.298435  [64, 32, 16]      ReLU6      Adam  0.0001\n",
      "11  Model #12  0.294986  0.308452  [128, 32, 8]       ReLU      Adam  0.0001\n",
      "6    Model #7  0.298874  0.318844  [64, 32, 16]      ReLU6      Adam  0.0005\n",
      "13  Model #14  0.314465  0.332314  [128, 32, 8]      ReLU6   RMSprop  0.0001\n",
      "1    Model #2  0.322570  0.340914  [64, 32, 16]       ReLU   RMSprop  0.0001\n",
      "4    Model #5  0.349597  0.350897  [64, 32, 16]      ReLU6   RMSprop  0.0005\n",
      "5    Model #6  0.332874  0.351200  [64, 32, 16]      ReLU6   RMSprop  0.0001\n",
      "9   Model #10  0.338406  0.355034  [128, 32, 8]       ReLU   RMSprop  0.0001\n",
      "0    Model #1  0.373618  0.388033  [64, 32, 16]       ReLU   RMSprop  0.0005\n",
      "8    Model #9  0.467635  0.494346  [128, 32, 8]       ReLU   RMSprop  0.0005\n",
      "12  Model #13  0.502776  0.534335  [128, 32, 8]      ReLU6   RMSprop  0.0005\n",
      "Running grid search space model #15/16\n",
      "BEST MODEL @ Epoch 11\n",
      "STOP TRAINING !\n",
      "Result so far:\n",
      "        MODEL       DEV      TEST        layers activation opt_class      lr\n",
      "2    Model #3  0.272049  0.278721  [64, 32, 16]       ReLU      Adam  0.0005\n",
      "10  Model #11  0.284949  0.290896  [128, 32, 8]       ReLU      Adam  0.0005\n",
      "3    Model #4  0.291467  0.296237  [64, 32, 16]       ReLU      Adam  0.0001\n",
      "7    Model #8  0.297136  0.298435  [64, 32, 16]      ReLU6      Adam  0.0001\n",
      "14  Model #15  0.299575  0.299763  [128, 32, 8]      ReLU6      Adam  0.0005\n",
      "11  Model #12  0.294986  0.308452  [128, 32, 8]       ReLU      Adam  0.0001\n",
      "6    Model #7  0.298874  0.318844  [64, 32, 16]      ReLU6      Adam  0.0005\n",
      "13  Model #14  0.314465  0.332314  [128, 32, 8]      ReLU6   RMSprop  0.0001\n",
      "1    Model #2  0.322570  0.340914  [64, 32, 16]       ReLU   RMSprop  0.0001\n",
      "4    Model #5  0.349597  0.350897  [64, 32, 16]      ReLU6   RMSprop  0.0005\n",
      "5    Model #6  0.332874  0.351200  [64, 32, 16]      ReLU6   RMSprop  0.0001\n",
      "9   Model #10  0.338406  0.355034  [128, 32, 8]       ReLU   RMSprop  0.0001\n",
      "0    Model #1  0.373618  0.388033  [64, 32, 16]       ReLU   RMSprop  0.0005\n",
      "8    Model #9  0.467635  0.494346  [128, 32, 8]       ReLU   RMSprop  0.0005\n",
      "12  Model #13  0.502776  0.534335  [128, 32, 8]      ReLU6   RMSprop  0.0005\n",
      "Running grid search space model #16/16\n",
      "BEST MODEL @ Epoch 23\n",
      "STOP TRAINING !\n",
      "Result so far:\n",
      "        MODEL       DEV      TEST        layers activation opt_class      lr\n",
      "2    Model #3  0.272049  0.278721  [64, 32, 16]       ReLU      Adam  0.0005\n",
      "10  Model #11  0.284949  0.290896  [128, 32, 8]       ReLU      Adam  0.0005\n",
      "3    Model #4  0.291467  0.296237  [64, 32, 16]       ReLU      Adam  0.0001\n",
      "7    Model #8  0.297136  0.298435  [64, 32, 16]      ReLU6      Adam  0.0001\n",
      "14  Model #15  0.299575  0.299763  [128, 32, 8]      ReLU6      Adam  0.0005\n",
      "11  Model #12  0.294986  0.308452  [128, 32, 8]       ReLU      Adam  0.0001\n",
      "6    Model #7  0.298874  0.318844  [64, 32, 16]      ReLU6      Adam  0.0005\n",
      "15  Model #16  0.298854  0.319253  [128, 32, 8]      ReLU6      Adam  0.0001\n",
      "13  Model #14  0.314465  0.332314  [128, 32, 8]      ReLU6   RMSprop  0.0001\n",
      "1    Model #2  0.322570  0.340914  [64, 32, 16]       ReLU   RMSprop  0.0001\n",
      "4    Model #5  0.349597  0.350897  [64, 32, 16]      ReLU6   RMSprop  0.0005\n",
      "5    Model #6  0.332874  0.351200  [64, 32, 16]      ReLU6   RMSprop  0.0001\n",
      "9   Model #10  0.338406  0.355034  [128, 32, 8]       ReLU   RMSprop  0.0001\n",
      "0    Model #1  0.373618  0.388033  [64, 32, 16]       ReLU   RMSprop  0.0005\n",
      "8    Model #9  0.467635  0.494346  [128, 32, 8]       ReLU   RMSprop  0.0005\n",
      "12  Model #13  0.502776  0.534335  [128, 32, 8]      ReLU6   RMSprop  0.0005\n"
     ]
    }
   ],
   "source": [
    "models = []\n",
    "dct_res = {\n",
    "    'MODEL' : [],\n",
    "    'DEV' : [],\n",
    "    'TEST' : [],\n",
    "}\n",
    "\n",
    "dct_narrowed_grid_space = {\n",
    "    'layers' : [\n",
    "        [64, 32, 16],\n",
    "        [128, 32, 8],\n",
    "    ],\n",
    "    'activation' : [\n",
    "        th.nn.ReLU,\n",
    "        th.nn.ReLU6,\n",
    "    ],\n",
    "    'opt_class' : [\n",
    "        th.optim.RMSprop,\n",
    "        th.optim.Adam\n",
    "    ],\n",
    "    'lr' : [\n",
    "        0.0005,\n",
    "        0.0001\n",
    "    ]\n",
    "}\n",
    "\n",
    "# prepare grid search\n",
    "grid_params = []\n",
    "grid_values = []\n",
    "for k in dct_narrowed_grid_space:\n",
    "    grid_params.append(k)\n",
    "    grid_values.append(dct_narrowed_grid_space[k])\n",
    "import itertools\n",
    "grid_combs = list(itertools.product(*grid_values))\n",
    "\n",
    "for grid_iter in range(len(grid_combs)):\n",
    "    dct_curr_params = {k:v for k,v in zip(grid_params, grid_combs[grid_iter])}\n",
    "    break\n",
    "\n",
    "# run grid search\n",
    "for grid_iter in range(len(grid_combs)):\n",
    "    dct_curr_params = {k:v for k,v in zip(grid_params, grid_combs[grid_iter])}\n",
    "    print(\"Running grid search space model #{}/{}\".format(grid_iter+1,len(grid_combs)))\n",
    "    model, opt = get_model_and_optimizer(**dct_curr_params)\n",
    "    model = train_model(model, opt)\n",
    "    models.append(model)\n",
    "    dev_err = th_evaluate(\n",
    "        m=model,\n",
    "        th_inputs=th_x_dev,\n",
    "        gold=y_dev,\n",
    "        y_div=y_norm_div,\n",
    "        y_sub=y_norm_sub,\n",
    "        verbose=False,\n",
    "        name='Final DEV'\n",
    "    )\n",
    "    test_err = th_evaluate(\n",
    "        m=model,\n",
    "        th_inputs=th_x_test,\n",
    "        gold=y_test,\n",
    "        y_div=y_norm_div,\n",
    "        y_sub=y_norm_sub,\n",
    "        verbose=False,\n",
    "        name='Final TEST'\n",
    "    )\n",
    "    dct_res['MODEL'].append('Model #' + str(grid_iter + 1))\n",
    "    dct_res['DEV'].append(dev_err)\n",
    "    dct_res['TEST'].append(test_err)\n",
    "    for k,v in dct_curr_params.items():\n",
    "        if k not in dct_res:\n",
    "            dct_res[k] = []\n",
    "        if not isinstance(v, (list, int, float)):\n",
    "            dct_res[k].append(v.__name__)\n",
    "        else:\n",
    "            dct_res[k].append(v)\n",
    "    print('Result so far:\\n{}'.format(pd.DataFrame(dct_res).sort_values('TEST')))\n"
   ]
  },
  {
   "cell_type": "code",
   "execution_count": null,
   "id": "3dc7a843",
   "metadata": {},
   "outputs": [],
   "source": []
  }
 ],
 "metadata": {
  "kernelspec": {
   "display_name": "Python 3 (ipykernel)",
   "language": "python",
   "name": "python3"
  },
  "language_info": {
   "codemirror_mode": {
    "name": "ipython",
    "version": 3
   },
   "file_extension": ".py",
   "mimetype": "text/x-python",
   "name": "python",
   "nbconvert_exporter": "python",
   "pygments_lexer": "ipython3",
   "version": "3.8.12"
  }
 },
 "nbformat": 4,
 "nbformat_minor": 5
}
