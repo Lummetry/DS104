{
 "cells": [
  {
   "cell_type": "code",
   "execution_count": 1,
   "id": "9c9f0291",
   "metadata": {},
   "outputs": [],
   "source": [
    "import numpy as np\n",
    "import pandas as pd"
   ]
  },
  {
   "cell_type": "code",
   "execution_count": 2,
   "id": "16a34047",
   "metadata": {},
   "outputs": [],
   "source": [
    "np.set_printoptions(precision=5, suppress=True)"
   ]
  },
  {
   "cell_type": "code",
   "execution_count": 3,
   "id": "0d3226dc",
   "metadata": {},
   "outputs": [],
   "source": [
    "df = pd.read_csv('../data/imobiliare_bucuresti.csv')"
   ]
  },
  {
   "cell_type": "code",
   "execution_count": 4,
   "id": "e4c9c906",
   "metadata": {},
   "outputs": [
    {
     "data": {
      "text/html": [
       "<div>\n",
       "<style scoped>\n",
       "    .dataframe tbody tr th:only-of-type {\n",
       "        vertical-align: middle;\n",
       "    }\n",
       "\n",
       "    .dataframe tbody tr th {\n",
       "        vertical-align: top;\n",
       "    }\n",
       "\n",
       "    .dataframe thead th {\n",
       "        text-align: right;\n",
       "    }\n",
       "</style>\n",
       "<table border=\"1\" class=\"dataframe\">\n",
       "  <thead>\n",
       "    <tr style=\"text-align: right;\">\n",
       "      <th></th>\n",
       "      <th>Unnamed: 0</th>\n",
       "      <th>nr cam</th>\n",
       "      <th>mp</th>\n",
       "      <th>parter</th>\n",
       "      <th>et1-2</th>\n",
       "      <th>et3+</th>\n",
       "      <th>etaj max</th>\n",
       "      <th>typ_decom</th>\n",
       "      <th>bloc nou</th>\n",
       "      <th>Price/Surface</th>\n",
       "      <th>Price</th>\n",
       "      <th>WebPage</th>\n",
       "    </tr>\n",
       "  </thead>\n",
       "  <tbody>\n",
       "    <tr>\n",
       "      <th>0</th>\n",
       "      <td>1</td>\n",
       "      <td>2</td>\n",
       "      <td>56.00</td>\n",
       "      <td>0</td>\n",
       "      <td>1</td>\n",
       "      <td>0</td>\n",
       "      <td>2</td>\n",
       "      <td>1</td>\n",
       "      <td>1</td>\n",
       "      <td>639.29</td>\n",
       "      <td>35800</td>\n",
       "      <td>https://www.imobiliare.ro/vanzare-apartamente/...</td>\n",
       "    </tr>\n",
       "    <tr>\n",
       "      <th>1</th>\n",
       "      <td>2</td>\n",
       "      <td>2</td>\n",
       "      <td>57.00</td>\n",
       "      <td>0</td>\n",
       "      <td>1</td>\n",
       "      <td>0</td>\n",
       "      <td>2</td>\n",
       "      <td>0</td>\n",
       "      <td>1</td>\n",
       "      <td>628.07</td>\n",
       "      <td>35800</td>\n",
       "      <td>https://www.imobiliare.ro/vanzare-apartamente/...</td>\n",
       "    </tr>\n",
       "    <tr>\n",
       "      <th>2</th>\n",
       "      <td>3</td>\n",
       "      <td>2</td>\n",
       "      <td>67.00</td>\n",
       "      <td>0</td>\n",
       "      <td>1</td>\n",
       "      <td>0</td>\n",
       "      <td>2</td>\n",
       "      <td>1</td>\n",
       "      <td>1</td>\n",
       "      <td>591.04</td>\n",
       "      <td>39600</td>\n",
       "      <td>https://www.imobiliare.ro/vanzare-apartamente/...</td>\n",
       "    </tr>\n",
       "    <tr>\n",
       "      <th>3</th>\n",
       "      <td>4</td>\n",
       "      <td>1</td>\n",
       "      <td>48.00</td>\n",
       "      <td>0</td>\n",
       "      <td>1</td>\n",
       "      <td>0</td>\n",
       "      <td>2</td>\n",
       "      <td>1</td>\n",
       "      <td>1</td>\n",
       "      <td>620.83</td>\n",
       "      <td>29800</td>\n",
       "      <td>https://www.imobiliare.ro/vanzare-garsoniere/b...</td>\n",
       "    </tr>\n",
       "    <tr>\n",
       "      <th>4</th>\n",
       "      <td>5</td>\n",
       "      <td>3</td>\n",
       "      <td>89.60</td>\n",
       "      <td>0</td>\n",
       "      <td>0</td>\n",
       "      <td>1</td>\n",
       "      <td>3</td>\n",
       "      <td>1</td>\n",
       "      <td>1</td>\n",
       "      <td>1260.04</td>\n",
       "      <td>112900</td>\n",
       "      <td>https://www.imobiliare.ro/vanzare-apartamente/...</td>\n",
       "    </tr>\n",
       "    <tr>\n",
       "      <th>...</th>\n",
       "      <td>...</td>\n",
       "      <td>...</td>\n",
       "      <td>...</td>\n",
       "      <td>...</td>\n",
       "      <td>...</td>\n",
       "      <td>...</td>\n",
       "      <td>...</td>\n",
       "      <td>...</td>\n",
       "      <td>...</td>\n",
       "      <td>...</td>\n",
       "      <td>...</td>\n",
       "      <td>...</td>\n",
       "    </tr>\n",
       "    <tr>\n",
       "      <th>9892</th>\n",
       "      <td>9894</td>\n",
       "      <td>4</td>\n",
       "      <td>90.00</td>\n",
       "      <td>0</td>\n",
       "      <td>0</td>\n",
       "      <td>1</td>\n",
       "      <td>8</td>\n",
       "      <td>0</td>\n",
       "      <td>0</td>\n",
       "      <td>944.44</td>\n",
       "      <td>85000</td>\n",
       "      <td>https://www.imobiliare.ro/vanzare-apartamente/...</td>\n",
       "    </tr>\n",
       "    <tr>\n",
       "      <th>9893</th>\n",
       "      <td>9895</td>\n",
       "      <td>3</td>\n",
       "      <td>85.00</td>\n",
       "      <td>0</td>\n",
       "      <td>0</td>\n",
       "      <td>1</td>\n",
       "      <td>8</td>\n",
       "      <td>1</td>\n",
       "      <td>0</td>\n",
       "      <td>1588.22</td>\n",
       "      <td>134999</td>\n",
       "      <td>https://www.imobiliare.ro/vanzare-apartamente/...</td>\n",
       "    </tr>\n",
       "    <tr>\n",
       "      <th>9894</th>\n",
       "      <td>9896</td>\n",
       "      <td>2</td>\n",
       "      <td>48.00</td>\n",
       "      <td>0</td>\n",
       "      <td>0</td>\n",
       "      <td>1</td>\n",
       "      <td>4</td>\n",
       "      <td>0</td>\n",
       "      <td>0</td>\n",
       "      <td>1229.17</td>\n",
       "      <td>59000</td>\n",
       "      <td>https://www.imobiliare.ro/vanzare-apartamente/...</td>\n",
       "    </tr>\n",
       "    <tr>\n",
       "      <th>9895</th>\n",
       "      <td>9897</td>\n",
       "      <td>4</td>\n",
       "      <td>83.81</td>\n",
       "      <td>0</td>\n",
       "      <td>0</td>\n",
       "      <td>1</td>\n",
       "      <td>3</td>\n",
       "      <td>1</td>\n",
       "      <td>1</td>\n",
       "      <td>1312.49</td>\n",
       "      <td>110000</td>\n",
       "      <td>https://www.imobiliare.ro/vanzare-apartamente/...</td>\n",
       "    </tr>\n",
       "    <tr>\n",
       "      <th>9896</th>\n",
       "      <td>9898</td>\n",
       "      <td>1</td>\n",
       "      <td>35.00</td>\n",
       "      <td>0</td>\n",
       "      <td>0</td>\n",
       "      <td>1</td>\n",
       "      <td>4</td>\n",
       "      <td>1</td>\n",
       "      <td>1</td>\n",
       "      <td>1757.14</td>\n",
       "      <td>61500</td>\n",
       "      <td>https://www.imobiliare.ro/vanzare-garsoniere/b...</td>\n",
       "    </tr>\n",
       "  </tbody>\n",
       "</table>\n",
       "<p>9897 rows × 12 columns</p>\n",
       "</div>"
      ],
      "text/plain": [
       "      Unnamed: 0  nr cam     mp  parter  et1-2  et3+  etaj max  typ_decom  \\\n",
       "0              1       2  56.00       0      1     0         2          1   \n",
       "1              2       2  57.00       0      1     0         2          0   \n",
       "2              3       2  67.00       0      1     0         2          1   \n",
       "3              4       1  48.00       0      1     0         2          1   \n",
       "4              5       3  89.60       0      0     1         3          1   \n",
       "...          ...     ...    ...     ...    ...   ...       ...        ...   \n",
       "9892        9894       4  90.00       0      0     1         8          0   \n",
       "9893        9895       3  85.00       0      0     1         8          1   \n",
       "9894        9896       2  48.00       0      0     1         4          0   \n",
       "9895        9897       4  83.81       0      0     1         3          1   \n",
       "9896        9898       1  35.00       0      0     1         4          1   \n",
       "\n",
       "      bloc nou  Price/Surface   Price  \\\n",
       "0            1         639.29   35800   \n",
       "1            1         628.07   35800   \n",
       "2            1         591.04   39600   \n",
       "3            1         620.83   29800   \n",
       "4            1        1260.04  112900   \n",
       "...        ...            ...     ...   \n",
       "9892         0         944.44   85000   \n",
       "9893         0        1588.22  134999   \n",
       "9894         0        1229.17   59000   \n",
       "9895         1        1312.49  110000   \n",
       "9896         1        1757.14   61500   \n",
       "\n",
       "                                                WebPage  \n",
       "0     https://www.imobiliare.ro/vanzare-apartamente/...  \n",
       "1     https://www.imobiliare.ro/vanzare-apartamente/...  \n",
       "2     https://www.imobiliare.ro/vanzare-apartamente/...  \n",
       "3     https://www.imobiliare.ro/vanzare-garsoniere/b...  \n",
       "4     https://www.imobiliare.ro/vanzare-apartamente/...  \n",
       "...                                                 ...  \n",
       "9892  https://www.imobiliare.ro/vanzare-apartamente/...  \n",
       "9893  https://www.imobiliare.ro/vanzare-apartamente/...  \n",
       "9894  https://www.imobiliare.ro/vanzare-apartamente/...  \n",
       "9895  https://www.imobiliare.ro/vanzare-apartamente/...  \n",
       "9896  https://www.imobiliare.ro/vanzare-garsoniere/b...  \n",
       "\n",
       "[9897 rows x 12 columns]"
      ]
     },
     "execution_count": 4,
     "metadata": {},
     "output_type": "execute_result"
    }
   ],
   "source": [
    "df"
   ]
  },
  {
   "cell_type": "code",
   "execution_count": 5,
   "id": "fbe683b7",
   "metadata": {},
   "outputs": [],
   "source": [
    "y_sqmp = df[\"Price/Surface\"]\n",
    "y_price = df['Price']\n",
    "X = df.iloc[:,1:9]\n"
   ]
  },
  {
   "cell_type": "code",
   "execution_count": 6,
   "id": "e075d5a0",
   "metadata": {},
   "outputs": [
    {
     "data": {
      "text/html": [
       "<div>\n",
       "<style scoped>\n",
       "    .dataframe tbody tr th:only-of-type {\n",
       "        vertical-align: middle;\n",
       "    }\n",
       "\n",
       "    .dataframe tbody tr th {\n",
       "        vertical-align: top;\n",
       "    }\n",
       "\n",
       "    .dataframe thead th {\n",
       "        text-align: right;\n",
       "    }\n",
       "</style>\n",
       "<table border=\"1\" class=\"dataframe\">\n",
       "  <thead>\n",
       "    <tr style=\"text-align: right;\">\n",
       "      <th></th>\n",
       "      <th>nr cam</th>\n",
       "      <th>mp</th>\n",
       "      <th>parter</th>\n",
       "      <th>et1-2</th>\n",
       "      <th>et3+</th>\n",
       "      <th>etaj max</th>\n",
       "      <th>typ_decom</th>\n",
       "      <th>bloc nou</th>\n",
       "    </tr>\n",
       "  </thead>\n",
       "  <tbody>\n",
       "    <tr>\n",
       "      <th>0</th>\n",
       "      <td>2</td>\n",
       "      <td>56.00</td>\n",
       "      <td>0</td>\n",
       "      <td>1</td>\n",
       "      <td>0</td>\n",
       "      <td>2</td>\n",
       "      <td>1</td>\n",
       "      <td>1</td>\n",
       "    </tr>\n",
       "    <tr>\n",
       "      <th>1</th>\n",
       "      <td>2</td>\n",
       "      <td>57.00</td>\n",
       "      <td>0</td>\n",
       "      <td>1</td>\n",
       "      <td>0</td>\n",
       "      <td>2</td>\n",
       "      <td>0</td>\n",
       "      <td>1</td>\n",
       "    </tr>\n",
       "    <tr>\n",
       "      <th>2</th>\n",
       "      <td>2</td>\n",
       "      <td>67.00</td>\n",
       "      <td>0</td>\n",
       "      <td>1</td>\n",
       "      <td>0</td>\n",
       "      <td>2</td>\n",
       "      <td>1</td>\n",
       "      <td>1</td>\n",
       "    </tr>\n",
       "    <tr>\n",
       "      <th>3</th>\n",
       "      <td>1</td>\n",
       "      <td>48.00</td>\n",
       "      <td>0</td>\n",
       "      <td>1</td>\n",
       "      <td>0</td>\n",
       "      <td>2</td>\n",
       "      <td>1</td>\n",
       "      <td>1</td>\n",
       "    </tr>\n",
       "    <tr>\n",
       "      <th>4</th>\n",
       "      <td>3</td>\n",
       "      <td>89.60</td>\n",
       "      <td>0</td>\n",
       "      <td>0</td>\n",
       "      <td>1</td>\n",
       "      <td>3</td>\n",
       "      <td>1</td>\n",
       "      <td>1</td>\n",
       "    </tr>\n",
       "    <tr>\n",
       "      <th>...</th>\n",
       "      <td>...</td>\n",
       "      <td>...</td>\n",
       "      <td>...</td>\n",
       "      <td>...</td>\n",
       "      <td>...</td>\n",
       "      <td>...</td>\n",
       "      <td>...</td>\n",
       "      <td>...</td>\n",
       "    </tr>\n",
       "    <tr>\n",
       "      <th>9892</th>\n",
       "      <td>4</td>\n",
       "      <td>90.00</td>\n",
       "      <td>0</td>\n",
       "      <td>0</td>\n",
       "      <td>1</td>\n",
       "      <td>8</td>\n",
       "      <td>0</td>\n",
       "      <td>0</td>\n",
       "    </tr>\n",
       "    <tr>\n",
       "      <th>9893</th>\n",
       "      <td>3</td>\n",
       "      <td>85.00</td>\n",
       "      <td>0</td>\n",
       "      <td>0</td>\n",
       "      <td>1</td>\n",
       "      <td>8</td>\n",
       "      <td>1</td>\n",
       "      <td>0</td>\n",
       "    </tr>\n",
       "    <tr>\n",
       "      <th>9894</th>\n",
       "      <td>2</td>\n",
       "      <td>48.00</td>\n",
       "      <td>0</td>\n",
       "      <td>0</td>\n",
       "      <td>1</td>\n",
       "      <td>4</td>\n",
       "      <td>0</td>\n",
       "      <td>0</td>\n",
       "    </tr>\n",
       "    <tr>\n",
       "      <th>9895</th>\n",
       "      <td>4</td>\n",
       "      <td>83.81</td>\n",
       "      <td>0</td>\n",
       "      <td>0</td>\n",
       "      <td>1</td>\n",
       "      <td>3</td>\n",
       "      <td>1</td>\n",
       "      <td>1</td>\n",
       "    </tr>\n",
       "    <tr>\n",
       "      <th>9896</th>\n",
       "      <td>1</td>\n",
       "      <td>35.00</td>\n",
       "      <td>0</td>\n",
       "      <td>0</td>\n",
       "      <td>1</td>\n",
       "      <td>4</td>\n",
       "      <td>1</td>\n",
       "      <td>1</td>\n",
       "    </tr>\n",
       "  </tbody>\n",
       "</table>\n",
       "<p>9897 rows × 8 columns</p>\n",
       "</div>"
      ],
      "text/plain": [
       "      nr cam     mp  parter  et1-2  et3+  etaj max  typ_decom  bloc nou\n",
       "0          2  56.00       0      1     0         2          1         1\n",
       "1          2  57.00       0      1     0         2          0         1\n",
       "2          2  67.00       0      1     0         2          1         1\n",
       "3          1  48.00       0      1     0         2          1         1\n",
       "4          3  89.60       0      0     1         3          1         1\n",
       "...      ...    ...     ...    ...   ...       ...        ...       ...\n",
       "9892       4  90.00       0      0     1         8          0         0\n",
       "9893       3  85.00       0      0     1         8          1         0\n",
       "9894       2  48.00       0      0     1         4          0         0\n",
       "9895       4  83.81       0      0     1         3          1         1\n",
       "9896       1  35.00       0      0     1         4          1         1\n",
       "\n",
       "[9897 rows x 8 columns]"
      ]
     },
     "execution_count": 6,
     "metadata": {},
     "output_type": "execute_result"
    }
   ],
   "source": [
    "X"
   ]
  },
  {
   "cell_type": "code",
   "execution_count": 7,
   "id": "72b9f303",
   "metadata": {},
   "outputs": [
    {
     "data": {
      "text/plain": [
       "0        35800\n",
       "1        35800\n",
       "2        39600\n",
       "3        29800\n",
       "4       112900\n",
       "         ...  \n",
       "9892     85000\n",
       "9893    134999\n",
       "9894     59000\n",
       "9895    110000\n",
       "9896     61500\n",
       "Name: Price, Length: 9897, dtype: int64"
      ]
     },
     "execution_count": 7,
     "metadata": {},
     "output_type": "execute_result"
    }
   ],
   "source": [
    "y_price"
   ]
  },
  {
   "cell_type": "code",
   "execution_count": 8,
   "id": "82811a1f",
   "metadata": {},
   "outputs": [],
   "source": [
    "# further process X data maybe\n",
    "# construct normal eq and determine model coefs (((XtX)^-1)Xt)y (y = x*w => w = y/x)\n",
    "# validate results (how, when)\n",
    "# f(X) = y = X[0]*w[0] + X[1]*w[1] + .... X[N]*w[N] +X[N+1]*w[N+1] | X[N+1] == 1"
   ]
  },
  {
   "cell_type": "code",
   "execution_count": 9,
   "id": "a95888e8",
   "metadata": {},
   "outputs": [],
   "source": [
    "import matplotlib.pyplot as plt\n",
    "%matplotlib inline"
   ]
  },
  {
   "cell_type": "code",
   "execution_count": 10,
   "id": "ba33c821",
   "metadata": {},
   "outputs": [
    {
     "data": {
      "text/plain": [
       "Text(0.5, 1.0, 'Distribution of nr of rooms per apartment')"
      ]
     },
     "execution_count": 10,
     "metadata": {},
     "output_type": "execute_result"
    },
    {
     "data": {
      "image/png": "[encoded data removed]",
      "text/plain": [
       "<Figure size 432x288 with 1 Axes>"
      ]
     },
     "metadata": {
      "needs_background": "light"
     },
     "output_type": "display_data"
    }
   ],
   "source": [
    "X['nr cam'].hist(bins=20)\n",
    "plt.xlabel('Nr rooms')\n",
    "plt.title('Distribution of nr of rooms per apartment')"
   ]
  },
  {
   "cell_type": "code",
   "execution_count": 11,
   "id": "25b90dca",
   "metadata": {},
   "outputs": [
    {
     "data": {
      "text/plain": [
       "Text(0.5, 1.0, 'Distribution of apartment surface')"
      ]
     },
     "execution_count": 11,
     "metadata": {},
     "output_type": "execute_result"
    },
    {
     "data": {
      "image/png": "[encoded data removed]",
      "text/plain": [
       "<Figure size 432x288 with 1 Axes>"
      ]
     },
     "metadata": {
      "needs_background": "light"
     },
     "output_type": "display_data"
    }
   ],
   "source": [
    "X['mp'].hist(bins=30)\n",
    "plt.xlabel('Property surface sqm')\n",
    "plt.title('Distribution of apartment surface')"
   ]
  },
  {
   "cell_type": "code",
   "execution_count": 12,
   "id": "ab0395cb",
   "metadata": {},
   "outputs": [
    {
     "data": {
      "text/plain": [
       "(array([5637., 2571.,  748.,  335.,  191.,  127.,   71.,   36.,   50.,\n",
       "          25.,    8.,    6.,   14.,    6.,    3.,   14.,    4.,   17.,\n",
       "           2.,   10.,    2.,    2.,    2.,    2.,    1.,    3.,    0.,\n",
       "           0.,    0.,    0.,    1.,    0.,    0.,    1.,    0.,    2.,\n",
       "           0.,    2.,    2.,    0.,    0.,    0.,    1.,    0.,    0.,\n",
       "           0.,    0.,    0.,    0.,    1.]),\n",
       " array([  18000.,   95240.,  172480.,  249720.,  326960.,  404200.,\n",
       "         481440.,  558680.,  635920.,  713160.,  790400.,  867640.,\n",
       "         944880., 1022120., 1099360., 1176600., 1253840., 1331080.,\n",
       "        1408320., 1485560., 1562800., 1640040., 1717280., 1794520.,\n",
       "        1871760., 1949000., 2026240., 2103480., 2180720., 2257960.,\n",
       "        2335200., 2412440., 2489680., 2566920., 2644160., 2721400.,\n",
       "        2798640., 2875880., 2953120., 3030360., 3107600., 3184840.,\n",
       "        3262080., 3339320., 3416560., 3493800., 3571040., 3648280.,\n",
       "        3725520., 3802760., 3880000.]),\n",
       " <BarContainer object of 50 artists>)"
      ]
     },
     "execution_count": 12,
     "metadata": {},
     "output_type": "execute_result"
    },
    {
     "data": {
      "image/png": "[encoded data removed]",
      "text/plain": [
       "<Figure size 432x288 with 1 Axes>"
      ]
     },
     "metadata": {
      "needs_background": "light"
     },
     "output_type": "display_data"
    }
   ],
   "source": [
    "plt.hist(y_price.values, bins=50)"
   ]
  },
  {
   "cell_type": "code",
   "execution_count": 13,
   "id": "ce209002",
   "metadata": {},
   "outputs": [
    {
     "data": {
      "text/html": [
       "<div>\n",
       "<style scoped>\n",
       "    .dataframe tbody tr th:only-of-type {\n",
       "        vertical-align: middle;\n",
       "    }\n",
       "\n",
       "    .dataframe tbody tr th {\n",
       "        vertical-align: top;\n",
       "    }\n",
       "\n",
       "    .dataframe thead th {\n",
       "        text-align: right;\n",
       "    }\n",
       "</style>\n",
       "<table border=\"1\" class=\"dataframe\">\n",
       "  <thead>\n",
       "    <tr style=\"text-align: right;\">\n",
       "      <th></th>\n",
       "      <th>nr cam</th>\n",
       "      <th>mp</th>\n",
       "      <th>parter</th>\n",
       "      <th>et1-2</th>\n",
       "      <th>et3+</th>\n",
       "      <th>etaj max</th>\n",
       "      <th>typ_decom</th>\n",
       "      <th>bloc nou</th>\n",
       "    </tr>\n",
       "  </thead>\n",
       "  <tbody>\n",
       "    <tr>\n",
       "      <th>nr cam</th>\n",
       "      <td>1.000000</td>\n",
       "      <td>0.777186</td>\n",
       "      <td>0.003816</td>\n",
       "      <td>-0.067465</td>\n",
       "      <td>0.062328</td>\n",
       "      <td>0.073172</td>\n",
       "      <td>-0.000365</td>\n",
       "      <td>-0.139376</td>\n",
       "    </tr>\n",
       "    <tr>\n",
       "      <th>mp</th>\n",
       "      <td>0.777186</td>\n",
       "      <td>1.000000</td>\n",
       "      <td>0.000869</td>\n",
       "      <td>-0.056167</td>\n",
       "      <td>0.053421</td>\n",
       "      <td>0.065719</td>\n",
       "      <td>0.087754</td>\n",
       "      <td>0.006321</td>\n",
       "    </tr>\n",
       "    <tr>\n",
       "      <th>parter</th>\n",
       "      <td>0.003816</td>\n",
       "      <td>0.000869</td>\n",
       "      <td>1.000000</td>\n",
       "      <td>-0.285501</td>\n",
       "      <td>-0.388748</td>\n",
       "      <td>-0.448826</td>\n",
       "      <td>0.004277</td>\n",
       "      <td>-0.002453</td>\n",
       "    </tr>\n",
       "    <tr>\n",
       "      <th>et1-2</th>\n",
       "      <td>-0.067465</td>\n",
       "      <td>-0.056167</td>\n",
       "      <td>-0.285501</td>\n",
       "      <td>1.000000</td>\n",
       "      <td>-0.772008</td>\n",
       "      <td>-0.500485</td>\n",
       "      <td>0.065535</td>\n",
       "      <td>0.187789</td>\n",
       "    </tr>\n",
       "    <tr>\n",
       "      <th>et3+</th>\n",
       "      <td>0.062328</td>\n",
       "      <td>0.053421</td>\n",
       "      <td>-0.388748</td>\n",
       "      <td>-0.772008</td>\n",
       "      <td>1.000000</td>\n",
       "      <td>0.778814</td>\n",
       "      <td>-0.065839</td>\n",
       "      <td>-0.178905</td>\n",
       "    </tr>\n",
       "    <tr>\n",
       "      <th>etaj max</th>\n",
       "      <td>0.073172</td>\n",
       "      <td>0.065719</td>\n",
       "      <td>-0.448826</td>\n",
       "      <td>-0.500485</td>\n",
       "      <td>0.778814</td>\n",
       "      <td>1.000000</td>\n",
       "      <td>-0.071077</td>\n",
       "      <td>-0.193046</td>\n",
       "    </tr>\n",
       "    <tr>\n",
       "      <th>typ_decom</th>\n",
       "      <td>-0.000365</td>\n",
       "      <td>0.087754</td>\n",
       "      <td>0.004277</td>\n",
       "      <td>0.065535</td>\n",
       "      <td>-0.065839</td>\n",
       "      <td>-0.071077</td>\n",
       "      <td>1.000000</td>\n",
       "      <td>0.213843</td>\n",
       "    </tr>\n",
       "    <tr>\n",
       "      <th>bloc nou</th>\n",
       "      <td>-0.139376</td>\n",
       "      <td>0.006321</td>\n",
       "      <td>-0.002453</td>\n",
       "      <td>0.187789</td>\n",
       "      <td>-0.178905</td>\n",
       "      <td>-0.193046</td>\n",
       "      <td>0.213843</td>\n",
       "      <td>1.000000</td>\n",
       "    </tr>\n",
       "  </tbody>\n",
       "</table>\n",
       "</div>"
      ],
      "text/plain": [
       "             nr cam        mp    parter     et1-2      et3+  etaj max  \\\n",
       "nr cam     1.000000  0.777186  0.003816 -0.067465  0.062328  0.073172   \n",
       "mp         0.777186  1.000000  0.000869 -0.056167  0.053421  0.065719   \n",
       "parter     0.003816  0.000869  1.000000 -0.285501 -0.388748 -0.448826   \n",
       "et1-2     -0.067465 -0.056167 -0.285501  1.000000 -0.772008 -0.500485   \n",
       "et3+       0.062328  0.053421 -0.388748 -0.772008  1.000000  0.778814   \n",
       "etaj max   0.073172  0.065719 -0.448826 -0.500485  0.778814  1.000000   \n",
       "typ_decom -0.000365  0.087754  0.004277  0.065535 -0.065839 -0.071077   \n",
       "bloc nou  -0.139376  0.006321 -0.002453  0.187789 -0.178905 -0.193046   \n",
       "\n",
       "           typ_decom  bloc nou  \n",
       "nr cam     -0.000365 -0.139376  \n",
       "mp          0.087754  0.006321  \n",
       "parter      0.004277 -0.002453  \n",
       "et1-2       0.065535  0.187789  \n",
       "et3+       -0.065839 -0.178905  \n",
       "etaj max   -0.071077 -0.193046  \n",
       "typ_decom   1.000000  0.213843  \n",
       "bloc nou    0.213843  1.000000  "
      ]
     },
     "execution_count": 13,
     "metadata": {},
     "output_type": "execute_result"
    }
   ],
   "source": [
    "X.corr()"
   ]
  },
  {
   "cell_type": "code",
   "execution_count": 14,
   "id": "7c643f28",
   "metadata": {},
   "outputs": [],
   "source": [
    "new_corr_features = ['nr cam', 'mp', 'parter', 'et1-2', 'et3+','etaj max', 'typ_decom', 'bloc nou', 'Price']"
   ]
  },
  {
   "cell_type": "code",
   "execution_count": 15,
   "id": "83153d02",
   "metadata": {},
   "outputs": [],
   "source": [
    "df_new = df[new_corr_features]"
   ]
  },
  {
   "cell_type": "code",
   "execution_count": 16,
   "id": "5b913474",
   "metadata": {},
   "outputs": [
    {
     "data": {
      "text/html": [
       "<div>\n",
       "<style scoped>\n",
       "    .dataframe tbody tr th:only-of-type {\n",
       "        vertical-align: middle;\n",
       "    }\n",
       "\n",
       "    .dataframe tbody tr th {\n",
       "        vertical-align: top;\n",
       "    }\n",
       "\n",
       "    .dataframe thead th {\n",
       "        text-align: right;\n",
       "    }\n",
       "</style>\n",
       "<table border=\"1\" class=\"dataframe\">\n",
       "  <thead>\n",
       "    <tr style=\"text-align: right;\">\n",
       "      <th></th>\n",
       "      <th>nr cam</th>\n",
       "      <th>mp</th>\n",
       "      <th>parter</th>\n",
       "      <th>et1-2</th>\n",
       "      <th>et3+</th>\n",
       "      <th>etaj max</th>\n",
       "      <th>typ_decom</th>\n",
       "      <th>bloc nou</th>\n",
       "      <th>Price</th>\n",
       "    </tr>\n",
       "  </thead>\n",
       "  <tbody>\n",
       "    <tr>\n",
       "      <th>nr cam</th>\n",
       "      <td>1.000000</td>\n",
       "      <td>0.777186</td>\n",
       "      <td>0.003816</td>\n",
       "      <td>-0.067465</td>\n",
       "      <td>0.062328</td>\n",
       "      <td>0.073172</td>\n",
       "      <td>-0.000365</td>\n",
       "      <td>-0.139376</td>\n",
       "      <td>0.525333</td>\n",
       "    </tr>\n",
       "    <tr>\n",
       "      <th>mp</th>\n",
       "      <td>0.777186</td>\n",
       "      <td>1.000000</td>\n",
       "      <td>0.000869</td>\n",
       "      <td>-0.056167</td>\n",
       "      <td>0.053421</td>\n",
       "      <td>0.065719</td>\n",
       "      <td>0.087754</td>\n",
       "      <td>0.006321</td>\n",
       "      <td>0.770386</td>\n",
       "    </tr>\n",
       "    <tr>\n",
       "      <th>parter</th>\n",
       "      <td>0.003816</td>\n",
       "      <td>0.000869</td>\n",
       "      <td>1.000000</td>\n",
       "      <td>-0.285501</td>\n",
       "      <td>-0.388748</td>\n",
       "      <td>-0.448826</td>\n",
       "      <td>0.004277</td>\n",
       "      <td>-0.002453</td>\n",
       "      <td>-0.020806</td>\n",
       "    </tr>\n",
       "    <tr>\n",
       "      <th>et1-2</th>\n",
       "      <td>-0.067465</td>\n",
       "      <td>-0.056167</td>\n",
       "      <td>-0.285501</td>\n",
       "      <td>1.000000</td>\n",
       "      <td>-0.772008</td>\n",
       "      <td>-0.500485</td>\n",
       "      <td>0.065535</td>\n",
       "      <td>0.187789</td>\n",
       "      <td>-0.061217</td>\n",
       "    </tr>\n",
       "    <tr>\n",
       "      <th>et3+</th>\n",
       "      <td>0.062328</td>\n",
       "      <td>0.053421</td>\n",
       "      <td>-0.388748</td>\n",
       "      <td>-0.772008</td>\n",
       "      <td>1.000000</td>\n",
       "      <td>0.778814</td>\n",
       "      <td>-0.065839</td>\n",
       "      <td>-0.178905</td>\n",
       "      <td>0.072650</td>\n",
       "    </tr>\n",
       "    <tr>\n",
       "      <th>etaj max</th>\n",
       "      <td>0.073172</td>\n",
       "      <td>0.065719</td>\n",
       "      <td>-0.448826</td>\n",
       "      <td>-0.500485</td>\n",
       "      <td>0.778814</td>\n",
       "      <td>1.000000</td>\n",
       "      <td>-0.071077</td>\n",
       "      <td>-0.193046</td>\n",
       "      <td>0.091064</td>\n",
       "    </tr>\n",
       "    <tr>\n",
       "      <th>typ_decom</th>\n",
       "      <td>-0.000365</td>\n",
       "      <td>0.087754</td>\n",
       "      <td>0.004277</td>\n",
       "      <td>0.065535</td>\n",
       "      <td>-0.065839</td>\n",
       "      <td>-0.071077</td>\n",
       "      <td>1.000000</td>\n",
       "      <td>0.213843</td>\n",
       "      <td>0.034928</td>\n",
       "    </tr>\n",
       "    <tr>\n",
       "      <th>bloc nou</th>\n",
       "      <td>-0.139376</td>\n",
       "      <td>0.006321</td>\n",
       "      <td>-0.002453</td>\n",
       "      <td>0.187789</td>\n",
       "      <td>-0.178905</td>\n",
       "      <td>-0.193046</td>\n",
       "      <td>0.213843</td>\n",
       "      <td>1.000000</td>\n",
       "      <td>0.035021</td>\n",
       "    </tr>\n",
       "    <tr>\n",
       "      <th>Price</th>\n",
       "      <td>0.525333</td>\n",
       "      <td>0.770386</td>\n",
       "      <td>-0.020806</td>\n",
       "      <td>-0.061217</td>\n",
       "      <td>0.072650</td>\n",
       "      <td>0.091064</td>\n",
       "      <td>0.034928</td>\n",
       "      <td>0.035021</td>\n",
       "      <td>1.000000</td>\n",
       "    </tr>\n",
       "  </tbody>\n",
       "</table>\n",
       "</div>"
      ],
      "text/plain": [
       "             nr cam        mp    parter     et1-2      et3+  etaj max  \\\n",
       "nr cam     1.000000  0.777186  0.003816 -0.067465  0.062328  0.073172   \n",
       "mp         0.777186  1.000000  0.000869 -0.056167  0.053421  0.065719   \n",
       "parter     0.003816  0.000869  1.000000 -0.285501 -0.388748 -0.448826   \n",
       "et1-2     -0.067465 -0.056167 -0.285501  1.000000 -0.772008 -0.500485   \n",
       "et3+       0.062328  0.053421 -0.388748 -0.772008  1.000000  0.778814   \n",
       "etaj max   0.073172  0.065719 -0.448826 -0.500485  0.778814  1.000000   \n",
       "typ_decom -0.000365  0.087754  0.004277  0.065535 -0.065839 -0.071077   \n",
       "bloc nou  -0.139376  0.006321 -0.002453  0.187789 -0.178905 -0.193046   \n",
       "Price      0.525333  0.770386 -0.020806 -0.061217  0.072650  0.091064   \n",
       "\n",
       "           typ_decom  bloc nou     Price  \n",
       "nr cam     -0.000365 -0.139376  0.525333  \n",
       "mp          0.087754  0.006321  0.770386  \n",
       "parter      0.004277 -0.002453 -0.020806  \n",
       "et1-2       0.065535  0.187789 -0.061217  \n",
       "et3+       -0.065839 -0.178905  0.072650  \n",
       "etaj max   -0.071077 -0.193046  0.091064  \n",
       "typ_decom   1.000000  0.213843  0.034928  \n",
       "bloc nou    0.213843  1.000000  0.035021  \n",
       "Price       0.034928  0.035021  1.000000  "
      ]
     },
     "execution_count": 16,
     "metadata": {},
     "output_type": "execute_result"
    }
   ],
   "source": [
    "df_new.corr()"
   ]
  },
  {
   "cell_type": "code",
   "execution_count": 17,
   "id": "23c164ac",
   "metadata": {},
   "outputs": [
    {
     "data": {
      "text/plain": [
       "nr cam        2.505709\n",
       "mp           73.704865\n",
       "parter        0.125695\n",
       "et1-2         0.361827\n",
       "et3+          0.512479\n",
       "etaj max      3.336466\n",
       "typ_decom     0.717591\n",
       "bloc nou      0.593210\n",
       "dtype: float64"
      ]
     },
     "execution_count": 17,
     "metadata": {},
     "output_type": "execute_result"
    }
   ],
   "source": [
    "X.mean()"
   ]
  },
  {
   "cell_type": "code",
   "execution_count": 18,
   "id": "d544883f",
   "metadata": {},
   "outputs": [
    {
     "data": {
      "text/plain": [
       "nr cam        1.0\n",
       "mp           15.0\n",
       "parter        0.0\n",
       "et1-2         0.0\n",
       "et3+          0.0\n",
       "etaj max      0.0\n",
       "typ_decom     0.0\n",
       "bloc nou      0.0\n",
       "dtype: float64"
      ]
     },
     "execution_count": 18,
     "metadata": {},
     "output_type": "execute_result"
    }
   ],
   "source": [
    "X.min()"
   ]
  },
  {
   "cell_type": "code",
   "execution_count": 19,
   "id": "4e899d03",
   "metadata": {},
   "outputs": [
    {
     "data": {
      "text/plain": [
       "nr cam        0.950467\n",
       "mp           40.174869\n",
       "parter        0.331522\n",
       "et1-2         0.480553\n",
       "et3+          0.499870\n",
       "etaj max      2.818757\n",
       "typ_decom     0.450194\n",
       "bloc nou      0.491260\n",
       "dtype: float64"
      ]
     },
     "execution_count": 19,
     "metadata": {},
     "output_type": "execute_result"
    }
   ],
   "source": [
    "X.std()"
   ]
  },
  {
   "cell_type": "code",
   "execution_count": 20,
   "id": "da7811fd",
   "metadata": {},
   "outputs": [
    {
     "data": {
      "text/plain": [
       "nr cam        12.0\n",
       "mp           621.0\n",
       "parter         1.0\n",
       "et1-2          1.0\n",
       "et3+           1.0\n",
       "etaj max      18.0\n",
       "typ_decom      1.0\n",
       "bloc nou       1.0\n",
       "dtype: float64"
      ]
     },
     "execution_count": 20,
     "metadata": {},
     "output_type": "execute_result"
    }
   ],
   "source": [
    "X.max()"
   ]
  },
  {
   "cell_type": "code",
   "execution_count": 21,
   "id": "2ff21113",
   "metadata": {},
   "outputs": [],
   "source": [
    "np_X = X.values"
   ]
  },
  {
   "cell_type": "code",
   "execution_count": 22,
   "id": "92788300",
   "metadata": {},
   "outputs": [
    {
     "data": {
      "text/plain": [
       "array([[ 2.  , 56.  ,  0.  , ...,  2.  ,  1.  ,  1.  ],\n",
       "       [ 2.  , 57.  ,  0.  , ...,  2.  ,  0.  ,  1.  ],\n",
       "       [ 2.  , 67.  ,  0.  , ...,  2.  ,  1.  ,  1.  ],\n",
       "       ...,\n",
       "       [ 2.  , 48.  ,  0.  , ...,  4.  ,  0.  ,  0.  ],\n",
       "       [ 4.  , 83.81,  0.  , ...,  3.  ,  1.  ,  1.  ],\n",
       "       [ 1.  , 35.  ,  0.  , ...,  4.  ,  1.  ,  1.  ]])"
      ]
     },
     "execution_count": 22,
     "metadata": {},
     "output_type": "execute_result"
    }
   ],
   "source": [
    "np_X"
   ]
  },
  {
   "cell_type": "code",
   "execution_count": 23,
   "id": "8a1affd5",
   "metadata": {},
   "outputs": [
    {
     "data": {
      "text/plain": [
       "array([ 2.50571, 73.70487,  0.12569,  0.36183,  0.51248,  3.33647,\n",
       "        0.71759,  0.59321])"
      ]
     },
     "execution_count": 23,
     "metadata": {},
     "output_type": "execute_result"
    }
   ],
   "source": [
    "np_X.mean(axis=0)"
   ]
  },
  {
   "cell_type": "code",
   "execution_count": 24,
   "id": "f0b01063",
   "metadata": {},
   "outputs": [],
   "source": [
    "np_X_n = (np_X - np_X.mean(0)) / np_X.std(0)"
   ]
  },
  {
   "cell_type": "code",
   "execution_count": 25,
   "id": "85c7087a",
   "metadata": {},
   "outputs": [
    {
     "data": {
      "text/plain": [
       "array([[-0.53209, -0.44072, -0.37916, ..., -0.47416,  0.62734,  0.8281 ],\n",
       "       [-0.53209, -0.41582, -0.37916, ..., -0.47416, -1.59404,  0.8281 ],\n",
       "       [-0.53209, -0.1669 , -0.37916, ..., -0.47416,  0.62734,  0.8281 ],\n",
       "       ...,\n",
       "       [-0.53209, -0.63986, -0.37916, ...,  0.23541, -1.59404, -1.20759],\n",
       "       [ 1.57224,  0.25154, -0.37916, ..., -0.11937,  0.62734,  0.8281 ],\n",
       "       [-1.58426, -0.96346, -0.37916, ...,  0.23541,  0.62734,  0.8281 ]])"
      ]
     },
     "execution_count": 25,
     "metadata": {},
     "output_type": "execute_result"
    }
   ],
   "source": [
    "np_X_n"
   ]
  },
  {
   "cell_type": "code",
   "execution_count": 26,
   "id": "e045e61c",
   "metadata": {},
   "outputs": [
    {
     "data": {
      "text/plain": [
       "array([0.00461, 0.00461, 0.00559, ..., 0.01062, 0.02382, 0.01126])"
      ]
     },
     "execution_count": 26,
     "metadata": {},
     "output_type": "execute_result"
    }
   ],
   "source": [
    "np_y = y_price.values\n",
    "np_y_n = (np_y - np_y.min()) / (np_y.max() - np_y.min())\n",
    "np_y_n"
   ]
  },
  {
   "cell_type": "code",
   "execution_count": 27,
   "id": "be241ae2",
   "metadata": {},
   "outputs": [
    {
     "data": {
      "text/plain": [
       "18000"
      ]
     },
     "execution_count": 27,
     "metadata": {},
     "output_type": "execute_result"
    }
   ],
   "source": [
    "np_y.min()\n"
   ]
  },
  {
   "cell_type": "code",
   "execution_count": 28,
   "id": "af98e5ba",
   "metadata": {},
   "outputs": [
    {
     "data": {
      "text/plain": [
       "3880000"
      ]
     },
     "execution_count": 28,
     "metadata": {},
     "output_type": "execute_result"
    }
   ],
   "source": [
    "np_y.max()"
   ]
  },
  {
   "cell_type": "code",
   "execution_count": 29,
   "id": "fa676245",
   "metadata": {},
   "outputs": [],
   "source": [
    "y_norm_sub = np_y.min()\n",
    "y_norm_div = np_y.max() - np_y.min()"
   ]
  },
  {
   "cell_type": "code",
   "execution_count": 30,
   "id": "16e3b9d4",
   "metadata": {},
   "outputs": [],
   "source": [
    "np_weights = np.linalg.pinv(np_X_n.T.dot(np_X_n)).dot(np_X_n.T).dot(np_y_n)"
   ]
  },
  {
   "cell_type": "code",
   "execution_count": 31,
   "id": "17612e6f",
   "metadata": {},
   "outputs": [
    {
     "data": {
      "text/plain": [
       "array([-0.00868,  0.04232, -0.00003,  0.00003,  0.00007,  0.00202,\n",
       "       -0.00217,  0.00101])"
      ]
     },
     "execution_count": 31,
     "metadata": {},
     "output_type": "execute_result"
    }
   ],
   "source": [
    "np_weights"
   ]
  },
  {
   "cell_type": "code",
   "execution_count": 32,
   "id": "a26260ea",
   "metadata": {},
   "outputs": [
    {
     "data": {
      "text/plain": [
       "array([[-0.53209, -0.44072, -0.37916, ..., -0.47416,  0.62734,  0.8281 ],\n",
       "       [-0.53209, -0.41582, -0.37916, ..., -0.47416, -1.59404,  0.8281 ],\n",
       "       [-0.53209, -0.1669 , -0.37916, ..., -0.47416,  0.62734,  0.8281 ],\n",
       "       ...,\n",
       "       [-0.53209, -0.63986, -0.37916, ...,  0.23541, -1.59404, -1.20759],\n",
       "       [ 1.57224,  0.25154, -0.37916, ..., -0.11937,  0.62734,  0.8281 ],\n",
       "       [-1.58426, -0.96346, -0.37916, ...,  0.23541,  0.62734,  0.8281 ]])"
      ]
     },
     "execution_count": 32,
     "metadata": {},
     "output_type": "execute_result"
    }
   ],
   "source": [
    "np_X_n"
   ]
  },
  {
   "cell_type": "code",
   "execution_count": 33,
   "id": "4485a963",
   "metadata": {},
   "outputs": [],
   "source": [
    "np_y_preds = np_X_n.dot(np_weights)"
   ]
  },
  {
   "cell_type": "code",
   "execution_count": 34,
   "id": "3d4795c7",
   "metadata": {},
   "outputs": [
    {
     "data": {
      "text/plain": [
       "array([-0.01553, -0.00965, -0.00394, ..., -0.01969, -0.00371, -0.02703])"
      ]
     },
     "execution_count": 34,
     "metadata": {},
     "output_type": "execute_result"
    }
   ],
   "source": [
    "np_y_preds"
   ]
  },
  {
   "cell_type": "code",
   "execution_count": 35,
   "id": "fa77cb75",
   "metadata": {},
   "outputs": [
    {
     "data": {
      "text/plain": [
       "(array([7571., 1812.,  358.,  102.,   31.,   11.,    5.,    4.,    1.,\n",
       "           2.]),\n",
       " array([-0.05236,  0.00614,  0.06465,  0.12316,  0.18166,  0.24017,\n",
       "         0.29868,  0.35718,  0.41569,  0.4742 ,  0.5327 ]),\n",
       " <BarContainer object of 10 artists>)"
      ]
     },
     "execution_count": 35,
     "metadata": {},
     "output_type": "execute_result"
    },
    {
     "data": {
      "image/png": "[encoded data removed]",
      "text/plain": [
       "<Figure size 432x288 with 1 Axes>"
      ]
     },
     "metadata": {
      "needs_background": "light"
     },
     "output_type": "display_data"
    }
   ],
   "source": [
    "plt.hist(np_y_preds)"
   ]
  },
  {
   "cell_type": "code",
   "execution_count": 36,
   "id": "c3a1d320",
   "metadata": {},
   "outputs": [
    {
     "data": {
      "text/plain": [
       "array([[1.],\n",
       "       [1.],\n",
       "       [1.],\n",
       "       ...,\n",
       "       [1.],\n",
       "       [1.],\n",
       "       [1.]])"
      ]
     },
     "execution_count": 36,
     "metadata": {},
     "output_type": "execute_result"
    }
   ],
   "source": [
    "ones = np.ones(shape=(np_X_n.shape[0], 1))\n",
    "ones"
   ]
  },
  {
   "cell_type": "code",
   "execution_count": 37,
   "id": "20b49206",
   "metadata": {},
   "outputs": [
    {
     "data": {
      "text/plain": [
       "array([[-0.53209, -0.44072, -0.37916, ...,  0.62734,  0.8281 ,  1.     ],\n",
       "       [-0.53209, -0.41582, -0.37916, ..., -1.59404,  0.8281 ,  1.     ],\n",
       "       [-0.53209, -0.1669 , -0.37916, ...,  0.62734,  0.8281 ,  1.     ],\n",
       "       ...,\n",
       "       [-0.53209, -0.63986, -0.37916, ..., -1.59404, -1.20759,  1.     ],\n",
       "       [ 1.57224,  0.25154, -0.37916, ...,  0.62734,  0.8281 ,  1.     ],\n",
       "       [-1.58426, -0.96346, -0.37916, ...,  0.62734,  0.8281 ,  1.     ]])"
      ]
     },
     "execution_count": 37,
     "metadata": {},
     "output_type": "execute_result"
    }
   ],
   "source": [
    "np_X_nb = np.concatenate((np_X_n, ones), axis=-1)\n",
    "np_X_nb"
   ]
  },
  {
   "cell_type": "code",
   "execution_count": 38,
   "id": "643c832a",
   "metadata": {},
   "outputs": [
    {
     "data": {
      "text/plain": [
       "array([-0.00868,  0.04232,  0.00065,  0.00079,  0.00092,  0.00202,\n",
       "       -0.00217,  0.00101,  0.03028])"
      ]
     },
     "execution_count": 38,
     "metadata": {},
     "output_type": "execute_result"
    }
   ],
   "source": [
    "np_weights_b = np.linalg.pinv(np_X_nb.T.dot(np_X_nb)).dot(np_X_nb.T).dot(np_y_n)\n",
    "np_weights_b"
   ]
  },
  {
   "cell_type": "code",
   "execution_count": 39,
   "id": "299903cf",
   "metadata": {},
   "outputs": [
    {
     "data": {
      "text/plain": [
       "array([0.01461, 0.02049, 0.0262 , ..., 0.01059, 0.02658, 0.00325])"
      ]
     },
     "execution_count": 39,
     "metadata": {},
     "output_type": "execute_result"
    }
   ],
   "source": [
    "np_y_preds2 = np_X_nb.dot(np_weights_b)\n",
    "np_y_preds2"
   ]
  },
  {
   "cell_type": "code",
   "execution_count": 40,
   "id": "5681aac7",
   "metadata": {},
   "outputs": [
    {
     "data": {
      "text/plain": [
       "(array([  20.,  626., 2174., 3021., 1718.,  779.,  430.,  272.,  196.,\n",
       "         146.,  107.,   98.,   78.,   41.,   35.,   30.,   13.,   27.,\n",
       "          15.,   16.,   11.,   13.,    4.,    2.,    2.,    4.,    2.,\n",
       "           2.,    3.,    0.,    1.,    1.,    2.,    0.,    1.,    0.,\n",
       "           0.,    1.,    1.,    2.,    0.,    0.,    0.,    1.,    0.,\n",
       "           0.,    1.,    0.,    0.,    1.]),\n",
       " array([-0.02222, -0.01052,  0.00119,  0.01289,  0.0246 ,  0.0363 ,\n",
       "         0.04801,  0.05971,  0.07141,  0.08312,  0.09482,  0.10653,\n",
       "         0.11823,  0.12993,  0.14164,  0.15334,  0.16505,  0.17675,\n",
       "         0.18845,  0.20016,  0.21186,  0.22357,  0.23527,  0.24697,\n",
       "         0.25868,  0.27038,  0.28209,  0.29379,  0.30549,  0.3172 ,\n",
       "         0.3289 ,  0.34061,  0.35231,  0.36402,  0.37572,  0.38742,\n",
       "         0.39913,  0.41083,  0.42254,  0.43424,  0.44594,  0.45765,\n",
       "         0.46935,  0.48106,  0.49276,  0.50446,  0.51617,  0.52787,\n",
       "         0.53958,  0.55128,  0.56298]),\n",
       " <BarContainer object of 50 artists>)"
      ]
     },
     "execution_count": 40,
     "metadata": {},
     "output_type": "execute_result"
    },
    {
     "data": {
      "image/png": "[encoded data removed]",
      "text/plain": [
       "<Figure size 432x288 with 1 Axes>"
      ]
     },
     "metadata": {
      "needs_background": "light"
     },
     "output_type": "display_data"
    }
   ],
   "source": [
    "plt.hist(np_y_preds2, bins=50)"
   ]
  },
  {
   "cell_type": "code",
   "execution_count": 41,
   "id": "ab6091bf",
   "metadata": {},
   "outputs": [
    {
     "data": {
      "text/plain": [
       "array([ 74425.07929,  97131.32748, 119181.46438, ...,  58904.35816,\n",
       "       120634.85121,  30560.87048])"
      ]
     },
     "execution_count": 41,
     "metadata": {},
     "output_type": "execute_result"
    }
   ],
   "source": [
    "np_y_pred2_price = np_y_preds2 * y_norm_div + y_norm_sub\n",
    "np_y_pred2_price"
   ]
  },
  {
   "cell_type": "code",
   "execution_count": 42,
   "id": "c9065d4d",
   "metadata": {},
   "outputs": [
    {
     "data": {
      "text/plain": [
       "0        35800\n",
       "1        35800\n",
       "2        39600\n",
       "3        29800\n",
       "4       112900\n",
       "         ...  \n",
       "9892     85000\n",
       "9893    134999\n",
       "9894     59000\n",
       "9895    110000\n",
       "9896     61500\n",
       "Name: Price, Length: 9897, dtype: int64"
      ]
     },
     "execution_count": 42,
     "metadata": {},
     "output_type": "execute_result"
    }
   ],
   "source": [
    "y_price"
   ]
  },
  {
   "cell_type": "code",
   "execution_count": 43,
   "id": "ce27b9fe",
   "metadata": {
    "scrolled": true
   },
   "outputs": [
    {
     "data": {
      "text/html": [
       "<div>\n",
       "<style scoped>\n",
       "    .dataframe tbody tr th:only-of-type {\n",
       "        vertical-align: middle;\n",
       "    }\n",
       "\n",
       "    .dataframe tbody tr th {\n",
       "        vertical-align: top;\n",
       "    }\n",
       "\n",
       "    .dataframe thead th {\n",
       "        text-align: right;\n",
       "    }\n",
       "</style>\n",
       "<table border=\"1\" class=\"dataframe\">\n",
       "  <thead>\n",
       "    <tr style=\"text-align: right;\">\n",
       "      <th></th>\n",
       "      <th>GOLD</th>\n",
       "      <th>PRED</th>\n",
       "    </tr>\n",
       "  </thead>\n",
       "  <tbody>\n",
       "    <tr>\n",
       "      <th>0</th>\n",
       "      <td>35800</td>\n",
       "      <td>74425.0</td>\n",
       "    </tr>\n",
       "    <tr>\n",
       "      <th>1</th>\n",
       "      <td>35800</td>\n",
       "      <td>97131.0</td>\n",
       "    </tr>\n",
       "    <tr>\n",
       "      <th>2</th>\n",
       "      <td>39600</td>\n",
       "      <td>119181.0</td>\n",
       "    </tr>\n",
       "    <tr>\n",
       "      <th>3</th>\n",
       "      <td>29800</td>\n",
       "      <td>77128.0</td>\n",
       "    </tr>\n",
       "    <tr>\n",
       "      <th>4</th>\n",
       "      <td>112900</td>\n",
       "      <td>179446.0</td>\n",
       "    </tr>\n",
       "    <tr>\n",
       "      <th>5</th>\n",
       "      <td>37400</td>\n",
       "      <td>111044.0</td>\n",
       "    </tr>\n",
       "    <tr>\n",
       "      <th>6</th>\n",
       "      <td>39500</td>\n",
       "      <td>40064.0</td>\n",
       "    </tr>\n",
       "    <tr>\n",
       "      <th>7</th>\n",
       "      <td>2350000</td>\n",
       "      <td>1087432.0</td>\n",
       "    </tr>\n",
       "    <tr>\n",
       "      <th>8</th>\n",
       "      <td>332000</td>\n",
       "      <td>261197.0</td>\n",
       "    </tr>\n",
       "    <tr>\n",
       "      <th>9</th>\n",
       "      <td>39900</td>\n",
       "      <td>126919.0</td>\n",
       "    </tr>\n",
       "  </tbody>\n",
       "</table>\n",
       "</div>"
      ],
      "text/plain": [
       "      GOLD       PRED\n",
       "0    35800    74425.0\n",
       "1    35800    97131.0\n",
       "2    39600   119181.0\n",
       "3    29800    77128.0\n",
       "4   112900   179446.0\n",
       "5    37400   111044.0\n",
       "6    39500    40064.0\n",
       "7  2350000  1087432.0\n",
       "8   332000   261197.0\n",
       "9    39900   126919.0"
      ]
     },
     "execution_count": 43,
     "metadata": {},
     "output_type": "execute_result"
    }
   ],
   "source": [
    "df_result = pd.DataFrame(\n",
    "    {\n",
    "        'GOLD' : y_price,\n",
    "        'PRED' : np_y_pred2_price.round(0),\n",
    "    }\n",
    ")\n",
    "df_result.head(10)"
   ]
  },
  {
   "cell_type": "code",
   "execution_count": 44,
   "id": "af7c57ce",
   "metadata": {},
   "outputs": [
    {
     "data": {
      "text/html": [
       "<div>\n",
       "<style scoped>\n",
       "    .dataframe tbody tr th:only-of-type {\n",
       "        vertical-align: middle;\n",
       "    }\n",
       "\n",
       "    .dataframe tbody tr th {\n",
       "        vertical-align: top;\n",
       "    }\n",
       "\n",
       "    .dataframe thead th {\n",
       "        text-align: right;\n",
       "    }\n",
       "</style>\n",
       "<table border=\"1\" class=\"dataframe\">\n",
       "  <thead>\n",
       "    <tr style=\"text-align: right;\">\n",
       "      <th></th>\n",
       "      <th>GOLD</th>\n",
       "      <th>PRED</th>\n",
       "    </tr>\n",
       "  </thead>\n",
       "  <tbody>\n",
       "    <tr>\n",
       "      <th>9887</th>\n",
       "      <td>47000</td>\n",
       "      <td>42872.0</td>\n",
       "    </tr>\n",
       "    <tr>\n",
       "      <th>9888</th>\n",
       "      <td>34500</td>\n",
       "      <td>-27332.0</td>\n",
       "    </tr>\n",
       "    <tr>\n",
       "      <th>9889</th>\n",
       "      <td>56000</td>\n",
       "      <td>29428.0</td>\n",
       "    </tr>\n",
       "    <tr>\n",
       "      <th>9890</th>\n",
       "      <td>101000</td>\n",
       "      <td>139525.0</td>\n",
       "    </tr>\n",
       "    <tr>\n",
       "      <th>9891</th>\n",
       "      <td>79524</td>\n",
       "      <td>88666.0</td>\n",
       "    </tr>\n",
       "    <tr>\n",
       "      <th>9892</th>\n",
       "      <td>85000</td>\n",
       "      <td>170337.0</td>\n",
       "    </tr>\n",
       "    <tr>\n",
       "      <th>9893</th>\n",
       "      <td>134999</td>\n",
       "      <td>166609.0</td>\n",
       "    </tr>\n",
       "    <tr>\n",
       "      <th>9894</th>\n",
       "      <td>59000</td>\n",
       "      <td>58904.0</td>\n",
       "    </tr>\n",
       "    <tr>\n",
       "      <th>9895</th>\n",
       "      <td>110000</td>\n",
       "      <td>120635.0</td>\n",
       "    </tr>\n",
       "    <tr>\n",
       "      <th>9896</th>\n",
       "      <td>61500</td>\n",
       "      <td>30561.0</td>\n",
       "    </tr>\n",
       "  </tbody>\n",
       "</table>\n",
       "</div>"
      ],
      "text/plain": [
       "        GOLD      PRED\n",
       "9887   47000   42872.0\n",
       "9888   34500  -27332.0\n",
       "9889   56000   29428.0\n",
       "9890  101000  139525.0\n",
       "9891   79524   88666.0\n",
       "9892   85000  170337.0\n",
       "9893  134999  166609.0\n",
       "9894   59000   58904.0\n",
       "9895  110000  120635.0\n",
       "9896   61500   30561.0"
      ]
     },
     "execution_count": 44,
     "metadata": {},
     "output_type": "execute_result"
    }
   ],
   "source": [
    "df_result.tail(10)"
   ]
  },
  {
   "cell_type": "code",
   "execution_count": 45,
   "id": "8e0d15ba",
   "metadata": {},
   "outputs": [
    {
     "data": {
      "text/plain": [
       "0       38625.079294\n",
       "1       61331.327476\n",
       "2       79581.464383\n",
       "3       47328.146545\n",
       "4       66546.150310\n",
       "            ...     \n",
       "9892    85337.281779\n",
       "9893    31610.149971\n",
       "9894       95.641836\n",
       "9895    10634.851206\n",
       "9896    30939.129524\n",
       "Name: Price, Length: 9897, dtype: float64"
      ]
     },
     "execution_count": 45,
     "metadata": {},
     "output_type": "execute_result"
    }
   ],
   "source": [
    "abs_err = np.abs(y_price - np_y_pred2_price)\n",
    "abs_err"
   ]
  },
  {
   "cell_type": "code",
   "execution_count": 46,
   "id": "b640f3ea",
   "metadata": {},
   "outputs": [],
   "source": [
    "proc_err = abs_err / y_price\n",
    "proc_err = proc_err * 100"
   ]
  },
  {
   "cell_type": "code",
   "execution_count": 47,
   "id": "3fc83f57",
   "metadata": {},
   "outputs": [
    {
     "data": {
      "text/html": [
       "<div>\n",
       "<style scoped>\n",
       "    .dataframe tbody tr th:only-of-type {\n",
       "        vertical-align: middle;\n",
       "    }\n",
       "\n",
       "    .dataframe tbody tr th {\n",
       "        vertical-align: top;\n",
       "    }\n",
       "\n",
       "    .dataframe thead th {\n",
       "        text-align: right;\n",
       "    }\n",
       "</style>\n",
       "<table border=\"1\" class=\"dataframe\">\n",
       "  <thead>\n",
       "    <tr style=\"text-align: right;\">\n",
       "      <th></th>\n",
       "      <th>GOLD</th>\n",
       "      <th>PRED</th>\n",
       "      <th>ERR%</th>\n",
       "    </tr>\n",
       "  </thead>\n",
       "  <tbody>\n",
       "    <tr>\n",
       "      <th>0</th>\n",
       "      <td>35800</td>\n",
       "      <td>74425.0</td>\n",
       "      <td>107.89</td>\n",
       "    </tr>\n",
       "    <tr>\n",
       "      <th>1</th>\n",
       "      <td>35800</td>\n",
       "      <td>97131.0</td>\n",
       "      <td>171.32</td>\n",
       "    </tr>\n",
       "    <tr>\n",
       "      <th>2</th>\n",
       "      <td>39600</td>\n",
       "      <td>119181.0</td>\n",
       "      <td>200.96</td>\n",
       "    </tr>\n",
       "    <tr>\n",
       "      <th>3</th>\n",
       "      <td>29800</td>\n",
       "      <td>77128.0</td>\n",
       "      <td>158.82</td>\n",
       "    </tr>\n",
       "    <tr>\n",
       "      <th>4</th>\n",
       "      <td>112900</td>\n",
       "      <td>179446.0</td>\n",
       "      <td>58.94</td>\n",
       "    </tr>\n",
       "    <tr>\n",
       "      <th>5</th>\n",
       "      <td>37400</td>\n",
       "      <td>111044.0</td>\n",
       "      <td>196.91</td>\n",
       "    </tr>\n",
       "    <tr>\n",
       "      <th>6</th>\n",
       "      <td>39500</td>\n",
       "      <td>40064.0</td>\n",
       "      <td>1.43</td>\n",
       "    </tr>\n",
       "    <tr>\n",
       "      <th>7</th>\n",
       "      <td>2350000</td>\n",
       "      <td>1087432.0</td>\n",
       "      <td>53.73</td>\n",
       "    </tr>\n",
       "    <tr>\n",
       "      <th>8</th>\n",
       "      <td>332000</td>\n",
       "      <td>261197.0</td>\n",
       "      <td>21.33</td>\n",
       "    </tr>\n",
       "    <tr>\n",
       "      <th>9</th>\n",
       "      <td>39900</td>\n",
       "      <td>126919.0</td>\n",
       "      <td>218.09</td>\n",
       "    </tr>\n",
       "    <tr>\n",
       "      <th>10</th>\n",
       "      <td>39500</td>\n",
       "      <td>37301.0</td>\n",
       "      <td>5.57</td>\n",
       "    </tr>\n",
       "    <tr>\n",
       "      <th>11</th>\n",
       "      <td>42766</td>\n",
       "      <td>52556.0</td>\n",
       "      <td>22.89</td>\n",
       "    </tr>\n",
       "    <tr>\n",
       "      <th>12</th>\n",
       "      <td>88253</td>\n",
       "      <td>141322.0</td>\n",
       "      <td>60.13</td>\n",
       "    </tr>\n",
       "    <tr>\n",
       "      <th>13</th>\n",
       "      <td>26800</td>\n",
       "      <td>-419.0</td>\n",
       "      <td>101.56</td>\n",
       "    </tr>\n",
       "    <tr>\n",
       "      <th>14</th>\n",
       "      <td>93000</td>\n",
       "      <td>115926.0</td>\n",
       "      <td>24.65</td>\n",
       "    </tr>\n",
       "    <tr>\n",
       "      <th>15</th>\n",
       "      <td>135000</td>\n",
       "      <td>171570.0</td>\n",
       "      <td>27.09</td>\n",
       "    </tr>\n",
       "    <tr>\n",
       "      <th>16</th>\n",
       "      <td>115000</td>\n",
       "      <td>204594.0</td>\n",
       "      <td>77.91</td>\n",
       "    </tr>\n",
       "    <tr>\n",
       "      <th>17</th>\n",
       "      <td>39500</td>\n",
       "      <td>74425.0</td>\n",
       "      <td>88.42</td>\n",
       "    </tr>\n",
       "    <tr>\n",
       "      <th>18</th>\n",
       "      <td>55192</td>\n",
       "      <td>149742.0</td>\n",
       "      <td>171.31</td>\n",
       "    </tr>\n",
       "    <tr>\n",
       "      <th>19</th>\n",
       "      <td>69900</td>\n",
       "      <td>84420.0</td>\n",
       "      <td>20.77</td>\n",
       "    </tr>\n",
       "  </tbody>\n",
       "</table>\n",
       "</div>"
      ],
      "text/plain": [
       "       GOLD       PRED    ERR%\n",
       "0     35800    74425.0  107.89\n",
       "1     35800    97131.0  171.32\n",
       "2     39600   119181.0  200.96\n",
       "3     29800    77128.0  158.82\n",
       "4    112900   179446.0   58.94\n",
       "5     37400   111044.0  196.91\n",
       "6     39500    40064.0    1.43\n",
       "7   2350000  1087432.0   53.73\n",
       "8    332000   261197.0   21.33\n",
       "9     39900   126919.0  218.09\n",
       "10    39500    37301.0    5.57\n",
       "11    42766    52556.0   22.89\n",
       "12    88253   141322.0   60.13\n",
       "13    26800     -419.0  101.56\n",
       "14    93000   115926.0   24.65\n",
       "15   135000   171570.0   27.09\n",
       "16   115000   204594.0   77.91\n",
       "17    39500    74425.0   88.42\n",
       "18    55192   149742.0  171.31\n",
       "19    69900    84420.0   20.77"
      ]
     },
     "execution_count": 47,
     "metadata": {},
     "output_type": "execute_result"
    }
   ],
   "source": [
    "df_result = pd.DataFrame(\n",
    "    {\n",
    "        'GOLD' : y_price,\n",
    "        'PRED' : np_y_pred2_price.round(0),\n",
    "        'ERR%' : proc_err.round(2)\n",
    "    }\n",
    ")\n",
    "df_result.head(20)"
   ]
  },
  {
   "cell_type": "code",
   "execution_count": 48,
   "id": "9c346ea1",
   "metadata": {},
   "outputs": [
    {
     "data": {
      "text/html": [
       "<div>\n",
       "<style scoped>\n",
       "    .dataframe tbody tr th:only-of-type {\n",
       "        vertical-align: middle;\n",
       "    }\n",
       "\n",
       "    .dataframe tbody tr th {\n",
       "        vertical-align: top;\n",
       "    }\n",
       "\n",
       "    .dataframe thead th {\n",
       "        text-align: right;\n",
       "    }\n",
       "</style>\n",
       "<table border=\"1\" class=\"dataframe\">\n",
       "  <thead>\n",
       "    <tr style=\"text-align: right;\">\n",
       "      <th></th>\n",
       "      <th>GOLD</th>\n",
       "      <th>PRED</th>\n",
       "      <th>ERR%</th>\n",
       "    </tr>\n",
       "  </thead>\n",
       "  <tbody>\n",
       "    <tr>\n",
       "      <th>9877</th>\n",
       "      <td>63000</td>\n",
       "      <td>59456.0</td>\n",
       "      <td>5.63</td>\n",
       "    </tr>\n",
       "    <tr>\n",
       "      <th>9878</th>\n",
       "      <td>32900</td>\n",
       "      <td>37746.0</td>\n",
       "      <td>14.73</td>\n",
       "    </tr>\n",
       "    <tr>\n",
       "      <th>9879</th>\n",
       "      <td>53490</td>\n",
       "      <td>49239.0</td>\n",
       "      <td>7.95</td>\n",
       "    </tr>\n",
       "    <tr>\n",
       "      <th>9880</th>\n",
       "      <td>79000</td>\n",
       "      <td>65093.0</td>\n",
       "      <td>17.60</td>\n",
       "    </tr>\n",
       "    <tr>\n",
       "      <th>9881</th>\n",
       "      <td>79900</td>\n",
       "      <td>110802.0</td>\n",
       "      <td>38.68</td>\n",
       "    </tr>\n",
       "    <tr>\n",
       "      <th>9882</th>\n",
       "      <td>149000</td>\n",
       "      <td>103109.0</td>\n",
       "      <td>30.80</td>\n",
       "    </tr>\n",
       "    <tr>\n",
       "      <th>9883</th>\n",
       "      <td>143000</td>\n",
       "      <td>154312.0</td>\n",
       "      <td>7.91</td>\n",
       "    </tr>\n",
       "    <tr>\n",
       "      <th>9884</th>\n",
       "      <td>55000</td>\n",
       "      <td>72024.0</td>\n",
       "      <td>30.95</td>\n",
       "    </tr>\n",
       "    <tr>\n",
       "      <th>9885</th>\n",
       "      <td>62860</td>\n",
       "      <td>66983.0</td>\n",
       "      <td>6.56</td>\n",
       "    </tr>\n",
       "    <tr>\n",
       "      <th>9886</th>\n",
       "      <td>27500</td>\n",
       "      <td>3890.0</td>\n",
       "      <td>85.85</td>\n",
       "    </tr>\n",
       "    <tr>\n",
       "      <th>9887</th>\n",
       "      <td>47000</td>\n",
       "      <td>42872.0</td>\n",
       "      <td>8.78</td>\n",
       "    </tr>\n",
       "    <tr>\n",
       "      <th>9888</th>\n",
       "      <td>34500</td>\n",
       "      <td>-27332.0</td>\n",
       "      <td>179.22</td>\n",
       "    </tr>\n",
       "    <tr>\n",
       "      <th>9889</th>\n",
       "      <td>56000</td>\n",
       "      <td>29428.0</td>\n",
       "      <td>47.45</td>\n",
       "    </tr>\n",
       "    <tr>\n",
       "      <th>9890</th>\n",
       "      <td>101000</td>\n",
       "      <td>139525.0</td>\n",
       "      <td>38.14</td>\n",
       "    </tr>\n",
       "    <tr>\n",
       "      <th>9891</th>\n",
       "      <td>79524</td>\n",
       "      <td>88666.0</td>\n",
       "      <td>11.50</td>\n",
       "    </tr>\n",
       "    <tr>\n",
       "      <th>9892</th>\n",
       "      <td>85000</td>\n",
       "      <td>170337.0</td>\n",
       "      <td>100.40</td>\n",
       "    </tr>\n",
       "    <tr>\n",
       "      <th>9893</th>\n",
       "      <td>134999</td>\n",
       "      <td>166609.0</td>\n",
       "      <td>23.42</td>\n",
       "    </tr>\n",
       "    <tr>\n",
       "      <th>9894</th>\n",
       "      <td>59000</td>\n",
       "      <td>58904.0</td>\n",
       "      <td>0.16</td>\n",
       "    </tr>\n",
       "    <tr>\n",
       "      <th>9895</th>\n",
       "      <td>110000</td>\n",
       "      <td>120635.0</td>\n",
       "      <td>9.67</td>\n",
       "    </tr>\n",
       "    <tr>\n",
       "      <th>9896</th>\n",
       "      <td>61500</td>\n",
       "      <td>30561.0</td>\n",
       "      <td>50.31</td>\n",
       "    </tr>\n",
       "  </tbody>\n",
       "</table>\n",
       "</div>"
      ],
      "text/plain": [
       "        GOLD      PRED    ERR%\n",
       "9877   63000   59456.0    5.63\n",
       "9878   32900   37746.0   14.73\n",
       "9879   53490   49239.0    7.95\n",
       "9880   79000   65093.0   17.60\n",
       "9881   79900  110802.0   38.68\n",
       "9882  149000  103109.0   30.80\n",
       "9883  143000  154312.0    7.91\n",
       "9884   55000   72024.0   30.95\n",
       "9885   62860   66983.0    6.56\n",
       "9886   27500    3890.0   85.85\n",
       "9887   47000   42872.0    8.78\n",
       "9888   34500  -27332.0  179.22\n",
       "9889   56000   29428.0   47.45\n",
       "9890  101000  139525.0   38.14\n",
       "9891   79524   88666.0   11.50\n",
       "9892   85000  170337.0  100.40\n",
       "9893  134999  166609.0   23.42\n",
       "9894   59000   58904.0    0.16\n",
       "9895  110000  120635.0    9.67\n",
       "9896   61500   30561.0   50.31"
      ]
     },
     "execution_count": 48,
     "metadata": {},
     "output_type": "execute_result"
    }
   ],
   "source": [
    "df_result.tail(20)"
   ]
  },
  {
   "cell_type": "code",
   "execution_count": 49,
   "id": "6052f7fe",
   "metadata": {},
   "outputs": [
    {
     "data": {
      "text/plain": [
       "40.53357145062221"
      ]
     },
     "execution_count": 49,
     "metadata": {},
     "output_type": "execute_result"
    }
   ],
   "source": [
    "proc_err.mean()"
   ]
  },
  {
   "cell_type": "code",
   "execution_count": null,
   "id": "ed502f5e",
   "metadata": {},
   "outputs": [],
   "source": [
    "# split the np_X_nb data into train observation and test observations\n",
    "# train with NEQ\n",
    "# present results"
   ]
  },
  {
   "cell_type": "code",
   "execution_count": 50,
   "id": "2e26bdcf",
   "metadata": {},
   "outputs": [],
   "source": [
    "def train_neq(inputs, gold):\n",
    "    weights = np.linalg.pinv(inputs.T.dot(inputs)).dot(inputs.T).dot(gold)\n",
    "    return weights\n",
    "\n",
    "def evaluate(theta, inputs, gold, y_div, y_sub, name=\"\"):\n",
    "    _y_pred = inputs.dot(theta)\n",
    "    _y_vals = _y_pred * y_div + y_sub\n",
    "    \n",
    "    _y_true = gold * y_div + y_sub\n",
    "    \n",
    "    res_err = np.abs(_y_true - _y_vals)\n",
    "    prc_err = res_err / _y_true\n",
    "    \n",
    "    overall = prc_err.mean()\n",
    "    df_result = pd.DataFrame(\n",
    "        {\n",
    "        'GOLD' : _y_true,\n",
    "        'PRED' : _y_vals.round(0),\n",
    "        'ERR%' : prc_err.round(2)\n",
    "        }\n",
    "    )\n",
    "    print('Results for', name)\n",
    "    print(df_result.head(20))\n",
    "    print(df_result.tail(20))\n",
    "    print(\"Overall error: {:.1f}%\".format(overall * 100))\n",
    "    return overall"
   ]
  },
  {
   "cell_type": "code",
   "execution_count": 51,
   "id": "7a1727da",
   "metadata": {},
   "outputs": [],
   "source": [
    "from sklearn.model_selection import train_test_split\n",
    "x_trn, x_tst, y_trn, y_tst = train_test_split(np_X_nb, np_y_n, test_size=0.2)"
   ]
  },
  {
   "cell_type": "code",
   "execution_count": 52,
   "id": "21a6eb5c",
   "metadata": {},
   "outputs": [],
   "source": [
    "theta = train_neq(\n",
    "    inputs=x_trn,\n",
    "    gold=y_trn\n",
    ")"
   ]
  },
  {
   "cell_type": "code",
   "execution_count": 53,
   "id": "873573d3",
   "metadata": {},
   "outputs": [
    {
     "data": {
      "text/plain": [
       "array([-0.0081 ,  0.04109, -0.00013, -0.00056, -0.00019,  0.00206,\n",
       "       -0.00179,  0.00104,  0.03031])"
      ]
     },
     "execution_count": 53,
     "metadata": {},
     "output_type": "execute_result"
    }
   ],
   "source": [
    "theta"
   ]
  },
  {
   "cell_type": "code",
   "execution_count": 54,
   "id": "1dc0f147",
   "metadata": {},
   "outputs": [
    {
     "name": "stdout",
     "output_type": "stream",
     "text": [
      "Results for TRAIN\n",
      "        GOLD      PRED  ERR%\n",
      "0    63000.0   70447.0  0.12\n",
      "1   349000.0  181943.0  0.48\n",
      "2   107000.0  112644.0  0.05\n",
      "3    24950.0    2404.0  0.90\n",
      "4    97000.0  127503.0  0.31\n",
      "5    61500.0   59338.0  0.04\n",
      "6    63000.0   45818.0  0.27\n",
      "7    44300.0   44556.0  0.01\n",
      "8   114500.0  113748.0  0.01\n",
      "9    53200.0   80105.0  0.51\n",
      "10   58500.0   93611.0  0.60\n",
      "11  145900.0  111710.0  0.23\n",
      "12   54289.0  124900.0  1.30\n",
      "13  318000.0  839650.0  1.64\n",
      "14  400000.0  482871.0  0.21\n",
      "15   98175.0  226731.0  1.31\n",
      "16  415000.0  598687.0  0.44\n",
      "17   68000.0   99151.0  0.46\n",
      "18  464000.0  443717.0  0.04\n",
      "19  198000.0  205962.0  0.04\n",
      "           GOLD      PRED  ERR%\n",
      "7897   525000.0  409243.0  0.22\n",
      "7898   139000.0  258951.0  0.86\n",
      "7899    29800.0   25759.0  0.14\n",
      "7900   160000.0  183028.0  0.14\n",
      "7901    46500.0   38152.0  0.18\n",
      "7902   145000.0  163825.0  0.13\n",
      "7903  1180000.0  424950.0  0.64\n",
      "7904    37700.0   60523.0  0.61\n",
      "7905    89500.0  172475.0  0.93\n",
      "7906   185000.0   65653.0  0.65\n",
      "7907    60000.0  -60986.0  2.02\n",
      "7908   176000.0  233548.0  0.33\n",
      "7909    68000.0   68380.0  0.01\n",
      "7910    68500.0  103036.0  0.50\n",
      "7911    72000.0   72150.0  0.00\n",
      "7912    41500.0   20771.0  0.50\n",
      "7913   135900.0   87660.0  0.35\n",
      "7914    63900.0   57895.0  0.09\n",
      "7915   155000.0  189201.0  0.22\n",
      "7916    32000.0   21809.0  0.32\n",
      "Overall error: 39.7%\n"
     ]
    },
    {
     "data": {
      "text/plain": [
       "0.39730655396869147"
      ]
     },
     "execution_count": 54,
     "metadata": {},
     "output_type": "execute_result"
    }
   ],
   "source": [
    "evaluate(\n",
    "    theta=theta,\n",
    "    inputs=x_trn,\n",
    "    gold=y_trn,\n",
    "    y_div=y_norm_div,\n",
    "    y_sub=y_norm_sub,\n",
    "    name='TRAIN',\n",
    ")"
   ]
  },
  {
   "cell_type": "code",
   "execution_count": 55,
   "id": "23949b5f",
   "metadata": {},
   "outputs": [
    {
     "name": "stdout",
     "output_type": "stream",
     "text": [
      "Results for TEST\n",
      "        GOLD      PRED  ERR%\n",
      "0   345000.0  397393.0  0.15\n",
      "1   117000.0  217243.0  0.86\n",
      "2    59500.0   99509.0  0.67\n",
      "3    81000.0   86454.0  0.07\n",
      "4    84000.0  110062.0  0.31\n",
      "5    79000.0   58399.0  0.26\n",
      "6   159000.0  119654.0  0.25\n",
      "7    69500.0   87000.0  0.25\n",
      "8    72000.0  119091.0  0.65\n",
      "9    75000.0   92485.0  0.23\n",
      "10   78000.0   67672.0  0.13\n",
      "11  970000.0  591222.0  0.39\n",
      "12   79999.0  229854.0  1.87\n",
      "13   78000.0  129388.0  0.66\n",
      "14   70000.0  102640.0  0.47\n",
      "15  115999.0  114902.0  0.01\n",
      "16   99000.0   15903.0  0.84\n",
      "17   87000.0  127503.0  0.47\n",
      "18   99000.0   90251.0  0.09\n",
      "19  253000.0  151253.0  0.40\n",
      "          GOLD      PRED  ERR%\n",
      "1960   28500.0    6354.0  0.78\n",
      "1961  180000.0  103292.0  0.43\n",
      "1962  139999.0  219904.0  0.57\n",
      "1963   85000.0   93603.0  0.10\n",
      "1964   78500.0  194138.0  1.47\n",
      "1965   68095.0   60807.0  0.11\n",
      "1966  175000.0  170697.0  0.02\n",
      "1967   40800.0   22935.0  0.44\n",
      "1968  159000.0  213634.0  0.34\n",
      "1969  169000.0   92064.0  0.46\n",
      "1970   52000.0    5694.0  0.89\n",
      "1971  400000.0  270561.0  0.32\n",
      "1972   82000.0   76120.0  0.07\n",
      "1973   67000.0   48705.0  0.27\n",
      "1974  450000.0  383153.0  0.15\n",
      "1975   95500.0  114555.0  0.20\n",
      "1976  185000.0  173982.0  0.06\n",
      "1977   88000.0   96768.0  0.10\n",
      "1978   94500.0  102330.0  0.08\n",
      "1979   78000.0  115212.0  0.48\n",
      "Overall error: 41.4%\n"
     ]
    },
    {
     "data": {
      "text/plain": [
       "0.4137264153856122"
      ]
     },
     "execution_count": 55,
     "metadata": {},
     "output_type": "execute_result"
    }
   ],
   "source": [
    "evaluate(\n",
    "    theta=theta,\n",
    "    inputs=x_tst,\n",
    "    gold=y_tst,\n",
    "    y_div=y_norm_div,\n",
    "    y_sub=y_norm_sub,\n",
    "    name='TEST',\n",
    ")"
   ]
  },
  {
   "cell_type": "code",
   "execution_count": 123,
   "id": "23adacc9",
   "metadata": {},
   "outputs": [],
   "source": [
    "import torch as th\n",
    "\n",
    "class SimpleLinerRealEstateModel(th.nn.Module):\n",
    "    def __init__(self, n_feats, n_hid1=32):\n",
    "        super().__init__()\n",
    "        self.hidden1 = th.nn.Linear(n_feats, n_hid1)\n",
    "        self.act1 = th.nn.ReLU()\n",
    "        self.readout = th.nn.Linear(n_hid1, 1)\n",
    "        return\n",
    "    \n",
    "    def forward(self, inputs):\n",
    "        th_x = self.hidden1(inputs)\n",
    "        th_x = self.act1(th_x)\n",
    "        th_out = self.readout(th_x)\n",
    "        return th_out\n"
   ]
  },
  {
   "cell_type": "code",
   "execution_count": 224,
   "id": "e08fec9c",
   "metadata": {},
   "outputs": [
    {
     "data": {
      "text/plain": [
       "SimpleLinerRealEstateModel(\n",
       "  (hidden1): Linear(in_features=8, out_features=256, bias=True)\n",
       "  (act1): ReLU()\n",
       "  (readout): Linear(in_features=256, out_features=1, bias=True)\n",
       ")"
      ]
     },
     "execution_count": 224,
     "metadata": {},
     "output_type": "execute_result"
    }
   ],
   "source": [
    "model = SimpleLinerRealEstateModel(8, 256)\n",
    "model"
   ]
  },
  {
   "cell_type": "code",
   "execution_count": 205,
   "id": "13ab6e13",
   "metadata": {},
   "outputs": [],
   "source": [
    "# construct simple torch dataset\n",
    "# for each individual batch within dataset\n",
    "# apply gradient descent\n",
    "# test the model (mayb validate before within training process)\n",
    "\n",
    "# then do the same in tensorflow.keras\n"
   ]
  },
  {
   "cell_type": "code",
   "execution_count": 206,
   "id": "1d9e17b3",
   "metadata": {},
   "outputs": [
    {
     "data": {
      "text/plain": [
       "(7917, 9)"
      ]
     },
     "execution_count": 206,
     "metadata": {},
     "output_type": "execute_result"
    }
   ],
   "source": [
    "x_trn.shape"
   ]
  },
  {
   "cell_type": "code",
   "execution_count": 207,
   "id": "7abf9043",
   "metadata": {},
   "outputs": [
    {
     "data": {
      "text/plain": [
       "array([[ 0.52008, -0.29136,  2.63738, ..., -1.59404, -1.20759,  1.     ],\n",
       "       [ 0.52008,  0.34339, -0.37916, ..., -1.59404,  0.8281 ,  1.     ],\n",
       "       [-0.53209, -0.39093, -0.37916, ..., -1.59404,  0.8281 ,  1.     ],\n",
       "       ...,\n",
       "       [ 0.52008, -0.41582, -0.37916, ...,  0.62734, -1.20759,  1.     ],\n",
       "       [ 1.57224,  0.65455, -0.37916, ...,  0.62734, -1.20759,  1.     ],\n",
       "       [-1.58426, -1.03814, -0.37916, ...,  0.62734,  0.8281 ,  1.     ]])"
      ]
     },
     "execution_count": 207,
     "metadata": {},
     "output_type": "execute_result"
    }
   ],
   "source": [
    "x_trn"
   ]
  },
  {
   "cell_type": "code",
   "execution_count": 208,
   "id": "1d7e03e8",
   "metadata": {},
   "outputs": [
    {
     "data": {
      "text/plain": [
       "(1980, 9)"
      ]
     },
     "execution_count": 208,
     "metadata": {},
     "output_type": "execute_result"
    }
   ],
   "source": [
    "x_tst.shape"
   ]
  },
  {
   "cell_type": "code",
   "execution_count": 209,
   "id": "58f0d88a",
   "metadata": {},
   "outputs": [],
   "source": [
    "x_dev = x_tst[:1000,:]\n",
    "x_test = x_tst[1000:,:]"
   ]
  },
  {
   "cell_type": "code",
   "execution_count": 210,
   "id": "46f2b36a",
   "metadata": {},
   "outputs": [],
   "source": [
    "th_x_trn = th.tensor(x_trn[:,:-1], dtype=th.float32)\n",
    "th_x_dev = th.tensor(x_dev[:,:-1], dtype=th.float32)\n",
    "th_x_test = th.tensor(x_test[:,:-1], dtype=th.float32)"
   ]
  },
  {
   "cell_type": "code",
   "execution_count": 211,
   "id": "3f36bafd",
   "metadata": {},
   "outputs": [
    {
     "data": {
      "text/plain": [
       "tensor([[ 0.5201, -0.1669, -0.3792,  ..., -0.4742, -1.5940, -1.2076],\n",
       "        [-0.5321, -0.7394, -0.3792,  ..., -0.8289, -1.5940,  0.8281],\n",
       "        [ 0.5201,  0.4803, -0.3792,  ..., -0.1194,  0.6273,  0.8281],\n",
       "        ...,\n",
       "        [ 0.5201, -0.1420, -0.3792,  ..., -0.4742, -1.5940, -1.2076],\n",
       "        [-0.5321, -0.3411, -0.3792,  ...,  0.5902,  0.6273,  0.8281],\n",
       "        [-0.5321, -0.3411, -0.3792,  ...,  1.2998, -1.5940, -1.2076]])"
      ]
     },
     "execution_count": 211,
     "metadata": {},
     "output_type": "execute_result"
    }
   ],
   "source": [
    "th_x_test"
   ]
  },
  {
   "cell_type": "code",
   "execution_count": 212,
   "id": "bfe8bd7d",
   "metadata": {},
   "outputs": [
    {
     "data": {
      "text/plain": [
       "array([0.08467, 0.02563, 0.01075, ..., 0.01813, 0.01981, 0.01554])"
      ]
     },
     "execution_count": 212,
     "metadata": {},
     "output_type": "execute_result"
    }
   ],
   "source": [
    "y_tst"
   ]
  },
  {
   "cell_type": "code",
   "execution_count": 213,
   "id": "c161f7ce",
   "metadata": {},
   "outputs": [
    {
     "data": {
      "text/plain": [
       "array([[0.01165],\n",
       "       [0.08571],\n",
       "       [0.02305],\n",
       "       [0.0018 ],\n",
       "       [0.02046],\n",
       "       [0.01126],\n",
       "       [0.01165],\n",
       "       [0.00681],\n",
       "       [0.02499],\n",
       "       [0.00911]])"
      ]
     },
     "execution_count": 213,
     "metadata": {},
     "output_type": "execute_result"
    }
   ],
   "source": [
    "y_dev = y_tst[:1000].reshape(-1,1)\n",
    "y_test = y_tst[1000:].reshape(-1,1)\n",
    "y_trn = y_trn.reshape(-1,1)\n",
    "y_trn[:10]"
   ]
  },
  {
   "cell_type": "code",
   "execution_count": 214,
   "id": "758c4240",
   "metadata": {},
   "outputs": [
    {
     "data": {
      "text/plain": [
       "tensor([[0.0117],\n",
       "        [0.0857],\n",
       "        [0.0230],\n",
       "        ...,\n",
       "        [0.0119],\n",
       "        [0.0355],\n",
       "        [0.0036]])"
      ]
     },
     "execution_count": 214,
     "metadata": {},
     "output_type": "execute_result"
    }
   ],
   "source": [
    "th_y_trn = th.tensor(y_trn, dtype=th.float32)\n",
    "th_y_dev = th.tensor(y_dev, dtype=th.float32)\n",
    "th_y_test = th.tensor(y_test, dtype=th.float32)\n",
    "th_y_trn"
   ]
  },
  {
   "cell_type": "code",
   "execution_count": 215,
   "id": "95a1f855",
   "metadata": {},
   "outputs": [
    {
     "data": {
      "text/plain": [
       "torch.Size([980, 1])"
      ]
     },
     "execution_count": 215,
     "metadata": {},
     "output_type": "execute_result"
    }
   ],
   "source": [
    "th_y_test.shape"
   ]
  },
  {
   "cell_type": "code",
   "execution_count": 216,
   "id": "6f093259",
   "metadata": {},
   "outputs": [
    {
     "data": {
      "text/plain": [
       "torch.Size([7917, 8])"
      ]
     },
     "execution_count": 216,
     "metadata": {},
     "output_type": "execute_result"
    }
   ],
   "source": [
    "th_x_trn.shape"
   ]
  },
  {
   "cell_type": "code",
   "execution_count": 217,
   "id": "4993586f",
   "metadata": {},
   "outputs": [],
   "source": [
    "BATCH_SIZE = 128\n",
    "TOTAL_NR_EPOCHS = 100"
   ]
  },
  {
   "cell_type": "code",
   "execution_count": 218,
   "id": "4a8e4f0d",
   "metadata": {},
   "outputs": [],
   "source": [
    "th_ds = th.utils.data.TensorDataset(th_x_trn, th_y_trn)\n",
    "th_dl = th.utils.data.DataLoader(th_ds, batch_size=BATCH_SIZE)"
   ]
  },
  {
   "cell_type": "code",
   "execution_count": 219,
   "id": "1573bb8a",
   "metadata": {},
   "outputs": [
    {
     "data": {
      "text/plain": [
       "tensor([[ 0.5201, -0.2914,  2.6374,  ..., -1.1837, -1.5940, -1.2076],\n",
       "        [ 0.5201,  0.3434, -0.3792,  ..., -0.4742, -1.5940,  0.8281],\n",
       "        [-0.5321, -0.3909, -0.3792,  ...,  0.9450, -1.5940,  0.8281],\n",
       "        ...,\n",
       "        [-1.5843, -0.9137, -0.3792,  ...,  1.2998,  0.6273, -1.2076],\n",
       "        [-0.5321, -0.5154, -0.3792,  ...,  0.2354,  0.6273, -1.2076],\n",
       "        [ 0.5201,  0.0820, -0.3792,  ...,  0.2354, -1.5940,  0.8281]])"
      ]
     },
     "execution_count": 219,
     "metadata": {},
     "output_type": "execute_result"
    }
   ],
   "source": [
    "for th_x_batch, th_y_batch in th_dl:\n",
    "    break\n",
    "th_x_batch"
   ]
  },
  {
   "cell_type": "code",
   "execution_count": 220,
   "id": "a52d61b0",
   "metadata": {},
   "outputs": [
    {
     "name": "stdout",
     "output_type": "stream",
     "text": [
      "torch.Size([128, 8])\n",
      "torch.Size([128, 1])\n"
     ]
    }
   ],
   "source": [
    "print(th_x_batch.shape)\n",
    "print(th_y_batch.shape)"
   ]
  },
  {
   "cell_type": "code",
   "execution_count": 221,
   "id": "c3334b52",
   "metadata": {},
   "outputs": [],
   "source": [
    "def th_evaluate(m, th_inputs, gold, y_div, y_sub, name=\"\", verbose=False):\n",
    "    m.eval()\n",
    "    with th.no_grad():\n",
    "        _y_pred = m(th_inputs).numpy()\n",
    "    _y_vals = _y_pred * y_div + y_sub\n",
    "    \n",
    "    _y_true = gold * y_div + y_sub\n",
    "    \n",
    "    res_err = np.abs(_y_true - _y_vals)\n",
    "    prc_err = res_err / _y_true\n",
    "    \n",
    "    overall = prc_err.mean()\n",
    "    if verbose:\n",
    "        df_result = pd.DataFrame(\n",
    "            {\n",
    "            'GOLD' : _y_true,\n",
    "            'PRED' : _y_vals.round(0),\n",
    "            'ERR%' : prc_err.round(2)\n",
    "            }\n",
    "        )\n",
    "        print('Results for', name)\n",
    "        print(df_result.head(20))\n",
    "        print(df_result.tail(20))\n",
    "    print(\"Overall error for {}: {:.1f}%\".format(name, overall * 100))\n",
    "    m.train()\n",
    "    return overall"
   ]
  },
  {
   "cell_type": "code",
   "execution_count": 226,
   "id": "1cf6cf1c",
   "metadata": {},
   "outputs": [
    {
     "data": {
      "text/plain": [
       "Adam (\n",
       "Parameter Group 0\n",
       "    amsgrad: False\n",
       "    betas: (0.9, 0.999)\n",
       "    eps: 1e-08\n",
       "    lr: 5e-05\n",
       "    weight_decay: 0\n",
       ")"
      ]
     },
     "execution_count": 226,
     "metadata": {},
     "output_type": "execute_result"
    }
   ],
   "source": [
    "loss_func = th.nn.MSELoss()\n",
    "# optimizer: weights = weights - alpha * grads # alpha << 1\n",
    "opt = th.optim.Adam(model.parameters(), lr=5e-5)\n",
    "opt"
   ]
  },
  {
   "cell_type": "code",
   "execution_count": 227,
   "id": "8f795c6f",
   "metadata": {
    "scrolled": false
   },
   "outputs": [
    {
     "name": "stdout",
     "output_type": "stream",
     "text": [
      "Overall error for TRAIN @ Epoch 0: 696.4%\n",
      "Overall error for DEV @ Epoch 0: 725.8%\n",
      "BEST MODEL @ Epoch 0\n",
      "Overall error for TRAIN @ Epoch 1: 440.4%\n",
      "Overall error for DEV @ Epoch 1: 461.7%\n",
      "BEST MODEL @ Epoch 1\n",
      "Overall error for TRAIN @ Epoch 2: 352.9%\n",
      "Overall error for DEV @ Epoch 2: 368.6%\n",
      "BEST MODEL @ Epoch 2\n",
      "Overall error for TRAIN @ Epoch 3: 300.2%\n",
      "Overall error for DEV @ Epoch 3: 310.9%\n",
      "BEST MODEL @ Epoch 3\n",
      "Overall error for TRAIN @ Epoch 4: 259.7%\n",
      "Overall error for DEV @ Epoch 4: 267.4%\n",
      "BEST MODEL @ Epoch 4\n",
      "Overall error for TRAIN @ Epoch 5: 225.4%\n",
      "Overall error for DEV @ Epoch 5: 231.4%\n",
      "BEST MODEL @ Epoch 5\n",
      "Overall error for TRAIN @ Epoch 6: 196.2%\n",
      "Overall error for DEV @ Epoch 6: 201.2%\n",
      "BEST MODEL @ Epoch 6\n",
      "Overall error for TRAIN @ Epoch 7: 171.3%\n",
      "Overall error for DEV @ Epoch 7: 176.1%\n",
      "BEST MODEL @ Epoch 7\n",
      "Overall error for TRAIN @ Epoch 8: 150.7%\n",
      "Overall error for DEV @ Epoch 8: 155.1%\n",
      "BEST MODEL @ Epoch 8\n",
      "Overall error for TRAIN @ Epoch 9: 134.2%\n",
      "Overall error for DEV @ Epoch 9: 138.1%\n",
      "BEST MODEL @ Epoch 9\n",
      "Overall error for TRAIN @ Epoch 10: 121.2%\n",
      "Overall error for DEV @ Epoch 10: 124.5%\n",
      "BEST MODEL @ Epoch 10\n",
      "Overall error for TRAIN @ Epoch 11: 111.1%\n",
      "Overall error for DEV @ Epoch 11: 113.9%\n",
      "BEST MODEL @ Epoch 11\n",
      "Overall error for TRAIN @ Epoch 12: 103.2%\n",
      "Overall error for DEV @ Epoch 12: 105.5%\n",
      "BEST MODEL @ Epoch 12\n",
      "Overall error for TRAIN @ Epoch 13: 97.1%\n",
      "Overall error for DEV @ Epoch 13: 98.9%\n",
      "BEST MODEL @ Epoch 13\n",
      "Overall error for TRAIN @ Epoch 14: 92.3%\n",
      "Overall error for DEV @ Epoch 14: 93.6%\n",
      "BEST MODEL @ Epoch 14\n",
      "Overall error for TRAIN @ Epoch 15: 88.4%\n",
      "Overall error for DEV @ Epoch 15: 89.2%\n",
      "BEST MODEL @ Epoch 15\n",
      "Overall error for TRAIN @ Epoch 16: 85.3%\n",
      "Overall error for DEV @ Epoch 16: 85.7%\n",
      "BEST MODEL @ Epoch 16\n",
      "Overall error for TRAIN @ Epoch 17: 82.6%\n",
      "Overall error for DEV @ Epoch 17: 82.8%\n",
      "BEST MODEL @ Epoch 17\n",
      "Overall error for TRAIN @ Epoch 18: 80.3%\n",
      "Overall error for DEV @ Epoch 18: 80.4%\n",
      "BEST MODEL @ Epoch 18\n",
      "Overall error for TRAIN @ Epoch 19: 78.3%\n",
      "Overall error for DEV @ Epoch 19: 78.6%\n",
      "BEST MODEL @ Epoch 19\n",
      "Overall error for TRAIN @ Epoch 20: 76.7%\n",
      "Overall error for DEV @ Epoch 20: 77.1%\n",
      "BEST MODEL @ Epoch 20\n",
      "Overall error for TRAIN @ Epoch 21: 75.2%\n",
      "Overall error for DEV @ Epoch 21: 75.9%\n",
      "BEST MODEL @ Epoch 21\n",
      "Overall error for TRAIN @ Epoch 22: 73.9%\n",
      "Overall error for DEV @ Epoch 22: 74.8%\n",
      "BEST MODEL @ Epoch 22\n",
      "Overall error for TRAIN @ Epoch 23: 72.6%\n",
      "Overall error for DEV @ Epoch 23: 73.7%\n",
      "BEST MODEL @ Epoch 23\n",
      "Overall error for TRAIN @ Epoch 24: 71.4%\n",
      "Overall error for DEV @ Epoch 24: 72.6%\n",
      "BEST MODEL @ Epoch 24\n",
      "Overall error for TRAIN @ Epoch 25: 70.2%\n",
      "Overall error for DEV @ Epoch 25: 71.6%\n",
      "BEST MODEL @ Epoch 25\n",
      "Overall error for TRAIN @ Epoch 26: 69.1%\n",
      "Overall error for DEV @ Epoch 26: 70.6%\n",
      "BEST MODEL @ Epoch 26\n",
      "Overall error for TRAIN @ Epoch 27: 68.0%\n",
      "Overall error for DEV @ Epoch 27: 69.5%\n",
      "BEST MODEL @ Epoch 27\n",
      "Overall error for TRAIN @ Epoch 28: 66.9%\n",
      "Overall error for DEV @ Epoch 28: 68.5%\n",
      "BEST MODEL @ Epoch 28\n",
      "Overall error for TRAIN @ Epoch 29: 65.8%\n",
      "Overall error for DEV @ Epoch 29: 67.4%\n",
      "BEST MODEL @ Epoch 29\n",
      "Overall error for TRAIN @ Epoch 30: 64.8%\n",
      "Overall error for DEV @ Epoch 30: 66.4%\n",
      "BEST MODEL @ Epoch 30\n",
      "Overall error for TRAIN @ Epoch 31: 63.8%\n",
      "Overall error for DEV @ Epoch 31: 65.4%\n",
      "BEST MODEL @ Epoch 31\n",
      "Overall error for TRAIN @ Epoch 32: 62.8%\n",
      "Overall error for DEV @ Epoch 32: 64.4%\n",
      "BEST MODEL @ Epoch 32\n",
      "Overall error for TRAIN @ Epoch 33: 61.9%\n",
      "Overall error for DEV @ Epoch 33: 63.5%\n",
      "BEST MODEL @ Epoch 33\n",
      "Overall error for TRAIN @ Epoch 34: 61.0%\n",
      "Overall error for DEV @ Epoch 34: 62.6%\n",
      "BEST MODEL @ Epoch 34\n",
      "Overall error for TRAIN @ Epoch 35: 60.1%\n",
      "Overall error for DEV @ Epoch 35: 61.7%\n",
      "BEST MODEL @ Epoch 35\n",
      "Overall error for TRAIN @ Epoch 36: 59.2%\n",
      "Overall error for DEV @ Epoch 36: 60.8%\n",
      "BEST MODEL @ Epoch 36\n",
      "Overall error for TRAIN @ Epoch 37: 58.4%\n",
      "Overall error for DEV @ Epoch 37: 60.0%\n",
      "BEST MODEL @ Epoch 37\n",
      "Overall error for TRAIN @ Epoch 38: 57.5%\n",
      "Overall error for DEV @ Epoch 38: 59.2%\n",
      "BEST MODEL @ Epoch 38\n",
      "Overall error for TRAIN @ Epoch 39: 56.7%\n",
      "Overall error for DEV @ Epoch 39: 58.5%\n",
      "BEST MODEL @ Epoch 39\n",
      "Overall error for TRAIN @ Epoch 40: 55.9%\n",
      "Overall error for DEV @ Epoch 40: 57.7%\n",
      "BEST MODEL @ Epoch 40\n",
      "Overall error for TRAIN @ Epoch 41: 55.2%\n",
      "Overall error for DEV @ Epoch 41: 57.0%\n",
      "BEST MODEL @ Epoch 41\n",
      "Overall error for TRAIN @ Epoch 42: 54.5%\n",
      "Overall error for DEV @ Epoch 42: 56.4%\n",
      "BEST MODEL @ Epoch 42\n",
      "Overall error for TRAIN @ Epoch 43: 53.8%\n",
      "Overall error for DEV @ Epoch 43: 55.7%\n",
      "BEST MODEL @ Epoch 43\n",
      "Overall error for TRAIN @ Epoch 44: 53.1%\n",
      "Overall error for DEV @ Epoch 44: 55.1%\n",
      "BEST MODEL @ Epoch 44\n",
      "Overall error for TRAIN @ Epoch 45: 52.5%\n",
      "Overall error for DEV @ Epoch 45: 54.4%\n",
      "BEST MODEL @ Epoch 45\n",
      "Overall error for TRAIN @ Epoch 46: 51.8%\n",
      "Overall error for DEV @ Epoch 46: 53.8%\n",
      "BEST MODEL @ Epoch 46\n",
      "Overall error for TRAIN @ Epoch 47: 51.2%\n",
      "Overall error for DEV @ Epoch 47: 53.3%\n",
      "BEST MODEL @ Epoch 47\n",
      "Overall error for TRAIN @ Epoch 48: 50.7%\n",
      "Overall error for DEV @ Epoch 48: 52.7%\n",
      "BEST MODEL @ Epoch 48\n",
      "Overall error for TRAIN @ Epoch 49: 50.1%\n",
      "Overall error for DEV @ Epoch 49: 52.2%\n",
      "BEST MODEL @ Epoch 49\n",
      "Overall error for TRAIN @ Epoch 50: 49.6%\n",
      "Overall error for DEV @ Epoch 50: 51.7%\n",
      "BEST MODEL @ Epoch 50\n",
      "Overall error for TRAIN @ Epoch 51: 49.1%\n",
      "Overall error for DEV @ Epoch 51: 51.2%\n",
      "BEST MODEL @ Epoch 51\n",
      "Overall error for TRAIN @ Epoch 52: 48.6%\n",
      "Overall error for DEV @ Epoch 52: 50.7%\n",
      "BEST MODEL @ Epoch 52\n",
      "Overall error for TRAIN @ Epoch 53: 48.1%\n",
      "Overall error for DEV @ Epoch 53: 50.3%\n",
      "BEST MODEL @ Epoch 53\n",
      "Overall error for TRAIN @ Epoch 54: 47.7%\n",
      "Overall error for DEV @ Epoch 54: 49.8%\n",
      "BEST MODEL @ Epoch 54\n",
      "Overall error for TRAIN @ Epoch 55: 47.3%\n",
      "Overall error for DEV @ Epoch 55: 49.4%\n",
      "BEST MODEL @ Epoch 55\n",
      "Overall error for TRAIN @ Epoch 56: 46.8%\n",
      "Overall error for DEV @ Epoch 56: 49.0%\n",
      "BEST MODEL @ Epoch 56\n",
      "Overall error for TRAIN @ Epoch 57: 46.4%\n",
      "Overall error for DEV @ Epoch 57: 48.6%\n",
      "BEST MODEL @ Epoch 57\n",
      "Overall error for TRAIN @ Epoch 58: 46.1%\n",
      "Overall error for DEV @ Epoch 58: 48.2%\n",
      "BEST MODEL @ Epoch 58\n",
      "Overall error for TRAIN @ Epoch 59: 45.7%\n",
      "Overall error for DEV @ Epoch 59: 47.9%\n",
      "BEST MODEL @ Epoch 59\n",
      "Overall error for TRAIN @ Epoch 60: 45.3%\n",
      "Overall error for DEV @ Epoch 60: 47.5%\n",
      "BEST MODEL @ Epoch 60\n",
      "Overall error for TRAIN @ Epoch 61: 45.0%\n",
      "Overall error for DEV @ Epoch 61: 47.2%\n",
      "BEST MODEL @ Epoch 61\n",
      "Overall error for TRAIN @ Epoch 62: 44.6%\n",
      "Overall error for DEV @ Epoch 62: 46.9%\n",
      "BEST MODEL @ Epoch 62\n",
      "Overall error for TRAIN @ Epoch 63: 44.3%\n",
      "Overall error for DEV @ Epoch 63: 46.6%\n",
      "BEST MODEL @ Epoch 63\n",
      "Overall error for TRAIN @ Epoch 64: 44.0%\n",
      "Overall error for DEV @ Epoch 64: 46.3%\n",
      "BEST MODEL @ Epoch 64\n",
      "Overall error for TRAIN @ Epoch 65: 43.7%\n",
      "Overall error for DEV @ Epoch 65: 46.0%\n",
      "BEST MODEL @ Epoch 65\n",
      "Overall error for TRAIN @ Epoch 66: 43.5%\n",
      "Overall error for DEV @ Epoch 66: 45.8%\n",
      "BEST MODEL @ Epoch 66\n",
      "Overall error for TRAIN @ Epoch 67: 43.2%\n",
      "Overall error for DEV @ Epoch 67: 45.5%\n",
      "BEST MODEL @ Epoch 67\n",
      "Overall error for TRAIN @ Epoch 68: 42.9%\n",
      "Overall error for DEV @ Epoch 68: 45.3%\n",
      "BEST MODEL @ Epoch 68\n",
      "Overall error for TRAIN @ Epoch 69: 42.7%\n",
      "Overall error for DEV @ Epoch 69: 45.1%\n",
      "BEST MODEL @ Epoch 69\n",
      "Overall error for TRAIN @ Epoch 70: 42.4%\n",
      "Overall error for DEV @ Epoch 70: 44.8%\n",
      "BEST MODEL @ Epoch 70\n",
      "Overall error for TRAIN @ Epoch 71: 42.2%\n",
      "Overall error for DEV @ Epoch 71: 44.6%\n",
      "BEST MODEL @ Epoch 71\n",
      "Overall error for TRAIN @ Epoch 72: 41.9%\n",
      "Overall error for DEV @ Epoch 72: 44.4%\n",
      "BEST MODEL @ Epoch 72\n",
      "Overall error for TRAIN @ Epoch 73: 41.7%\n",
      "Overall error for DEV @ Epoch 73: 44.2%\n",
      "BEST MODEL @ Epoch 73\n",
      "Overall error for TRAIN @ Epoch 74: 41.4%\n",
      "Overall error for DEV @ Epoch 74: 43.9%\n",
      "BEST MODEL @ Epoch 74\n",
      "Overall error for TRAIN @ Epoch 75: 41.2%\n",
      "Overall error for DEV @ Epoch 75: 43.7%\n",
      "BEST MODEL @ Epoch 75\n",
      "Overall error for TRAIN @ Epoch 76: 41.0%\n",
      "Overall error for DEV @ Epoch 76: 43.5%\n",
      "BEST MODEL @ Epoch 76\n",
      "Overall error for TRAIN @ Epoch 77: 40.8%\n",
      "Overall error for DEV @ Epoch 77: 43.3%\n",
      "BEST MODEL @ Epoch 77\n",
      "Overall error for TRAIN @ Epoch 78: 40.5%\n",
      "Overall error for DEV @ Epoch 78: 43.1%\n",
      "BEST MODEL @ Epoch 78\n"
     ]
    },
    {
     "name": "stdout",
     "output_type": "stream",
     "text": [
      "Overall error for TRAIN @ Epoch 79: 40.3%\n",
      "Overall error for DEV @ Epoch 79: 42.9%\n",
      "BEST MODEL @ Epoch 79\n",
      "Overall error for TRAIN @ Epoch 80: 40.1%\n",
      "Overall error for DEV @ Epoch 80: 42.8%\n",
      "BEST MODEL @ Epoch 80\n",
      "Overall error for TRAIN @ Epoch 81: 39.9%\n",
      "Overall error for DEV @ Epoch 81: 42.6%\n",
      "BEST MODEL @ Epoch 81\n",
      "Overall error for TRAIN @ Epoch 82: 39.7%\n",
      "Overall error for DEV @ Epoch 82: 42.4%\n",
      "BEST MODEL @ Epoch 82\n",
      "Overall error for TRAIN @ Epoch 83: 39.5%\n",
      "Overall error for DEV @ Epoch 83: 42.2%\n",
      "BEST MODEL @ Epoch 83\n",
      "Overall error for TRAIN @ Epoch 84: 39.2%\n",
      "Overall error for DEV @ Epoch 84: 42.0%\n",
      "BEST MODEL @ Epoch 84\n",
      "Overall error for TRAIN @ Epoch 85: 39.0%\n",
      "Overall error for DEV @ Epoch 85: 41.9%\n",
      "BEST MODEL @ Epoch 85\n",
      "Overall error for TRAIN @ Epoch 86: 38.9%\n",
      "Overall error for DEV @ Epoch 86: 41.7%\n",
      "BEST MODEL @ Epoch 86\n",
      "Overall error for TRAIN @ Epoch 87: 38.7%\n",
      "Overall error for DEV @ Epoch 87: 41.6%\n",
      "BEST MODEL @ Epoch 87\n",
      "Overall error for TRAIN @ Epoch 88: 38.5%\n",
      "Overall error for DEV @ Epoch 88: 41.4%\n",
      "BEST MODEL @ Epoch 88\n",
      "Overall error for TRAIN @ Epoch 89: 38.3%\n",
      "Overall error for DEV @ Epoch 89: 41.2%\n",
      "BEST MODEL @ Epoch 89\n",
      "Overall error for TRAIN @ Epoch 90: 38.1%\n",
      "Overall error for DEV @ Epoch 90: 41.1%\n",
      "BEST MODEL @ Epoch 90\n",
      "Overall error for TRAIN @ Epoch 91: 37.9%\n",
      "Overall error for DEV @ Epoch 91: 41.0%\n",
      "BEST MODEL @ Epoch 91\n",
      "Overall error for TRAIN @ Epoch 92: 37.7%\n",
      "Overall error for DEV @ Epoch 92: 40.8%\n",
      "BEST MODEL @ Epoch 92\n",
      "Overall error for TRAIN @ Epoch 93: 37.6%\n",
      "Overall error for DEV @ Epoch 93: 40.7%\n",
      "BEST MODEL @ Epoch 93\n",
      "Overall error for TRAIN @ Epoch 94: 37.4%\n",
      "Overall error for DEV @ Epoch 94: 40.5%\n",
      "BEST MODEL @ Epoch 94\n",
      "Overall error for TRAIN @ Epoch 95: 37.3%\n",
      "Overall error for DEV @ Epoch 95: 40.4%\n",
      "BEST MODEL @ Epoch 95\n",
      "Overall error for TRAIN @ Epoch 96: 37.1%\n",
      "Overall error for DEV @ Epoch 96: 40.3%\n",
      "BEST MODEL @ Epoch 96\n",
      "Overall error for TRAIN @ Epoch 97: 37.0%\n",
      "Overall error for DEV @ Epoch 97: 40.2%\n",
      "BEST MODEL @ Epoch 97\n",
      "Overall error for TRAIN @ Epoch 98: 36.8%\n",
      "Overall error for DEV @ Epoch 98: 40.0%\n",
      "BEST MODEL @ Epoch 98\n",
      "Overall error for TRAIN @ Epoch 99: 36.7%\n",
      "Overall error for DEV @ Epoch 99: 39.9%\n",
      "BEST MODEL @ Epoch 99\n",
      "Overall error for Final TEST: 36.3%\n"
     ]
    },
    {
     "data": {
      "text/plain": [
       "0.3633409635978909"
      ]
     },
     "execution_count": 227,
     "metadata": {},
     "output_type": "execute_result"
    }
   ],
   "source": [
    "best_dev_err = 100\n",
    "wait_time = 0\n",
    "max_nr_of_succesive_fails = 2\n",
    "for epoch in range(TOTAL_NR_EPOCHS):\n",
    "    for th_x_batch, th_y_batch in th_dl:\n",
    "        # compute current inferred values with forward prop\n",
    "        th_y_hat = model(th_x_batch)\n",
    "        # compute loss (compare results with actual truth)\n",
    "        th_loss = loss_func(input=th_y_hat, target=th_y_batch) #((th_y_hat - th_y_batch)**2).mean()\n",
    "        # nullfy the gradients\n",
    "        opt.zero_grad()\n",
    "        # compute loss 1st derv wrt all model weights (grads)\n",
    "        th_loss.backward()\n",
    "        # apply gradients to weights with a hopefully smart approach\n",
    "        opt.step()\n",
    "    # now we evaluate on TRAIN and DEV to see how good we are\n",
    "    th_evaluate(\n",
    "        m=model,\n",
    "        th_inputs=th_x_trn,\n",
    "        gold=y_trn,\n",
    "        y_div=y_norm_div,\n",
    "        y_sub=y_norm_sub,\n",
    "        verbose=False,\n",
    "        name='TRAIN @ Epoch {}'.format(epoch)\n",
    "    )\n",
    "    dev_err = th_evaluate(\n",
    "        m=model,\n",
    "        th_inputs=th_x_dev,\n",
    "        gold=y_dev,\n",
    "        y_div=y_norm_div,\n",
    "        y_sub=y_norm_sub,\n",
    "        verbose=False,\n",
    "        name='DEV @ Epoch {}'.format(epoch)\n",
    "    )\n",
    "    if best_dev_err > dev_err:\n",
    "        best_dev_err = dev_err\n",
    "        wait_time = 0\n",
    "        print(\"BEST MODEL @ Epoch {}\".format(epoch))\n",
    "    else:\n",
    "        wait_time += 1\n",
    "        if wait_time > max_nr_of_succesive_fails:\n",
    "            print(\"STOP TRAINING !\")\n",
    "            break\n",
    "\n",
    "# finally we evaluate on TEST\n",
    "th_evaluate(\n",
    "    m=model,\n",
    "    th_inputs=th_x_test,\n",
    "    gold=y_test,\n",
    "    y_div=y_norm_div,\n",
    "    y_sub=y_norm_sub,\n",
    "    verbose=False,\n",
    "    name='Final TEST'\n",
    ")\n"
   ]
  },
  {
   "cell_type": "code",
   "execution_count": 113,
   "id": "a02645a9",
   "metadata": {},
   "outputs": [
    {
     "data": {
      "text/plain": [
       "tensor(0.0265, grad_fn=<MseLossBackward>)"
      ]
     },
     "execution_count": 113,
     "metadata": {},
     "output_type": "execute_result"
    }
   ],
   "source": [
    "th_loss"
   ]
  },
  {
   "cell_type": "code",
   "execution_count": 114,
   "id": "363d1393",
   "metadata": {},
   "outputs": [
    {
     "data": {
      "text/plain": [
       "tensor(0.0265, grad_fn=<MeanBackward0>)"
      ]
     },
     "execution_count": 114,
     "metadata": {},
     "output_type": "execute_result"
    }
   ],
   "source": [
    "th_loss2\n"
   ]
  },
  {
   "cell_type": "code",
   "execution_count": 101,
   "id": "0de43040",
   "metadata": {},
   "outputs": [],
   "source": [
    "th_p = next(model.parameters())"
   ]
  },
  {
   "cell_type": "code",
   "execution_count": 102,
   "id": "5b77127b",
   "metadata": {},
   "outputs": [
    {
     "data": {
      "text/plain": [
       "Parameter containing:\n",
       "tensor([[-0.3237, -0.0135,  0.0039,  0.1976, -0.0710,  0.1697, -0.0625,  0.1297],\n",
       "        [-0.3445,  0.1659, -0.0006,  0.1632, -0.0245, -0.2213, -0.2582,  0.3335],\n",
       "        [ 0.2090, -0.0180,  0.3157, -0.0739, -0.1897,  0.2394,  0.2573, -0.3424],\n",
       "        [ 0.2675, -0.3024, -0.2920,  0.0688, -0.1947,  0.1008,  0.0222, -0.2238],\n",
       "        [-0.2727, -0.0212, -0.0715, -0.0897,  0.1732, -0.1554, -0.3270, -0.2729],\n",
       "        [ 0.3115,  0.1699, -0.2831, -0.2362,  0.0647,  0.0031, -0.2171, -0.2635],\n",
       "        [ 0.3292, -0.0841,  0.1267, -0.1887,  0.2347,  0.0825, -0.2841, -0.3204],\n",
       "        [-0.2087,  0.3115,  0.1408, -0.1852, -0.2997, -0.1595, -0.2179, -0.2679],\n",
       "        [-0.2799, -0.1589,  0.0369,  0.0104, -0.1110,  0.0779,  0.2486, -0.1360],\n",
       "        [ 0.2119, -0.0055,  0.1011, -0.0499,  0.1193,  0.2478, -0.0503,  0.1248],\n",
       "        [ 0.0968, -0.3024, -0.3401,  0.1819,  0.2067,  0.0256,  0.0419,  0.3459],\n",
       "        [ 0.0976,  0.0354, -0.1622,  0.3426,  0.2328, -0.2502, -0.2256,  0.3488],\n",
       "        [ 0.0726,  0.2523, -0.1305, -0.2997,  0.0135,  0.3410,  0.2931,  0.2569],\n",
       "        [-0.2095,  0.2715,  0.1171, -0.1266, -0.2479,  0.1342,  0.2430,  0.1687],\n",
       "        [-0.0759,  0.3204,  0.3448,  0.3478,  0.1412, -0.1943,  0.2204,  0.1093],\n",
       "        [-0.1680,  0.2906, -0.1564, -0.3277,  0.0475,  0.1376,  0.3291, -0.3108],\n",
       "        [-0.2836,  0.1455, -0.3157,  0.0963, -0.1053,  0.3044,  0.0532, -0.3255],\n",
       "        [ 0.3383, -0.3070,  0.2276,  0.2122, -0.0962,  0.1689,  0.0381,  0.3526],\n",
       "        [-0.0382, -0.0633,  0.1078,  0.2136, -0.2198, -0.0937,  0.2476,  0.2046],\n",
       "        [-0.1773,  0.1901, -0.2013, -0.3084,  0.2902, -0.2757, -0.3185, -0.2965],\n",
       "        [ 0.3253,  0.2492, -0.1095, -0.2795,  0.1763,  0.0401, -0.1218,  0.3261],\n",
       "        [ 0.2080, -0.2365, -0.1117, -0.1861, -0.0587,  0.1132, -0.3348, -0.0695],\n",
       "        [-0.0823,  0.1541,  0.1585,  0.3221,  0.3218,  0.0796, -0.2963,  0.3073],\n",
       "        [ 0.3285, -0.1280, -0.1960, -0.2952,  0.2501, -0.1343,  0.0249, -0.0367],\n",
       "        [-0.1541,  0.0113,  0.0828, -0.0083, -0.3303, -0.3497,  0.1370,  0.0247],\n",
       "        [ 0.0180,  0.2894,  0.1142, -0.0586, -0.2472,  0.3499,  0.1646,  0.0165],\n",
       "        [ 0.1890,  0.2159,  0.2916,  0.1064,  0.2052,  0.0361, -0.0069, -0.1911],\n",
       "        [ 0.0172,  0.3027,  0.3382,  0.2148, -0.2551,  0.3129, -0.2698, -0.1146],\n",
       "        [-0.3000,  0.2969,  0.2146, -0.1524, -0.2448, -0.0096, -0.2967,  0.2618],\n",
       "        [ 0.1804, -0.3267,  0.1493, -0.2691,  0.0900,  0.1772, -0.3292, -0.0011],\n",
       "        [ 0.2248,  0.2792, -0.2919,  0.0880,  0.1121,  0.2146,  0.3016, -0.1562],\n",
       "        [ 0.2460, -0.3027, -0.0859,  0.0754, -0.3138, -0.2063,  0.1586, -0.0893]],\n",
       "       requires_grad=True)"
      ]
     },
     "execution_count": 102,
     "metadata": {},
     "output_type": "execute_result"
    }
   ],
   "source": [
    "th_p"
   ]
  },
  {
   "cell_type": "code",
   "execution_count": 117,
   "id": "a3163096",
   "metadata": {},
   "outputs": [
    {
     "data": {
      "text/plain": [
       "tensor([[-4.9262e-03, -6.3331e-03, -1.6803e-02,  3.1191e-02, -1.8842e-02,\n",
       "         -9.0149e-03,  9.4221e-03,  5.1002e-03],\n",
       "        [-8.8535e-02, -6.1137e-02,  3.3573e-02, -1.0230e-01,  7.6081e-02,\n",
       "          8.6771e-02, -3.2369e-03, -8.1327e-02],\n",
       "        [ 3.0522e-02,  1.0876e-02,  6.7817e-02, -3.8839e-03, -4.1244e-02,\n",
       "         -5.2713e-02,  9.2966e-03, -3.1257e-02],\n",
       "        [ 3.1581e-03,  4.7247e-04, -1.1438e-02,  3.0346e-02, -2.1588e-02,\n",
       "         -1.5415e-02, -2.1142e-03,  4.4103e-03],\n",
       "        [ 2.0384e-03, -4.8277e-04, -1.1842e-03,  6.9161e-04,  1.2053e-04,\n",
       "         -1.7344e-03, -3.6407e-03, -9.4507e-03],\n",
       "        [-7.4779e-02, -5.7259e-02, -1.0377e-02,  4.9481e-03,  2.1254e-03,\n",
       "          2.6047e-02,  4.5602e-02,  1.2375e-02],\n",
       "        [ 1.2540e-01,  9.3933e-02,  4.0119e-02, -3.9293e-02,  1.1167e-02,\n",
       "         -3.5118e-02, -3.6726e-02, -3.6721e-02],\n",
       "        [-5.5664e-03, -3.3949e-03, -3.9546e-03, -1.6501e-03,  4.2091e-03,\n",
       "          5.1056e-03,  2.1016e-03,  4.9515e-03],\n",
       "        [ 1.9228e-02,  1.4354e-02,  1.1627e-03, -2.7075e-02,  2.5258e-02,\n",
       "          2.4028e-02, -2.5832e-02, -1.6145e-04],\n",
       "        [-6.9939e-02, -6.1566e-02,  1.1140e-02,  4.0748e-02, -4.6562e-02,\n",
       "         -8.7403e-04,  2.9182e-02, -2.8947e-02],\n",
       "        [ 3.8440e-02,  2.7232e-02, -4.4961e-02,  6.6321e-02, -3.3939e-02,\n",
       "         -3.9017e-02, -2.3524e-03,  4.8044e-02],\n",
       "        [ 5.3284e-02,  5.3206e-02, -3.2938e-02,  4.9944e-02, -2.6169e-02,\n",
       "         -2.5785e-02,  2.8025e-03,  5.0238e-02],\n",
       "        [-6.1972e-02, -5.7133e-02,  6.8355e-03, -7.2726e-03,  2.4582e-03,\n",
       "          2.4931e-02, -1.8553e-02, -4.2703e-02],\n",
       "        [ 5.4891e-03,  4.4906e-03,  1.9931e-03,  5.8025e-03, -6.9001e-03,\n",
       "         -8.3435e-03,  7.1285e-03,  2.5125e-03],\n",
       "        [ 8.4504e-02,  6.9553e-02,  2.5550e-02,  8.9625e-02, -1.0311e-01,\n",
       "         -9.2823e-02,  5.2175e-02,  2.7785e-02],\n",
       "        [ 4.4692e-02,  3.9045e-02,  1.7709e-02, -2.4654e-02,  1.1956e-02,\n",
       "         -1.7067e-02,  1.3780e-03, -1.4801e-02],\n",
       "        [ 3.0080e-04,  1.4054e-03,  1.9961e-03, -2.8639e-03,  1.4294e-03,\n",
       "          1.9330e-03,  8.7064e-04,  3.3853e-03],\n",
       "        [ 1.9372e-02,  1.5059e-02,  3.4700e-03,  1.1899e-02, -1.3740e-02,\n",
       "         -1.2170e-02,  3.7116e-03,  1.2191e-02],\n",
       "        [-5.1495e-03, -3.8175e-03,  7.7261e-03, -3.4347e-02,  2.7896e-02,\n",
       "          1.7395e-02, -2.2279e-02, -1.1788e-02],\n",
       "        [-2.5444e-02, -1.9203e-02, -1.4954e-03,  1.3224e-02, -1.1721e-02,\n",
       "          3.1921e-03,  9.7600e-03,  7.2929e-03],\n",
       "        [ 1.2748e-01,  1.1488e-01, -5.4905e-04, -2.6090e-02,  2.5446e-02,\n",
       "         -2.7858e-02, -4.5500e-02,  5.0270e-02],\n",
       "        [-6.0181e-02, -3.7826e-02,  2.1764e-02,  3.1951e-03, -1.7506e-02,\n",
       "          1.2847e-03,  6.2613e-02,  1.0756e-02],\n",
       "        [-6.3045e-02, -5.6089e-02,  2.1336e-02, -7.9724e-03, -6.4860e-03,\n",
       "          1.6866e-04,  2.1731e-02, -1.4706e-02],\n",
       "        [ 9.8819e-03,  1.1594e-02, -4.2041e-03, -8.3489e-03,  1.0815e-02,\n",
       "          3.6606e-03, -4.4702e-03,  3.6691e-03],\n",
       "        [-1.4793e-02, -9.4607e-03, -8.0353e-03, -2.9812e-02,  3.3989e-02,\n",
       "          2.5469e-02, -9.6429e-03, -2.2232e-03],\n",
       "        [-1.1420e-01, -1.0371e-01, -3.8330e-02, -2.0040e-02,  4.4687e-02,\n",
       "          5.5847e-02, -7.2253e-03, -2.1488e-02],\n",
       "        [-1.4368e-01, -1.1921e-01, -7.9367e-02,  3.3969e-02,  1.9981e-02,\n",
       "          6.6844e-02,  5.5015e-02,  4.5563e-02],\n",
       "        [ 1.6787e-01,  1.2818e-01,  2.6066e-02,  1.1446e-01, -1.2733e-01,\n",
       "         -1.2510e-01, -2.4142e-02,  1.4313e-02],\n",
       "        [-1.2251e-01, -1.0335e-01, -4.4021e-02,  4.9205e-03,  2.4465e-02,\n",
       "          3.4440e-02,  3.4018e-02, -4.5629e-03],\n",
       "        [-1.6961e-02, -9.0771e-03, -1.5482e-03,  7.5913e-03, -6.2712e-03,\n",
       "         -6.6719e-04,  1.0956e-02,  6.8850e-03],\n",
       "        [-7.4839e-02, -6.7095e-02,  2.9743e-02, -5.1206e-02,  2.9501e-02,\n",
       "          4.9431e-02, -1.0305e-02, -3.9850e-02],\n",
       "        [ 1.6833e-02,  1.0615e-02,  1.6992e-02,  3.8307e-02, -4.8096e-02,\n",
       "         -3.6326e-02,  8.5784e-03,  5.3829e-03]])"
      ]
     },
     "execution_count": 117,
     "metadata": {},
     "output_type": "execute_result"
    }
   ],
   "source": [
    "th_p.grad"
   ]
  },
  {
   "cell_type": "code",
   "execution_count": 118,
   "id": "262aac93",
   "metadata": {},
   "outputs": [],
   "source": [
    "opt.zero_grad()"
   ]
  },
  {
   "cell_type": "code",
   "execution_count": 119,
   "id": "d9e02524",
   "metadata": {},
   "outputs": [
    {
     "data": {
      "text/plain": [
       "tensor([[0., 0., 0., 0., 0., 0., 0., 0.],\n",
       "        [0., 0., 0., 0., 0., 0., 0., 0.],\n",
       "        [0., 0., 0., 0., 0., 0., 0., 0.],\n",
       "        [0., 0., 0., 0., 0., 0., 0., 0.],\n",
       "        [0., 0., 0., 0., 0., 0., 0., 0.],\n",
       "        [0., 0., 0., 0., 0., 0., 0., 0.],\n",
       "        [0., 0., 0., 0., 0., 0., 0., 0.],\n",
       "        [0., 0., 0., 0., 0., 0., 0., 0.],\n",
       "        [0., 0., 0., 0., 0., 0., 0., 0.],\n",
       "        [0., 0., 0., 0., 0., 0., 0., 0.],\n",
       "        [0., 0., 0., 0., 0., 0., 0., 0.],\n",
       "        [0., 0., 0., 0., 0., 0., 0., 0.],\n",
       "        [0., 0., 0., 0., 0., 0., 0., 0.],\n",
       "        [0., 0., 0., 0., 0., 0., 0., 0.],\n",
       "        [0., 0., 0., 0., 0., 0., 0., 0.],\n",
       "        [0., 0., 0., 0., 0., 0., 0., 0.],\n",
       "        [0., 0., 0., 0., 0., 0., 0., 0.],\n",
       "        [0., 0., 0., 0., 0., 0., 0., 0.],\n",
       "        [0., 0., 0., 0., 0., 0., 0., 0.],\n",
       "        [0., 0., 0., 0., 0., 0., 0., 0.],\n",
       "        [0., 0., 0., 0., 0., 0., 0., 0.],\n",
       "        [0., 0., 0., 0., 0., 0., 0., 0.],\n",
       "        [0., 0., 0., 0., 0., 0., 0., 0.],\n",
       "        [0., 0., 0., 0., 0., 0., 0., 0.],\n",
       "        [0., 0., 0., 0., 0., 0., 0., 0.],\n",
       "        [0., 0., 0., 0., 0., 0., 0., 0.],\n",
       "        [0., 0., 0., 0., 0., 0., 0., 0.],\n",
       "        [0., 0., 0., 0., 0., 0., 0., 0.],\n",
       "        [0., 0., 0., 0., 0., 0., 0., 0.],\n",
       "        [0., 0., 0., 0., 0., 0., 0., 0.],\n",
       "        [0., 0., 0., 0., 0., 0., 0., 0.],\n",
       "        [0., 0., 0., 0., 0., 0., 0., 0.]])"
      ]
     },
     "execution_count": 119,
     "metadata": {},
     "output_type": "execute_result"
    }
   ],
   "source": [
    "th_p.grad"
   ]
  },
  {
   "cell_type": "code",
   "execution_count": null,
   "id": "a3d8742d",
   "metadata": {},
   "outputs": [],
   "source": []
  }
 ],
 "metadata": {
  "kernelspec": {
   "display_name": "Python 3 (ipykernel)",
   "language": "python",
   "name": "python3"
  },
  "language_info": {
   "codemirror_mode": {
    "name": "ipython",
    "version": 3
   },
   "file_extension": ".py",
   "mimetype": "text/x-python",
   "name": "python",
   "nbconvert_exporter": "python",
   "pygments_lexer": "ipython3",
   "version": "3.8.12"
  }
 },
 "nbformat": 4,
 "nbformat_minor": 5
}
