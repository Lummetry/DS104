{
 "cells": [
  {
   "cell_type": "code",
   "execution_count": 52,
   "id": "a804f036",
   "metadata": {},
   "outputs": [],
   "source": [
    "import pickle\n",
    "import os\n",
    "import numpy as np\n",
    "import matplotlib.pyplot as plt\n",
    "%matplotlib inline\n",
    "\n",
    "import tensorflow as tf"
   ]
  },
  {
   "cell_type": "code",
   "execution_count": 2,
   "id": "bd87836c",
   "metadata": {},
   "outputs": [],
   "source": [
    "FOLDER = '..\\data'\n",
    "FN = 'restocracy_all_data.pkl'"
   ]
  },
  {
   "cell_type": "code",
   "execution_count": 3,
   "id": "562ad53a",
   "metadata": {},
   "outputs": [],
   "source": [
    "with open(os.path.join(FOLDER, FN), 'rb') as fh:\n",
    "    data = pickle.load(fh)"
   ]
  },
  {
   "cell_type": "code",
   "execution_count": 4,
   "id": "1ea71171",
   "metadata": {},
   "outputs": [
    {
     "data": {
      "text/plain": [
       "list"
      ]
     },
     "execution_count": 4,
     "metadata": {},
     "output_type": "execute_result"
    }
   ],
   "source": [
    "type(data)"
   ]
  },
  {
   "cell_type": "code",
   "execution_count": 5,
   "id": "16e1bf5b",
   "metadata": {},
   "outputs": [
    {
     "data": {
      "text/plain": [
       "200"
      ]
     },
     "execution_count": 5,
     "metadata": {},
     "output_type": "execute_result"
    }
   ],
   "source": [
    "len(data)"
   ]
  },
  {
   "cell_type": "code",
   "execution_count": 6,
   "id": "4df5aff3",
   "metadata": {},
   "outputs": [
    {
     "data": {
      "text/plain": [
       "{'price': '202 lei',\n",
       " 'review': ' \\n Noul restaurant vedeta al Bucurestiului, o constructie geniala de marketing \\n Maize s-a deschis la inceputul lui noiembrie 2017 in mansarda unui (fel de) bloc cu doua etaje de pe eleganta strada Paris, aproape de Piata Dorobantilor. Poti sa o iei, la fel de bine, si ca pe o casa veche din Bucurestiul vechi, facuta fara imaginatie, sau cu economie la arhitect. Casa e renovata recent, iar zona e atat de frumoasa si de aristocratica, incat orice casa de acolo nu poate sa fie decat frumoasa si ea, indiferent cum ar arata si in ce stare ar fi. \\n Daca cei care au construit batrana casa nu au adus arhitecti cu imaginatie, cei care au transformat mansarda in restaurantul Maize au facut-o. Totul arata foarte bine acolo, au pus in valoare fiecare coltisor si detaliu, au reusit sa o umple si de lumina, si au facut loc si bucatariei chiar in mijloc, cu plite si gratare cu tot, dupa cum se vede si in poze, care ma scutesc de mai mult scris. Acolo, sus, au si o mica terasa pe acoperis, foarte frumoasa si ea, desigur, si nu stiu daca a lor va fi si curtea din spate: mare, cu case frumoase in jur, un alt arhitect bun ar putea face acolo o terasa de referinta a orasului. Muzica e data foarte tare, dar presupun ca am fost printre putinii deranjati de asta. \\n Dar sa vorbim despre mancare, pentru ca la Maize, spre diferenta de multe alte restaurante care au investit o avere in amenajare, mancarea e un lucru serios, chiar foarte, foarte serios. Au la Maize un chef, nu stiu cum il cheama, dar cred ca e cel despre care am mai scris pe cand a deschis un restaurant in apropiere de Marriott, ceva cu Funky Cuisine, si apoi l-am vazut, pentru scurt timp, la E3 by Entourage, in Piata Floreasca. Daca e acelasi, deci, atunci e foarte talentat, am scris si atunci asta, si acum nu fac decat sa confirm ca nu a stat pe loc, ci a mers mult mai departe. Si nu se va opri aici, fara indoiala… E unul dintre cei mai creativi si mai potriviti pentru o astfel de meserie din cati bucatari am vazut. \\n Conceptul gastronomic enuntat de Maize, si sustinut de tot ce am vazut in meniu, pe plita si in farfurie, este de „farm to table”, de „bucatarie creativa de ingrediente” romanesti, adica inventarea, recrearea, recompunerea si recombinarea retetelor si crearea altora noi, cam tot ce se poate face cu niste produse si ingrediente de buna calitate venite de la furnizori seriosi si de incredere – atat cat se poate. Putem sa-i spunem, la fel de bine, La Nouvelle Cuisine Roumaine/ Romaneasca, bucatari fina, adica, si atunci ei ar fi pionierii, deschizatorii de drum, fara indoiala. \\n Meniul e cu totul original, nu cred ca e un singur fel acolo cu ceva ce s-a mai facut in alte restaurante. Si in asta sta (o parte din) talentul chefului despre care am vorbit, sa recompuna la nesfarsit produsele si ingredientele si sa puna in farfurie combinatiile cele mai reusite. \\n Ca totul e la vedere la Maize, ca sase bucatari – toti tineri si frumosi, cu fete si tatuaje de pus in revista, nu in ultimul rand – muncesc la fiecare farfurie in parte de parca ar fi intr-un atelier de orfevarie, e iarasi o constructie a unui mare specialist in marketing – daca geniul in marketing nu o fi insusi cheful… \\n Tot ce am mancat la Maize a fost bun si foarte bun. Ne-au dat ca amuse-bouche o zacusca, pusa pe un fel de turta mica. Foarte buna la gust, insa cu zahar in exces, parca mancai Nutella pe paine. Orezul cu parmezan 9si cu galbenus de ou, presupun) foarte bun, de asemenea, tartarul de vita original, bun si el; nu cred ca avea untura sau seu de vita in el, insa asa parea. Un file de dorada cu sos a fost revelatia zilei, foarte buna dorada, excelent sosul, foarte bine facut spanacul. Apoi am primit o ceafa de porc de Mangalita, putin cam prea mult facut, cu o varza tinuta prea mult pe o plita prea incinsa, dupa cum se vede si din poza, cu cateva frunze de ceva prea sarate, iar cu restul legumelor foarte bune si bune facute. Si desrtul a fost foarte bun, si chiar si cafeaua, o surpriza placuta si un lucru prea mult neglijat de catre cei din resturante. \\n Interesant a fost si ca unul dintre bucatari – si nu chelnerul, si aici iarasi se vede intuitia geniala de marketing si cunoasterea detaliilor fine ale client service-ului – venea la masa si explica fiecare fel in parte. \\n Serviciul a fost bun, cu un chelner relaxat si placut la apropiere, dar care nu aflase inca, la o varsta nu tocmai de incepator, ca nu mananca doi oameni cu furculitele direct dintr-o aceeasi farfurie, chiar daca sunt ei prieteni buni, de-o viata. Dar nu s-a prins el nici dupa ce i-am explicat noi cum e cu igiena in farfurie… \\n Preturile sunt normale si rezonabile, daca e sa masuram ce vezi in farfurie si in jur la Maize fata de alte restaurante de pe strazile scumpe ale Bucurestiului. O masa in doi, cu o sticla de vin bun, te costa vreo 4-500 de lei. \\n Maize, baietii lor frumosi si foarte talentati din bucatarie, si, mai ales, farfuriile cu mancaruri ca acelea din pozele noastre, vor deveni in foarte scurt timp vedete de prim-plan ale gastronomiei si mondenitatii bucurestene, fara indoiala. ii voi urmari atent si voi mai scrie despre ei, cu atat mai mult cu cat sunt foarte aproape de mine… (GB – noiembrie 2017) \\n \\n\\t\\t\\t\\tVineri, 1 noiembrie 2018, Asociatia Producatorilor de Salam de Sibiu (APSS) a organizat o cina festiva pentru a sarbatori cei 130 de ani de excelenta si recunoastere europeana de care se bucura acest ...\\t\\t\\t \\n \\n\\t\\t\\t\\tDiferenta dintre marile restaurante si celelalte o vezi, cu adevarat, la legume si la sosuri. Nu la carne, la peste si la ce mai poti primi intr-o farfurie. Replica lui Paul Bocuse, cum ca \"un peste e...\\t\\t\\t \\n \\n\\t\\t\\t\\t Cand am dat Premiile Restocracy pe 2017 pentru restaurantul cu cea mai buna bucatarie romaneasca din Bucuresti, nu am luat in calcul diferentele dintre restaurantele traditionale romanesti, cele cu b...\\t\\t\\t \\n \\n\\t\\t\\t\\tMulte bucatarii nationale au cele doua ramuri bine delimitate: o bucatarie traditionala, populara, si o bucatarie fina. Incepand cu cea mai celebra, mai sofisticata si mai buna din lume, La Cuisine Fr...\\t\\t\\t \\n \\n\\t\\t\\t\\tAlex Petricean este Head Chef-ul restaurantului Maize, deschis anul acesta.\\r\\n\\r\\nRestocracy: De unde, sau de la cine, ati invatat cele mai importante lucruri pe care le stiti despre bucatarie si gatit?\\r...\\t\\t\\t \\n MAIZE si-a deschis, in sfarsit, terasa, dupa foarte multe dificultati tehnice pe care au trebuit sa le depaseasca, fiindca au tinut sa faca si bucatarie acolo, chiar daca una restransa. E in curtea din spate a cladirii din strada Paris 61 in care sunt. Au facut o bucatarie de vara, o bucatarie deschisa. Ce se serveste pe terasa se pregateste direct acolo, un meniu mai restrans decat cel din restaurant. Au vreo zece mese mici, din cate am numarat eu, cu banchete la perete, incap vreo 25 de oameni in toata terasa, cel mult. Pozele sunt de la evenimentul de inaugurare, din 2 septembrie. (GB – sept. 2018)'}"
      ]
     },
     "execution_count": 6,
     "metadata": {},
     "output_type": "execute_result"
    }
   ],
   "source": [
    "data[0]"
   ]
  },
  {
   "cell_type": "code",
   "execution_count": 7,
   "id": "ed1a8efc",
   "metadata": {},
   "outputs": [],
   "source": [
    "prices = [x['price'] for x in data]\n",
    "reviews = [x['review'] for x in data]"
   ]
  },
  {
   "cell_type": "code",
   "execution_count": 8,
   "id": "87120007",
   "metadata": {},
   "outputs": [
    {
     "data": {
      "text/plain": [
       "['202 lei', '176 lei', '187 lei', '264 lei', '187 lei']"
      ]
     },
     "execution_count": 8,
     "metadata": {},
     "output_type": "execute_result"
    }
   ],
   "source": [
    "prices[:5]"
   ]
  },
  {
   "cell_type": "code",
   "execution_count": 9,
   "id": "2837737a",
   "metadata": {},
   "outputs": [
    {
     "data": {
      "text/plain": [
       "' \\n Noul restaurant vedeta al Bucurestiului, o constructie geniala de marketing \\n Maize s-a deschis l'"
      ]
     },
     "execution_count": 9,
     "metadata": {},
     "output_type": "execute_result"
    }
   ],
   "source": [
    "reviews[0][:100]"
   ]
  },
  {
   "cell_type": "code",
   "execution_count": 10,
   "id": "4c702897",
   "metadata": {},
   "outputs": [
    {
     "data": {
      "text/plain": [
       "array([202, 176, 187, 264, 187, 160, 133, 182, 256, 288, 266, 229, 133,\n",
       "       214, 109, 219, 147, 200, 170, 360, 258, 232, 133, 168, 206, 232,\n",
       "       133, 168, 206, 138, 138, 106, 181, 208, 120, 133, 186, 126, 149,\n",
       "        82, 130, 189, 114, 208, 184, 226, 118, 130, 155, 141, 128, 141,\n",
       "       387, 104, 106, 154, 155, 246, 154, 128, 102, 109, 114, 162, 194,\n",
       "       309, 176, 162, 224, 126, 104,  64, 114, 117, 130, 130, 149,  82,\n",
       "       107, 229, 253,  91, 187,  91, 251, 131, 142, 114, 138, 115, 109,\n",
       "       130, 115, 259, 115,  90, 136, 122, 150, 144, 131, 138, 158, 114,\n",
       "       117, 114, 110, 131, 162, 106, 218, 101, 109, 144, 134, 149, 138,\n",
       "       130, 101, 115, 133,  96, 165, 120,  70,  88,  98, 101, 149,  94,\n",
       "       226, 163, 115,  94,  91,  82, 117,  99, 122, 163,  67, 123, 149,\n",
       "       134, 142,  96, 224,  96, 168, 136, 146, 128,  94, 126, 170, 139,\n",
       "       109, 123, 107, 115, 128, 104, 146, 197, 122, 150, 128, 106, 130,\n",
       "       131, 131,  85, 122, 117,  83,  86, 123, 109, 112, 112, 130, 109,\n",
       "       162, 126, 136, 120,  77, 107,  80, 107, 112, 117, 109, 122,  83,\n",
       "       115, 173,  85, 115, 189])"
      ]
     },
     "execution_count": 10,
     "metadata": {},
     "output_type": "execute_result"
    }
   ],
   "source": [
    "np_prices = np.array([int(x.split(' ')[0]) for x in prices])\n",
    "np_prices"
   ]
  },
  {
   "cell_type": "code",
   "execution_count": 11,
   "id": "74c6ab77",
   "metadata": {},
   "outputs": [
    {
     "data": {
      "text/plain": [
       "(200,)"
      ]
     },
     "execution_count": 11,
     "metadata": {},
     "output_type": "execute_result"
    }
   ],
   "source": [
    "np_prices.shape"
   ]
  },
  {
   "cell_type": "code",
   "execution_count": 13,
   "id": "9548abb6",
   "metadata": {},
   "outputs": [
    {
     "data": {
      "text/plain": [
       "(array([ 3., 11., 16., 37., 26., 32., 16., 11.,  8.,  9.,  6.,  5.,  6.,\n",
       "         2.,  4.,  4.,  0.,  1.,  1.,  0.,  0.,  0.,  1.,  0.,  1.]),\n",
       " array([ 64.  ,  76.92,  89.84, 102.76, 115.68, 128.6 , 141.52, 154.44,\n",
       "        167.36, 180.28, 193.2 , 206.12, 219.04, 231.96, 244.88, 257.8 ,\n",
       "        270.72, 283.64, 296.56, 309.48, 322.4 , 335.32, 348.24, 361.16,\n",
       "        374.08, 387.  ]),\n",
       " <BarContainer object of 25 artists>)"
      ]
     },
     "execution_count": 13,
     "metadata": {},
     "output_type": "execute_result"
    },
    {
     "data": {
      "image/png": "[encoded data removed]",
      "text/plain": [
       "<Figure size 432x288 with 1 Axes>"
      ]
     },
     "metadata": {
      "needs_background": "light"
     },
     "output_type": "display_data"
    }
   ],
   "source": [
    "plt.hist(np_prices, bins=25)"
   ]
  },
  {
   "cell_type": "code",
   "execution_count": 14,
   "id": "c9c0b6bc",
   "metadata": {},
   "outputs": [
    {
     "data": {
      "text/plain": [
       "['Noul', 'restaurant', 'vedeta', 'al', 'Bucurestiului,']"
      ]
     },
     "execution_count": 14,
     "metadata": {},
     "output_type": "execute_result"
    }
   ],
   "source": [
    "reviews[0].split()[:5]"
   ]
  },
  {
   "cell_type": "code",
   "execution_count": 15,
   "id": "40289f60",
   "metadata": {},
   "outputs": [],
   "source": [
    "def get_vocabulary(all_docs):\n",
    "    dct_occurences = {}\n",
    "    for doc in all_docs:\n",
    "        words_in_doc = doc.split()\n",
    "        for word in words_in_doc:\n",
    "            if word in dct_occurences:\n",
    "                dct_occurences[word] += 1\n",
    "            else:\n",
    "                dct_occurences[word] = 1\n",
    "    lst_occ = sorted([(w, occ) for w, occ in dct_occurences.items()], key=lambda x: x[1], reverse=True)\n",
    "    dct_word_to_index = {w[0]:idx+1 for idx, w in enumerate(lst_occ)}\n",
    "    dct_word_to_index['UNK'] = 0\n",
    "    dct_index_to_word = {i:w for w,i in dct_word_to_index.items()}\n",
    "    return lst_occ, dct_word_to_index, dct_index_to_word\n",
    "    "
   ]
  },
  {
   "cell_type": "code",
   "execution_count": 16,
   "id": "2d7a3879",
   "metadata": {},
   "outputs": [],
   "source": [
    "o, w2i, i2w = get_vocabulary(reviews)"
   ]
  },
  {
   "cell_type": "code",
   "execution_count": 17,
   "id": "ef0e9f3e",
   "metadata": {},
   "outputs": [
    {
     "data": {
      "text/plain": [
       "[('de', 7642),\n",
       " ('si', 6195),\n",
       " ('in', 3904),\n",
       " ('la', 3650),\n",
       " ('cu', 3275),\n",
       " ('mai', 3019),\n",
       " ('ca', 2698),\n",
       " ('sa', 2655),\n",
       " ('din', 2230),\n",
       " ('care', 2147)]"
      ]
     },
     "execution_count": 17,
     "metadata": {},
     "output_type": "execute_result"
    }
   ],
   "source": [
    "o[:10]"
   ]
  },
  {
   "cell_type": "code",
   "execution_count": 18,
   "id": "cae756cd",
   "metadata": {},
   "outputs": [
    {
     "data": {
      "text/plain": [
       "'de'"
      ]
     },
     "execution_count": 18,
     "metadata": {},
     "output_type": "execute_result"
    }
   ],
   "source": [
    "i2w[1]"
   ]
  },
  {
   "cell_type": "code",
   "execution_count": 19,
   "id": "9aead04f",
   "metadata": {},
   "outputs": [
    {
     "data": {
      "text/plain": [
       "'UNK'"
      ]
     },
     "execution_count": 19,
     "metadata": {},
     "output_type": "execute_result"
    }
   ],
   "source": [
    "i2w[0]"
   ]
  },
  {
   "cell_type": "code",
   "execution_count": 20,
   "id": "e5380157",
   "metadata": {},
   "outputs": [
    {
     "data": {
      "text/plain": [
       "26"
      ]
     },
     "execution_count": 20,
     "metadata": {},
     "output_type": "execute_result"
    }
   ],
   "source": [
    "w2i['restaurant']"
   ]
  },
  {
   "cell_type": "code",
   "execution_count": 33,
   "id": "222efe43",
   "metadata": {},
   "outputs": [],
   "source": [
    "def review_to_tokens(review, dct_w2i, unk_word_idx=0, max_words=1000):\n",
    "    obs_tokens = []\n",
    "    for word in review.split():\n",
    "        obs_tokens.append(dct_w2i.get(word, unk_word_idx))\n",
    "    diff = max(0, max_words - len(obs_tokens))\n",
    "    obs_tokens = obs_tokens + [0] * diff\n",
    "    obs_tokens = obs_tokens[:max_words]\n",
    "    return obs_tokens\n",
    "\n",
    "def tokens_to_review(tokens, dct_i2w):\n",
    "    return \" \".join([dct_i2w[t] for t in tokens])"
   ]
  },
  {
   "cell_type": "code",
   "execution_count": 22,
   "id": "d7374009",
   "metadata": {},
   "outputs": [
    {
     "data": {
      "text/plain": [
       "[2181, 26, 2751, 37, 244, 15, 1377, 4219, 1, 2420]"
      ]
     },
     "execution_count": 22,
     "metadata": {},
     "output_type": "execute_result"
    }
   ],
   "source": [
    "o1 = review_to_tokens(reviews[0], dct_w2i=w2i)\n",
    "o1[:10]"
   ]
  },
  {
   "cell_type": "code",
   "execution_count": 23,
   "id": "a43ef076",
   "metadata": {},
   "outputs": [
    {
     "data": {
      "text/plain": [
       "'Noul restaurant vedeta al Bucurestiului, o constructie geniala de marketing Maize s-a deschis la inceputul lui noiembrie 2017 in mansarda unui (fel de) bloc cu doua etaje de pe eleganta strada Paris, aproape de Piata Dorobantilor. Poti sa o iei, la fel de bine, si ca pe o casa veche din Bucurestiul vechi, facuta fara imaginatie, sau cu economie la arhitect. Casa e renovata recent, iar zona e atat de frumoasa si de aristocratica, incat orice casa de acolo nu poate sa fie decat frumoasa si ea, indiferent cum ar arata si in ce stare ar fi. Daca cei care au construit batrana casa nu au adus arhitecti cu imaginatie, cei care au transformat mansarda in restaurantul Maize au facut-o. Totul arata foarte bine acolo, au pus in valoare fiecare coltisor si detaliu, au reusit sa o umple si de lumina, si au facut loc si bucatariei chiar in mijloc, cu plite si gratare cu tot, dupa cum se vede si in poze, care ma scutesc de mai mult scris. Acolo, sus, au si o mica terasa pe acoperis, foarte frumoasa si ea, desigur, si nu stiu daca a lor va fi si curtea din spate: mare, cu case frumoase in jur, un alt arhitect bun ar putea face acolo o terasa de referinta a orasului. Muzica e data foarte tare, dar presupun ca am fost printre putinii deranjati de asta. Dar sa vorbim despre mancare, pentru ca la Maize, spre diferenta de multe alte restaurante care au investit o avere in amenajare, mancarea e un lucru serios, chiar foarte, foarte serios. Au la Maize un chef, nu stiu cum il cheama, dar cred ca e cel despre care am mai scris pe cand a deschis un restaurant in apropiere de Marriott, ceva cu Funky Cuisine, si apoi l-am vazut, pentru scurt timp, la E3 by Entourage, in Piata Floreasca. Daca e acelasi, deci, atunci e foarte talentat, am scris si atunci asta, si acum nu fac decat sa confirm ca nu a stat pe loc, ci a mers mult mai departe. Si nu se va opri aici, fara indoiala… E unul dintre cei mai creativi si mai potriviti pentru o astfel de meserie din cati bucatari am vazut. Conceptul gastronomic enuntat de Maize, si sustinut de tot ce am vazut in meniu, pe plita si in farfurie, este de „farm to table”, de „bucatarie creativa de ingrediente” romanesti, adica inventarea, recrearea, recompunerea si recombinarea retetelor si crearea altora noi, cam tot ce se poate face cu niste produse si ingrediente de buna calitate venite de la furnizori seriosi si de incredere – atat cat se poate. Putem sa-i spunem, la fel de bine, La Nouvelle Cuisine Roumaine/ Romaneasca, bucatari fina, adica, si atunci ei ar fi pionierii, deschizatorii de drum, fara indoiala. Meniul e cu totul original, nu cred ca e un singur fel acolo cu ceva ce s-a mai facut in alte restaurante. Si in asta sta (o parte din) talentul chefului despre care am vorbit, sa recompuna la nesfarsit produsele si ingredientele si sa puna in farfurie combinatiile cele mai reusite. Ca totul e la vedere la Maize, ca sase bucatari – toti tineri si frumosi, cu fete si tatuaje de pus in revista, nu in ultimul rand – muncesc la fiecare farfurie in parte de parca ar fi intr-un atelier de orfevarie, e iarasi o constructie a unui mare specialist in marketing – daca geniul in marketing nu o fi insusi cheful… Tot ce am mancat la Maize a fost bun si foarte bun. Ne-au dat ca amuse-bouche o zacusca, pusa pe un fel de turta mica. Foarte buna la gust, insa cu zahar in exces, parca mancai Nutella pe paine. Orezul cu parmezan 9si cu galbenus de ou, presupun) foarte bun, de asemenea, tartarul de vita original, bun si el; nu cred ca avea untura sau seu de vita in el, insa asa parea. Un file de dorada cu sos a fost revelatia zilei, foarte buna dorada, excelent sosul, foarte bine facut spanacul. Apoi am primit o ceafa de porc de Mangalita, putin cam prea mult facut, cu o varza tinuta prea mult pe o plita prea incinsa, dupa cum se vede si din poza, cu cateva frunze de ceva prea sarate, iar cu restul legumelor foarte bune si bune facute. Si desrtul a fost foarte bun, si chiar si cafeaua, o surpriza placuta si un lucru prea mult neglijat de catre cei din resturante. Interesant a fost si ca unul dintre bucatari – si nu chelnerul, si aici iarasi se vede intuitia geniala de marketing si cunoasterea detaliilor fine ale client service-ului – venea la masa si explica fiecare fel in parte. Serviciul a fost bun, cu un chelner relaxat si placut la apropiere, dar care nu aflase inca, la o varsta nu tocmai de incepator, ca nu mananca doi oameni cu furculitele direct dintr-o aceeasi farfurie, chiar daca sunt ei prieteni buni, de-o viata. Dar nu s-a prins el nici dupa ce i-am explicat noi cum e cu igiena in farfurie… Preturile sunt normale si rezonabile, daca e sa masuram ce vezi in farfurie si in jur la Maize fata de alte restaurante de pe strazile scumpe ale Bucurestiului. O masa in doi, cu o sticla de vin bun, te costa vreo 4-500 de lei. Maize, baietii lor frumosi si foarte talentati din bucatarie, si, mai ales, farfuriile cu mancaruri ca acelea din pozele noastre, vor deveni in foarte scurt timp vedete de prim-plan ale gastronomiei si mondenitatii bucurestene, fara indoiala. ii voi urmari atent si voi mai scrie despre ei, cu atat mai mult cu cat sunt foarte aproape de mine… (GB – noiembrie 2017) Vineri, 1 noiembrie 2018, Asociatia Producatorilor de Salam de Sibiu (APSS) a organizat o cina festiva pentru a sarbatori cei 130 de ani de excelenta si recunoastere europeana de care se bucura acest ... Diferenta dintre marile restaurante si celelalte o vezi, cu adevarat, la legume si la sosuri. Nu la carne, la peste si la ce mai poti primi intr-o farfurie. Replica lui Paul Bocuse, cum ca \"un peste e... Cand am dat Premiile Restocracy pe 2017 pentru restaurantul cu cea mai buna bucatarie romaneasca din Bucuresti, nu am luat in calcul diferentele dintre restaurantele traditionale romanesti, cele cu b... Multe bucatarii nationale au cele doua ramuri bine delimitate: o bucatarie traditionala, populara, si o bucatarie fina. Incepand cu cea mai celebra, mai sofisticata si mai buna din lume, La Cuisine Fr... Alex Petricean este Head Chef-ul restaurantului Maize, deschis anul acesta. Restocracy: De unde, sau de la cine, ati invatat cele mai importante lucruri pe care le stiti despre bucatarie si gatit? ... MAIZE si-a deschis, in sfarsit, terasa, dupa foarte multe dificultati tehnice pe care au trebuit sa le depaseasca, fiindca au tinut sa faca si bucatarie acolo, chiar daca una restransa. E in curtea din spate a cladirii din strada Paris 61 in care sunt. Au facut o bucatarie de vara, o bucatarie deschisa. Ce se serveste pe terasa se pregateste direct acolo, un meniu mai restrans decat cel din restaurant. Au vreo zece mese mici, din cate am numarat eu, cu banchete la perete, incap vreo 25 de oameni in toata terasa, cel mult. Pozele sunt de la evenimentul de inaugurare, din 2 septembrie. (GB – sept. 2018)'"
      ]
     },
     "execution_count": 23,
     "metadata": {},
     "output_type": "execute_result"
    }
   ],
   "source": [
    "tokens_to_review(o1, i2w)"
   ]
  },
  {
   "cell_type": "code",
   "execution_count": 24,
   "id": "d1dad1f0",
   "metadata": {},
   "outputs": [
    {
     "data": {
      "text/plain": [
       "array([202, 176, 187, 264, 187, 160, 133, 182, 256, 288])"
      ]
     },
     "execution_count": 24,
     "metadata": {},
     "output_type": "execute_result"
    }
   ],
   "source": [
    "np_prices[:10]"
   ]
  },
  {
   "cell_type": "code",
   "execution_count": 26,
   "id": "950ec7b5",
   "metadata": {},
   "outputs": [],
   "source": [
    "lst_obs = [review_to_tokens(x, w2i) for x in reviews]"
   ]
  },
  {
   "cell_type": "code",
   "execution_count": 27,
   "id": "db97e2b0",
   "metadata": {},
   "outputs": [
    {
     "data": {
      "text/plain": [
       "(array([64., 92., 20.,  6.,  8.,  1.,  3.,  2.,  2.,  2.]),\n",
       " array([  34.,  547., 1060., 1573., 2086., 2599., 3112., 3625., 4138.,\n",
       "        4651., 5164.]),\n",
       " <BarContainer object of 10 artists>)"
      ]
     },
     "execution_count": 27,
     "metadata": {},
     "output_type": "execute_result"
    },
    {
     "data": {
      "image/png": "[encoded data removed]",
      "text/plain": [
       "<Figure size 432x288 with 1 Axes>"
      ]
     },
     "metadata": {
      "needs_background": "light"
     },
     "output_type": "display_data"
    }
   ],
   "source": [
    "lens = [len(x) for x in lst_obs]\n",
    "plt.hist(lens)"
   ]
  },
  {
   "cell_type": "code",
   "execution_count": 30,
   "id": "6acc28dd",
   "metadata": {},
   "outputs": [
    {
     "data": {
      "text/plain": [
       "[57, 24, 4, 12, 0, 4, 10, 18, 257, 0]"
      ]
     },
     "execution_count": 30,
     "metadata": {},
     "output_type": "execute_result"
    }
   ],
   "source": [
    "new_review = 'Am fost la un restarant la care am mancat susi'\n",
    "new_review_tokens = review_to_tokens(new_review, w2i)\n",
    "new_review_tokens"
   ]
  },
  {
   "cell_type": "code",
   "execution_count": 31,
   "id": "9ee5822b",
   "metadata": {},
   "outputs": [
    {
     "data": {
      "text/plain": [
       "'Am fost la un UNK la care am mancat UNK'"
      ]
     },
     "execution_count": 31,
     "metadata": {},
     "output_type": "execute_result"
    }
   ],
   "source": [
    "tokens_to_review(new_review_tokens, i2w)"
   ]
  },
  {
   "cell_type": "code",
   "execution_count": 32,
   "id": "c6d2b0c7",
   "metadata": {},
   "outputs": [
    {
     "data": {
      "text/plain": [
       "(array([10., 24., 63., 47., 12.,  8.,  9.,  5.,  3.,  1.,  3.,  4.,  2.,\n",
       "         0.,  0.,  0.,  3.,  0.,  1.,  1.,  2.,  0.,  0.,  0.,  2.]),\n",
       " array([  34. ,  239.2,  444.4,  649.6,  854.8, 1060. , 1265.2, 1470.4,\n",
       "        1675.6, 1880.8, 2086. , 2291.2, 2496.4, 2701.6, 2906.8, 3112. ,\n",
       "        3317.2, 3522.4, 3727.6, 3932.8, 4138. , 4343.2, 4548.4, 4753.6,\n",
       "        4958.8, 5164. ]),\n",
       " <BarContainer object of 25 artists>)"
      ]
     },
     "execution_count": 32,
     "metadata": {},
     "output_type": "execute_result"
    },
    {
     "data": {
      "image/png": "[encoded data removed]",
      "text/plain": [
       "<Figure size 432x288 with 1 Axes>"
      ]
     },
     "metadata": {
      "needs_background": "light"
     },
     "output_type": "display_data"
    }
   ],
   "source": [
    "plt.hist(lens, bins=25)"
   ]
  },
  {
   "cell_type": "code",
   "execution_count": 35,
   "id": "4172a7f6",
   "metadata": {
    "scrolled": false
   },
   "outputs": [
    {
     "data": {
      "text/plain": [
       "array([1000])"
      ]
     },
     "execution_count": 35,
     "metadata": {},
     "output_type": "execute_result"
    }
   ],
   "source": [
    "X = [review_to_tokens(x, w2i) for x in reviews]\n",
    "np.unique([len(x) for x in X])"
   ]
  },
  {
   "cell_type": "code",
   "execution_count": 36,
   "id": "9756e5f3",
   "metadata": {},
   "outputs": [
    {
     "data": {
      "text/plain": [
       "(200, 1000)"
      ]
     },
     "execution_count": 36,
     "metadata": {},
     "output_type": "execute_result"
    }
   ],
   "source": [
    "np_X = np.array(X)\n",
    "np_X.shape"
   ]
  },
  {
   "cell_type": "code",
   "execution_count": 43,
   "id": "421a3270",
   "metadata": {},
   "outputs": [
    {
     "data": {
      "text/plain": [
       "array([[ 2181,    26,  2751,    37,   244,    15,  1377,  4219,     1,  2420,  3573,    86,   127,     4,  1644],\n",
       "       [ 1648,   200,    16,    12,    44,  6847,    57,   287,     4,  1545,     4,  5225,    78,  1648,   945],\n",
       "       [ 6891,    11,   162,   196,     3,   895,  1999,   140,     1,     4,  3099,   819,    61,     1,     4],\n",
       "       [  317,   118,  3629,     7,    30,   702,   245,  2207,    14,   312,  3117,   279, 10932,  1809,     3],\n",
       "       [11154,  3150,  1677, 11155,   157,   915,   219,   955,    56,  5338,    14,    24,    32,     6, 11156]])"
      ]
     },
     "execution_count": 43,
     "metadata": {},
     "output_type": "execute_result"
    }
   ],
   "source": [
    "np.set_printoptions(precision=5, suppress=True, linewidth=500)\n",
    "np_X[:5, :15]"
   ]
  },
  {
   "cell_type": "code",
   "execution_count": 46,
   "id": "1f6142a7",
   "metadata": {},
   "outputs": [
    {
     "data": {
      "text/plain": [
       "array([202, 176, 187, 264, 187, 160, 133, 182, 256, 288, 266, 229, 133, 214, 109, 219, 147, 200, 170, 360, 258, 232, 133, 168, 206, 232, 133, 168, 206, 138, 138, 106, 181, 208, 120, 133, 186, 126, 149,  82, 130, 189, 114, 208, 184, 226, 118, 130, 155, 141, 128, 141, 387, 104, 106, 154, 155, 246, 154, 128, 102, 109, 114, 162, 194, 309, 176, 162, 224, 126, 104,  64, 114, 117, 130, 130, 149,  82, 107, 229, 253,  91, 187,  91, 251, 131, 142, 114, 138, 115, 109, 130, 115, 259, 115,  90, 136, 122,\n",
       "       150, 144, 131, 138, 158, 114, 117, 114, 110, 131, 162, 106, 218, 101, 109, 144, 134, 149, 138, 130, 101, 115, 133,  96, 165, 120,  70,  88,  98, 101, 149,  94, 226, 163, 115,  94,  91,  82, 117,  99, 122, 163,  67, 123, 149, 134, 142,  96, 224,  96, 168, 136, 146, 128,  94, 126, 170, 139, 109, 123, 107, 115, 128, 104, 146, 197, 122, 150, 128, 106, 130, 131, 131,  85, 122, 117,  83,  86, 123, 109, 112, 112, 130, 109, 162, 126, 136, 120,  77, 107,  80, 107, 112, 117, 109, 122,  83, 115,\n",
       "       173,  85, 115, 189])"
      ]
     },
     "execution_count": 46,
     "metadata": {},
     "output_type": "execute_result"
    }
   ],
   "source": [
    "np_y = np_prices\n",
    "np_y"
   ]
  },
  {
   "cell_type": "code",
   "execution_count": 47,
   "id": "e8f5ce0d",
   "metadata": {},
   "outputs": [],
   "source": [
    "from sklearn.model_selection import train_test_split\n",
    "x_trn, x_tst, y_trn, y_tst = train_test_split(np_X, np_y, test_size=0.2)"
   ]
  },
  {
   "cell_type": "code",
   "execution_count": 48,
   "id": "294c3024",
   "metadata": {},
   "outputs": [
    {
     "data": {
      "text/plain": [
       "(160, 1000)"
      ]
     },
     "execution_count": 48,
     "metadata": {},
     "output_type": "execute_result"
    }
   ],
   "source": [
    "x_trn.shape"
   ]
  },
  {
   "cell_type": "code",
   "execution_count": 49,
   "id": "6fad1646",
   "metadata": {},
   "outputs": [
    {
     "data": {
      "text/plain": [
       "(40, 1000)"
      ]
     },
     "execution_count": 49,
     "metadata": {},
     "output_type": "execute_result"
    }
   ],
   "source": [
    "x_tst.shape"
   ]
  },
  {
   "cell_type": "code",
   "execution_count": 50,
   "id": "652956d5",
   "metadata": {},
   "outputs": [
    {
     "name": "stdout",
     "output_type": "stream",
     "text": [
      "(20, 1000)\n",
      "(20, 1000)\n"
     ]
    }
   ],
   "source": [
    "x_dev = x_tst[:20]\n",
    "y_dev = y_tst[:20]\n",
    "x_test = x_tst[20:]\n",
    "y_test = x_tst[20:]\n",
    "print(x_dev.shape)\n",
    "print(x_test.shape)"
   ]
  },
  {
   "cell_type": "code",
   "execution_count": 56,
   "id": "47551b4b",
   "metadata": {},
   "outputs": [
    {
     "name": "stdout",
     "output_type": "stream",
     "text": [
      "Model: \"functional_1\"\n",
      "_________________________________________________________________\n",
      "Layer (type)                 Output Shape              Param #   \n",
      "=================================================================\n",
      "inputs (InputLayer)          [(None, 1000)]            0         \n",
      "_________________________________________________________________\n",
      "embeds (Embedding)           (None, 1000, 10)          220000    \n",
      "_________________________________________________________________\n",
      "flatten_1 (Flatten)          (None, 10000)             0         \n",
      "_________________________________________________________________\n",
      "dense_2 (Dense)              (None, 100)               1000100   \n",
      "_________________________________________________________________\n",
      "activation_1 (Activation)    (None, 100)               0         \n",
      "_________________________________________________________________\n",
      "dense_3 (Dense)              (None, 1)                 101       \n",
      "=================================================================\n",
      "Total params: 1,220,201\n",
      "Trainable params: 1,220,201\n",
      "Non-trainable params: 0\n",
      "_________________________________________________________________\n"
     ]
    }
   ],
   "source": [
    "tf_inp = tf.keras.layers.Input((1000,), name='inputs')\n",
    "layer_emb = tf.keras.layers.Embedding(len(w2i), 10, name='embeds')\n",
    "tf_emb = layer_emb(tf_inp)\n",
    "tf_x = tf.keras.layers.Flatten()(tf_emb)\n",
    "tf_x = tf.keras.layers.Dense(100)(tf_x)\n",
    "tf_x = tf.keras.layers.Activation('relu')(tf_x)\n",
    "tf_out = tf.keras.layers.Dense(1)(tf_x)\n",
    "model = tf.keras.models.Model(tf_inp, tf_out)\n",
    "model.summary()"
   ]
  },
  {
   "cell_type": "code",
   "execution_count": null,
   "id": "53baf42a",
   "metadata": {},
   "outputs": [],
   "source": [
    "model.fit"
   ]
  }
 ],
 "metadata": {
  "kernelspec": {
   "display_name": "Python 3 (ipykernel)",
   "language": "python",
   "name": "python3"
  },
  "language_info": {
   "codemirror_mode": {
    "name": "ipython",
    "version": 3
   },
   "file_extension": ".py",
   "mimetype": "text/x-python",
   "name": "python",
   "nbconvert_exporter": "python",
   "pygments_lexer": "ipython3",
   "version": "3.8.12"
  }
 },
 "nbformat": 4,
 "nbformat_minor": 5
}
