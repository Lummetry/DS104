{
 "cells": [
  {
   "cell_type": "code",
   "execution_count": 1,
   "id": "9c9f0291",
   "metadata": {},
   "outputs": [],
   "source": [
    "import numpy as np\n",
    "import pandas as pd"
   ]
  },
  {
   "cell_type": "code",
   "execution_count": 39,
   "id": "16a34047",
   "metadata": {},
   "outputs": [],
   "source": [
    "np.set_printoptions(precision=6)"
   ]
  },
  {
   "cell_type": "code",
   "execution_count": 2,
   "id": "0d3226dc",
   "metadata": {},
   "outputs": [],
   "source": [
    "df = pd.read_csv('../data/imobiliare_bucuresti.csv')"
   ]
  },
  {
   "cell_type": "code",
   "execution_count": 3,
   "id": "e4c9c906",
   "metadata": {},
   "outputs": [
    {
     "data": {
      "text/html": [
       "<div>\n",
       "<style scoped>\n",
       "    .dataframe tbody tr th:only-of-type {\n",
       "        vertical-align: middle;\n",
       "    }\n",
       "\n",
       "    .dataframe tbody tr th {\n",
       "        vertical-align: top;\n",
       "    }\n",
       "\n",
       "    .dataframe thead th {\n",
       "        text-align: right;\n",
       "    }\n",
       "</style>\n",
       "<table border=\"1\" class=\"dataframe\">\n",
       "  <thead>\n",
       "    <tr style=\"text-align: right;\">\n",
       "      <th></th>\n",
       "      <th>Unnamed: 0</th>\n",
       "      <th>nr cam</th>\n",
       "      <th>mp</th>\n",
       "      <th>parter</th>\n",
       "      <th>et1-2</th>\n",
       "      <th>et3+</th>\n",
       "      <th>etaj max</th>\n",
       "      <th>typ_decom</th>\n",
       "      <th>bloc nou</th>\n",
       "      <th>Price/Surface</th>\n",
       "      <th>Price</th>\n",
       "      <th>WebPage</th>\n",
       "    </tr>\n",
       "  </thead>\n",
       "  <tbody>\n",
       "    <tr>\n",
       "      <th>0</th>\n",
       "      <td>1</td>\n",
       "      <td>2</td>\n",
       "      <td>56.00</td>\n",
       "      <td>0</td>\n",
       "      <td>1</td>\n",
       "      <td>0</td>\n",
       "      <td>2</td>\n",
       "      <td>1</td>\n",
       "      <td>1</td>\n",
       "      <td>639.29</td>\n",
       "      <td>35800</td>\n",
       "      <td>https://www.imobiliare.ro/vanzare-apartamente/...</td>\n",
       "    </tr>\n",
       "    <tr>\n",
       "      <th>1</th>\n",
       "      <td>2</td>\n",
       "      <td>2</td>\n",
       "      <td>57.00</td>\n",
       "      <td>0</td>\n",
       "      <td>1</td>\n",
       "      <td>0</td>\n",
       "      <td>2</td>\n",
       "      <td>0</td>\n",
       "      <td>1</td>\n",
       "      <td>628.07</td>\n",
       "      <td>35800</td>\n",
       "      <td>https://www.imobiliare.ro/vanzare-apartamente/...</td>\n",
       "    </tr>\n",
       "    <tr>\n",
       "      <th>2</th>\n",
       "      <td>3</td>\n",
       "      <td>2</td>\n",
       "      <td>67.00</td>\n",
       "      <td>0</td>\n",
       "      <td>1</td>\n",
       "      <td>0</td>\n",
       "      <td>2</td>\n",
       "      <td>1</td>\n",
       "      <td>1</td>\n",
       "      <td>591.04</td>\n",
       "      <td>39600</td>\n",
       "      <td>https://www.imobiliare.ro/vanzare-apartamente/...</td>\n",
       "    </tr>\n",
       "    <tr>\n",
       "      <th>3</th>\n",
       "      <td>4</td>\n",
       "      <td>1</td>\n",
       "      <td>48.00</td>\n",
       "      <td>0</td>\n",
       "      <td>1</td>\n",
       "      <td>0</td>\n",
       "      <td>2</td>\n",
       "      <td>1</td>\n",
       "      <td>1</td>\n",
       "      <td>620.83</td>\n",
       "      <td>29800</td>\n",
       "      <td>https://www.imobiliare.ro/vanzare-garsoniere/b...</td>\n",
       "    </tr>\n",
       "    <tr>\n",
       "      <th>4</th>\n",
       "      <td>5</td>\n",
       "      <td>3</td>\n",
       "      <td>89.60</td>\n",
       "      <td>0</td>\n",
       "      <td>0</td>\n",
       "      <td>1</td>\n",
       "      <td>3</td>\n",
       "      <td>1</td>\n",
       "      <td>1</td>\n",
       "      <td>1260.04</td>\n",
       "      <td>112900</td>\n",
       "      <td>https://www.imobiliare.ro/vanzare-apartamente/...</td>\n",
       "    </tr>\n",
       "    <tr>\n",
       "      <th>...</th>\n",
       "      <td>...</td>\n",
       "      <td>...</td>\n",
       "      <td>...</td>\n",
       "      <td>...</td>\n",
       "      <td>...</td>\n",
       "      <td>...</td>\n",
       "      <td>...</td>\n",
       "      <td>...</td>\n",
       "      <td>...</td>\n",
       "      <td>...</td>\n",
       "      <td>...</td>\n",
       "      <td>...</td>\n",
       "    </tr>\n",
       "    <tr>\n",
       "      <th>9892</th>\n",
       "      <td>9894</td>\n",
       "      <td>4</td>\n",
       "      <td>90.00</td>\n",
       "      <td>0</td>\n",
       "      <td>0</td>\n",
       "      <td>1</td>\n",
       "      <td>8</td>\n",
       "      <td>0</td>\n",
       "      <td>0</td>\n",
       "      <td>944.44</td>\n",
       "      <td>85000</td>\n",
       "      <td>https://www.imobiliare.ro/vanzare-apartamente/...</td>\n",
       "    </tr>\n",
       "    <tr>\n",
       "      <th>9893</th>\n",
       "      <td>9895</td>\n",
       "      <td>3</td>\n",
       "      <td>85.00</td>\n",
       "      <td>0</td>\n",
       "      <td>0</td>\n",
       "      <td>1</td>\n",
       "      <td>8</td>\n",
       "      <td>1</td>\n",
       "      <td>0</td>\n",
       "      <td>1588.22</td>\n",
       "      <td>134999</td>\n",
       "      <td>https://www.imobiliare.ro/vanzare-apartamente/...</td>\n",
       "    </tr>\n",
       "    <tr>\n",
       "      <th>9894</th>\n",
       "      <td>9896</td>\n",
       "      <td>2</td>\n",
       "      <td>48.00</td>\n",
       "      <td>0</td>\n",
       "      <td>0</td>\n",
       "      <td>1</td>\n",
       "      <td>4</td>\n",
       "      <td>0</td>\n",
       "      <td>0</td>\n",
       "      <td>1229.17</td>\n",
       "      <td>59000</td>\n",
       "      <td>https://www.imobiliare.ro/vanzare-apartamente/...</td>\n",
       "    </tr>\n",
       "    <tr>\n",
       "      <th>9895</th>\n",
       "      <td>9897</td>\n",
       "      <td>4</td>\n",
       "      <td>83.81</td>\n",
       "      <td>0</td>\n",
       "      <td>0</td>\n",
       "      <td>1</td>\n",
       "      <td>3</td>\n",
       "      <td>1</td>\n",
       "      <td>1</td>\n",
       "      <td>1312.49</td>\n",
       "      <td>110000</td>\n",
       "      <td>https://www.imobiliare.ro/vanzare-apartamente/...</td>\n",
       "    </tr>\n",
       "    <tr>\n",
       "      <th>9896</th>\n",
       "      <td>9898</td>\n",
       "      <td>1</td>\n",
       "      <td>35.00</td>\n",
       "      <td>0</td>\n",
       "      <td>0</td>\n",
       "      <td>1</td>\n",
       "      <td>4</td>\n",
       "      <td>1</td>\n",
       "      <td>1</td>\n",
       "      <td>1757.14</td>\n",
       "      <td>61500</td>\n",
       "      <td>https://www.imobiliare.ro/vanzare-garsoniere/b...</td>\n",
       "    </tr>\n",
       "  </tbody>\n",
       "</table>\n",
       "<p>9897 rows × 12 columns</p>\n",
       "</div>"
      ],
      "text/plain": [
       "      Unnamed: 0  nr cam     mp  parter  et1-2  et3+  etaj max  typ_decom  \\\n",
       "0              1       2  56.00       0      1     0         2          1   \n",
       "1              2       2  57.00       0      1     0         2          0   \n",
       "2              3       2  67.00       0      1     0         2          1   \n",
       "3              4       1  48.00       0      1     0         2          1   \n",
       "4              5       3  89.60       0      0     1         3          1   \n",
       "...          ...     ...    ...     ...    ...   ...       ...        ...   \n",
       "9892        9894       4  90.00       0      0     1         8          0   \n",
       "9893        9895       3  85.00       0      0     1         8          1   \n",
       "9894        9896       2  48.00       0      0     1         4          0   \n",
       "9895        9897       4  83.81       0      0     1         3          1   \n",
       "9896        9898       1  35.00       0      0     1         4          1   \n",
       "\n",
       "      bloc nou  Price/Surface   Price  \\\n",
       "0            1         639.29   35800   \n",
       "1            1         628.07   35800   \n",
       "2            1         591.04   39600   \n",
       "3            1         620.83   29800   \n",
       "4            1        1260.04  112900   \n",
       "...        ...            ...     ...   \n",
       "9892         0         944.44   85000   \n",
       "9893         0        1588.22  134999   \n",
       "9894         0        1229.17   59000   \n",
       "9895         1        1312.49  110000   \n",
       "9896         1        1757.14   61500   \n",
       "\n",
       "                                                WebPage  \n",
       "0     https://www.imobiliare.ro/vanzare-apartamente/...  \n",
       "1     https://www.imobiliare.ro/vanzare-apartamente/...  \n",
       "2     https://www.imobiliare.ro/vanzare-apartamente/...  \n",
       "3     https://www.imobiliare.ro/vanzare-garsoniere/b...  \n",
       "4     https://www.imobiliare.ro/vanzare-apartamente/...  \n",
       "...                                                 ...  \n",
       "9892  https://www.imobiliare.ro/vanzare-apartamente/...  \n",
       "9893  https://www.imobiliare.ro/vanzare-apartamente/...  \n",
       "9894  https://www.imobiliare.ro/vanzare-apartamente/...  \n",
       "9895  https://www.imobiliare.ro/vanzare-apartamente/...  \n",
       "9896  https://www.imobiliare.ro/vanzare-garsoniere/b...  \n",
       "\n",
       "[9897 rows x 12 columns]"
      ]
     },
     "execution_count": 3,
     "metadata": {},
     "output_type": "execute_result"
    }
   ],
   "source": [
    "df"
   ]
  },
  {
   "cell_type": "code",
   "execution_count": 4,
   "id": "fbe683b7",
   "metadata": {},
   "outputs": [],
   "source": [
    "y_sqmp = df[\"Price/Surface\"]\n",
    "y_price = df['Price']\n",
    "X = df.iloc[:,1:9]\n"
   ]
  },
  {
   "cell_type": "code",
   "execution_count": 5,
   "id": "e075d5a0",
   "metadata": {},
   "outputs": [
    {
     "data": {
      "text/html": [
       "<div>\n",
       "<style scoped>\n",
       "    .dataframe tbody tr th:only-of-type {\n",
       "        vertical-align: middle;\n",
       "    }\n",
       "\n",
       "    .dataframe tbody tr th {\n",
       "        vertical-align: top;\n",
       "    }\n",
       "\n",
       "    .dataframe thead th {\n",
       "        text-align: right;\n",
       "    }\n",
       "</style>\n",
       "<table border=\"1\" class=\"dataframe\">\n",
       "  <thead>\n",
       "    <tr style=\"text-align: right;\">\n",
       "      <th></th>\n",
       "      <th>nr cam</th>\n",
       "      <th>mp</th>\n",
       "      <th>parter</th>\n",
       "      <th>et1-2</th>\n",
       "      <th>et3+</th>\n",
       "      <th>etaj max</th>\n",
       "      <th>typ_decom</th>\n",
       "      <th>bloc nou</th>\n",
       "    </tr>\n",
       "  </thead>\n",
       "  <tbody>\n",
       "    <tr>\n",
       "      <th>0</th>\n",
       "      <td>2</td>\n",
       "      <td>56.00</td>\n",
       "      <td>0</td>\n",
       "      <td>1</td>\n",
       "      <td>0</td>\n",
       "      <td>2</td>\n",
       "      <td>1</td>\n",
       "      <td>1</td>\n",
       "    </tr>\n",
       "    <tr>\n",
       "      <th>1</th>\n",
       "      <td>2</td>\n",
       "      <td>57.00</td>\n",
       "      <td>0</td>\n",
       "      <td>1</td>\n",
       "      <td>0</td>\n",
       "      <td>2</td>\n",
       "      <td>0</td>\n",
       "      <td>1</td>\n",
       "    </tr>\n",
       "    <tr>\n",
       "      <th>2</th>\n",
       "      <td>2</td>\n",
       "      <td>67.00</td>\n",
       "      <td>0</td>\n",
       "      <td>1</td>\n",
       "      <td>0</td>\n",
       "      <td>2</td>\n",
       "      <td>1</td>\n",
       "      <td>1</td>\n",
       "    </tr>\n",
       "    <tr>\n",
       "      <th>3</th>\n",
       "      <td>1</td>\n",
       "      <td>48.00</td>\n",
       "      <td>0</td>\n",
       "      <td>1</td>\n",
       "      <td>0</td>\n",
       "      <td>2</td>\n",
       "      <td>1</td>\n",
       "      <td>1</td>\n",
       "    </tr>\n",
       "    <tr>\n",
       "      <th>4</th>\n",
       "      <td>3</td>\n",
       "      <td>89.60</td>\n",
       "      <td>0</td>\n",
       "      <td>0</td>\n",
       "      <td>1</td>\n",
       "      <td>3</td>\n",
       "      <td>1</td>\n",
       "      <td>1</td>\n",
       "    </tr>\n",
       "    <tr>\n",
       "      <th>...</th>\n",
       "      <td>...</td>\n",
       "      <td>...</td>\n",
       "      <td>...</td>\n",
       "      <td>...</td>\n",
       "      <td>...</td>\n",
       "      <td>...</td>\n",
       "      <td>...</td>\n",
       "      <td>...</td>\n",
       "    </tr>\n",
       "    <tr>\n",
       "      <th>9892</th>\n",
       "      <td>4</td>\n",
       "      <td>90.00</td>\n",
       "      <td>0</td>\n",
       "      <td>0</td>\n",
       "      <td>1</td>\n",
       "      <td>8</td>\n",
       "      <td>0</td>\n",
       "      <td>0</td>\n",
       "    </tr>\n",
       "    <tr>\n",
       "      <th>9893</th>\n",
       "      <td>3</td>\n",
       "      <td>85.00</td>\n",
       "      <td>0</td>\n",
       "      <td>0</td>\n",
       "      <td>1</td>\n",
       "      <td>8</td>\n",
       "      <td>1</td>\n",
       "      <td>0</td>\n",
       "    </tr>\n",
       "    <tr>\n",
       "      <th>9894</th>\n",
       "      <td>2</td>\n",
       "      <td>48.00</td>\n",
       "      <td>0</td>\n",
       "      <td>0</td>\n",
       "      <td>1</td>\n",
       "      <td>4</td>\n",
       "      <td>0</td>\n",
       "      <td>0</td>\n",
       "    </tr>\n",
       "    <tr>\n",
       "      <th>9895</th>\n",
       "      <td>4</td>\n",
       "      <td>83.81</td>\n",
       "      <td>0</td>\n",
       "      <td>0</td>\n",
       "      <td>1</td>\n",
       "      <td>3</td>\n",
       "      <td>1</td>\n",
       "      <td>1</td>\n",
       "    </tr>\n",
       "    <tr>\n",
       "      <th>9896</th>\n",
       "      <td>1</td>\n",
       "      <td>35.00</td>\n",
       "      <td>0</td>\n",
       "      <td>0</td>\n",
       "      <td>1</td>\n",
       "      <td>4</td>\n",
       "      <td>1</td>\n",
       "      <td>1</td>\n",
       "    </tr>\n",
       "  </tbody>\n",
       "</table>\n",
       "<p>9897 rows × 8 columns</p>\n",
       "</div>"
      ],
      "text/plain": [
       "      nr cam     mp  parter  et1-2  et3+  etaj max  typ_decom  bloc nou\n",
       "0          2  56.00       0      1     0         2          1         1\n",
       "1          2  57.00       0      1     0         2          0         1\n",
       "2          2  67.00       0      1     0         2          1         1\n",
       "3          1  48.00       0      1     0         2          1         1\n",
       "4          3  89.60       0      0     1         3          1         1\n",
       "...      ...    ...     ...    ...   ...       ...        ...       ...\n",
       "9892       4  90.00       0      0     1         8          0         0\n",
       "9893       3  85.00       0      0     1         8          1         0\n",
       "9894       2  48.00       0      0     1         4          0         0\n",
       "9895       4  83.81       0      0     1         3          1         1\n",
       "9896       1  35.00       0      0     1         4          1         1\n",
       "\n",
       "[9897 rows x 8 columns]"
      ]
     },
     "execution_count": 5,
     "metadata": {},
     "output_type": "execute_result"
    }
   ],
   "source": [
    "X"
   ]
  },
  {
   "cell_type": "code",
   "execution_count": 6,
   "id": "72b9f303",
   "metadata": {},
   "outputs": [
    {
     "data": {
      "text/plain": [
       "0        35800\n",
       "1        35800\n",
       "2        39600\n",
       "3        29800\n",
       "4       112900\n",
       "         ...  \n",
       "9892     85000\n",
       "9893    134999\n",
       "9894     59000\n",
       "9895    110000\n",
       "9896     61500\n",
       "Name: Price, Length: 9897, dtype: int64"
      ]
     },
     "execution_count": 6,
     "metadata": {},
     "output_type": "execute_result"
    }
   ],
   "source": [
    "y_price"
   ]
  },
  {
   "cell_type": "code",
   "execution_count": null,
   "id": "82811a1f",
   "metadata": {},
   "outputs": [],
   "source": [
    "# further process X data maybe\n",
    "# construct normal eq and determine model coefs (((XtX)^-1)Xt)y (y = x*w => w = y/x)\n",
    "# validate results (how, when)\n",
    "# f(X) = y = X[0]*w[0] + X[1]*w[1] + .... X[N]*w[N] +X[N+1]*w[N+1] | X[N+1] == 1"
   ]
  },
  {
   "cell_type": "code",
   "execution_count": 9,
   "id": "a95888e8",
   "metadata": {},
   "outputs": [],
   "source": [
    "import matplotlib.pyplot as plt\n",
    "%matplotlib inline"
   ]
  },
  {
   "cell_type": "code",
   "execution_count": 15,
   "id": "ba33c821",
   "metadata": {},
   "outputs": [
    {
     "data": {
      "text/plain": [
       "Text(0.5, 1.0, 'Distribution of nr of rooms per apartment')"
      ]
     },
     "execution_count": 15,
     "metadata": {},
     "output_type": "execute_result"
    },
    {
     "data": {
      "image/png": "[encoded data removed]",
      "text/plain": [
       "<Figure size 432x288 with 1 Axes>"
      ]
     },
     "metadata": {
      "needs_background": "light"
     },
     "output_type": "display_data"
    }
   ],
   "source": [
    "X['nr cam'].hist(bins=20)\n",
    "plt.xlabel('Nr rooms')\n",
    "plt.title('Distribution of nr of rooms per apartment')"
   ]
  },
  {
   "cell_type": "code",
   "execution_count": 16,
   "id": "25b90dca",
   "metadata": {},
   "outputs": [
    {
     "data": {
      "text/plain": [
       "Text(0.5, 1.0, 'Distribution of apartment surface')"
      ]
     },
     "execution_count": 16,
     "metadata": {},
     "output_type": "execute_result"
    },
    {
     "data": {
      "image/png": "[encoded data removed]",
      "text/plain": [
       "<Figure size 432x288 with 1 Axes>"
      ]
     },
     "metadata": {
      "needs_background": "light"
     },
     "output_type": "display_data"
    }
   ],
   "source": [
    "X['mp'].hist(bins=30)\n",
    "plt.xlabel('Property surface sqm')\n",
    "plt.title('Distribution of apartment surface')"
   ]
  },
  {
   "cell_type": "code",
   "execution_count": 68,
   "id": "ab0395cb",
   "metadata": {},
   "outputs": [
    {
     "data": {
      "text/plain": [
       "(array([5.637e+03, 2.571e+03, 7.480e+02, 3.350e+02, 1.910e+02, 1.270e+02,\n",
       "        7.100e+01, 3.600e+01, 5.000e+01, 2.500e+01, 8.000e+00, 6.000e+00,\n",
       "        1.400e+01, 6.000e+00, 3.000e+00, 1.400e+01, 4.000e+00, 1.700e+01,\n",
       "        2.000e+00, 1.000e+01, 2.000e+00, 2.000e+00, 2.000e+00, 2.000e+00,\n",
       "        1.000e+00, 3.000e+00, 0.000e+00, 0.000e+00, 0.000e+00, 0.000e+00,\n",
       "        1.000e+00, 0.000e+00, 0.000e+00, 1.000e+00, 0.000e+00, 2.000e+00,\n",
       "        0.000e+00, 2.000e+00, 2.000e+00, 0.000e+00, 0.000e+00, 0.000e+00,\n",
       "        1.000e+00, 0.000e+00, 0.000e+00, 0.000e+00, 0.000e+00, 0.000e+00,\n",
       "        0.000e+00, 1.000e+00]),\n",
       " array([  18000.,   95240.,  172480.,  249720.,  326960.,  404200.,\n",
       "         481440.,  558680.,  635920.,  713160.,  790400.,  867640.,\n",
       "         944880., 1022120., 1099360., 1176600., 1253840., 1331080.,\n",
       "        1408320., 1485560., 1562800., 1640040., 1717280., 1794520.,\n",
       "        1871760., 1949000., 2026240., 2103480., 2180720., 2257960.,\n",
       "        2335200., 2412440., 2489680., 2566920., 2644160., 2721400.,\n",
       "        2798640., 2875880., 2953120., 3030360., 3107600., 3184840.,\n",
       "        3262080., 3339320., 3416560., 3493800., 3571040., 3648280.,\n",
       "        3725520., 3802760., 3880000.]),\n",
       " <BarContainer object of 50 artists>)"
      ]
     },
     "execution_count": 68,
     "metadata": {},
     "output_type": "execute_result"
    },
    {
     "data": {
      "image/png": "[encoded data removed]",
      "text/plain": [
       "<Figure size 432x288 with 1 Axes>"
      ]
     },
     "metadata": {
      "needs_background": "light"
     },
     "output_type": "display_data"
    }
   ],
   "source": [
    "plt.hist(y_price.values, bins=50)"
   ]
  },
  {
   "cell_type": "code",
   "execution_count": 17,
   "id": "ce209002",
   "metadata": {},
   "outputs": [
    {
     "data": {
      "text/html": [
       "<div>\n",
       "<style scoped>\n",
       "    .dataframe tbody tr th:only-of-type {\n",
       "        vertical-align: middle;\n",
       "    }\n",
       "\n",
       "    .dataframe tbody tr th {\n",
       "        vertical-align: top;\n",
       "    }\n",
       "\n",
       "    .dataframe thead th {\n",
       "        text-align: right;\n",
       "    }\n",
       "</style>\n",
       "<table border=\"1\" class=\"dataframe\">\n",
       "  <thead>\n",
       "    <tr style=\"text-align: right;\">\n",
       "      <th></th>\n",
       "      <th>nr cam</th>\n",
       "      <th>mp</th>\n",
       "      <th>parter</th>\n",
       "      <th>et1-2</th>\n",
       "      <th>et3+</th>\n",
       "      <th>etaj max</th>\n",
       "      <th>typ_decom</th>\n",
       "      <th>bloc nou</th>\n",
       "    </tr>\n",
       "  </thead>\n",
       "  <tbody>\n",
       "    <tr>\n",
       "      <th>nr cam</th>\n",
       "      <td>1.000000</td>\n",
       "      <td>0.777186</td>\n",
       "      <td>0.003816</td>\n",
       "      <td>-0.067465</td>\n",
       "      <td>0.062328</td>\n",
       "      <td>0.073172</td>\n",
       "      <td>-0.000365</td>\n",
       "      <td>-0.139376</td>\n",
       "    </tr>\n",
       "    <tr>\n",
       "      <th>mp</th>\n",
       "      <td>0.777186</td>\n",
       "      <td>1.000000</td>\n",
       "      <td>0.000869</td>\n",
       "      <td>-0.056167</td>\n",
       "      <td>0.053421</td>\n",
       "      <td>0.065719</td>\n",
       "      <td>0.087754</td>\n",
       "      <td>0.006321</td>\n",
       "    </tr>\n",
       "    <tr>\n",
       "      <th>parter</th>\n",
       "      <td>0.003816</td>\n",
       "      <td>0.000869</td>\n",
       "      <td>1.000000</td>\n",
       "      <td>-0.285501</td>\n",
       "      <td>-0.388748</td>\n",
       "      <td>-0.448826</td>\n",
       "      <td>0.004277</td>\n",
       "      <td>-0.002453</td>\n",
       "    </tr>\n",
       "    <tr>\n",
       "      <th>et1-2</th>\n",
       "      <td>-0.067465</td>\n",
       "      <td>-0.056167</td>\n",
       "      <td>-0.285501</td>\n",
       "      <td>1.000000</td>\n",
       "      <td>-0.772008</td>\n",
       "      <td>-0.500485</td>\n",
       "      <td>0.065535</td>\n",
       "      <td>0.187789</td>\n",
       "    </tr>\n",
       "    <tr>\n",
       "      <th>et3+</th>\n",
       "      <td>0.062328</td>\n",
       "      <td>0.053421</td>\n",
       "      <td>-0.388748</td>\n",
       "      <td>-0.772008</td>\n",
       "      <td>1.000000</td>\n",
       "      <td>0.778814</td>\n",
       "      <td>-0.065839</td>\n",
       "      <td>-0.178905</td>\n",
       "    </tr>\n",
       "    <tr>\n",
       "      <th>etaj max</th>\n",
       "      <td>0.073172</td>\n",
       "      <td>0.065719</td>\n",
       "      <td>-0.448826</td>\n",
       "      <td>-0.500485</td>\n",
       "      <td>0.778814</td>\n",
       "      <td>1.000000</td>\n",
       "      <td>-0.071077</td>\n",
       "      <td>-0.193046</td>\n",
       "    </tr>\n",
       "    <tr>\n",
       "      <th>typ_decom</th>\n",
       "      <td>-0.000365</td>\n",
       "      <td>0.087754</td>\n",
       "      <td>0.004277</td>\n",
       "      <td>0.065535</td>\n",
       "      <td>-0.065839</td>\n",
       "      <td>-0.071077</td>\n",
       "      <td>1.000000</td>\n",
       "      <td>0.213843</td>\n",
       "    </tr>\n",
       "    <tr>\n",
       "      <th>bloc nou</th>\n",
       "      <td>-0.139376</td>\n",
       "      <td>0.006321</td>\n",
       "      <td>-0.002453</td>\n",
       "      <td>0.187789</td>\n",
       "      <td>-0.178905</td>\n",
       "      <td>-0.193046</td>\n",
       "      <td>0.213843</td>\n",
       "      <td>1.000000</td>\n",
       "    </tr>\n",
       "  </tbody>\n",
       "</table>\n",
       "</div>"
      ],
      "text/plain": [
       "             nr cam        mp    parter     et1-2      et3+  etaj max  \\\n",
       "nr cam     1.000000  0.777186  0.003816 -0.067465  0.062328  0.073172   \n",
       "mp         0.777186  1.000000  0.000869 -0.056167  0.053421  0.065719   \n",
       "parter     0.003816  0.000869  1.000000 -0.285501 -0.388748 -0.448826   \n",
       "et1-2     -0.067465 -0.056167 -0.285501  1.000000 -0.772008 -0.500485   \n",
       "et3+       0.062328  0.053421 -0.388748 -0.772008  1.000000  0.778814   \n",
       "etaj max   0.073172  0.065719 -0.448826 -0.500485  0.778814  1.000000   \n",
       "typ_decom -0.000365  0.087754  0.004277  0.065535 -0.065839 -0.071077   \n",
       "bloc nou  -0.139376  0.006321 -0.002453  0.187789 -0.178905 -0.193046   \n",
       "\n",
       "           typ_decom  bloc nou  \n",
       "nr cam     -0.000365 -0.139376  \n",
       "mp          0.087754  0.006321  \n",
       "parter      0.004277 -0.002453  \n",
       "et1-2       0.065535  0.187789  \n",
       "et3+       -0.065839 -0.178905  \n",
       "etaj max   -0.071077 -0.193046  \n",
       "typ_decom   1.000000  0.213843  \n",
       "bloc nou    0.213843  1.000000  "
      ]
     },
     "execution_count": 17,
     "metadata": {},
     "output_type": "execute_result"
    }
   ],
   "source": [
    "X.corr()"
   ]
  },
  {
   "cell_type": "code",
   "execution_count": 18,
   "id": "7c643f28",
   "metadata": {},
   "outputs": [],
   "source": [
    "new_corr_features = ['nr cam', 'mp', 'parter', 'et1-2', 'et3+','etaj max', 'typ_decom', 'bloc nou', 'Price']"
   ]
  },
  {
   "cell_type": "code",
   "execution_count": 19,
   "id": "83153d02",
   "metadata": {},
   "outputs": [],
   "source": [
    "df_new = df[new_corr_features]"
   ]
  },
  {
   "cell_type": "code",
   "execution_count": 20,
   "id": "5b913474",
   "metadata": {},
   "outputs": [
    {
     "data": {
      "text/html": [
       "<div>\n",
       "<style scoped>\n",
       "    .dataframe tbody tr th:only-of-type {\n",
       "        vertical-align: middle;\n",
       "    }\n",
       "\n",
       "    .dataframe tbody tr th {\n",
       "        vertical-align: top;\n",
       "    }\n",
       "\n",
       "    .dataframe thead th {\n",
       "        text-align: right;\n",
       "    }\n",
       "</style>\n",
       "<table border=\"1\" class=\"dataframe\">\n",
       "  <thead>\n",
       "    <tr style=\"text-align: right;\">\n",
       "      <th></th>\n",
       "      <th>nr cam</th>\n",
       "      <th>mp</th>\n",
       "      <th>parter</th>\n",
       "      <th>et1-2</th>\n",
       "      <th>et3+</th>\n",
       "      <th>etaj max</th>\n",
       "      <th>typ_decom</th>\n",
       "      <th>bloc nou</th>\n",
       "      <th>Price</th>\n",
       "    </tr>\n",
       "  </thead>\n",
       "  <tbody>\n",
       "    <tr>\n",
       "      <th>nr cam</th>\n",
       "      <td>1.000000</td>\n",
       "      <td>0.777186</td>\n",
       "      <td>0.003816</td>\n",
       "      <td>-0.067465</td>\n",
       "      <td>0.062328</td>\n",
       "      <td>0.073172</td>\n",
       "      <td>-0.000365</td>\n",
       "      <td>-0.139376</td>\n",
       "      <td>0.525333</td>\n",
       "    </tr>\n",
       "    <tr>\n",
       "      <th>mp</th>\n",
       "      <td>0.777186</td>\n",
       "      <td>1.000000</td>\n",
       "      <td>0.000869</td>\n",
       "      <td>-0.056167</td>\n",
       "      <td>0.053421</td>\n",
       "      <td>0.065719</td>\n",
       "      <td>0.087754</td>\n",
       "      <td>0.006321</td>\n",
       "      <td>0.770386</td>\n",
       "    </tr>\n",
       "    <tr>\n",
       "      <th>parter</th>\n",
       "      <td>0.003816</td>\n",
       "      <td>0.000869</td>\n",
       "      <td>1.000000</td>\n",
       "      <td>-0.285501</td>\n",
       "      <td>-0.388748</td>\n",
       "      <td>-0.448826</td>\n",
       "      <td>0.004277</td>\n",
       "      <td>-0.002453</td>\n",
       "      <td>-0.020806</td>\n",
       "    </tr>\n",
       "    <tr>\n",
       "      <th>et1-2</th>\n",
       "      <td>-0.067465</td>\n",
       "      <td>-0.056167</td>\n",
       "      <td>-0.285501</td>\n",
       "      <td>1.000000</td>\n",
       "      <td>-0.772008</td>\n",
       "      <td>-0.500485</td>\n",
       "      <td>0.065535</td>\n",
       "      <td>0.187789</td>\n",
       "      <td>-0.061217</td>\n",
       "    </tr>\n",
       "    <tr>\n",
       "      <th>et3+</th>\n",
       "      <td>0.062328</td>\n",
       "      <td>0.053421</td>\n",
       "      <td>-0.388748</td>\n",
       "      <td>-0.772008</td>\n",
       "      <td>1.000000</td>\n",
       "      <td>0.778814</td>\n",
       "      <td>-0.065839</td>\n",
       "      <td>-0.178905</td>\n",
       "      <td>0.072650</td>\n",
       "    </tr>\n",
       "    <tr>\n",
       "      <th>etaj max</th>\n",
       "      <td>0.073172</td>\n",
       "      <td>0.065719</td>\n",
       "      <td>-0.448826</td>\n",
       "      <td>-0.500485</td>\n",
       "      <td>0.778814</td>\n",
       "      <td>1.000000</td>\n",
       "      <td>-0.071077</td>\n",
       "      <td>-0.193046</td>\n",
       "      <td>0.091064</td>\n",
       "    </tr>\n",
       "    <tr>\n",
       "      <th>typ_decom</th>\n",
       "      <td>-0.000365</td>\n",
       "      <td>0.087754</td>\n",
       "      <td>0.004277</td>\n",
       "      <td>0.065535</td>\n",
       "      <td>-0.065839</td>\n",
       "      <td>-0.071077</td>\n",
       "      <td>1.000000</td>\n",
       "      <td>0.213843</td>\n",
       "      <td>0.034928</td>\n",
       "    </tr>\n",
       "    <tr>\n",
       "      <th>bloc nou</th>\n",
       "      <td>-0.139376</td>\n",
       "      <td>0.006321</td>\n",
       "      <td>-0.002453</td>\n",
       "      <td>0.187789</td>\n",
       "      <td>-0.178905</td>\n",
       "      <td>-0.193046</td>\n",
       "      <td>0.213843</td>\n",
       "      <td>1.000000</td>\n",
       "      <td>0.035021</td>\n",
       "    </tr>\n",
       "    <tr>\n",
       "      <th>Price</th>\n",
       "      <td>0.525333</td>\n",
       "      <td>0.770386</td>\n",
       "      <td>-0.020806</td>\n",
       "      <td>-0.061217</td>\n",
       "      <td>0.072650</td>\n",
       "      <td>0.091064</td>\n",
       "      <td>0.034928</td>\n",
       "      <td>0.035021</td>\n",
       "      <td>1.000000</td>\n",
       "    </tr>\n",
       "  </tbody>\n",
       "</table>\n",
       "</div>"
      ],
      "text/plain": [
       "             nr cam        mp    parter     et1-2      et3+  etaj max  \\\n",
       "nr cam     1.000000  0.777186  0.003816 -0.067465  0.062328  0.073172   \n",
       "mp         0.777186  1.000000  0.000869 -0.056167  0.053421  0.065719   \n",
       "parter     0.003816  0.000869  1.000000 -0.285501 -0.388748 -0.448826   \n",
       "et1-2     -0.067465 -0.056167 -0.285501  1.000000 -0.772008 -0.500485   \n",
       "et3+       0.062328  0.053421 -0.388748 -0.772008  1.000000  0.778814   \n",
       "etaj max   0.073172  0.065719 -0.448826 -0.500485  0.778814  1.000000   \n",
       "typ_decom -0.000365  0.087754  0.004277  0.065535 -0.065839 -0.071077   \n",
       "bloc nou  -0.139376  0.006321 -0.002453  0.187789 -0.178905 -0.193046   \n",
       "Price      0.525333  0.770386 -0.020806 -0.061217  0.072650  0.091064   \n",
       "\n",
       "           typ_decom  bloc nou     Price  \n",
       "nr cam     -0.000365 -0.139376  0.525333  \n",
       "mp          0.087754  0.006321  0.770386  \n",
       "parter      0.004277 -0.002453 -0.020806  \n",
       "et1-2       0.065535  0.187789 -0.061217  \n",
       "et3+       -0.065839 -0.178905  0.072650  \n",
       "etaj max   -0.071077 -0.193046  0.091064  \n",
       "typ_decom   1.000000  0.213843  0.034928  \n",
       "bloc nou    0.213843  1.000000  0.035021  \n",
       "Price       0.034928  0.035021  1.000000  "
      ]
     },
     "execution_count": 20,
     "metadata": {},
     "output_type": "execute_result"
    }
   ],
   "source": [
    "df_new.corr()"
   ]
  },
  {
   "cell_type": "code",
   "execution_count": 21,
   "id": "23c164ac",
   "metadata": {},
   "outputs": [
    {
     "data": {
      "text/plain": [
       "nr cam        2.505709\n",
       "mp           73.704865\n",
       "parter        0.125695\n",
       "et1-2         0.361827\n",
       "et3+          0.512479\n",
       "etaj max      3.336466\n",
       "typ_decom     0.717591\n",
       "bloc nou      0.593210\n",
       "dtype: float64"
      ]
     },
     "execution_count": 21,
     "metadata": {},
     "output_type": "execute_result"
    }
   ],
   "source": [
    "X.mean()"
   ]
  },
  {
   "cell_type": "code",
   "execution_count": 22,
   "id": "d544883f",
   "metadata": {},
   "outputs": [
    {
     "data": {
      "text/plain": [
       "nr cam        1.0\n",
       "mp           15.0\n",
       "parter        0.0\n",
       "et1-2         0.0\n",
       "et3+          0.0\n",
       "etaj max      0.0\n",
       "typ_decom     0.0\n",
       "bloc nou      0.0\n",
       "dtype: float64"
      ]
     },
     "execution_count": 22,
     "metadata": {},
     "output_type": "execute_result"
    }
   ],
   "source": [
    "X.min()"
   ]
  },
  {
   "cell_type": "code",
   "execution_count": 23,
   "id": "4e899d03",
   "metadata": {},
   "outputs": [
    {
     "data": {
      "text/plain": [
       "nr cam        0.950467\n",
       "mp           40.174869\n",
       "parter        0.331522\n",
       "et1-2         0.480553\n",
       "et3+          0.499870\n",
       "etaj max      2.818757\n",
       "typ_decom     0.450194\n",
       "bloc nou      0.491260\n",
       "dtype: float64"
      ]
     },
     "execution_count": 23,
     "metadata": {},
     "output_type": "execute_result"
    }
   ],
   "source": [
    "X.std()"
   ]
  },
  {
   "cell_type": "code",
   "execution_count": 24,
   "id": "da7811fd",
   "metadata": {},
   "outputs": [
    {
     "data": {
      "text/plain": [
       "nr cam        12.0\n",
       "mp           621.0\n",
       "parter         1.0\n",
       "et1-2          1.0\n",
       "et3+           1.0\n",
       "etaj max      18.0\n",
       "typ_decom      1.0\n",
       "bloc nou       1.0\n",
       "dtype: float64"
      ]
     },
     "execution_count": 24,
     "metadata": {},
     "output_type": "execute_result"
    }
   ],
   "source": [
    "X.max()"
   ]
  },
  {
   "cell_type": "code",
   "execution_count": 25,
   "id": "2ff21113",
   "metadata": {},
   "outputs": [],
   "source": [
    "np_X = X.values"
   ]
  },
  {
   "cell_type": "code",
   "execution_count": 26,
   "id": "92788300",
   "metadata": {},
   "outputs": [
    {
     "data": {
      "text/plain": [
       "array([[ 2.  , 56.  ,  0.  , ...,  2.  ,  1.  ,  1.  ],\n",
       "       [ 2.  , 57.  ,  0.  , ...,  2.  ,  0.  ,  1.  ],\n",
       "       [ 2.  , 67.  ,  0.  , ...,  2.  ,  1.  ,  1.  ],\n",
       "       ...,\n",
       "       [ 2.  , 48.  ,  0.  , ...,  4.  ,  0.  ,  0.  ],\n",
       "       [ 4.  , 83.81,  0.  , ...,  3.  ,  1.  ,  1.  ],\n",
       "       [ 1.  , 35.  ,  0.  , ...,  4.  ,  1.  ,  1.  ]])"
      ]
     },
     "execution_count": 26,
     "metadata": {},
     "output_type": "execute_result"
    }
   ],
   "source": [
    "np_X"
   ]
  },
  {
   "cell_type": "code",
   "execution_count": 27,
   "id": "8a1affd5",
   "metadata": {},
   "outputs": [
    {
     "data": {
      "text/plain": [
       "array([ 2.5057088 , 73.70486511,  0.12569465,  0.36182682,  0.51247853,\n",
       "        3.3364656 ,  0.71759119,  0.59321006])"
      ]
     },
     "execution_count": 27,
     "metadata": {},
     "output_type": "execute_result"
    }
   ],
   "source": [
    "np_X.mean(axis=0)"
   ]
  },
  {
   "cell_type": "code",
   "execution_count": 28,
   "id": "f0b01063",
   "metadata": {},
   "outputs": [],
   "source": [
    "np_X_n = (np_X - np_X.mean(0)) / np_X.std(0)"
   ]
  },
  {
   "cell_type": "code",
   "execution_count": 41,
   "id": "85c7087a",
   "metadata": {},
   "outputs": [
    {
     "data": {
      "text/plain": [
       "array([[-0.53209 , -0.440717, -0.379164, ..., -0.474157,  0.627337,\n",
       "         0.828096],\n",
       "       [-0.53209 , -0.415825, -0.379164, ..., -0.474157, -1.594041,\n",
       "         0.828096],\n",
       "       [-0.53209 , -0.1669  , -0.379164, ..., -0.474157,  0.627337,\n",
       "         0.828096],\n",
       "       ...,\n",
       "       [-0.53209 , -0.639857, -0.379164, ...,  0.235412, -1.594041,\n",
       "        -1.207589],\n",
       "       [ 1.572244,  0.251541, -0.379164, ..., -0.119373,  0.627337,\n",
       "         0.828096],\n",
       "       [-1.584258, -0.963459, -0.379164, ...,  0.235412,  0.627337,\n",
       "         0.828096]])"
      ]
     },
     "execution_count": 41,
     "metadata": {},
     "output_type": "execute_result"
    }
   ],
   "source": [
    "np_X_n"
   ]
  },
  {
   "cell_type": "code",
   "execution_count": 30,
   "id": "e045e61c",
   "metadata": {},
   "outputs": [
    {
     "data": {
      "text/plain": [
       "array([0.00460901, 0.00460901, 0.00559296, ..., 0.01061626, 0.02382185,\n",
       "       0.01126359])"
      ]
     },
     "execution_count": 30,
     "metadata": {},
     "output_type": "execute_result"
    }
   ],
   "source": [
    "np_y = y_price.values\n",
    "np_y_n = (np_y - np_y.min()) / (np_y.max() - np_y.min())\n",
    "np_y_n"
   ]
  },
  {
   "cell_type": "code",
   "execution_count": 31,
   "id": "be241ae2",
   "metadata": {},
   "outputs": [
    {
     "data": {
      "text/plain": [
       "18000"
      ]
     },
     "execution_count": 31,
     "metadata": {},
     "output_type": "execute_result"
    }
   ],
   "source": [
    "np_y.min()\n"
   ]
  },
  {
   "cell_type": "code",
   "execution_count": 32,
   "id": "af98e5ba",
   "metadata": {},
   "outputs": [
    {
     "data": {
      "text/plain": [
       "3880000"
      ]
     },
     "execution_count": 32,
     "metadata": {},
     "output_type": "execute_result"
    }
   ],
   "source": [
    "np_y.max()"
   ]
  },
  {
   "cell_type": "code",
   "execution_count": 62,
   "id": "fa676245",
   "metadata": {},
   "outputs": [],
   "source": [
    "y_norm_sub = np_y.min()\n",
    "y_norm_div = np_y.max() - np_y.min()"
   ]
  },
  {
   "cell_type": "code",
   "execution_count": 49,
   "id": "16e3b9d4",
   "metadata": {},
   "outputs": [],
   "source": [
    "np_weights = np.linalg.pinv(np_X_n.T.dot(np_X_n)).dot(np_X_n.T).dot(np_y_n)"
   ]
  },
  {
   "cell_type": "code",
   "execution_count": 50,
   "id": "17612e6f",
   "metadata": {},
   "outputs": [
    {
     "data": {
      "text/plain": [
       "array([-8.675631e-03,  4.232360e-02, -3.350677e-05,  3.212204e-05,\n",
       "        6.779467e-05,  2.016389e-03, -2.172465e-03,  1.009276e-03])"
      ]
     },
     "execution_count": 50,
     "metadata": {},
     "output_type": "execute_result"
    }
   ],
   "source": [
    "np_weights"
   ]
  },
  {
   "cell_type": "code",
   "execution_count": 44,
   "id": "a26260ea",
   "metadata": {},
   "outputs": [
    {
     "data": {
      "text/plain": [
       "array([[-0.53209 , -0.440717, -0.379164, ..., -0.474157,  0.627337,\n",
       "         0.828096],\n",
       "       [-0.53209 , -0.415825, -0.379164, ..., -0.474157, -1.594041,\n",
       "         0.828096],\n",
       "       [-0.53209 , -0.1669  , -0.379164, ..., -0.474157,  0.627337,\n",
       "         0.828096],\n",
       "       ...,\n",
       "       [-0.53209 , -0.639857, -0.379164, ...,  0.235412, -1.594041,\n",
       "        -1.207589],\n",
       "       [ 1.572244,  0.251541, -0.379164, ..., -0.119373,  0.627337,\n",
       "         0.828096],\n",
       "       [-1.584258, -0.963459, -0.379164, ...,  0.235412,  0.627337,\n",
       "         0.828096]])"
      ]
     },
     "execution_count": 44,
     "metadata": {},
     "output_type": "execute_result"
    }
   ],
   "source": [
    "np_X_n"
   ]
  },
  {
   "cell_type": "code",
   "execution_count": 51,
   "id": "4485a963",
   "metadata": {},
   "outputs": [],
   "source": [
    "np_y_preds = np_X_n.dot(np_weights)"
   ]
  },
  {
   "cell_type": "code",
   "execution_count": 52,
   "id": "3d4795c7",
   "metadata": {},
   "outputs": [
    {
     "data": {
      "text/plain": [
       "array([-0.015534, -0.009654, -0.003945, ..., -0.019691, -0.003707,\n",
       "       -0.02703 ])"
      ]
     },
     "execution_count": 52,
     "metadata": {},
     "output_type": "execute_result"
    }
   ],
   "source": [
    "np_y_preds"
   ]
  },
  {
   "cell_type": "code",
   "execution_count": 53,
   "id": "fa77cb75",
   "metadata": {},
   "outputs": [
    {
     "data": {
      "text/plain": [
       "(array([7.571e+03, 1.812e+03, 3.580e+02, 1.020e+02, 3.100e+01, 1.100e+01,\n",
       "        5.000e+00, 4.000e+00, 1.000e+00, 2.000e+00]),\n",
       " array([-0.052363,  0.006143,  0.06465 ,  0.123156,  0.181663,  0.240169,\n",
       "         0.298676,  0.357182,  0.415689,  0.474195,  0.532702]),\n",
       " <BarContainer object of 10 artists>)"
      ]
     },
     "execution_count": 53,
     "metadata": {},
     "output_type": "execute_result"
    },
    {
     "data": {
      "image/png": "[encoded data removed]",
      "text/plain": [
       "<Figure size 432x288 with 1 Axes>"
      ]
     },
     "metadata": {
      "needs_background": "light"
     },
     "output_type": "display_data"
    }
   ],
   "source": [
    "plt.hist(np_y_preds)"
   ]
  },
  {
   "cell_type": "code",
   "execution_count": 55,
   "id": "c3a1d320",
   "metadata": {},
   "outputs": [
    {
     "data": {
      "text/plain": [
       "array([[1.],\n",
       "       [1.],\n",
       "       [1.],\n",
       "       ...,\n",
       "       [1.],\n",
       "       [1.],\n",
       "       [1.]])"
      ]
     },
     "execution_count": 55,
     "metadata": {},
     "output_type": "execute_result"
    }
   ],
   "source": [
    "ones = np.ones(shape=(np_X_n.shape[0], 1))\n",
    "ones"
   ]
  },
  {
   "cell_type": "code",
   "execution_count": 57,
   "id": "20b49206",
   "metadata": {},
   "outputs": [
    {
     "data": {
      "text/plain": [
       "array([[-0.53209 , -0.440717, -0.379164, ...,  0.627337,  0.828096,\n",
       "         1.      ],\n",
       "       [-0.53209 , -0.415825, -0.379164, ..., -1.594041,  0.828096,\n",
       "         1.      ],\n",
       "       [-0.53209 , -0.1669  , -0.379164, ...,  0.627337,  0.828096,\n",
       "         1.      ],\n",
       "       ...,\n",
       "       [-0.53209 , -0.639857, -0.379164, ..., -1.594041, -1.207589,\n",
       "         1.      ],\n",
       "       [ 1.572244,  0.251541, -0.379164, ...,  0.627337,  0.828096,\n",
       "         1.      ],\n",
       "       [-1.584258, -0.963459, -0.379164, ...,  0.627337,  0.828096,\n",
       "         1.      ]])"
      ]
     },
     "execution_count": 57,
     "metadata": {},
     "output_type": "execute_result"
    }
   ],
   "source": [
    "np_X_nb = np.concatenate((np_X_n, ones), axis=-1)\n",
    "np_X_nb"
   ]
  },
  {
   "cell_type": "code",
   "execution_count": 58,
   "id": "643c832a",
   "metadata": {},
   "outputs": [
    {
     "data": {
      "text/plain": [
       "array([-0.008676,  0.042324,  0.000648,  0.000788,  0.000923,  0.002016,\n",
       "       -0.002172,  0.001009,  0.030276])"
      ]
     },
     "execution_count": 58,
     "metadata": {},
     "output_type": "execute_result"
    }
   ],
   "source": [
    "np_weights_b = np.linalg.pinv(np_X_nb.T.dot(np_X_nb)).dot(np_X_nb.T).dot(np_y_n)\n",
    "np_weights_b"
   ]
  },
  {
   "cell_type": "code",
   "execution_count": 59,
   "id": "299903cf",
   "metadata": {},
   "outputs": [
    {
     "data": {
      "text/plain": [
       "array([0.01461 , 0.02049 , 0.026199, ..., 0.010591, 0.026576, 0.003252])"
      ]
     },
     "execution_count": 59,
     "metadata": {},
     "output_type": "execute_result"
    }
   ],
   "source": [
    "np_y_preds2 = np_X_nb.dot(np_weights_b)\n",
    "np_y_preds2"
   ]
  },
  {
   "cell_type": "code",
   "execution_count": 61,
   "id": "5681aac7",
   "metadata": {},
   "outputs": [
    {
     "data": {
      "text/plain": [
       "(array([2.000e+01, 6.260e+02, 2.174e+03, 3.021e+03, 1.718e+03, 7.790e+02,\n",
       "        4.300e+02, 2.720e+02, 1.960e+02, 1.460e+02, 1.070e+02, 9.800e+01,\n",
       "        7.800e+01, 4.100e+01, 3.500e+01, 3.000e+01, 1.300e+01, 2.700e+01,\n",
       "        1.500e+01, 1.600e+01, 1.100e+01, 1.300e+01, 4.000e+00, 2.000e+00,\n",
       "        2.000e+00, 4.000e+00, 2.000e+00, 2.000e+00, 3.000e+00, 0.000e+00,\n",
       "        1.000e+00, 1.000e+00, 2.000e+00, 0.000e+00, 1.000e+00, 0.000e+00,\n",
       "        0.000e+00, 1.000e+00, 1.000e+00, 2.000e+00, 0.000e+00, 0.000e+00,\n",
       "        0.000e+00, 1.000e+00, 0.000e+00, 0.000e+00, 1.000e+00, 0.000e+00,\n",
       "        0.000e+00, 1.000e+00]),\n",
       " array([-0.022219, -0.010515,  0.001189,  0.012893,  0.024597,  0.036301,\n",
       "         0.048005,  0.059709,  0.071413,  0.083118,  0.094822,  0.106526,\n",
       "         0.11823 ,  0.129934,  0.141638,  0.153342,  0.165046,  0.17675 ,\n",
       "         0.188454,  0.200158,  0.211862,  0.223566,  0.235271,  0.246975,\n",
       "         0.258679,  0.270383,  0.282087,  0.293791,  0.305495,  0.317199,\n",
       "         0.328903,  0.340607,  0.352311,  0.364015,  0.375719,  0.387423,\n",
       "         0.399128,  0.410832,  0.422536,  0.43424 ,  0.445944,  0.457648,\n",
       "         0.469352,  0.481056,  0.49276 ,  0.504464,  0.516168,  0.527872,\n",
       "         0.539576,  0.551281,  0.562985]),\n",
       " <BarContainer object of 50 artists>)"
      ]
     },
     "execution_count": 61,
     "metadata": {},
     "output_type": "execute_result"
    },
    {
     "data": {
      "image/png": "[encoded data removed]",
      "text/plain": [
       "<Figure size 432x288 with 1 Axes>"
      ]
     },
     "metadata": {
      "needs_background": "light"
     },
     "output_type": "display_data"
    }
   ],
   "source": [
    "plt.hist(np_y_preds2, bins=50)"
   ]
  },
  {
   "cell_type": "code",
   "execution_count": 63,
   "id": "ab6091bf",
   "metadata": {},
   "outputs": [
    {
     "data": {
      "text/plain": [
       "array([ 74425.079294,  97131.327476, 119181.464383, ...,  58904.358164,\n",
       "       120634.851206,  30560.870476])"
      ]
     },
     "execution_count": 63,
     "metadata": {},
     "output_type": "execute_result"
    }
   ],
   "source": [
    "np_y_pred2_price = np_y_preds2 * y_norm_div + y_norm_sub\n",
    "np_y_pred2_price"
   ]
  },
  {
   "cell_type": "code",
   "execution_count": 64,
   "id": "c9065d4d",
   "metadata": {},
   "outputs": [
    {
     "data": {
      "text/plain": [
       "0        35800\n",
       "1        35800\n",
       "2        39600\n",
       "3        29800\n",
       "4       112900\n",
       "         ...  \n",
       "9892     85000\n",
       "9893    134999\n",
       "9894     59000\n",
       "9895    110000\n",
       "9896     61500\n",
       "Name: Price, Length: 9897, dtype: int64"
      ]
     },
     "execution_count": 64,
     "metadata": {},
     "output_type": "execute_result"
    }
   ],
   "source": [
    "y_price"
   ]
  },
  {
   "cell_type": "code",
   "execution_count": 69,
   "id": "ce27b9fe",
   "metadata": {},
   "outputs": [
    {
     "data": {
      "text/html": [
       "<div>\n",
       "<style scoped>\n",
       "    .dataframe tbody tr th:only-of-type {\n",
       "        vertical-align: middle;\n",
       "    }\n",
       "\n",
       "    .dataframe tbody tr th {\n",
       "        vertical-align: top;\n",
       "    }\n",
       "\n",
       "    .dataframe thead th {\n",
       "        text-align: right;\n",
       "    }\n",
       "</style>\n",
       "<table border=\"1\" class=\"dataframe\">\n",
       "  <thead>\n",
       "    <tr style=\"text-align: right;\">\n",
       "      <th></th>\n",
       "      <th>GOLD</th>\n",
       "      <th>PRED</th>\n",
       "    </tr>\n",
       "  </thead>\n",
       "  <tbody>\n",
       "    <tr>\n",
       "      <th>0</th>\n",
       "      <td>35800</td>\n",
       "      <td>74425.0</td>\n",
       "    </tr>\n",
       "    <tr>\n",
       "      <th>1</th>\n",
       "      <td>35800</td>\n",
       "      <td>97131.0</td>\n",
       "    </tr>\n",
       "    <tr>\n",
       "      <th>2</th>\n",
       "      <td>39600</td>\n",
       "      <td>119181.0</td>\n",
       "    </tr>\n",
       "    <tr>\n",
       "      <th>3</th>\n",
       "      <td>29800</td>\n",
       "      <td>77128.0</td>\n",
       "    </tr>\n",
       "    <tr>\n",
       "      <th>4</th>\n",
       "      <td>112900</td>\n",
       "      <td>179446.0</td>\n",
       "    </tr>\n",
       "    <tr>\n",
       "      <th>5</th>\n",
       "      <td>37400</td>\n",
       "      <td>111044.0</td>\n",
       "    </tr>\n",
       "    <tr>\n",
       "      <th>6</th>\n",
       "      <td>39500</td>\n",
       "      <td>40064.0</td>\n",
       "    </tr>\n",
       "    <tr>\n",
       "      <th>7</th>\n",
       "      <td>2350000</td>\n",
       "      <td>1087432.0</td>\n",
       "    </tr>\n",
       "    <tr>\n",
       "      <th>8</th>\n",
       "      <td>332000</td>\n",
       "      <td>261197.0</td>\n",
       "    </tr>\n",
       "    <tr>\n",
       "      <th>9</th>\n",
       "      <td>39900</td>\n",
       "      <td>126919.0</td>\n",
       "    </tr>\n",
       "  </tbody>\n",
       "</table>\n",
       "</div>"
      ],
      "text/plain": [
       "      GOLD       PRED\n",
       "0    35800    74425.0\n",
       "1    35800    97131.0\n",
       "2    39600   119181.0\n",
       "3    29800    77128.0\n",
       "4   112900   179446.0\n",
       "5    37400   111044.0\n",
       "6    39500    40064.0\n",
       "7  2350000  1087432.0\n",
       "8   332000   261197.0\n",
       "9    39900   126919.0"
      ]
     },
     "execution_count": 69,
     "metadata": {},
     "output_type": "execute_result"
    }
   ],
   "source": [
    "df_result = pd.DataFrame(\n",
    "    {\n",
    "        'GOLD' : y_price,\n",
    "        'PRED' : np_y_pred2_price.round(0),\n",
    "    }\n",
    ")\n",
    "df_result.head(10)"
   ]
  },
  {
   "cell_type": "code",
   "execution_count": 70,
   "id": "af7c57ce",
   "metadata": {},
   "outputs": [
    {
     "data": {
      "text/html": [
       "<div>\n",
       "<style scoped>\n",
       "    .dataframe tbody tr th:only-of-type {\n",
       "        vertical-align: middle;\n",
       "    }\n",
       "\n",
       "    .dataframe tbody tr th {\n",
       "        vertical-align: top;\n",
       "    }\n",
       "\n",
       "    .dataframe thead th {\n",
       "        text-align: right;\n",
       "    }\n",
       "</style>\n",
       "<table border=\"1\" class=\"dataframe\">\n",
       "  <thead>\n",
       "    <tr style=\"text-align: right;\">\n",
       "      <th></th>\n",
       "      <th>GOLD</th>\n",
       "      <th>PRED</th>\n",
       "    </tr>\n",
       "  </thead>\n",
       "  <tbody>\n",
       "    <tr>\n",
       "      <th>9887</th>\n",
       "      <td>47000</td>\n",
       "      <td>42872.0</td>\n",
       "    </tr>\n",
       "    <tr>\n",
       "      <th>9888</th>\n",
       "      <td>34500</td>\n",
       "      <td>-27332.0</td>\n",
       "    </tr>\n",
       "    <tr>\n",
       "      <th>9889</th>\n",
       "      <td>56000</td>\n",
       "      <td>29428.0</td>\n",
       "    </tr>\n",
       "    <tr>\n",
       "      <th>9890</th>\n",
       "      <td>101000</td>\n",
       "      <td>139525.0</td>\n",
       "    </tr>\n",
       "    <tr>\n",
       "      <th>9891</th>\n",
       "      <td>79524</td>\n",
       "      <td>88666.0</td>\n",
       "    </tr>\n",
       "    <tr>\n",
       "      <th>9892</th>\n",
       "      <td>85000</td>\n",
       "      <td>170337.0</td>\n",
       "    </tr>\n",
       "    <tr>\n",
       "      <th>9893</th>\n",
       "      <td>134999</td>\n",
       "      <td>166609.0</td>\n",
       "    </tr>\n",
       "    <tr>\n",
       "      <th>9894</th>\n",
       "      <td>59000</td>\n",
       "      <td>58904.0</td>\n",
       "    </tr>\n",
       "    <tr>\n",
       "      <th>9895</th>\n",
       "      <td>110000</td>\n",
       "      <td>120635.0</td>\n",
       "    </tr>\n",
       "    <tr>\n",
       "      <th>9896</th>\n",
       "      <td>61500</td>\n",
       "      <td>30561.0</td>\n",
       "    </tr>\n",
       "  </tbody>\n",
       "</table>\n",
       "</div>"
      ],
      "text/plain": [
       "        GOLD      PRED\n",
       "9887   47000   42872.0\n",
       "9888   34500  -27332.0\n",
       "9889   56000   29428.0\n",
       "9890  101000  139525.0\n",
       "9891   79524   88666.0\n",
       "9892   85000  170337.0\n",
       "9893  134999  166609.0\n",
       "9894   59000   58904.0\n",
       "9895  110000  120635.0\n",
       "9896   61500   30561.0"
      ]
     },
     "execution_count": 70,
     "metadata": {},
     "output_type": "execute_result"
    }
   ],
   "source": [
    "df_result.tail(10)"
   ]
  },
  {
   "cell_type": "code",
   "execution_count": 72,
   "id": "8e0d15ba",
   "metadata": {},
   "outputs": [
    {
     "data": {
      "text/plain": [
       "0       38625.079294\n",
       "1       61331.327476\n",
       "2       79581.464383\n",
       "3       47328.146545\n",
       "4       66546.150310\n",
       "            ...     \n",
       "9892    85337.281779\n",
       "9893    31610.149971\n",
       "9894       95.641836\n",
       "9895    10634.851206\n",
       "9896    30939.129524\n",
       "Name: Price, Length: 9897, dtype: float64"
      ]
     },
     "execution_count": 72,
     "metadata": {},
     "output_type": "execute_result"
    }
   ],
   "source": [
    "abs_err = np.abs(y_price - np_y_pred2_price)\n",
    "abs_err"
   ]
  },
  {
   "cell_type": "code",
   "execution_count": 75,
   "id": "b640f3ea",
   "metadata": {},
   "outputs": [],
   "source": [
    "proc_err = abs_err / y_price\n",
    "proc_err = proc_err * 100"
   ]
  },
  {
   "cell_type": "code",
   "execution_count": 77,
   "id": "3fc83f57",
   "metadata": {},
   "outputs": [
    {
     "data": {
      "text/html": [
       "<div>\n",
       "<style scoped>\n",
       "    .dataframe tbody tr th:only-of-type {\n",
       "        vertical-align: middle;\n",
       "    }\n",
       "\n",
       "    .dataframe tbody tr th {\n",
       "        vertical-align: top;\n",
       "    }\n",
       "\n",
       "    .dataframe thead th {\n",
       "        text-align: right;\n",
       "    }\n",
       "</style>\n",
       "<table border=\"1\" class=\"dataframe\">\n",
       "  <thead>\n",
       "    <tr style=\"text-align: right;\">\n",
       "      <th></th>\n",
       "      <th>GOLD</th>\n",
       "      <th>PRED</th>\n",
       "      <th>ERR%</th>\n",
       "    </tr>\n",
       "  </thead>\n",
       "  <tbody>\n",
       "    <tr>\n",
       "      <th>0</th>\n",
       "      <td>35800</td>\n",
       "      <td>74425.0</td>\n",
       "      <td>107.89</td>\n",
       "    </tr>\n",
       "    <tr>\n",
       "      <th>1</th>\n",
       "      <td>35800</td>\n",
       "      <td>97131.0</td>\n",
       "      <td>171.32</td>\n",
       "    </tr>\n",
       "    <tr>\n",
       "      <th>2</th>\n",
       "      <td>39600</td>\n",
       "      <td>119181.0</td>\n",
       "      <td>200.96</td>\n",
       "    </tr>\n",
       "    <tr>\n",
       "      <th>3</th>\n",
       "      <td>29800</td>\n",
       "      <td>77128.0</td>\n",
       "      <td>158.82</td>\n",
       "    </tr>\n",
       "    <tr>\n",
       "      <th>4</th>\n",
       "      <td>112900</td>\n",
       "      <td>179446.0</td>\n",
       "      <td>58.94</td>\n",
       "    </tr>\n",
       "    <tr>\n",
       "      <th>5</th>\n",
       "      <td>37400</td>\n",
       "      <td>111044.0</td>\n",
       "      <td>196.91</td>\n",
       "    </tr>\n",
       "    <tr>\n",
       "      <th>6</th>\n",
       "      <td>39500</td>\n",
       "      <td>40064.0</td>\n",
       "      <td>1.43</td>\n",
       "    </tr>\n",
       "    <tr>\n",
       "      <th>7</th>\n",
       "      <td>2350000</td>\n",
       "      <td>1087432.0</td>\n",
       "      <td>53.73</td>\n",
       "    </tr>\n",
       "    <tr>\n",
       "      <th>8</th>\n",
       "      <td>332000</td>\n",
       "      <td>261197.0</td>\n",
       "      <td>21.33</td>\n",
       "    </tr>\n",
       "    <tr>\n",
       "      <th>9</th>\n",
       "      <td>39900</td>\n",
       "      <td>126919.0</td>\n",
       "      <td>218.09</td>\n",
       "    </tr>\n",
       "    <tr>\n",
       "      <th>10</th>\n",
       "      <td>39500</td>\n",
       "      <td>37301.0</td>\n",
       "      <td>5.57</td>\n",
       "    </tr>\n",
       "    <tr>\n",
       "      <th>11</th>\n",
       "      <td>42766</td>\n",
       "      <td>52556.0</td>\n",
       "      <td>22.89</td>\n",
       "    </tr>\n",
       "    <tr>\n",
       "      <th>12</th>\n",
       "      <td>88253</td>\n",
       "      <td>141322.0</td>\n",
       "      <td>60.13</td>\n",
       "    </tr>\n",
       "    <tr>\n",
       "      <th>13</th>\n",
       "      <td>26800</td>\n",
       "      <td>-419.0</td>\n",
       "      <td>101.56</td>\n",
       "    </tr>\n",
       "    <tr>\n",
       "      <th>14</th>\n",
       "      <td>93000</td>\n",
       "      <td>115926.0</td>\n",
       "      <td>24.65</td>\n",
       "    </tr>\n",
       "    <tr>\n",
       "      <th>15</th>\n",
       "      <td>135000</td>\n",
       "      <td>171570.0</td>\n",
       "      <td>27.09</td>\n",
       "    </tr>\n",
       "    <tr>\n",
       "      <th>16</th>\n",
       "      <td>115000</td>\n",
       "      <td>204594.0</td>\n",
       "      <td>77.91</td>\n",
       "    </tr>\n",
       "    <tr>\n",
       "      <th>17</th>\n",
       "      <td>39500</td>\n",
       "      <td>74425.0</td>\n",
       "      <td>88.42</td>\n",
       "    </tr>\n",
       "    <tr>\n",
       "      <th>18</th>\n",
       "      <td>55192</td>\n",
       "      <td>149742.0</td>\n",
       "      <td>171.31</td>\n",
       "    </tr>\n",
       "    <tr>\n",
       "      <th>19</th>\n",
       "      <td>69900</td>\n",
       "      <td>84420.0</td>\n",
       "      <td>20.77</td>\n",
       "    </tr>\n",
       "  </tbody>\n",
       "</table>\n",
       "</div>"
      ],
      "text/plain": [
       "       GOLD       PRED    ERR%\n",
       "0     35800    74425.0  107.89\n",
       "1     35800    97131.0  171.32\n",
       "2     39600   119181.0  200.96\n",
       "3     29800    77128.0  158.82\n",
       "4    112900   179446.0   58.94\n",
       "5     37400   111044.0  196.91\n",
       "6     39500    40064.0    1.43\n",
       "7   2350000  1087432.0   53.73\n",
       "8    332000   261197.0   21.33\n",
       "9     39900   126919.0  218.09\n",
       "10    39500    37301.0    5.57\n",
       "11    42766    52556.0   22.89\n",
       "12    88253   141322.0   60.13\n",
       "13    26800     -419.0  101.56\n",
       "14    93000   115926.0   24.65\n",
       "15   135000   171570.0   27.09\n",
       "16   115000   204594.0   77.91\n",
       "17    39500    74425.0   88.42\n",
       "18    55192   149742.0  171.31\n",
       "19    69900    84420.0   20.77"
      ]
     },
     "execution_count": 77,
     "metadata": {},
     "output_type": "execute_result"
    }
   ],
   "source": [
    "df_result = pd.DataFrame(\n",
    "    {\n",
    "        'GOLD' : y_price,\n",
    "        'PRED' : np_y_pred2_price.round(0),\n",
    "        'ERR%' : proc_err.round(2)\n",
    "    }\n",
    ")\n",
    "df_result.head(20)"
   ]
  },
  {
   "cell_type": "code",
   "execution_count": 78,
   "id": "9c346ea1",
   "metadata": {},
   "outputs": [
    {
     "data": {
      "text/html": [
       "<div>\n",
       "<style scoped>\n",
       "    .dataframe tbody tr th:only-of-type {\n",
       "        vertical-align: middle;\n",
       "    }\n",
       "\n",
       "    .dataframe tbody tr th {\n",
       "        vertical-align: top;\n",
       "    }\n",
       "\n",
       "    .dataframe thead th {\n",
       "        text-align: right;\n",
       "    }\n",
       "</style>\n",
       "<table border=\"1\" class=\"dataframe\">\n",
       "  <thead>\n",
       "    <tr style=\"text-align: right;\">\n",
       "      <th></th>\n",
       "      <th>GOLD</th>\n",
       "      <th>PRED</th>\n",
       "      <th>ERR%</th>\n",
       "    </tr>\n",
       "  </thead>\n",
       "  <tbody>\n",
       "    <tr>\n",
       "      <th>9877</th>\n",
       "      <td>63000</td>\n",
       "      <td>59456.0</td>\n",
       "      <td>5.63</td>\n",
       "    </tr>\n",
       "    <tr>\n",
       "      <th>9878</th>\n",
       "      <td>32900</td>\n",
       "      <td>37746.0</td>\n",
       "      <td>14.73</td>\n",
       "    </tr>\n",
       "    <tr>\n",
       "      <th>9879</th>\n",
       "      <td>53490</td>\n",
       "      <td>49239.0</td>\n",
       "      <td>7.95</td>\n",
       "    </tr>\n",
       "    <tr>\n",
       "      <th>9880</th>\n",
       "      <td>79000</td>\n",
       "      <td>65093.0</td>\n",
       "      <td>17.60</td>\n",
       "    </tr>\n",
       "    <tr>\n",
       "      <th>9881</th>\n",
       "      <td>79900</td>\n",
       "      <td>110802.0</td>\n",
       "      <td>38.68</td>\n",
       "    </tr>\n",
       "    <tr>\n",
       "      <th>9882</th>\n",
       "      <td>149000</td>\n",
       "      <td>103109.0</td>\n",
       "      <td>30.80</td>\n",
       "    </tr>\n",
       "    <tr>\n",
       "      <th>9883</th>\n",
       "      <td>143000</td>\n",
       "      <td>154312.0</td>\n",
       "      <td>7.91</td>\n",
       "    </tr>\n",
       "    <tr>\n",
       "      <th>9884</th>\n",
       "      <td>55000</td>\n",
       "      <td>72024.0</td>\n",
       "      <td>30.95</td>\n",
       "    </tr>\n",
       "    <tr>\n",
       "      <th>9885</th>\n",
       "      <td>62860</td>\n",
       "      <td>66983.0</td>\n",
       "      <td>6.56</td>\n",
       "    </tr>\n",
       "    <tr>\n",
       "      <th>9886</th>\n",
       "      <td>27500</td>\n",
       "      <td>3890.0</td>\n",
       "      <td>85.85</td>\n",
       "    </tr>\n",
       "    <tr>\n",
       "      <th>9887</th>\n",
       "      <td>47000</td>\n",
       "      <td>42872.0</td>\n",
       "      <td>8.78</td>\n",
       "    </tr>\n",
       "    <tr>\n",
       "      <th>9888</th>\n",
       "      <td>34500</td>\n",
       "      <td>-27332.0</td>\n",
       "      <td>179.22</td>\n",
       "    </tr>\n",
       "    <tr>\n",
       "      <th>9889</th>\n",
       "      <td>56000</td>\n",
       "      <td>29428.0</td>\n",
       "      <td>47.45</td>\n",
       "    </tr>\n",
       "    <tr>\n",
       "      <th>9890</th>\n",
       "      <td>101000</td>\n",
       "      <td>139525.0</td>\n",
       "      <td>38.14</td>\n",
       "    </tr>\n",
       "    <tr>\n",
       "      <th>9891</th>\n",
       "      <td>79524</td>\n",
       "      <td>88666.0</td>\n",
       "      <td>11.50</td>\n",
       "    </tr>\n",
       "    <tr>\n",
       "      <th>9892</th>\n",
       "      <td>85000</td>\n",
       "      <td>170337.0</td>\n",
       "      <td>100.40</td>\n",
       "    </tr>\n",
       "    <tr>\n",
       "      <th>9893</th>\n",
       "      <td>134999</td>\n",
       "      <td>166609.0</td>\n",
       "      <td>23.42</td>\n",
       "    </tr>\n",
       "    <tr>\n",
       "      <th>9894</th>\n",
       "      <td>59000</td>\n",
       "      <td>58904.0</td>\n",
       "      <td>0.16</td>\n",
       "    </tr>\n",
       "    <tr>\n",
       "      <th>9895</th>\n",
       "      <td>110000</td>\n",
       "      <td>120635.0</td>\n",
       "      <td>9.67</td>\n",
       "    </tr>\n",
       "    <tr>\n",
       "      <th>9896</th>\n",
       "      <td>61500</td>\n",
       "      <td>30561.0</td>\n",
       "      <td>50.31</td>\n",
       "    </tr>\n",
       "  </tbody>\n",
       "</table>\n",
       "</div>"
      ],
      "text/plain": [
       "        GOLD      PRED    ERR%\n",
       "9877   63000   59456.0    5.63\n",
       "9878   32900   37746.0   14.73\n",
       "9879   53490   49239.0    7.95\n",
       "9880   79000   65093.0   17.60\n",
       "9881   79900  110802.0   38.68\n",
       "9882  149000  103109.0   30.80\n",
       "9883  143000  154312.0    7.91\n",
       "9884   55000   72024.0   30.95\n",
       "9885   62860   66983.0    6.56\n",
       "9886   27500    3890.0   85.85\n",
       "9887   47000   42872.0    8.78\n",
       "9888   34500  -27332.0  179.22\n",
       "9889   56000   29428.0   47.45\n",
       "9890  101000  139525.0   38.14\n",
       "9891   79524   88666.0   11.50\n",
       "9892   85000  170337.0  100.40\n",
       "9893  134999  166609.0   23.42\n",
       "9894   59000   58904.0    0.16\n",
       "9895  110000  120635.0    9.67\n",
       "9896   61500   30561.0   50.31"
      ]
     },
     "execution_count": 78,
     "metadata": {},
     "output_type": "execute_result"
    }
   ],
   "source": [
    "df_result.tail(20)"
   ]
  },
  {
   "cell_type": "code",
   "execution_count": 79,
   "id": "6052f7fe",
   "metadata": {},
   "outputs": [
    {
     "data": {
      "text/plain": [
       "40.53357145062221"
      ]
     },
     "execution_count": 79,
     "metadata": {},
     "output_type": "execute_result"
    }
   ],
   "source": [
    "proc_err.mean()"
   ]
  },
  {
   "cell_type": "code",
   "execution_count": null,
   "id": "ed502f5e",
   "metadata": {},
   "outputs": [],
   "source": [
    "# split the np_X_nb data into train observation and test observations\n",
    "# train with NEQ\n",
    "# present results"
   ]
  }
 ],
 "metadata": {
  "kernelspec": {
   "display_name": "Python 3 (ipykernel)",
   "language": "python",
   "name": "python3"
  },
  "language_info": {
   "codemirror_mode": {
    "name": "ipython",
    "version": 3
   },
   "file_extension": ".py",
   "mimetype": "text/x-python",
   "name": "python",
   "nbconvert_exporter": "python",
   "pygments_lexer": "ipython3",
   "version": "3.8.12"
  }
 },
 "nbformat": 4,
 "nbformat_minor": 5
}
